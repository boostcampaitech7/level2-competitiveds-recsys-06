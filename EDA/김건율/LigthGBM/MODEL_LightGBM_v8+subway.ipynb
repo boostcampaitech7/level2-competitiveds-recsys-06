{
 "cells": [
  {
   "cell_type": "markdown",
   "metadata": {},
   "source": [
    "## V8_Infra_Score_LightGBM_kfold5"
   ]
  },
  {
   "cell_type": "code",
   "execution_count": 1,
   "metadata": {},
   "outputs": [
    {
     "name": "stdout",
     "output_type": "stream",
     "text": [
      "d:\\base\\boostcamp\\apart\\level2-competitiveds-recsys-06\n"
     ]
    }
   ],
   "source": [
    "import os, sys\n",
    "import pandas as pd\n",
    "import numpy as np\n",
    "\n",
    "import matplotlib.pyplot as plt\n",
    "import seaborn as sns\n",
    "import plotly.express as px\n",
    "\n",
    "# path 설정\n",
    "sys.path.append(os.path.dirname(os.path.dirname(os.path.dirname(os.path.abspath(\"\")))))\n",
    "print(sys.path[-1])"
   ]
  },
  {
   "cell_type": "code",
   "execution_count": 2,
   "metadata": {},
   "outputs": [],
   "source": [
    "raw_path: str = \"../../../data/raw\"\n",
    "processed_path: str = \"../../../data/processed\"\n",
    "submission_path: str = \"../../../data/submission\""
   ]
  },
  {
   "cell_type": "code",
   "execution_count": 3,
   "metadata": {},
   "outputs": [],
   "source": [
    "v8: pd.DataFrame = pd.read_csv(os.path.join(processed_path,\"V8+subway_1.csv\"))"
   ]
  },
  {
   "cell_type": "code",
   "execution_count": 8,
   "metadata": {},
   "outputs": [
    {
     "data": {
      "text/plain": [
       "subway_1\n",
       "0    1895830\n",
       "1      26076\n",
       "2      12437\n",
       "3       8876\n",
       "4       6088\n",
       "5       2093\n",
       "Name: count, dtype: int64"
      ]
     },
     "execution_count": 8,
     "metadata": {},
     "output_type": "execute_result"
    }
   ],
   "source": [
    "v8['subway_1'].value_counts()"
   ]
  },
  {
   "cell_type": "code",
   "execution_count": 16,
   "metadata": {},
   "outputs": [
    {
     "name": "stdout",
     "output_type": "stream",
     "text": [
      "   contract_date_numeric contract_date  contract_timestamp\n",
      "0               20190625    2019-06-25          1561388400\n",
      "1               20200326    2020-03-26          1585148400\n",
      "2               20200328    2020-03-28          1585321200\n",
      "3               20190715    2019-07-15          1563116400\n",
      "4               20190412    2019-04-12          1554994800\n"
     ]
    }
   ],
   "source": [
    "import time\n",
    "from datetime import datetime\n",
    "v8['contract_date'] = pd.to_datetime(v8['contract_date_numeric'], format='%Y%m%d')\n",
    "v8['contract_timestamp'] = v8['contract_date'].apply(lambda x: int(time.mktime(x.timetuple())))\n",
    "print(v8[['contract_date_numeric', 'contract_date', 'contract_timestamp']].head())"
   ]
  },
  {
   "cell_type": "markdown",
   "metadata": {},
   "source": [
    "### Arima_Deposit_Index 추가"
   ]
  },
  {
   "cell_type": "markdown",
   "metadata": {},
   "source": [
    "### 컬럼 정리"
   ]
  },
  {
   "cell_type": "code",
   "execution_count": 31,
   "metadata": {},
   "outputs": [],
   "source": [
    "# columns_to_drop = ['contract_type', 'contract_2','area_m2_price', 'area_price', 'date', 'contract_ymd', 'original_index', 'interest_rate', 'diff_interest_rate']\n",
    "# df = v4_arima_contract_type.drop(columns=columns_to_drop, errors='ignore')\n",
    "\n",
    "columns = ['index','_type',\n",
    "    'area_m2', 'contract_timestamp',\n",
    "    'floor', 'built_year', 'latitude', 'longitude', 'age',\n",
    "    'contract_0', 'contract_1',\n",
    "    'deposit',\n",
    "    'apt_idx',\n",
    "    'area',\n",
    "    'grid_id',\n",
    "    'nearest_subway_distance',\n",
    "    'nearest_subway_idx',\n",
    "    'nearest_park_distance',\n",
    "    'apt_deposit_rank', 'apt_area_deposit_rank',\n",
    "    'recent_deposit',\n",
    "    'nearest_park_idx',\n",
    "    'nearest_school_idx',\n",
    "    'nearest_school_distance',\n",
    "    'park_area','subway_1']\n",
    "df = v8.filter(items=columns)\n",
    "\n",
    "df['recent_deposit'] = df['recent_deposit'].fillna(39000)\n",
    "temp_train_df = df[df[\"_type\"]=='train']\n",
    "test_df = df[df[\"_type\"]=='test']"
   ]
  },
  {
   "cell_type": "code",
   "execution_count": null,
   "metadata": {},
   "outputs": [],
   "source": []
  },
  {
   "cell_type": "markdown",
   "metadata": {},
   "source": [
    "## K-Fold CV(k=5) 적용 LightGBM"
   ]
  },
  {
   "cell_type": "code",
   "execution_count": null,
   "metadata": {},
   "outputs": [
    {
     "name": "stdout",
     "output_type": "stream",
     "text": [
      "\n",
      "Fold 1\n",
      "[LightGBM] [Info] Auto-choosing row-wise multi-threading, the overhead of testing was 0.010999 seconds.\n",
      "You can set `force_row_wise=true` to remove the overhead.\n",
      "And if memory is not enough, you can set `force_col_wise=true`.\n",
      "[LightGBM] [Info] Total Bins 4494\n",
      "[LightGBM] [Info] Number of data points in the train set: 1440982, number of used features: 23\n",
      "[LightGBM] [Info] Start training from score 38183.560818\n",
      "Training until validation scores don't improve for 500 rounds\n",
      "[100] Train MAE: 4137.9893, Val MAE: 4132.0685\n",
      "[200] Train MAE: 4012.2830, Val MAE: 4015.3080\n",
      "[300] Train MAE: 3970.1139, Val MAE: 3979.2938\n",
      "[400] Train MAE: 3938.8374, Val MAE: 3954.6104\n",
      "[500] Train MAE: 3917.2609, Val MAE: 3938.1592\n",
      "[600] Train MAE: 3898.8871, Val MAE: 3925.2889\n",
      "[700] Train MAE: 3880.3696, Val MAE: 3911.3398\n",
      "[800] Train MAE: 3864.3732, Val MAE: 3900.3529\n",
      "[900] Train MAE: 3849.7002, Val MAE: 3890.6050\n",
      "[1000] Train MAE: 3837.1524, Val MAE: 3882.7240\n",
      "[1100] Train MAE: 3827.2921, Val MAE: 3877.0788\n",
      "[1200] Train MAE: 3816.2286, Val MAE: 3870.3171\n",
      "[1300] Train MAE: 3807.9962, Val MAE: 3866.6840\n",
      "[1400] Train MAE: 3797.4193, Val MAE: 3860.0616\n",
      "[1500] Train MAE: 3788.4959, Val MAE: 3855.5970\n",
      "[1600] Train MAE: 3780.3552, Val MAE: 3850.7928\n",
      "[1700] Train MAE: 3772.5377, Val MAE: 3846.6777\n",
      "[1800] Train MAE: 3763.1621, Val MAE: 3841.0361\n",
      "[1900] Train MAE: 3755.1532, Val MAE: 3836.6224\n",
      "[2000] Train MAE: 3749.2464, Val MAE: 3834.5794\n",
      "[2100] Train MAE: 3743.0258, Val MAE: 3831.9887\n",
      "[2200] Train MAE: 3736.3848, Val MAE: 3829.1098\n",
      "[2300] Train MAE: 3730.9627, Val MAE: 3827.2295\n",
      "[2400] Train MAE: 3725.0759, Val MAE: 3824.7524\n",
      "[2500] Train MAE: 3718.4265, Val MAE: 3821.7137\n",
      "Did not meet early stopping. Best iteration is:\n",
      "[2490]\ttraining's l1: 3718.69\tvalid_1's l1: 3821.7\n",
      "\n",
      "Fold 2\n",
      "[LightGBM] [Info] Auto-choosing row-wise multi-threading, the overhead of testing was 0.012638 seconds.\n",
      "You can set `force_row_wise=true` to remove the overhead.\n",
      "And if memory is not enough, you can set `force_col_wise=true`.\n",
      "[LightGBM] [Info] Total Bins 4496\n",
      "[LightGBM] [Info] Number of data points in the train set: 1440982, number of used features: 23\n",
      "[LightGBM] [Info] Start training from score 38158.741211\n",
      "Training until validation scores don't improve for 500 rounds\n",
      "[100] Train MAE: 4135.2572, Val MAE: 4155.5463\n",
      "[200] Train MAE: 4008.6952, Val MAE: 4034.3412\n",
      "[300] Train MAE: 3970.6049, Val MAE: 4003.0618\n",
      "[400] Train MAE: 3939.1435, Val MAE: 3977.7859\n",
      "[500] Train MAE: 3918.3302, Val MAE: 3962.6811\n",
      "[600] Train MAE: 3897.0053, Val MAE: 3946.6456\n",
      "[700] Train MAE: 3877.7266, Val MAE: 3932.4385\n",
      "[800] Train MAE: 3861.6896, Val MAE: 3921.0339\n",
      "[900] Train MAE: 3846.3628, Val MAE: 3910.5044\n",
      "[1000] Train MAE: 3834.8546, Val MAE: 3903.3987\n",
      "[1100] Train MAE: 3822.2419, Val MAE: 3895.0950\n",
      "[1200] Train MAE: 3812.3980, Val MAE: 3889.5367\n",
      "[1300] Train MAE: 3804.6107, Val MAE: 3886.3935\n",
      "[1400] Train MAE: 3793.8439, Val MAE: 3879.4112\n",
      "[1500] Train MAE: 3783.5049, Val MAE: 3872.5049\n",
      "[1600] Train MAE: 3776.3686, Val MAE: 3869.2688\n",
      "[1700] Train MAE: 3769.3520, Val MAE: 3866.1846\n",
      "[1800] Train MAE: 3761.1939, Val MAE: 3861.7203\n",
      "[1900] Train MAE: 3752.3273, Val MAE: 3856.8018\n",
      "[2000] Train MAE: 3745.0499, Val MAE: 3853.1848\n",
      "[2100] Train MAE: 3739.2533, Val MAE: 3851.2418\n",
      "[2200] Train MAE: 3733.5149, Val MAE: 3848.7949\n",
      "[2300] Train MAE: 3727.8876, Val MAE: 3847.1150\n",
      "[2400] Train MAE: 3722.6267, Val MAE: 3846.0612\n",
      "[2500] Train MAE: 3715.2935, Val MAE: 3842.1184\n",
      "Did not meet early stopping. Best iteration is:\n",
      "[2499]\ttraining's l1: 3715.34\tvalid_1's l1: 3842.12\n",
      "\n",
      "Fold 3\n",
      "[LightGBM] [Info] Auto-choosing row-wise multi-threading, the overhead of testing was 0.012734 seconds.\n",
      "You can set `force_row_wise=true` to remove the overhead.\n",
      "And if memory is not enough, you can set `force_col_wise=true`.\n",
      "[LightGBM] [Info] Total Bins 4496\n",
      "[LightGBM] [Info] Number of data points in the train set: 1440982, number of used features: 23\n",
      "[LightGBM] [Info] Start training from score 38145.851227\n",
      "Training until validation scores don't improve for 500 rounds\n",
      "[100] Train MAE: 4137.9765, Val MAE: 4157.6046\n",
      "[200] Train MAE: 4009.0066, Val MAE: 4036.8013\n",
      "[300] Train MAE: 3965.1319, Val MAE: 3999.9793\n",
      "[400] Train MAE: 3932.9481, Val MAE: 3974.4671\n",
      "[500] Train MAE: 3905.5534, Val MAE: 3952.9474\n",
      "[600] Train MAE: 3888.1593, Val MAE: 3941.7404\n",
      "[700] Train MAE: 3870.3338, Val MAE: 3929.2306\n",
      "[800] Train MAE: 3856.4343, Val MAE: 3920.5965\n",
      "[900] Train MAE: 3843.6967, Val MAE: 3912.8487\n",
      "[1000] Train MAE: 3831.1627, Val MAE: 3904.8650\n",
      "[1100] Train MAE: 3820.0473, Val MAE: 3898.3477\n",
      "[1200] Train MAE: 3809.1004, Val MAE: 3891.3333\n",
      "[1300] Train MAE: 3801.6172, Val MAE: 3888.4343\n",
      "[1400] Train MAE: 3792.7202, Val MAE: 3884.1808\n",
      "[1500] Train MAE: 3783.0418, Val MAE: 3878.9290\n",
      "[1600] Train MAE: 3773.8142, Val MAE: 3873.3377\n",
      "[1700] Train MAE: 3765.1548, Val MAE: 3868.3975\n",
      "[1800] Train MAE: 3756.0883, Val MAE: 3863.4749\n",
      "[1900] Train MAE: 3748.4759, Val MAE: 3859.6199\n",
      "[2000] Train MAE: 3742.2560, Val MAE: 3857.3603\n",
      "[2100] Train MAE: 3734.7687, Val MAE: 3853.4214\n",
      "[2200] Train MAE: 3728.6120, Val MAE: 3850.8386\n",
      "[2300] Train MAE: 3721.6957, Val MAE: 3847.0822\n",
      "[2400] Train MAE: 3715.6254, Val MAE: 3845.1043\n",
      "[2500] Train MAE: 3710.3490, Val MAE: 3843.3292\n",
      "Did not meet early stopping. Best iteration is:\n",
      "[2500]\ttraining's l1: 3710.35\tvalid_1's l1: 3843.33\n"
     ]
    }
   ],
   "source": [
    "import lightgbm as lgb\n",
    "import numpy as np\n",
    "from sklearn.model_selection import KFold\n",
    "from sklearn.metrics import mean_absolute_error\n",
    "\n",
    "# 학습에 사용할 특징 열\n",
    "feature_columns = [col for col in temp_train_df.columns if col not in ['deposit', '_type', 'index']]\n",
    "\n",
    "# 학습 데이터 준비\n",
    "X = temp_train_df[feature_columns]\n",
    "y = temp_train_df['deposit']\n",
    "\n",
    "# 결측치 대체\n",
    "# X['recent_deposit'] = X['recent_deposit'].fillna(39000)\n",
    "\n",
    "# LightGBM 파라미터 설정\n",
    "params = {\n",
    "    'objective': 'regression',\n",
    "    'metric': 'mae',\n",
    "    'boosting_type': 'gbdt',\n",
    "    'num_leaves': 31,\n",
    "    'learning_rate': 0.05,\n",
    "    'feature_fraction': 0.9,\n",
    "    'bagging_fraction': 0.8,\n",
    "    'bagging_freq': 5,\n",
    "    'seed': 42,\n",
    "    'early_stopping_round' : 500\n",
    "}\n",
    "\n",
    "# 콜백 함수 정의\n",
    "def print_evaluation(period=10):\n",
    "    def callback(env):\n",
    "        if (env.iteration + 1) % period == 0:\n",
    "            train_mae = env.evaluation_result_list[0][2]\n",
    "            val_mae = env.evaluation_result_list[1][2]\n",
    "            print(f\"[{env.iteration + 1}] Train MAE: {train_mae:.4f}, Val MAE: {val_mae:.4f}\")\n",
    "    return callback\n",
    "\n",
    "# 5-fold 교차 검증 설정\n",
    "n_folds = 5\n",
    "kf = KFold(n_splits=n_folds, shuffle=True, random_state=42)\n",
    "\n",
    "# 각 폴드의 예측 결과를 저장할 리스트\n",
    "oof_predictions = np.zeros(len(X))\n",
    "test_predictions = np.zeros(len(test_df))\n",
    "\n",
    "# 교차 검증 수행\n",
    "for fold, (train_idx, val_idx) in enumerate(kf.split(X), 1):\n",
    "    print(f\"\\nFold {fold}\")\n",
    "    \n",
    "    X_train, X_val = X.iloc[train_idx], X.iloc[val_idx]\n",
    "    y_train, y_val = y.iloc[train_idx], y.iloc[val_idx]\n",
    "    \n",
    "    dtrain = lgb.Dataset(X_train, label=y_train)\n",
    "    dval = lgb.Dataset(X_val, label=y_val, reference=dtrain)\n",
    "    \n",
    "    model = lgb.train(\n",
    "        params, \n",
    "        dtrain, \n",
    "        num_boost_round=2500, \n",
    "        valid_sets=[dtrain, dval], \n",
    "        callbacks=[print_evaluation(period=100)],\n",
    "    )\n",
    "    \n",
    "    # 검증 세트에 대한 예측\n",
    "    oof_predictions[val_idx] = model.predict(X_val)\n",
    "    \n",
    "    # 테스트 세트에 대한 예측\n",
    "    test_predictions += model.predict(test_df[feature_columns]) / n_folds\n",
    "\n",
    "# 전체 검증 세트에 대한 MAE 계산\n",
    "oof_mae = mean_absolute_error(y, oof_predictions)\n",
    "print(f\"\\nOverall OOF MAE: {oof_mae:.4f}\")\n",
    "\n",
    "# 테스트 세트에 대한 최종 예측 결과\n",
    "y_pred = test_predictions\n",
    "\n",
    "print(\"\\nTraining completed.\")"
   ]
  },
  {
   "cell_type": "markdown",
   "metadata": {},
   "source": [
    "### Feature Importance"
   ]
  },
  {
   "cell_type": "code",
   "execution_count": 26,
   "metadata": {},
   "outputs": [
    {
     "data": {
      "image/png": "[encoded data removed]",
      "text/plain": [
       "<Figure size 1000x800 with 1 Axes>"
      ]
     },
     "metadata": {},
     "output_type": "display_data"
    }
   ],
   "source": [
    "# LightGBM 모델의 피처 중요도 추출\n",
    "feature_importance = model.feature_importance()\n",
    "\n",
    "# 피처 중요도를 DataFrame으로 변환\n",
    "importance_df = pd.DataFrame({\n",
    "    'Feature': feature_columns,\n",
    "    'Importance': feature_importance\n",
    "})\n",
    "\n",
    "# 중요도 순으로 정렬\n",
    "importance_df = importance_df.sort_values(by='Importance', ascending=False)\n",
    "\n",
    "# 시각화\n",
    "plt.figure(figsize=(10, 8))\n",
    "sns.barplot(x='Importance', y='Feature', data=importance_df)\n",
    "plt.title('Feature Importance')\n",
    "plt.show()"
   ]
  },
  {
   "cell_type": "code",
   "execution_count": 28,
   "metadata": {},
   "outputs": [
    {
     "data": {
      "text/plain": [
       "array([22002.78746662,  7259.93392324,  5849.49764324, ...,\n",
       "       44897.22663708, 37203.42958659, 37708.60345114])"
      ]
     },
     "execution_count": 28,
     "metadata": {},
     "output_type": "execute_result"
    }
   ],
   "source": [
    "y_pred"
   ]
  },
  {
   "cell_type": "code",
   "execution_count": 29,
   "metadata": {},
   "outputs": [
    {
     "data": {
      "text/html": [
       "<div>\n",
       "<style scoped>\n",
       "    .dataframe tbody tr th:only-of-type {\n",
       "        vertical-align: middle;\n",
       "    }\n",
       "\n",
       "    .dataframe tbody tr th {\n",
       "        vertical-align: top;\n",
       "    }\n",
       "\n",
       "    .dataframe thead th {\n",
       "        text-align: right;\n",
       "    }\n",
       "</style>\n",
       "<table border=\"1\" class=\"dataframe\">\n",
       "  <thead>\n",
       "    <tr style=\"text-align: right;\">\n",
       "      <th></th>\n",
       "      <th>deposit</th>\n",
       "    </tr>\n",
       "    <tr>\n",
       "      <th>index</th>\n",
       "      <th></th>\n",
       "    </tr>\n",
       "  </thead>\n",
       "  <tbody>\n",
       "    <tr>\n",
       "      <th>0</th>\n",
       "      <td>22002.787467</td>\n",
       "    </tr>\n",
       "    <tr>\n",
       "      <th>1</th>\n",
       "      <td>7259.933923</td>\n",
       "    </tr>\n",
       "    <tr>\n",
       "      <th>2</th>\n",
       "      <td>5849.497643</td>\n",
       "    </tr>\n",
       "    <tr>\n",
       "      <th>3</th>\n",
       "      <td>5692.276126</td>\n",
       "    </tr>\n",
       "    <tr>\n",
       "      <th>4</th>\n",
       "      <td>5877.143099</td>\n",
       "    </tr>\n",
       "    <tr>\n",
       "      <th>...</th>\n",
       "      <td>...</td>\n",
       "    </tr>\n",
       "    <tr>\n",
       "      <th>150167</th>\n",
       "      <td>36965.669450</td>\n",
       "    </tr>\n",
       "    <tr>\n",
       "      <th>150168</th>\n",
       "      <td>43812.564815</td>\n",
       "    </tr>\n",
       "    <tr>\n",
       "      <th>150169</th>\n",
       "      <td>44897.226637</td>\n",
       "    </tr>\n",
       "    <tr>\n",
       "      <th>150170</th>\n",
       "      <td>37203.429587</td>\n",
       "    </tr>\n",
       "    <tr>\n",
       "      <th>150171</th>\n",
       "      <td>37708.603451</td>\n",
       "    </tr>\n",
       "  </tbody>\n",
       "</table>\n",
       "<p>150172 rows × 1 columns</p>\n",
       "</div>"
      ],
      "text/plain": [
       "             deposit\n",
       "index               \n",
       "0       22002.787467\n",
       "1        7259.933923\n",
       "2        5849.497643\n",
       "3        5692.276126\n",
       "4        5877.143099\n",
       "...              ...\n",
       "150167  36965.669450\n",
       "150168  43812.564815\n",
       "150169  44897.226637\n",
       "150170  37203.429587\n",
       "150171  37708.603451\n",
       "\n",
       "[150172 rows x 1 columns]"
      ]
     },
     "execution_count": 29,
     "metadata": {},
     "output_type": "execute_result"
    }
   ],
   "source": [
    "# Create a DataFrame from y_pred with the same index as X_test\n",
    "y_pred_df = pd.DataFrame(y_pred, index=range(len(y_pred)), columns=['deposit'])\n",
    "\n",
    "# Display the DataFrame\n",
    "y_pred_df.index.name = 'index'\n",
    "y_pred_df"
   ]
  },
  {
   "cell_type": "code",
   "execution_count": 30,
   "metadata": {},
   "outputs": [
    {
     "data": {
      "text/plain": [
       "np.float64(39153.68387758537)"
      ]
     },
     "execution_count": 30,
     "metadata": {},
     "output_type": "execute_result"
    }
   ],
   "source": [
    "y_pred_df['deposit'].mean()"
   ]
  },
  {
   "cell_type": "code",
   "execution_count": 15,
   "metadata": {},
   "outputs": [],
   "source": [
    "y_pred_df.to_csv(os.path.join(submission_path, \"V8+sub1_lightGBM_Kfold5.csv\"), index=True)"
   ]
  }
 ],
 "metadata": {
  "kernelspec": {
   "display_name": "apart",
   "language": "python",
   "name": "python3"
  },
  "language_info": {
   "codemirror_mode": {
    "name": "ipython",
    "version": 3
   },
   "file_extension": ".py",
   "mimetype": "text/x-python",
   "name": "python",
   "nbconvert_exporter": "python",
   "pygments_lexer": "ipython3",
   "version": "3.12.5"
  }
 },
 "nbformat": 4,
 "nbformat_minor": 2
}
