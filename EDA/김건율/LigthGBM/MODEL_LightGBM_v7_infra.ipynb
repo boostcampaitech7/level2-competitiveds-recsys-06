{
 "cells": [
  {
   "cell_type": "markdown",
   "metadata": {},
   "source": [
    "## V7_Infra_Score_LightGBM_kfold5"
   ]
  },
  {
   "cell_type": "code",
   "execution_count": 1,
   "metadata": {},
   "outputs": [
    {
     "name": "stdout",
     "output_type": "stream",
     "text": [
      "d:\\base\\boostcamp\\apart\\level2-competitiveds-recsys-06\n"
     ]
    }
   ],
   "source": [
    "import os, sys\n",
    "import pandas as pd\n",
    "import numpy as np\n",
    "\n",
    "import matplotlib.pyplot as plt\n",
    "import seaborn as sns\n",
    "import plotly.express as px\n",
    "\n",
    "# path 설정\n",
    "sys.path.append(os.path.dirname(os.path.dirname(os.path.dirname(os.path.abspath(\"\")))))\n",
    "print(sys.path[-1])"
   ]
  },
  {
   "cell_type": "code",
   "execution_count": 2,
   "metadata": {},
   "outputs": [],
   "source": [
    "raw_path: str = \"../../../data/raw\"\n",
    "processed_path: str = \"../../../data/processed\"\n",
    "submission_path: str = \"../../../data/submission\""
   ]
  },
  {
   "cell_type": "code",
   "execution_count": 4,
   "metadata": {},
   "outputs": [],
   "source": [
    "v7: pd.DataFrame = pd.read_csv(os.path.join(processed_path,\"v7_infra_score.csv\"))"
   ]
  },
  {
   "cell_type": "markdown",
   "metadata": {},
   "source": [
    "### Arima_Deposit_Index 추가"
   ]
  },
  {
   "cell_type": "markdown",
   "metadata": {},
   "source": [
    "### 컬럼 정리"
   ]
  },
  {
   "cell_type": "code",
   "execution_count": 5,
   "metadata": {},
   "outputs": [
    {
     "data": {
      "text/plain": [
       "Index(['index', 'area_m2', 'contract_year_month', 'contract_day', 'floor',\n",
       "       'built_year', 'latitude', 'longitude', 'age', 'deposit', '_type',\n",
       "       'apt_idx', 'area', 'area_price', 'area_m2_price', 'grid_id',\n",
       "       'nearest_subway_distance', 'nearest_subway_idx',\n",
       "       'num_subway_within_1km', 'category_interchange_within_1km',\n",
       "       'num_subway_within_500m', 'category_interchange_within_500m',\n",
       "       'nearest_elementary_school_distance',\n",
       "       'nearest_elementary_school_within_1km',\n",
       "       'has_elementary_school_within_1km', 'nearest_middle_school_distance',\n",
       "       'nearest_middle_school_within_1km', 'has_middle_school_within_1km',\n",
       "       'nearest_high_school_distance', 'nearest_high_school_within_1km',\n",
       "       'has_high_school_within_1km', 'nearest_park_distance',\n",
       "       'nearest_park_within_500.0m', 'has_park_within_500.0m',\n",
       "       'apt_deposit_rank', 'apt_area_deposit_rank', 'original_index',\n",
       "       'recent_deposit', 'interest_rate', 'diff_interest_rate',\n",
       "       'arima_deposit_index', 'infra_score', 'contract_0', 'contract_1',\n",
       "       'contract_2'],\n",
       "      dtype='object')"
      ]
     },
     "execution_count": 5,
     "metadata": {},
     "output_type": "execute_result"
    }
   ],
   "source": [
    "v7_contract_type = pd.get_dummies(v7, columns=['contract_type'], prefix='contract')\n",
    "v7_contract_type.columns"
   ]
  },
  {
   "cell_type": "code",
   "execution_count": 6,
   "metadata": {},
   "outputs": [],
   "source": [
    "# columns_to_drop = ['contract_type', 'contract_2','area_m2_price', 'area_price', 'date', 'contract_ymd', 'original_index', 'interest_rate', 'diff_interest_rate']\n",
    "# df = v4_arima_contract_type.drop(columns=columns_to_drop, errors='ignore')\n",
    "\n",
    "columns = ['index', 'area_m2', 'floor', 'age', 'latitude', 'longitude', 'apt_idx','nearest_subway_distance', 'category_interchange_within_1km',\n",
    "           'deposit', '_type', 'grid_id', 'apt_deposit_rank', 'apt_area_deposit_rank', 'recent_deposit', \n",
    "           'contract_year_month', 'contract_0', 'contract_1', 'infra_score']\n",
    "df = v7_contract_type.filter(items=columns)\n",
    "\n",
    "temp_train_df = df[df[\"_type\"]=='train']\n",
    "test_df = df[df[\"_type\"]=='test']"
   ]
  },
  {
   "cell_type": "markdown",
   "metadata": {},
   "source": [
    "## K-Fold CV(k=5) 적용 LightGBM"
   ]
  },
  {
   "cell_type": "code",
   "execution_count": 7,
   "metadata": {},
   "outputs": [
    {
     "name": "stderr",
     "output_type": "stream",
     "text": [
      "C:\\Users\\shgkd\\AppData\\Local\\Temp\\ipykernel_28028\\491825634.py:14: SettingWithCopyWarning: \n",
      "A value is trying to be set on a copy of a slice from a DataFrame.\n",
      "Try using .loc[row_indexer,col_indexer] = value instead\n",
      "\n",
      "See the caveats in the documentation: https://pandas.pydata.org/pandas-docs/stable/user_guide/indexing.html#returning-a-view-versus-a-copy\n",
      "  X['recent_deposit'] = X['recent_deposit'].fillna(39000)\n"
     ]
    },
    {
     "name": "stdout",
     "output_type": "stream",
     "text": [
      "\n",
      "Fold 1\n",
      "[LightGBM] [Info] Auto-choosing row-wise multi-threading, the overhead of testing was 0.006936 seconds.\n",
      "You can set `force_row_wise=true` to remove the overhead.\n",
      "And if memory is not enough, you can set `force_col_wise=true`.\n",
      "[LightGBM] [Info] Total Bins 2711\n",
      "[LightGBM] [Info] Number of data points in the train set: 1440982, number of used features: 16\n",
      "[LightGBM] [Info] Start training from score 38183.560818\n",
      "[100] Train MAE: 4142.3465, Val MAE: 4134.6473\n",
      "[200] Train MAE: 4018.5117, Val MAE: 4019.9101\n",
      "[300] Train MAE: 3979.0917, Val MAE: 3986.7539\n",
      "[400] Train MAE: 3948.7417, Val MAE: 3962.1204\n",
      "[500] Train MAE: 3925.7562, Val MAE: 3944.2861\n",
      "[600] Train MAE: 3907.5204, Val MAE: 3930.8380\n",
      "[700] Train MAE: 3891.2266, Val MAE: 3919.4256\n",
      "[800] Train MAE: 3876.5774, Val MAE: 3909.3890\n",
      "[900] Train MAE: 3864.2983, Val MAE: 3901.3506\n",
      "[1000] Train MAE: 3852.4141, Val MAE: 3894.0709\n",
      "\n",
      "Fold 2\n",
      "[LightGBM] [Info] Auto-choosing row-wise multi-threading, the overhead of testing was 0.006715 seconds.\n",
      "You can set `force_row_wise=true` to remove the overhead.\n",
      "And if memory is not enough, you can set `force_col_wise=true`.\n",
      "[LightGBM] [Info] Total Bins 2713\n",
      "[LightGBM] [Info] Number of data points in the train set: 1440982, number of used features: 16\n",
      "[LightGBM] [Info] Start training from score 38158.741211\n",
      "[100] Train MAE: 4140.1290, Val MAE: 4159.1990\n",
      "[200] Train MAE: 4014.5720, Val MAE: 4040.1113\n",
      "[300] Train MAE: 3975.2618, Val MAE: 4007.2346\n",
      "[400] Train MAE: 3943.0958, Val MAE: 3980.6641\n",
      "[500] Train MAE: 3924.3472, Val MAE: 3967.1281\n",
      "[600] Train MAE: 3906.0567, Val MAE: 3954.0882\n",
      "[700] Train MAE: 3886.3985, Val MAE: 3938.9905\n",
      "[800] Train MAE: 3872.5266, Val MAE: 3930.0415\n",
      "[900] Train MAE: 3860.6333, Val MAE: 3922.1081\n",
      "[1000] Train MAE: 3847.4622, Val MAE: 3912.8325\n",
      "\n",
      "Fold 3\n",
      "[LightGBM] [Info] Auto-choosing row-wise multi-threading, the overhead of testing was 0.006484 seconds.\n",
      "You can set `force_row_wise=true` to remove the overhead.\n",
      "And if memory is not enough, you can set `force_col_wise=true`.\n",
      "[LightGBM] [Info] Total Bins 2713\n",
      "[LightGBM] [Info] Number of data points in the train set: 1440982, number of used features: 16\n",
      "[LightGBM] [Info] Start training from score 38145.851227\n",
      "[100] Train MAE: 4135.9665, Val MAE: 4156.7173\n",
      "[200] Train MAE: 4014.1027, Val MAE: 4041.6219\n",
      "[300] Train MAE: 3970.6941, Val MAE: 4004.7306\n",
      "[400] Train MAE: 3940.5082, Val MAE: 3980.6382\n",
      "[500] Train MAE: 3918.6112, Val MAE: 3964.7406\n",
      "[600] Train MAE: 3900.7937, Val MAE: 3952.3165\n",
      "[700] Train MAE: 3883.3752, Val MAE: 3939.8559\n",
      "[800] Train MAE: 3869.9934, Val MAE: 3931.5692\n",
      "[900] Train MAE: 3857.7166, Val MAE: 3924.1065\n",
      "[1000] Train MAE: 3844.7819, Val MAE: 3915.2631\n",
      "\n",
      "Fold 4\n",
      "[LightGBM] [Info] Auto-choosing row-wise multi-threading, the overhead of testing was 0.007812 seconds.\n",
      "You can set `force_row_wise=true` to remove the overhead.\n",
      "And if memory is not enough, you can set `force_col_wise=true`.\n",
      "[LightGBM] [Info] Total Bins 2716\n",
      "[LightGBM] [Info] Number of data points in the train set: 1440983, number of used features: 16\n",
      "[LightGBM] [Info] Start training from score 38174.249976\n",
      "[100] Train MAE: 4142.4315, Val MAE: 4142.2925\n",
      "[200] Train MAE: 4013.4681, Val MAE: 4020.1276\n",
      "[300] Train MAE: 3971.0759, Val MAE: 3983.4011\n",
      "[400] Train MAE: 3946.0817, Val MAE: 3964.7258\n",
      "[500] Train MAE: 3918.7421, Val MAE: 3942.4060\n",
      "[600] Train MAE: 3901.7778, Val MAE: 3930.4075\n",
      "[700] Train MAE: 3884.1711, Val MAE: 3917.9238\n",
      "[800] Train MAE: 3869.3859, Val MAE: 3907.9006\n",
      "[900] Train MAE: 3857.0000, Val MAE: 3900.5515\n",
      "[1000] Train MAE: 3847.1816, Val MAE: 3894.6246\n",
      "\n",
      "Fold 5\n",
      "[LightGBM] [Info] Auto-choosing row-wise multi-threading, the overhead of testing was 0.007149 seconds.\n",
      "You can set `force_row_wise=true` to remove the overhead.\n",
      "And if memory is not enough, you can set `force_col_wise=true`.\n",
      "[LightGBM] [Info] Total Bins 2713\n",
      "[LightGBM] [Info] Number of data points in the train set: 1440983, number of used features: 16\n",
      "[LightGBM] [Info] Start training from score 38148.743887\n",
      "[100] Train MAE: 4138.9583, Val MAE: 4150.5564\n",
      "[200] Train MAE: 4015.8676, Val MAE: 4036.1966\n",
      "[300] Train MAE: 3972.9765, Val MAE: 4001.5761\n",
      "[400] Train MAE: 3945.3362, Val MAE: 3979.9028\n",
      "[500] Train MAE: 3924.5390, Val MAE: 3965.0236\n",
      "[600] Train MAE: 3905.5794, Val MAE: 3951.9534\n",
      "[700] Train MAE: 3889.5142, Val MAE: 3940.4969\n",
      "[800] Train MAE: 3872.7452, Val MAE: 3928.3758\n",
      "[900] Train MAE: 3860.9775, Val MAE: 3921.0100\n",
      "[1000] Train MAE: 3847.3757, Val MAE: 3912.4284\n",
      "\n",
      "Overall OOF MAE: 3905.8439\n",
      "\n",
      "Training completed.\n"
     ]
    }
   ],
   "source": [
    "import lightgbm as lgb\n",
    "import numpy as np\n",
    "from sklearn.model_selection import KFold\n",
    "from sklearn.metrics import mean_absolute_error\n",
    "\n",
    "# 학습에 사용할 특징 열\n",
    "feature_columns = [col for col in temp_train_df.columns if col not in ['deposit', '_type', 'index']]\n",
    "\n",
    "# 학습 데이터 준비\n",
    "X = temp_train_df[feature_columns]\n",
    "y = temp_train_df['deposit']\n",
    "\n",
    "# 결측치 대체\n",
    "X['recent_deposit'] = X['recent_deposit'].fillna(39000)\n",
    "\n",
    "# LightGBM 파라미터 설정\n",
    "params = {\n",
    "    'objective': 'regression',\n",
    "    'metric': 'mae',\n",
    "    'boosting_type': 'gbdt',\n",
    "    'num_leaves': 31,\n",
    "    'learning_rate': 0.05,\n",
    "    'feature_fraction': 0.9,\n",
    "    'bagging_fraction': 0.8,\n",
    "    'bagging_freq': 5,\n",
    "    'seed': 42,\n",
    "}\n",
    "\n",
    "# 콜백 함수 정의\n",
    "def print_evaluation(period=10):\n",
    "    def callback(env):\n",
    "        if (env.iteration + 1) % period == 0:\n",
    "            train_mae = env.evaluation_result_list[0][2]\n",
    "            val_mae = env.evaluation_result_list[1][2]\n",
    "            print(f\"[{env.iteration + 1}] Train MAE: {train_mae:.4f}, Val MAE: {val_mae:.4f}\")\n",
    "    return callback\n",
    "\n",
    "# 5-fold 교차 검증 설정\n",
    "n_folds = 5\n",
    "kf = KFold(n_splits=n_folds, shuffle=True, random_state=42)\n",
    "\n",
    "# 각 폴드의 예측 결과를 저장할 리스트\n",
    "oof_predictions = np.zeros(len(X))\n",
    "test_predictions = np.zeros(len(test_df))\n",
    "\n",
    "# 교차 검증 수행\n",
    "for fold, (train_idx, val_idx) in enumerate(kf.split(X), 1):\n",
    "    print(f\"\\nFold {fold}\")\n",
    "    \n",
    "    X_train, X_val = X.iloc[train_idx], X.iloc[val_idx]\n",
    "    y_train, y_val = y.iloc[train_idx], y.iloc[val_idx]\n",
    "    \n",
    "    dtrain = lgb.Dataset(X_train, label=y_train)\n",
    "    dval = lgb.Dataset(X_val, label=y_val, reference=dtrain)\n",
    "    \n",
    "    model = lgb.train(\n",
    "        params, \n",
    "        dtrain, \n",
    "        num_boost_round=1000, \n",
    "        valid_sets=[dtrain, dval], \n",
    "        callbacks=[print_evaluation(period=100)]\n",
    "    )\n",
    "    \n",
    "    # 검증 세트에 대한 예측\n",
    "    oof_predictions[val_idx] = model.predict(X_val)\n",
    "    \n",
    "    # 테스트 세트에 대한 예측\n",
    "    test_predictions += model.predict(test_df[feature_columns]) / n_folds\n",
    "\n",
    "# 전체 검증 세트에 대한 MAE 계산\n",
    "oof_mae = mean_absolute_error(y, oof_predictions)\n",
    "print(f\"\\nOverall OOF MAE: {oof_mae:.4f}\")\n",
    "\n",
    "# 테스트 세트에 대한 최종 예측 결과\n",
    "y_pred = test_predictions\n",
    "\n",
    "print(\"\\nTraining completed.\")"
   ]
  },
  {
   "cell_type": "markdown",
   "metadata": {},
   "source": [
    "### Feature Importance"
   ]
  },
  {
   "cell_type": "code",
   "execution_count": 8,
   "metadata": {},
   "outputs": [
    {
     "data": {
      "image/png": "[encoded data removed]",
      "text/plain": [
       "<Figure size 1000x800 with 1 Axes>"
      ]
     },
     "metadata": {},
     "output_type": "display_data"
    }
   ],
   "source": [
    "# LightGBM 모델의 피처 중요도 추출\n",
    "feature_importance = model.feature_importance()\n",
    "\n",
    "# 피처 중요도를 DataFrame으로 변환\n",
    "importance_df = pd.DataFrame({\n",
    "    'Feature': feature_columns,\n",
    "    'Importance': feature_importance\n",
    "})\n",
    "\n",
    "# 중요도 순으로 정렬\n",
    "importance_df = importance_df.sort_values(by='Importance', ascending=False)\n",
    "\n",
    "# 시각화\n",
    "plt.figure(figsize=(10, 8))\n",
    "sns.barplot(x='Importance', y='Feature', data=importance_df)\n",
    "plt.title('Feature Importance')\n",
    "plt.show()"
   ]
  },
  {
   "cell_type": "code",
   "execution_count": 12,
   "metadata": {},
   "outputs": [
    {
     "data": {
      "text/plain": [
       "array([21919.87668855,  7329.86279029,  5780.38122069, ...,\n",
       "       44851.04894911, 37350.23017771, 37413.53821842])"
      ]
     },
     "execution_count": 12,
     "metadata": {},
     "output_type": "execute_result"
    }
   ],
   "source": [
    "y_pred"
   ]
  },
  {
   "cell_type": "code",
   "execution_count": 13,
   "metadata": {},
   "outputs": [
    {
     "data": {
      "text/html": [
       "<div>\n",
       "<style scoped>\n",
       "    .dataframe tbody tr th:only-of-type {\n",
       "        vertical-align: middle;\n",
       "    }\n",
       "\n",
       "    .dataframe tbody tr th {\n",
       "        vertical-align: top;\n",
       "    }\n",
       "\n",
       "    .dataframe thead th {\n",
       "        text-align: right;\n",
       "    }\n",
       "</style>\n",
       "<table border=\"1\" class=\"dataframe\">\n",
       "  <thead>\n",
       "    <tr style=\"text-align: right;\">\n",
       "      <th></th>\n",
       "      <th>deposit</th>\n",
       "    </tr>\n",
       "    <tr>\n",
       "      <th>index</th>\n",
       "      <th></th>\n",
       "    </tr>\n",
       "  </thead>\n",
       "  <tbody>\n",
       "    <tr>\n",
       "      <th>0</th>\n",
       "      <td>21919.876689</td>\n",
       "    </tr>\n",
       "    <tr>\n",
       "      <th>1</th>\n",
       "      <td>7329.862790</td>\n",
       "    </tr>\n",
       "    <tr>\n",
       "      <th>2</th>\n",
       "      <td>5780.381221</td>\n",
       "    </tr>\n",
       "    <tr>\n",
       "      <th>3</th>\n",
       "      <td>5633.468105</td>\n",
       "    </tr>\n",
       "    <tr>\n",
       "      <th>4</th>\n",
       "      <td>5838.863354</td>\n",
       "    </tr>\n",
       "    <tr>\n",
       "      <th>...</th>\n",
       "      <td>...</td>\n",
       "    </tr>\n",
       "    <tr>\n",
       "      <th>150167</th>\n",
       "      <td>36896.657234</td>\n",
       "    </tr>\n",
       "    <tr>\n",
       "      <th>150168</th>\n",
       "      <td>43797.768798</td>\n",
       "    </tr>\n",
       "    <tr>\n",
       "      <th>150169</th>\n",
       "      <td>44851.048949</td>\n",
       "    </tr>\n",
       "    <tr>\n",
       "      <th>150170</th>\n",
       "      <td>37350.230178</td>\n",
       "    </tr>\n",
       "    <tr>\n",
       "      <th>150171</th>\n",
       "      <td>37413.538218</td>\n",
       "    </tr>\n",
       "  </tbody>\n",
       "</table>\n",
       "<p>150172 rows × 1 columns</p>\n",
       "</div>"
      ],
      "text/plain": [
       "             deposit\n",
       "index               \n",
       "0       21919.876689\n",
       "1        7329.862790\n",
       "2        5780.381221\n",
       "3        5633.468105\n",
       "4        5838.863354\n",
       "...              ...\n",
       "150167  36896.657234\n",
       "150168  43797.768798\n",
       "150169  44851.048949\n",
       "150170  37350.230178\n",
       "150171  37413.538218\n",
       "\n",
       "[150172 rows x 1 columns]"
      ]
     },
     "execution_count": 13,
     "metadata": {},
     "output_type": "execute_result"
    }
   ],
   "source": [
    "# Create a DataFrame from y_pred with the same index as X_test\n",
    "y_pred_df = pd.DataFrame(y_pred, index=range(len(y_pred)), columns=['deposit'])\n",
    "\n",
    "# Display the DataFrame\n",
    "y_pred_df.index.name = 'index'\n",
    "y_pred_df"
   ]
  },
  {
   "cell_type": "code",
   "execution_count": 14,
   "metadata": {},
   "outputs": [
    {
     "data": {
      "text/plain": [
       "np.float64(39065.37303195744)"
      ]
     },
     "execution_count": 14,
     "metadata": {},
     "output_type": "execute_result"
    }
   ],
   "source": [
    "y_pred_df['deposit'].mean()"
   ]
  },
  {
   "cell_type": "code",
   "execution_count": 15,
   "metadata": {},
   "outputs": [],
   "source": [
    "y_pred_df.to_csv(os.path.join(submission_path, \"V7_lightGBM_Kfold5.csv\"), index=True)"
   ]
  }
 ],
 "metadata": {
  "kernelspec": {
   "display_name": "apart",
   "language": "python",
   "name": "python3"
  },
  "language_info": {
   "codemirror_mode": {
    "name": "ipython",
    "version": 3
   },
   "file_extension": ".py",
   "mimetype": "text/x-python",
   "name": "python",
   "nbconvert_exporter": "python",
   "pygments_lexer": "ipython3",
   "version": "3.12.5"
  }
 },
 "nbformat": 4,
 "nbformat_minor": 2
}
