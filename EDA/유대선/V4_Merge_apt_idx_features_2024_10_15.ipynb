{
 "cells": [
  {
   "cell_type": "markdown",
   "metadata": {},
   "source": [
    "# 라이브러리 불러오기"
   ]
  },
  {
   "cell_type": "code",
   "metadata": {},
   "source": [
    "import datetime\n",
    "import os\n",
    "import pandas as pd\n",
    "import numpy as np\n",
    "import lightgbm as lgb\n",
    "from sklearn.metrics import mean_squared_error, mean_absolute_error\n",
    "import warnings\n",
    "\n",
    "from src.pre_process.feature_add import FeatureAddition\n",
    "\n",
    "warnings.filterwarnings('ignore')"
   ],
   "outputs": [],
   "execution_count": null
  },
  {
   "cell_type": "markdown",
   "metadata": {},
   "source": [
    "# 랜덤 시드 설정"
   ]
  },
  {
   "cell_type": "code",
   "metadata": {},
   "source": [
    "RANDOM_SEED = 42\n",
    "np.random.seed(RANDOM_SEED)"
   ],
   "outputs": [],
   "execution_count": null
  },
  {
   "metadata": {},
   "cell_type": "code",
   "source": [
    "RAW_BASE_PATH = os.path.join(\"..\", \"..\", \"data\", \"raw\")\n",
    "PROCESSED_BASE_PATH = os.path.join(\"..\", \"..\", \"data\", \"processed\")\n",
    "recent_df = pd.read_csv(os.path.join(PROCESSED_BASE_PATH, \"V1_all_apt_idx_recent_deposit.csv\"))[\n",
    "    [\"recent_deposit\", \"contract_ymd\"]]\n",
    "train = pd.read_csv(os.path.join(RAW_BASE_PATH, 'train.csv'))\n",
    "train.reset_index(drop=False, inplace=True)\n",
    "test = pd.read_csv(os.path.join(RAW_BASE_PATH, 'test.csv'))\n",
    "recent_df.head()"
   ],
   "outputs": [],
   "execution_count": null
  },
  {
   "metadata": {},
   "cell_type": "code",
   "source": [
    "# Train 중복 제거\n",
    "from src.pre_process.feature_duplicate import FeatureDuplication\n",
    "\n",
    "train = FeatureDuplication(train).get_data()\n",
    "train.reset_index(drop=False, inplace=True)\n",
    "train[\"_type\"] = \"train\"\n",
    "test[\"_type\"] = \"test\"\n",
    "df = pd.concat([train, test], axis=0, ignore_index=True)\n",
    "del train, test\n",
    "from src.pre_process.feature_add import FeatureAddition\n",
    "\n",
    "df = FeatureAddition(df).get_data()\n",
    "df.head()"
   ],
   "outputs": [],
   "execution_count": null
  },
  {
   "metadata": {},
   "cell_type": "code",
   "source": [
    "from src.pre_procecss.interest.diff_interestrate import DiffInterestRateAdder\n",
    "\n",
    "df = DiffInterestRateAdder(df, pd.read_csv(os.path.join(RAW_BASE_PATH, \"interestRate.csv\"))).get_data()\n",
    "df.head()"
   ],
   "outputs": [],
   "execution_count": null
  },
  {
   "metadata": {},
   "cell_type": "code",
   "source": "",
   "outputs": [],
   "execution_count": null
  },
  {
   "metadata": {},
   "cell_type": "code",
   "source": [
    "df = pd.concat([df, recent_df], axis=1)\n",
    "del recent_df\n",
    "df.head()"
   ],
   "outputs": [],
   "execution_count": null
  },
  {
   "metadata": {},
   "cell_type": "code",
   "source": [
    "df.drop(columns=[\"level_0\", \"contract_year_month\", \"contract_day\", \"area\", \"area_price\"], inplace=True)\n",
    "df.columns"
   ],
   "outputs": [],
   "execution_count": null
  },
  {
   "metadata": {},
   "cell_type": "code",
   "source": [
    "df.set_index(\"apt_idx\", inplace=True)\n",
    "df.head()"
   ],
   "outputs": [],
   "execution_count": null
  },
  {
   "metadata": {},
   "cell_type": "code",
   "source": [
    "\n",
    "for filename in os.listdir(os.path.join(PROCESSED_BASE_PATH, \"apt_idx\")):\n",
    "    print(filename)\n",
    "    if filename.find(\"onehot\") != -1:\n",
    "        continue\n",
    "    if filename.find(\"interest\") != -1:\n",
    "        interest_df = pd.read_csv(os.path.join(PROCESSED_BASE_PATH, \"apt_idx\", str(filename)))\n",
    "        interest_df[\"contract_year_month\"] = pd.to_datetime(interest_df[\"contract_year_month\"])\n",
    "        interest_df.set_index(\"contract_year_month\", inplace=True)\n",
    "        df[\"contract_year_month\"] = pd.to_datetime(df[\"contract_ymd\"]).map(lambda x: x.replace(x.year, x.month, 1))\n",
    "        df.reset_index(inplace=True)\n",
    "        df.set_index(\"contract_year_month\", inplace=True)\n",
    "        df = df.join(interest_df, on=\"contract_year_month\", how=\"left\", rsuffix=\"_int\")\n",
    "        df.set_index(\"apt_idx\", inplace=True)\n",
    "        continue\n",
    "    apt_df = pd.read_csv(os.path.join(PROCESSED_BASE_PATH, \"apt_idx\", str(filename)))\n",
    "    apt_df.set_index(\"apt_idx\", inplace=True)\n",
    "    if 'Unnamed: 0' in apt_df.columns:\n",
    "        apt_df.drop(columns=['Unnamed: 0'], inplace=True)\n",
    "\n",
    "    df = df.join(apt_df, on=\"apt_idx\", how=\"left\")\n",
    "    del apt_df"
   ],
   "outputs": [],
   "execution_count": null
  },
  {
   "metadata": {},
   "cell_type": "code",
   "source": "df.head()",
   "outputs": [],
   "execution_count": null
  },
  {
   "metadata": {},
   "cell_type": "code",
   "source": "# df.join(interest_df, on=\"contract_year_month\", how=\"left\")",
   "outputs": [],
   "execution_count": null
  },
  {
   "metadata": {},
   "cell_type": "markdown",
   "source": ""
  },
  {
   "metadata": {
    "ExecuteTime": {
     "end_time": "2024-10-15T09:17:25.718154Z",
     "start_time": "2024-10-15T09:16:43.008801Z"
    }
   },
   "cell_type": "code",
   "source": [
    "df.reset_index(drop=False, inplace=True)\n",
    "df.columns = [c.replace(\"_int\", \"\") for c in df.columns]\n",
    "df.to_csv(os.path.join(PROCESSED_BASE_PATH, \"V2_features.csv\"), index=False)"
   ],
   "outputs": [],
   "execution_count": 24
  },
  {
   "metadata": {
    "ExecuteTime": {
     "end_time": "2024-10-15T09:17:25.794633Z",
     "start_time": "2024-10-15T09:17:25.781356Z"
    }
   },
   "cell_type": "code",
   "source": "df.columns.sort_values()",
   "outputs": [
    {
     "data": {
      "text/plain": [
       "Index(['_type', 'age', 'apt_idx', 'area_m2', 'area_m2_price', 'built_year',\n",
       "       'category_interchange_within_1km', 'category_interchange_within_500m',\n",
       "       'contract_type', 'contract_ymd', 'deposit', 'diff_interest_rate',\n",
       "       'diff_interest_rate_int', 'floor', 'grid_id',\n",
       "       'has_elementary_school_within_1km', 'has_high_school_within_1km',\n",
       "       'has_middle_school_within_1km', 'has_park_within_500.0m', 'index',\n",
       "       'interest_rate', 'interest_rate_int', 'latitude', 'level_0',\n",
       "       'longitude', 'nearest_elementary_school_distance',\n",
       "       'nearest_elementary_school_within_1km', 'nearest_high_school_distance',\n",
       "       'nearest_high_school_within_1km', 'nearest_middle_school_distance',\n",
       "       'nearest_middle_school_within_1km', 'nearest_park_distance',\n",
       "       'nearest_park_within_500.0m', 'nearest_subway_distance',\n",
       "       'nearest_subway_idx', 'num_subway_within_1km', 'num_subway_within_500m',\n",
       "       'recent_deposit', 'year_month'],\n",
       "      dtype='object')"
      ]
     },
     "execution_count": 25,
     "metadata": {},
     "output_type": "execute_result"
    }
   ],
   "execution_count": 25
  },
  {
   "metadata": {
    "ExecuteTime": {
     "end_time": "2024-10-15T09:19:50.111825Z",
     "start_time": "2024-10-15T09:19:07.821892Z"
    }
   },
   "cell_type": "code",
   "source": [
    "\n",
    "df.to_csv(os.path.join(PROCESSED_BASE_PATH, \"V2_features.csv\"), index=False)"
   ],
   "outputs": [],
   "execution_count": 28
  }
 ],
 "metadata": {
  "kernelspec": {
   "display_name": "faceswap_conda",
   "language": "python",
   "name": "python3"
  },
  "language_info": {
   "codemirror_mode": {
    "name": "ipython",
    "version": 3
   },
   "file_extension": ".py",
   "mimetype": "text/x-python",
   "name": "python",
   "nbconvert_exporter": "python",
   "pygments_lexer": "ipython3",
   "version": "3.10.13"
  }
 },
 "nbformat": 4,
 "nbformat_minor": 2
}
