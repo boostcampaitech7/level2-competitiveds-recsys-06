{
 "cells": [
  {
   "cell_type": "markdown",
   "metadata": {},
   "source": [
    "# 라이브러리 불러오기"
   ]
  },
  {
   "cell_type": "code",
   "metadata": {},
   "source": [
    "import os\n",
    "import pandas as pd\n",
    "import numpy as np\n",
    "import lightgbm as lgb\n",
    "from sklearn.metrics import mean_squared_error, mean_absolute_error\n",
    "import warnings\n",
    "\n",
    "from src.pre_process.feature_add import FeatureAddition\n",
    "\n",
    "warnings.filterwarnings('ignore')"
   ],
   "outputs": [],
   "execution_count": null
  },
  {
   "cell_type": "markdown",
   "metadata": {},
   "source": [
    "# 랜덤 시드 설정"
   ]
  },
  {
   "cell_type": "code",
   "metadata": {},
   "source": [
    "RANDOM_SEED = 42\n",
    "np.random.seed(RANDOM_SEED)"
   ],
   "outputs": [],
   "execution_count": null
  },
  {
   "metadata": {},
   "cell_type": "code",
   "source": [
    "RAW_BASE_PATH = os.path.join(\"..\", \"..\", \"data\", \"raw\")\n",
    "PROCESSED_BASE_PATH = os.path.join(\"..\", \"..\", \"data\", \"processed\")\n",
    "# train_data = pd.read_csv(os.path.join(BASE_PATH, 'train.csv'))\n",
    "# test_data = pd.read_csv(os.path.join(BASE_PATH, 'test.csv'))\n",
    "train = pd.read_csv(os.path.join(RAW_BASE_PATH, 'train.csv'))\n",
    "train.reset_index(drop=False, inplace=True)\n",
    "test = pd.read_csv(os.path.join(RAW_BASE_PATH, 'test.csv'))\n",
    "\n",
    "school = pd.read_csv(os.path.join(RAW_BASE_PATH, 'schoolinfo.csv'))\n",
    "subway = pd.read_csv(os.path.join(RAW_BASE_PATH, 'subwayInfo.csv'))\n",
    "interest = pd.read_csv(os.path.join(RAW_BASE_PATH, 'interestRate.csv'))\n",
    "park = pd.read_csv(os.path.join(RAW_BASE_PATH, 'parkInfo.csv'))\n",
    "sample_submission = pd.read_csv(os.path.join(RAW_BASE_PATH, 'sample_submission.csv'))\n"
   ],
   "outputs": [],
   "execution_count": null
  },
  {
   "metadata": {},
   "cell_type": "code",
   "source": [
    "# Train 중복 제거\n",
    "from src.pre_process.feature_duplicate import FeatureDuplication\n",
    "\n",
    "train = FeatureDuplication(train).get_data()\n",
    "train.reset_index(drop=False, inplace=True)"
   ],
   "outputs": [],
   "execution_count": null
  },
  {
   "metadata": {},
   "cell_type": "code",
   "source": [
    "train[\"_type\"] = \"train\"\n",
    "test[\"_type\"] = \"test\"\n",
    "df = pd.concat([train, test], axis=0, ignore_index=True)\n",
    "df"
   ],
   "outputs": [],
   "execution_count": null
  },
  {
   "metadata": {},
   "cell_type": "code",
   "source": [
    "from src.pre_process.feature_add import FeatureAddition\n",
    "\n",
    "df = FeatureAddition(df).get_data()\n",
    "df.head()"
   ],
   "outputs": [],
   "execution_count": null
  },
  {
   "metadata": {},
   "cell_type": "code",
   "source": [
    "\n",
    "from src.pre_process.subway.subway_distance_feature_add import SubwayDistanceFeatureAddition\n",
    "\n",
    "df = SubwayDistanceFeatureAddition(df, subway).get_data()\n",
    "df"
   ],
   "outputs": [],
   "execution_count": null
  },
  {
   "metadata": {},
   "cell_type": "code",
   "source": [
    "df[['apt_idx', 'nearest_subway_distance', 'nearest_subway_idx',\n",
    "    'num_subway_within_1km', 'category_interchange_within_1km',\n",
    "    'num_subway_within_500m', 'category_interchange_within_500m']].drop_duplicates().to_csv(\n",
    "    os.path.join(PROCESSED_BASE_PATH, 'apt_idx_subway.csv'))"
   ],
   "outputs": [],
   "execution_count": null
  },
  {
   "metadata": {},
   "cell_type": "code",
   "source": [
    "from src.pre_process.park.park_info_feature_add import ParkInfoFeatureAdd\n",
    "\n",
    "df = ParkInfoFeatureAdd(df, park).get_data()\n",
    "df"
   ],
   "outputs": [],
   "execution_count": null
  },
  {
   "metadata": {},
   "cell_type": "code",
   "source": [
    "df[['apt_idx', 'nearest_park_distance', 'nearest_park_within_500.0m',\n",
    "    'has_park_within_500.0m']].drop_duplicates().to_csv(os.path.join(PROCESSED_BASE_PATH, 'apt_idx_park.csv'))"
   ],
   "outputs": [],
   "execution_count": null
  },
  {
   "metadata": {},
   "cell_type": "code",
   "source": [
    "from src.pre_process.school.school_info_feature_add import SchoolInfoFeatureAdd\n",
    "\n",
    "df = SchoolInfoFeatureAdd(df, school).get_data()\n",
    "df"
   ],
   "outputs": [],
   "execution_count": null
  },
  {
   "metadata": {},
   "cell_type": "code",
   "source": [
    "df[['apt_idx', 'nearest_elementary_school_distance',\n",
    "    'nearest_elementary_school_within_1km',\n",
    "    'has_elementary_school_within_1km', 'nearest_middle_school_distance',\n",
    "    'nearest_middle_school_within_1km', 'has_middle_school_within_1km',\n",
    "    'nearest_high_school_distance', 'nearest_high_school_within_1km',\n",
    "    'has_high_school_within_1km']].drop_duplicates().to_csv(os.path.join(PROCESSED_BASE_PATH, 'apt_idx_school.csv'))"
   ],
   "outputs": [],
   "execution_count": null
  },
  {
   "metadata": {},
   "cell_type": "code",
   "source": [
    "from src.pre_procecss.interest.diff_interestrate import DiffInterestRateAdder\n",
    "\n",
    "df = DiffInterestRateAdder(df, interest).get_data()\n",
    "df.head()"
   ],
   "outputs": [],
   "execution_count": null
  },
  {
   "metadata": {},
   "cell_type": "code",
   "source": [
    "df[\n",
    "    [\"contract_year_month\", \"interest_rate\", \"diff_interest_rate\"]].drop_duplicates().reset_index(\n",
    "    drop=True).sort_values(by=\"contract_year_month\").to_csv(\n",
    "    os.path.join(PROCESSED_BASE_PATH, 'year_month_interest.csv'), index=False)"
   ],
   "outputs": [],
   "execution_count": null
  },
  {
   "metadata": {},
   "cell_type": "code",
   "source": [
    "from src.pre_process.deposit.grid_deposit import GridFeature\n",
    "\n",
    "df = GridFeature(df).get_data()\n",
    "df.head()"
   ],
   "outputs": [],
   "execution_count": null
  },
  {
   "metadata": {},
   "cell_type": "code",
   "source": "df[[\"apt_idx\", \"grid_id\"]].drop_duplicates().to_csv(os.path.join(PROCESSED_BASE_PATH, 'apt_idx_grid_id.csv'))",
   "outputs": [],
   "execution_count": null
  },
  {
   "metadata": {},
   "cell_type": "code",
   "source": "",
   "outputs": [],
   "execution_count": null
  }
 ],
 "metadata": {
  "kernelspec": {
   "display_name": "faceswap_conda",
   "language": "python",
   "name": "python3"
  },
  "language_info": {
   "codemirror_mode": {
    "name": "ipython",
    "version": 3
   },
   "file_extension": ".py",
   "mimetype": "text/x-python",
   "name": "python",
   "nbconvert_exporter": "python",
   "pygments_lexer": "ipython3",
   "version": "3.10.13"
  }
 },
 "nbformat": 4,
 "nbformat_minor": 2
}
