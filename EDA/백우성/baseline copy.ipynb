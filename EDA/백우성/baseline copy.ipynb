{
 "cells": [
  {
   "cell_type": "markdown",
   "metadata": {},
   "source": [
    "# 라이브러리 불러오기"
   ]
  },
  {
   "cell_type": "code",
   "execution_count": 1,
   "metadata": {
    "ExecuteTime": {
     "end_time": "2024-09-30T06:12:27.968178Z",
     "start_time": "2024-09-30T06:12:26.525786Z"
    }
   },
   "outputs": [],
   "source": [
    "import os\n",
    "import pandas as pd\n",
    "import numpy as np\n",
    "import lightgbm as lgb\n",
    "from sklearn.metrics import mean_squared_error, mean_absolute_error"
   ]
  },
  {
   "cell_type": "markdown",
   "metadata": {},
   "source": [
    "# 랜덤 시드 설정"
   ]
  },
  {
   "cell_type": "code",
   "execution_count": 2,
   "metadata": {
    "ExecuteTime": {
     "end_time": "2024-09-30T06:12:27.983594Z",
     "start_time": "2024-09-30T06:12:27.973361Z"
    }
   },
   "outputs": [],
   "source": [
    "RANDOM_SEED = 42\n",
    "np.random.seed(RANDOM_SEED)"
   ]
  },
  {
   "cell_type": "markdown",
   "metadata": {},
   "source": [
    "# 데이터 불러오기"
   ]
  },
  {
   "cell_type": "code",
   "execution_count": 3,
   "metadata": {
    "ExecuteTime": {
     "end_time": "2024-09-30T06:12:29.119004Z",
     "start_time": "2024-09-30T06:12:27.999752Z"
    }
   },
   "outputs": [],
   "source": [
    "BASE_PATH = r'C:\\Users\\com\\Documents\\GitHub\\level2-competitiveds-recsys-06\\data\\etc'\n",
    "\n",
    "train_data = pd.read_csv(os.path.join(BASE_PATH, 'train.csv'))\n",
    "test_data = pd.read_csv(os.path.join(BASE_PATH, 'test.csv'))\n",
    "sample_submission = pd.read_csv(os.path.join(BASE_PATH, 'sample_submission.csv'))"
   ]
  },
  {
   "cell_type": "markdown",
   "metadata": {},
   "source": [
    "# 데이터 EDA 수행하기"
   ]
  },
  {
   "cell_type": "code",
   "execution_count": 4,
   "metadata": {
    "ExecuteTime": {
     "end_time": "2024-09-30T06:12:29.681687Z",
     "start_time": "2024-09-30T06:12:29.151838Z"
    }
   },
   "outputs": [
    {
     "name": "stdout",
     "output_type": "stream",
     "text": [
      "train, test_data, sample_submission shape :  (1801228, 11) (150172, 10) (150172, 2)\n",
      "train data 상단 5개 정보 확인 :     index  area_m2  contract_year_month  contract_day  contract_type  floor  \\\n",
      "0      0  84.9981               201906            25              2      9   \n",
      "1      1  84.9981               202003            26              2     20   \n",
      "2      2  84.9981               202003            28              2      8   \n",
      "3      3  59.3400               201907            15              2      1   \n",
      "4      4  59.8100               201904            12              2      6   \n",
      "\n",
      "   built_year   latitude   longitude  age  deposit  \n",
      "0        2019  37.054314  127.045216    0  17000.0  \n",
      "1        2019  37.054314  127.045216    1  23000.0  \n",
      "2        2019  37.054314  127.045216    1  23000.0  \n",
      "3        1986  36.964647  127.055847   33   5000.0  \n",
      "4        1995  36.972390  127.084514   24   1800.0  \n",
      "test data 상단 5개 정보 확인 :     index  area_m2  contract_year_month  contract_day  contract_type  floor  \\\n",
      "0      0   84.961               202404            12              1     14   \n",
      "1      1   59.900               202404            13              0      4   \n",
      "2      2   39.270               202404            29              0      5   \n",
      "3      3   39.270               202405             3              0      1   \n",
      "4      4   46.980               202406             2              0      4   \n",
      "\n",
      "   built_year   latitude   longitude  age  \n",
      "0        2016  36.965423  127.048779    8  \n",
      "1        1997  36.963105  127.040678   27  \n",
      "2        1990  36.957089  127.047449   34  \n",
      "3        1990  36.957089  127.047449   34  \n",
      "4        1990  36.957089  127.047449   34  \n",
      "sample_submission 상단 5개 정보 확인 :     index  deposit\n",
      "0      0        0\n",
      "1      1        0\n",
      "2      2        0\n",
      "3      3        0\n",
      "4      4        0\n",
      "train data 변수 요약 정보 확인 :                index       area_m2  contract_year_month  contract_day  \\\n",
      "count  1.801228e+06  1.801228e+06         1.801228e+06  1.801228e+06   \n",
      "mean   9.006135e+05  7.518833e+01         2.021331e+05  1.589943e+01   \n",
      "std    5.199699e+05  2.552632e+01         1.352815e+02  8.625998e+00   \n",
      "min    0.000000e+00  1.032150e+01         2.019040e+05  1.000000e+00   \n",
      "25%    4.503068e+05  5.975000e+01         2.020080e+05  9.000000e+00   \n",
      "50%    9.006135e+05  7.715000e+01         2.021110e+05  1.600000e+01   \n",
      "75%    1.350920e+06  8.496000e+01         2.022120e+05  2.300000e+01   \n",
      "max    1.801227e+06  3.173600e+02         2.023120e+05  3.100000e+01   \n",
      "\n",
      "       contract_type         floor    built_year      latitude     longitude  \\\n",
      "count   1.801228e+06  1.801228e+06  1.801228e+06  1.801228e+06  1.801228e+06   \n",
      "mean    1.203805e+00  1.005197e+01  2.004199e+03  3.747721e+01  1.269662e+02   \n",
      "std     8.852792e-01  6.973359e+00  1.115132e+01  1.625113e-01  1.701221e-01   \n",
      "min     0.000000e+00 -4.000000e+00  1.961000e+03  3.691791e+01  1.264787e+02   \n",
      "25%     0.000000e+00  5.000000e+00  1.995000e+03  3.737976e+01  1.268422e+02   \n",
      "50%     2.000000e+00  9.000000e+00  2.004000e+03  3.750227e+01  1.269976e+02   \n",
      "75%     2.000000e+00  1.400000e+01  2.015000e+03  3.758205e+01  1.270888e+02   \n",
      "max     2.000000e+00  6.800000e+01  2.024000e+03  3.818194e+01  1.276609e+02   \n",
      "\n",
      "                age       deposit  \n",
      "count  1.801228e+06  1.801228e+06  \n",
      "mean   1.706597e+01  3.816223e+04  \n",
      "std    1.112796e+01  2.610377e+04  \n",
      "min   -3.000000e+00  3.000000e+02  \n",
      "25%    7.000000e+00  2.100000e+04  \n",
      "50%    1.700000e+01  3.200000e+04  \n",
      "75%    2.600000e+01  4.780000e+04  \n",
      "max    6.200000e+01  1.100000e+06  \n",
      "test data 변수 요약 정보 확인 :                index        area_m2  contract_year_month   contract_day  \\\n",
      "count  150172.00000  150172.000000        150172.000000  150172.000000   \n",
      "mean    75085.50000      74.509956        202403.137576      14.816650   \n",
      "std     43351.06665      23.971424             1.645994       8.537693   \n",
      "min         0.00000      10.780000        202401.000000       1.000000   \n",
      "25%     37542.75000      59.760000        202402.000000       7.000000   \n",
      "50%     75085.50000      75.793700        202403.000000      15.000000   \n",
      "75%    112628.25000      84.958200        202405.000000      22.000000   \n",
      "max    150171.00000     273.860000        202406.000000      31.000000   \n",
      "\n",
      "       contract_type          floor     built_year       latitude  \\\n",
      "count  150172.000000  150172.000000  150172.000000  150172.000000   \n",
      "mean        0.426071      10.060557    2004.908292      37.474571   \n",
      "std         0.597423       6.982813      11.460352       0.166952   \n",
      "min         0.000000      -3.000000    1966.000000      36.957089   \n",
      "25%         0.000000       5.000000    1995.000000      37.372616   \n",
      "50%         0.000000       9.000000    2004.000000      37.500382   \n",
      "75%         1.000000      14.000000    2016.000000      37.588872   \n",
      "max         2.000000      60.000000    2024.000000      38.106033   \n",
      "\n",
      "           longitude            age  \n",
      "count  150172.000000  150172.000000  \n",
      "mean      126.967625      19.091708  \n",
      "std         0.172066      11.460352  \n",
      "min       126.478708       0.000000  \n",
      "25%       126.841057       8.000000  \n",
      "50%       126.998922      20.000000  \n",
      "75%       127.091862      29.000000  \n",
      "max       127.660896      58.000000  \n"
     ]
    }
   ],
   "source": [
    "print(\"train, test_data, sample_submission shape : \", train_data.shape, test_data.shape, sample_submission.shape)\n",
    "print(\"train data 상단 5개 정보 확인 : \", train_data.head())\n",
    "print(\"test data 상단 5개 정보 확인 : \", test_data.head())\n",
    "print(\"sample_submission 상단 5개 정보 확인 : \", sample_submission.head())\n",
    "print('train data 변수 요약 정보 확인 : ', train_data.describe())\n",
    "print(\"test data 변수 요약 정보 확인 : \", test_data.describe())\n",
    "\n"
   ]
  },
  {
   "cell_type": "code",
<<<<<<< HEAD
   "execution_count": 4,
=======
   "execution_count": 5,
>>>>>>> main
   "metadata": {
    "ExecuteTime": {
     "end_time": "2024-09-30T06:12:29.726598Z",
     "start_time": "2024-09-30T06:12:29.698427Z"
    }
   },
   "outputs": [
    {
     "name": "stdout",
     "output_type": "stream",
     "text": [
      "Index(['index', 'area_m2', 'contract_year_month', 'contract_day',\n",
      "       'contract_type', 'floor', 'built_year', 'latitude', 'longitude', 'age',\n",
      "       'deposit'],\n",
      "      dtype='object')\n"
     ]
    },
    {
     "data": {
      "text/html": [
       "<div>\n",
       "<style scoped>\n",
       "    .dataframe tbody tr th:only-of-type {\n",
       "        vertical-align: middle;\n",
       "    }\n",
       "\n",
       "    .dataframe tbody tr th {\n",
       "        vertical-align: top;\n",
       "    }\n",
       "\n",
       "    .dataframe thead th {\n",
       "        text-align: right;\n",
       "    }\n",
       "</style>\n",
       "<table border=\"1\" class=\"dataframe\">\n",
       "  <thead>\n",
       "    <tr style=\"text-align: right;\">\n",
       "      <th></th>\n",
       "      <th>index</th>\n",
       "      <th>area_m2</th>\n",
       "      <th>contract_year_month</th>\n",
       "      <th>contract_day</th>\n",
       "      <th>contract_type</th>\n",
       "      <th>floor</th>\n",
       "      <th>built_year</th>\n",
       "      <th>latitude</th>\n",
       "      <th>longitude</th>\n",
       "      <th>age</th>\n",
       "      <th>deposit</th>\n",
       "    </tr>\n",
       "  </thead>\n",
       "  <tbody>\n",
       "    <tr>\n",
       "      <th>0</th>\n",
       "      <td>0</td>\n",
       "      <td>84.9981</td>\n",
       "      <td>201906</td>\n",
       "      <td>25</td>\n",
       "      <td>2</td>\n",
       "      <td>9</td>\n",
       "      <td>2019</td>\n",
       "      <td>37.054314</td>\n",
       "      <td>127.045216</td>\n",
       "      <td>0</td>\n",
       "      <td>17000.0</td>\n",
       "    </tr>\n",
       "    <tr>\n",
       "      <th>1</th>\n",
       "      <td>1</td>\n",
       "      <td>84.9981</td>\n",
       "      <td>202003</td>\n",
       "      <td>26</td>\n",
       "      <td>2</td>\n",
       "      <td>20</td>\n",
       "      <td>2019</td>\n",
       "      <td>37.054314</td>\n",
       "      <td>127.045216</td>\n",
       "      <td>1</td>\n",
       "      <td>23000.0</td>\n",
       "    </tr>\n",
       "    <tr>\n",
       "      <th>2</th>\n",
       "      <td>2</td>\n",
       "      <td>84.9981</td>\n",
       "      <td>202003</td>\n",
       "      <td>28</td>\n",
       "      <td>2</td>\n",
       "      <td>8</td>\n",
       "      <td>2019</td>\n",
       "      <td>37.054314</td>\n",
       "      <td>127.045216</td>\n",
       "      <td>1</td>\n",
       "      <td>23000.0</td>\n",
       "    </tr>\n",
       "    <tr>\n",
       "      <th>3</th>\n",
       "      <td>3</td>\n",
       "      <td>59.3400</td>\n",
       "      <td>201907</td>\n",
       "      <td>15</td>\n",
       "      <td>2</td>\n",
       "      <td>1</td>\n",
       "      <td>1986</td>\n",
       "      <td>36.964647</td>\n",
       "      <td>127.055847</td>\n",
       "      <td>33</td>\n",
       "      <td>5000.0</td>\n",
       "    </tr>\n",
       "    <tr>\n",
       "      <th>4</th>\n",
       "      <td>4</td>\n",
       "      <td>59.8100</td>\n",
       "      <td>201904</td>\n",
       "      <td>12</td>\n",
       "      <td>2</td>\n",
       "      <td>6</td>\n",
       "      <td>1995</td>\n",
       "      <td>36.972390</td>\n",
       "      <td>127.084514</td>\n",
       "      <td>24</td>\n",
       "      <td>1800.0</td>\n",
       "    </tr>\n",
       "  </tbody>\n",
       "</table>\n",
       "</div>"
      ],
      "text/plain": [
       "   index  area_m2  contract_year_month  contract_day  contract_type  floor  \\\n",
       "0      0  84.9981               201906            25              2      9   \n",
       "1      1  84.9981               202003            26              2     20   \n",
       "2      2  84.9981               202003            28              2      8   \n",
       "3      3  59.3400               201907            15              2      1   \n",
       "4      4  59.8100               201904            12              2      6   \n",
       "\n",
       "   built_year   latitude   longitude  age  deposit  \n",
       "0        2019  37.054314  127.045216    0  17000.0  \n",
       "1        2019  37.054314  127.045216    1  23000.0  \n",
       "2        2019  37.054314  127.045216    1  23000.0  \n",
       "3        1986  36.964647  127.055847   33   5000.0  \n",
       "4        1995  36.972390  127.084514   24   1800.0  "
      ]
     },
<<<<<<< HEAD
     "execution_count": 4,
=======
     "execution_count": 5,
>>>>>>> main
     "metadata": {},
     "output_type": "execute_result"
    }
   ],
   "source": [
    "print(train_data.columns)\n",
    "train_data.head()"
   ]
  },
  {
   "cell_type": "code",
   "execution_count": 6,
   "metadata": {
    "ExecuteTime": {
     "end_time": "2024-09-30T06:12:30.154592Z",
     "start_time": "2024-09-30T06:12:29.925626Z"
    }
   },
   "outputs": [
    {
     "data": {
      "text/html": [
       "<div>\n",
       "<style scoped>\n",
       "    .dataframe tbody tr th:only-of-type {\n",
       "        vertical-align: middle;\n",
       "    }\n",
       "\n",
       "    .dataframe tbody tr th {\n",
       "        vertical-align: top;\n",
       "    }\n",
       "\n",
       "    .dataframe thead th {\n",
       "        text-align: right;\n",
       "    }\n",
       "</style>\n",
       "<table border=\"1\" class=\"dataframe\">\n",
       "  <thead>\n",
       "    <tr style=\"text-align: right;\">\n",
       "      <th></th>\n",
       "      <th></th>\n",
       "      <th></th>\n",
       "      <th>index</th>\n",
       "      <th>area_m2</th>\n",
       "      <th>contract_year_month</th>\n",
       "      <th>contract_day</th>\n",
       "      <th>contract_type</th>\n",
       "      <th>floor</th>\n",
       "      <th>age</th>\n",
       "      <th>deposit</th>\n",
       "    </tr>\n",
       "    <tr>\n",
       "      <th>latitude</th>\n",
       "      <th>longitude</th>\n",
       "      <th>built_year</th>\n",
       "      <th></th>\n",
       "      <th></th>\n",
       "      <th></th>\n",
       "      <th></th>\n",
       "      <th></th>\n",
       "      <th></th>\n",
       "      <th></th>\n",
       "      <th></th>\n",
       "    </tr>\n",
       "  </thead>\n",
       "  <tbody>\n",
       "    <tr>\n",
       "      <th>36.917910</th>\n",
       "      <th>126.908029</th>\n",
       "      <th>1996</th>\n",
       "      <td>775455</td>\n",
       "      <td>84.5900</td>\n",
       "      <td>202304</td>\n",
       "      <td>28</td>\n",
       "      <td>2</td>\n",
       "      <td>14</td>\n",
       "      <td>27</td>\n",
       "      <td>10000.0</td>\n",
       "    </tr>\n",
       "    <tr>\n",
       "      <th>36.957089</th>\n",
       "      <th>127.047449</th>\n",
       "      <th>1990</th>\n",
       "      <td>774308</td>\n",
       "      <td>46.9800</td>\n",
       "      <td>202311</td>\n",
       "      <td>31</td>\n",
       "      <td>2</td>\n",
       "      <td>5</td>\n",
       "      <td>33</td>\n",
       "      <td>8500.0</td>\n",
       "    </tr>\n",
       "    <tr>\n",
       "      <th>36.959894</th>\n",
       "      <th>127.045371</th>\n",
       "      <th>2020</th>\n",
       "      <td>162840</td>\n",
       "      <td>83.2576</td>\n",
       "      <td>202103</td>\n",
       "      <td>22</td>\n",
       "      <td>2</td>\n",
       "      <td>12</td>\n",
       "      <td>1</td>\n",
       "      <td>23000.0</td>\n",
       "    </tr>\n",
       "    <tr>\n",
       "      <th>36.960034</th>\n",
       "      <th>127.059939</th>\n",
       "      <th>2005</th>\n",
       "      <td>774337</td>\n",
       "      <td>84.5344</td>\n",
       "      <td>202309</td>\n",
       "      <td>31</td>\n",
       "      <td>2</td>\n",
       "      <td>13</td>\n",
       "      <td>18</td>\n",
       "      <td>19000.0</td>\n",
       "    </tr>\n",
       "    <tr>\n",
       "      <th>36.960936</th>\n",
       "      <th>127.054219</th>\n",
       "      <th>2010</th>\n",
       "      <td>774345</td>\n",
       "      <td>179.6433</td>\n",
       "      <td>202311</td>\n",
       "      <td>20</td>\n",
       "      <td>2</td>\n",
       "      <td>8</td>\n",
       "      <td>13</td>\n",
       "      <td>37000.0</td>\n",
       "    </tr>\n",
       "    <tr>\n",
       "      <th>...</th>\n",
       "      <th>...</th>\n",
       "      <th>...</th>\n",
       "      <td>...</td>\n",
       "      <td>...</td>\n",
       "      <td>...</td>\n",
       "      <td>...</td>\n",
       "      <td>...</td>\n",
       "      <td>...</td>\n",
       "      <td>...</td>\n",
       "      <td>...</td>\n",
       "    </tr>\n",
       "    <tr>\n",
       "      <th>38.096380</th>\n",
       "      <th>127.076702</th>\n",
       "      <th>2002</th>\n",
       "      <td>790509</td>\n",
       "      <td>60.7000</td>\n",
       "      <td>202305</td>\n",
       "      <td>30</td>\n",
       "      <td>2</td>\n",
       "      <td>6</td>\n",
       "      <td>21</td>\n",
       "      <td>6500.0</td>\n",
       "    </tr>\n",
       "    <tr>\n",
       "      <th>38.101890</th>\n",
       "      <th>127.079581</th>\n",
       "      <th>1996</th>\n",
       "      <td>790527</td>\n",
       "      <td>84.9500</td>\n",
       "      <td>202312</td>\n",
       "      <td>31</td>\n",
       "      <td>2</td>\n",
       "      <td>13</td>\n",
       "      <td>27</td>\n",
       "      <td>9500.0</td>\n",
       "    </tr>\n",
       "    <tr>\n",
       "      <th>38.104768</th>\n",
       "      <th>127.079949</th>\n",
       "      <th>2023</th>\n",
       "      <td>790615</td>\n",
       "      <td>84.9986</td>\n",
       "      <td>202312</td>\n",
       "      <td>31</td>\n",
       "      <td>2</td>\n",
       "      <td>23</td>\n",
       "      <td>0</td>\n",
       "      <td>23000.0</td>\n",
       "    </tr>\n",
       "    <tr>\n",
       "      <th>38.106033</th>\n",
       "      <th>127.077652</th>\n",
       "      <th>2014</th>\n",
       "      <td>790516</td>\n",
       "      <td>84.8960</td>\n",
       "      <td>202311</td>\n",
       "      <td>29</td>\n",
       "      <td>2</td>\n",
       "      <td>14</td>\n",
       "      <td>9</td>\n",
       "      <td>15000.0</td>\n",
       "    </tr>\n",
       "    <tr>\n",
       "      <th>38.181937</th>\n",
       "      <th>127.105145</th>\n",
       "      <th>1998</th>\n",
       "      <td>14694</td>\n",
       "      <td>83.2700</td>\n",
       "      <td>201910</td>\n",
       "      <td>16</td>\n",
       "      <td>2</td>\n",
       "      <td>1</td>\n",
       "      <td>21</td>\n",
       "      <td>2500.0</td>\n",
       "    </tr>\n",
       "  </tbody>\n",
       "</table>\n",
       "<p>18915 rows × 8 columns</p>\n",
       "</div>"
      ],
      "text/plain": [
       "                                  index   area_m2  contract_year_month  \\\n",
       "latitude  longitude  built_year                                          \n",
       "36.917910 126.908029 1996        775455   84.5900               202304   \n",
       "36.957089 127.047449 1990        774308   46.9800               202311   \n",
       "36.959894 127.045371 2020        162840   83.2576               202103   \n",
       "36.960034 127.059939 2005        774337   84.5344               202309   \n",
       "36.960936 127.054219 2010        774345  179.6433               202311   \n",
       "...                                 ...       ...                  ...   \n",
       "38.096380 127.076702 2002        790509   60.7000               202305   \n",
       "38.101890 127.079581 1996        790527   84.9500               202312   \n",
       "38.104768 127.079949 2023        790615   84.9986               202312   \n",
       "38.106033 127.077652 2014        790516   84.8960               202311   \n",
       "38.181937 127.105145 1998         14694   83.2700               201910   \n",
       "\n",
       "                                 contract_day  contract_type  floor  age  \\\n",
       "latitude  longitude  built_year                                            \n",
       "36.917910 126.908029 1996                  28              2     14   27   \n",
       "36.957089 127.047449 1990                  31              2      5   33   \n",
       "36.959894 127.045371 2020                  22              2     12    1   \n",
       "36.960034 127.059939 2005                  31              2     13   18   \n",
       "36.960936 127.054219 2010                  20              2      8   13   \n",
       "...                                       ...            ...    ...  ...   \n",
       "38.096380 127.076702 2002                  30              2      6   21   \n",
       "38.101890 127.079581 1996                  31              2     13   27   \n",
       "38.104768 127.079949 2023                  31              2     23    0   \n",
       "38.106033 127.077652 2014                  29              2     14    9   \n",
       "38.181937 127.105145 1998                  16              2      1   21   \n",
       "\n",
       "                                 deposit  \n",
       "latitude  longitude  built_year           \n",
       "36.917910 126.908029 1996        10000.0  \n",
       "36.957089 127.047449 1990         8500.0  \n",
       "36.959894 127.045371 2020        23000.0  \n",
       "36.960034 127.059939 2005        19000.0  \n",
       "36.960936 127.054219 2010        37000.0  \n",
       "...                                  ...  \n",
       "38.096380 127.076702 2002         6500.0  \n",
       "38.101890 127.079581 1996         9500.0  \n",
       "38.104768 127.079949 2023        23000.0  \n",
       "38.106033 127.077652 2014        15000.0  \n",
       "38.181937 127.105145 1998         2500.0  \n",
       "\n",
       "[18915 rows x 8 columns]"
      ]
     },
     "execution_count": 6,
     "metadata": {},
     "output_type": "execute_result"
    }
   ],
   "source": [
    "# train_data.shape #(1594362, 8)\n",
    "train_data.groupby(by=[\"latitude\", \"longitude\", \"built_year\"]).max()"
   ]
  },
  {
   "cell_type": "code",
   "execution_count": 7,
   "metadata": {
    "ExecuteTime": {
     "end_time": "2024-09-30T06:12:45.198063Z",
     "start_time": "2024-09-30T06:12:45.131428Z"
    }
   },
   "outputs": [
    {
     "data": {
      "text/html": [
       "<div>\n",
       "<style scoped>\n",
       "    .dataframe tbody tr th:only-of-type {\n",
       "        vertical-align: middle;\n",
       "    }\n",
       "\n",
       "    .dataframe tbody tr th {\n",
       "        vertical-align: top;\n",
       "    }\n",
       "\n",
       "    .dataframe thead th {\n",
       "        text-align: right;\n",
       "    }\n",
       "</style>\n",
       "<table border=\"1\" class=\"dataframe\">\n",
       "  <thead>\n",
       "    <tr style=\"text-align: right;\">\n",
       "      <th></th>\n",
       "      <th>index</th>\n",
       "      <th>area_m2</th>\n",
       "      <th>contract_year_month</th>\n",
       "      <th>contract_day</th>\n",
       "      <th>floor</th>\n",
       "      <th>built_year</th>\n",
       "      <th>latitude</th>\n",
       "      <th>longitude</th>\n",
       "      <th>age</th>\n",
       "      <th>deposit</th>\n",
       "    </tr>\n",
       "    <tr>\n",
       "      <th>contract_type</th>\n",
       "      <th></th>\n",
       "      <th></th>\n",
       "      <th></th>\n",
       "      <th></th>\n",
       "      <th></th>\n",
       "      <th></th>\n",
       "      <th></th>\n",
       "      <th></th>\n",
       "      <th></th>\n",
       "      <th></th>\n",
       "    </tr>\n",
       "  </thead>\n",
       "  <tbody>\n",
       "    <tr>\n",
       "      <th>0</th>\n",
       "      <td>559687</td>\n",
       "      <td>559687</td>\n",
       "      <td>559687</td>\n",
       "      <td>559687</td>\n",
       "      <td>559687</td>\n",
       "      <td>559687</td>\n",
       "      <td>559687</td>\n",
       "      <td>559687</td>\n",
       "      <td>559687</td>\n",
       "      <td>559687</td>\n",
       "    </tr>\n",
       "    <tr>\n",
       "      <th>1</th>\n",
       "      <td>314755</td>\n",
       "      <td>314755</td>\n",
       "      <td>314755</td>\n",
       "      <td>314755</td>\n",
       "      <td>314755</td>\n",
       "      <td>314755</td>\n",
       "      <td>314755</td>\n",
       "      <td>314755</td>\n",
       "      <td>314755</td>\n",
       "      <td>314755</td>\n",
       "    </tr>\n",
       "    <tr>\n",
       "      <th>2</th>\n",
       "      <td>926786</td>\n",
       "      <td>926786</td>\n",
       "      <td>926786</td>\n",
       "      <td>926786</td>\n",
       "      <td>926786</td>\n",
       "      <td>926786</td>\n",
       "      <td>926786</td>\n",
       "      <td>926786</td>\n",
       "      <td>926786</td>\n",
       "      <td>926786</td>\n",
       "    </tr>\n",
       "  </tbody>\n",
       "</table>\n",
       "</div>"
      ],
      "text/plain": [
       "                index  area_m2  contract_year_month  contract_day   floor  \\\n",
       "contract_type                                                               \n",
       "0              559687   559687               559687        559687  559687   \n",
       "1              314755   314755               314755        314755  314755   \n",
       "2              926786   926786               926786        926786  926786   \n",
       "\n",
       "               built_year  latitude  longitude     age  deposit  \n",
       "contract_type                                                    \n",
       "0                  559687    559687     559687  559687   559687  \n",
       "1                  314755    314755     314755  314755   314755  \n",
       "2                  926786    926786     926786  926786   926786  "
      ]
     },
     "execution_count": 7,
     "metadata": {},
     "output_type": "execute_result"
    }
   ],
   "source": [
    "# train_data.shape #(1594362, 8)\n",
    "train_data.groupby(by=[\"contract_type\"]).count()"
   ]
  },
  {
   "cell_type": "markdown",
   "metadata": {},
   "source": [
    "```python\n",
    "tarin_data.shape # == (1594362, 8)\n",
    "train_data.contract_year_month # min = 201904 / max = 202306\n",
    "area_m2 # min = 10.3215/ max 317.36\n",
    "deposit # min = 300 / 1,100,000\n",
    "```\n",
    "24년 지어진 건물의 최소 계약일자는 21년 9월 이며 최대 계약 일은 23년 12월이다.```python\n",
    "tarin_data.shape # == (1594362, 8)\n",
    "train_data.contract_year_month # min = 201904 / max = 202306\n",
    "area_m2 # min = 10.3215/ max 317.36\n",
    "deposit # min = 300 / 1,100,000\n",
    "```\n",
    "24년 지어진 건물의 최소 계약일자는 21년 9월 이며 최대 계약 일은 23년 12월이다."
   ]
  },
  {
   "cell_type": "markdown",
   "metadata": {},
   "source": [
    "# 대회에 필요한 데이터만 활용하기"
   ]
  },
  {
   "cell_type": "code",
<<<<<<< HEAD
   "execution_count": 4,
=======
   "execution_count": 35,
>>>>>>> main
   "metadata": {},
   "outputs": [],
   "source": [
    "import sys\n",
    "import os\n",
    "\n",
    "sys.path.append(os.path.dirname(os.path.dirname(os.path.abspath(\"\"))))\n",
<<<<<<< HEAD
    "from src.pre_process.feature_add import FeatureAddition\n",
    "from src.pre_process.feature_duplicate import FeatureDuplication"
=======
    "from src.pre_procecss.feature_add import FeatureAddition"
>>>>>>> main
   ]
  },
  {
   "cell_type": "code",
<<<<<<< HEAD
   "execution_count": 5,
=======
   "execution_count": 38,
>>>>>>> main
   "metadata": {},
   "outputs": [
    {
     "data": {
      "text/html": [
       "<div>\n",
       "<style scoped>\n",
       "    .dataframe tbody tr th:only-of-type {\n",
       "        vertical-align: middle;\n",
       "    }\n",
       "\n",
       "    .dataframe tbody tr th {\n",
       "        vertical-align: top;\n",
       "    }\n",
       "\n",
       "    .dataframe thead th {\n",
       "        text-align: right;\n",
       "    }\n",
       "</style>\n",
       "<table border=\"1\" class=\"dataframe\">\n",
       "  <thead>\n",
       "    <tr style=\"text-align: right;\">\n",
       "      <th></th>\n",
       "      <th>index</th>\n",
       "      <th>area_m2</th>\n",
       "      <th>contract_year_month</th>\n",
       "      <th>contract_day</th>\n",
       "      <th>contract_type</th>\n",
       "      <th>floor</th>\n",
       "      <th>built_year</th>\n",
       "      <th>latitude</th>\n",
       "      <th>longitude</th>\n",
       "      <th>age</th>\n",
       "      <th>deposit</th>\n",
<<<<<<< HEAD
       "      <th>_type</th>\n",
=======
>>>>>>> main
       "      <th>apt_idx</th>\n",
       "      <th>area</th>\n",
       "      <th>area_price</th>\n",
       "      <th>area_m2_price</th>\n",
<<<<<<< HEAD
=======
       "      <th>_type</th>\n",
>>>>>>> main
       "    </tr>\n",
       "  </thead>\n",
       "  <tbody>\n",
       "    <tr>\n",
       "      <th>0</th>\n",
       "      <td>0</td>\n",
       "      <td>84.9981</td>\n",
       "      <td>201906</td>\n",
       "      <td>25</td>\n",
       "      <td>2</td>\n",
       "      <td>9</td>\n",
       "      <td>2019</td>\n",
       "      <td>37.054314</td>\n",
       "      <td>127.045216</td>\n",
       "      <td>0</td>\n",
       "      <td>17000.0</td>\n",
<<<<<<< HEAD
       "      <td>train</td>\n",
=======
>>>>>>> main
       "      <td>0</td>\n",
       "      <td>25.8</td>\n",
       "      <td>658.914729</td>\n",
       "      <td>200.004471</td>\n",
<<<<<<< HEAD
=======
       "      <td>train</td>\n",
>>>>>>> main
       "    </tr>\n",
       "    <tr>\n",
       "      <th>1</th>\n",
       "      <td>1</td>\n",
       "      <td>84.9981</td>\n",
       "      <td>202003</td>\n",
       "      <td>26</td>\n",
       "      <td>2</td>\n",
       "      <td>20</td>\n",
       "      <td>2019</td>\n",
       "      <td>37.054314</td>\n",
       "      <td>127.045216</td>\n",
       "      <td>1</td>\n",
       "      <td>23000.0</td>\n",
<<<<<<< HEAD
       "      <td>train</td>\n",
=======
>>>>>>> main
       "      <td>0</td>\n",
       "      <td>25.8</td>\n",
       "      <td>891.472868</td>\n",
       "      <td>270.594284</td>\n",
<<<<<<< HEAD
=======
       "      <td>train</td>\n",
>>>>>>> main
       "    </tr>\n",
       "    <tr>\n",
       "      <th>2</th>\n",
       "      <td>2</td>\n",
       "      <td>84.9981</td>\n",
       "      <td>202003</td>\n",
       "      <td>28</td>\n",
       "      <td>2</td>\n",
       "      <td>8</td>\n",
       "      <td>2019</td>\n",
       "      <td>37.054314</td>\n",
       "      <td>127.045216</td>\n",
       "      <td>1</td>\n",
       "      <td>23000.0</td>\n",
<<<<<<< HEAD
       "      <td>train</td>\n",
=======
>>>>>>> main
       "      <td>0</td>\n",
       "      <td>25.8</td>\n",
       "      <td>891.472868</td>\n",
       "      <td>270.594284</td>\n",
<<<<<<< HEAD
=======
       "      <td>train</td>\n",
>>>>>>> main
       "    </tr>\n",
       "    <tr>\n",
       "      <th>3</th>\n",
       "      <td>3</td>\n",
       "      <td>59.3400</td>\n",
       "      <td>201907</td>\n",
       "      <td>15</td>\n",
       "      <td>2</td>\n",
       "      <td>1</td>\n",
       "      <td>1986</td>\n",
       "      <td>36.964647</td>\n",
       "      <td>127.055847</td>\n",
       "      <td>33</td>\n",
       "      <td>5000.0</td>\n",
<<<<<<< HEAD
       "      <td>train</td>\n",
=======
>>>>>>> main
       "      <td>1</td>\n",
       "      <td>18.0</td>\n",
       "      <td>277.777778</td>\n",
       "      <td>84.260195</td>\n",
<<<<<<< HEAD
=======
       "      <td>train</td>\n",
>>>>>>> main
       "    </tr>\n",
       "    <tr>\n",
       "      <th>4</th>\n",
       "      <td>4</td>\n",
       "      <td>59.8100</td>\n",
       "      <td>201904</td>\n",
       "      <td>12</td>\n",
       "      <td>2</td>\n",
       "      <td>6</td>\n",
       "      <td>1995</td>\n",
       "      <td>36.972390</td>\n",
       "      <td>127.084514</td>\n",
       "      <td>24</td>\n",
       "      <td>1800.0</td>\n",
<<<<<<< HEAD
       "      <td>train</td>\n",
=======
>>>>>>> main
       "      <td>2</td>\n",
       "      <td>18.1</td>\n",
       "      <td>99.447514</td>\n",
       "      <td>30.095302</td>\n",
<<<<<<< HEAD
=======
       "      <td>train</td>\n",
>>>>>>> main
       "    </tr>\n",
       "    <tr>\n",
       "      <th>...</th>\n",
       "      <td>...</td>\n",
       "      <td>...</td>\n",
       "      <td>...</td>\n",
       "      <td>...</td>\n",
       "      <td>...</td>\n",
       "      <td>...</td>\n",
       "      <td>...</td>\n",
       "      <td>...</td>\n",
       "      <td>...</td>\n",
       "      <td>...</td>\n",
       "      <td>...</td>\n",
       "      <td>...</td>\n",
       "      <td>...</td>\n",
       "      <td>...</td>\n",
       "      <td>...</td>\n",
       "      <td>...</td>\n",
       "    </tr>\n",
       "    <tr>\n",
       "      <th>150167</th>\n",
       "      <td>150167</td>\n",
       "      <td>115.5101</td>\n",
       "      <td>202402</td>\n",
       "      <td>27</td>\n",
       "      <td>0</td>\n",
       "      <td>17</td>\n",
       "      <td>2010</td>\n",
       "      <td>37.528394</td>\n",
       "      <td>126.659398</td>\n",
       "      <td>14</td>\n",
       "      <td>NaN</td>\n",
<<<<<<< HEAD
       "      <td>test</td>\n",
=======
>>>>>>> main
       "      <td>17869</td>\n",
       "      <td>35.0</td>\n",
       "      <td>NaN</td>\n",
       "      <td>NaN</td>\n",
<<<<<<< HEAD
=======
       "      <td>test</td>\n",
>>>>>>> main
       "    </tr>\n",
       "    <tr>\n",
       "      <th>150168</th>\n",
       "      <td>150168</td>\n",
       "      <td>142.8738</td>\n",
       "      <td>202403</td>\n",
       "      <td>2</td>\n",
       "      <td>0</td>\n",
       "      <td>4</td>\n",
       "      <td>2010</td>\n",
       "      <td>37.528394</td>\n",
       "      <td>126.659398</td>\n",
       "      <td>14</td>\n",
       "      <td>NaN</td>\n",
<<<<<<< HEAD
       "      <td>test</td>\n",
=======
>>>>>>> main
       "      <td>17869</td>\n",
       "      <td>43.3</td>\n",
       "      <td>NaN</td>\n",
       "      <td>NaN</td>\n",
<<<<<<< HEAD
=======
       "      <td>test</td>\n",
>>>>>>> main
       "    </tr>\n",
       "    <tr>\n",
       "      <th>150169</th>\n",
       "      <td>150169</td>\n",
       "      <td>142.8738</td>\n",
       "      <td>202403</td>\n",
       "      <td>16</td>\n",
       "      <td>1</td>\n",
       "      <td>13</td>\n",
       "      <td>2010</td>\n",
       "      <td>37.528394</td>\n",
       "      <td>126.659398</td>\n",
       "      <td>14</td>\n",
       "      <td>NaN</td>\n",
<<<<<<< HEAD
       "      <td>test</td>\n",
=======
>>>>>>> main
       "      <td>17869</td>\n",
       "      <td>43.3</td>\n",
       "      <td>NaN</td>\n",
       "      <td>NaN</td>\n",
<<<<<<< HEAD
=======
       "      <td>test</td>\n",
>>>>>>> main
       "    </tr>\n",
       "    <tr>\n",
       "      <th>150170</th>\n",
       "      <td>150170</td>\n",
       "      <td>114.9285</td>\n",
       "      <td>202403</td>\n",
       "      <td>22</td>\n",
       "      <td>1</td>\n",
       "      <td>2</td>\n",
       "      <td>2010</td>\n",
       "      <td>37.528394</td>\n",
       "      <td>126.659398</td>\n",
       "      <td>14</td>\n",
       "      <td>NaN</td>\n",
<<<<<<< HEAD
       "      <td>test</td>\n",
=======
>>>>>>> main
       "      <td>17869</td>\n",
       "      <td>34.8</td>\n",
       "      <td>NaN</td>\n",
       "      <td>NaN</td>\n",
<<<<<<< HEAD
=======
       "      <td>test</td>\n",
>>>>>>> main
       "    </tr>\n",
       "    <tr>\n",
       "      <th>150171</th>\n",
       "      <td>150171</td>\n",
       "      <td>115.5101</td>\n",
       "      <td>202403</td>\n",
       "      <td>22</td>\n",
       "      <td>1</td>\n",
       "      <td>7</td>\n",
       "      <td>2010</td>\n",
       "      <td>37.528394</td>\n",
       "      <td>126.659398</td>\n",
       "      <td>14</td>\n",
       "      <td>NaN</td>\n",
<<<<<<< HEAD
       "      <td>test</td>\n",
=======
>>>>>>> main
       "      <td>17869</td>\n",
       "      <td>35.0</td>\n",
       "      <td>NaN</td>\n",
       "      <td>NaN</td>\n",
<<<<<<< HEAD
=======
       "      <td>test</td>\n",
>>>>>>> main
       "    </tr>\n",
       "  </tbody>\n",
       "</table>\n",
       "<p>1951400 rows × 16 columns</p>\n",
       "</div>"
      ],
      "text/plain": [
       "         index   area_m2  contract_year_month  contract_day  contract_type  \\\n",
       "0            0   84.9981               201906            25              2   \n",
       "1            1   84.9981               202003            26              2   \n",
       "2            2   84.9981               202003            28              2   \n",
       "3            3   59.3400               201907            15              2   \n",
       "4            4   59.8100               201904            12              2   \n",
       "...        ...       ...                  ...           ...            ...   \n",
       "150167  150167  115.5101               202402            27              0   \n",
       "150168  150168  142.8738               202403             2              0   \n",
       "150169  150169  142.8738               202403            16              1   \n",
       "150170  150170  114.9285               202403            22              1   \n",
       "150171  150171  115.5101               202403            22              1   \n",
       "\n",
<<<<<<< HEAD
       "        floor  built_year   latitude   longitude  age  deposit  _type  \\\n",
       "0           9        2019  37.054314  127.045216    0  17000.0  train   \n",
       "1          20        2019  37.054314  127.045216    1  23000.0  train   \n",
       "2           8        2019  37.054314  127.045216    1  23000.0  train   \n",
       "3           1        1986  36.964647  127.055847   33   5000.0  train   \n",
       "4           6        1995  36.972390  127.084514   24   1800.0  train   \n",
       "...       ...         ...        ...         ...  ...      ...    ...   \n",
       "150167     17        2010  37.528394  126.659398   14      NaN   test   \n",
       "150168      4        2010  37.528394  126.659398   14      NaN   test   \n",
       "150169     13        2010  37.528394  126.659398   14      NaN   test   \n",
       "150170      2        2010  37.528394  126.659398   14      NaN   test   \n",
       "150171      7        2010  37.528394  126.659398   14      NaN   test   \n",
       "\n",
       "        apt_idx  area  area_price  area_m2_price  \n",
       "0             0  25.8  658.914729     200.004471  \n",
       "1             0  25.8  891.472868     270.594284  \n",
       "2             0  25.8  891.472868     270.594284  \n",
       "3             1  18.0  277.777778      84.260195  \n",
       "4             2  18.1   99.447514      30.095302  \n",
       "...         ...   ...         ...            ...  \n",
       "150167    17869  35.0         NaN            NaN  \n",
       "150168    17869  43.3         NaN            NaN  \n",
       "150169    17869  43.3         NaN            NaN  \n",
       "150170    17869  34.8         NaN            NaN  \n",
       "150171    17869  35.0         NaN            NaN  \n",
=======
       "        floor  built_year   latitude   longitude  age  deposit  apt_idx  area  \\\n",
       "0           9        2019  37.054314  127.045216    0  17000.0        0  25.8   \n",
       "1          20        2019  37.054314  127.045216    1  23000.0        0  25.8   \n",
       "2           8        2019  37.054314  127.045216    1  23000.0        0  25.8   \n",
       "3           1        1986  36.964647  127.055847   33   5000.0        1  18.0   \n",
       "4           6        1995  36.972390  127.084514   24   1800.0        2  18.1   \n",
       "...       ...         ...        ...         ...  ...      ...      ...   ...   \n",
       "150167     17        2010  37.528394  126.659398   14      NaN    17869  35.0   \n",
       "150168      4        2010  37.528394  126.659398   14      NaN    17869  43.3   \n",
       "150169     13        2010  37.528394  126.659398   14      NaN    17869  43.3   \n",
       "150170      2        2010  37.528394  126.659398   14      NaN    17869  34.8   \n",
       "150171      7        2010  37.528394  126.659398   14      NaN    17869  35.0   \n",
       "\n",
       "        area_price  area_m2_price  _type  \n",
       "0       658.914729     200.004471  train  \n",
       "1       891.472868     270.594284  train  \n",
       "2       891.472868     270.594284  train  \n",
       "3       277.777778      84.260195  train  \n",
       "4        99.447514      30.095302  train  \n",
       "...            ...            ...    ...  \n",
       "150167         NaN            NaN   test  \n",
       "150168         NaN            NaN   test  \n",
       "150169         NaN            NaN   test  \n",
       "150170         NaN            NaN   test  \n",
       "150171         NaN            NaN   test  \n",
>>>>>>> main
       "\n",
       "[1951400 rows x 16 columns]"
      ]
     },
<<<<<<< HEAD
     "execution_count": 5,
=======
     "execution_count": 38,
>>>>>>> main
     "metadata": {},
     "output_type": "execute_result"
    }
   ],
   "source": [
    "train_data[\"_type\"] = \"train\"\n",
    "test_data[\"_type\"] = \"test\"\n",
    "\n",
    "concat_df = pd.concat([train_data,test_data],axis=0)\n",
    "df= FeatureAddition(concat_df).get_data()\n",
    "df"
   ]
  },
  {
   "cell_type": "code",
<<<<<<< HEAD
   "execution_count": 6,
   "metadata": {},
   "outputs": [],
   "source": [
    "from src.pre_process.deposit.grid_deposit import GridFeature"
=======
   "execution_count": 46,
   "metadata": {},
   "outputs": [],
   "source": [
    "# 1. 그룹별로 같은 면적을 가진 아파트 찾기\n",
    "def fill_deposit_na(df):\n",
    "    # 그룹별로 작업하기 위해 groupby 사용\n",
    "    for group, group_df in df.groupby('apt_idx'):\n",
    "        # 그룹 내에서 NaN이 있는 row에 대해 처리\n",
    "        for i, row in group_df[group_df['deposit'].isna()].iterrows():\n",
    "            # 2. 같은 면적을 가진 아파트의 deposit 값을 찾음\n",
    "            same_area_rows = group_df[group_df['area_m2'] == row['area_m2']]\n",
    "\n",
    "            if len(same_area_rows[same_area_rows['deposit'].notna()]) > 0:\n",
    "                # 3. 같은 면적을 가진 아파트의 deposit 값에서 5% 인상된 값으로 채움\n",
    "                df.at[i, 'deposit'] = same_area_rows['deposit'].dropna().iloc[0] * 1.05\n",
    "            else:\n",
    "                # 4. 같은 면적이 없으면 해당 그룹의 deposit 평균값으로 채움\n",
    "                df.at[i, 'deposit'] = group_df['deposit'].mean()\n",
    "\n",
    "    return df"
>>>>>>> main
   ]
  },
  {
   "cell_type": "code",
<<<<<<< HEAD
   "execution_count": 7,
   "metadata": {},
   "outputs": [],
   "source": [
    "preprocessor = GridFeature(df)\n",
    "pre_data = preprocessor.get_data()"
   ]
  },
  {
   "cell_type": "code",
   "execution_count": 8,
   "metadata": {},
   "outputs": [
    {
     "data": {
      "text/plain": [
       "Index(['index', 'area_m2', 'contract_year_month', 'contract_day',\n",
       "       'contract_type', 'floor', 'built_year', 'latitude', 'longitude', 'age',\n",
       "       'deposit', '_type', 'apt_idx', 'area', 'area_price', 'area_m2_price',\n",
       "       'grid_id'],\n",
       "      dtype='object')"
      ]
     },
     "execution_count": 8,
     "metadata": {},
     "output_type": "execute_result"
    }
   ],
   "source": [
    "pre_data.columns"
   ]
  },
  {
   "cell_type": "code",
   "execution_count": 9,
   "metadata": {},
   "outputs": [],
   "source": [
    "from src.pre_process.subway.subway_distance_feature_add import SubwayDistanceFeatureAddition"
   ]
  },
  {
   "cell_type": "code",
   "execution_count": 10,
   "metadata": {},
   "outputs": [],
   "source": [
    "subway_info = pd.read_csv(os.path.join(BASE_PATH, 'subwayinfo.csv'))"
   ]
  },
  {
   "cell_type": "code",
   "execution_count": 11,
   "metadata": {},
   "outputs": [],
   "source": [
    "subway_add = SubwayDistanceFeatureAddition(pre_data,subway_info)\n",
    "subway_add.add_subway_features()\n",
    "sub_data = subway_add.get_data()"
   ]
  },
  {
   "cell_type": "code",
   "execution_count": 12,
   "metadata": {},
   "outputs": [
    {
     "data": {
      "text/plain": [
       "Index(['index', 'area_m2', 'contract_year_month', 'contract_day',\n",
       "       'contract_type', 'floor', 'built_year', 'latitude', 'longitude', 'age',\n",
       "       'deposit', '_type', 'apt_idx', 'area', 'area_price', 'area_m2_price',\n",
       "       'grid_id', 'nearest_subway_distance_x', 'nearest_subway_idx_x',\n",
       "       'num_subway_within_1km_x', 'category_interchange_within_1km_x',\n",
       "       'num_subway_within_500m_x', 'category_interchange_within_500m_x',\n",
       "       'nearest_subway_distance_y', 'nearest_subway_idx_y',\n",
       "       'num_subway_within_1km_y', 'category_interchange_within_1km_y',\n",
       "       'num_subway_within_500m_y', 'category_interchange_within_500m_y'],\n",
       "      dtype='object')"
      ]
     },
     "execution_count": 12,
     "metadata": {},
     "output_type": "execute_result"
    }
   ],
   "source": [
    "sub_data.columns"
   ]
  },
  {
   "cell_type": "code",
   "execution_count": 13,
   "metadata": {},
   "outputs": [],
   "source": [
    "from src.pre_process.school.school_info_feature_add import SchoolInfoFeatureAdd"
   ]
  },
  {
   "cell_type": "code",
   "execution_count": 14,
   "metadata": {},
   "outputs": [],
   "source": [
    "school_info = pd.read_csv(os.path.join(BASE_PATH, 'schoolinfo.csv'))"
   ]
  },
  {
   "cell_type": "code",
   "execution_count": 15,
   "metadata": {},
   "outputs": [],
   "source": [
    "school_add = SchoolInfoFeatureAdd(sub_data,school_info)\n",
    "school_add.add_school_feature()\n",
    "school_data = school_add.get_data()"
   ]
  },
  {
   "cell_type": "code",
   "execution_count": 16,
   "metadata": {},
   "outputs": [
    {
     "data": {
      "text/plain": [
       "Index(['index', 'area_m2', 'contract_year_month', 'contract_day',\n",
       "       'contract_type', 'floor', 'built_year', 'latitude', 'longitude', 'age',\n",
       "       'deposit', '_type', 'apt_idx', 'area', 'area_price', 'area_m2_price',\n",
       "       'grid_id', 'nearest_subway_distance_x', 'nearest_subway_idx_x',\n",
       "       'num_subway_within_1km_x', 'category_interchange_within_1km_x',\n",
       "       'num_subway_within_500m_x', 'category_interchange_within_500m_x',\n",
       "       'nearest_subway_distance_y', 'nearest_subway_idx_y',\n",
       "       'num_subway_within_1km_y', 'category_interchange_within_1km_y',\n",
       "       'num_subway_within_500m_y', 'category_interchange_within_500m_y',\n",
       "       'nearest_elementary_school_distance_x',\n",
       "       'nearest_elementary_school_within_1km_x',\n",
       "       'has_elementary_school_within_1km_x',\n",
       "       'nearest_middle_school_distance_x',\n",
       "       'nearest_middle_school_within_1km_x', 'has_middle_school_within_1km_x',\n",
       "       'nearest_high_school_distance_x', 'nearest_high_school_within_1km_x',\n",
       "       'has_high_school_within_1km_x', 'nearest_elementary_school_distance_y',\n",
       "       'nearest_elementary_school_within_1km_y',\n",
       "       'has_elementary_school_within_1km_y',\n",
       "       'nearest_middle_school_distance_y',\n",
       "       'nearest_middle_school_within_1km_y', 'has_middle_school_within_1km_y',\n",
       "       'nearest_high_school_distance_y', 'nearest_high_school_within_1km_y',\n",
       "       'has_high_school_within_1km_y'],\n",
       "      dtype='object')"
      ]
     },
     "execution_count": 16,
     "metadata": {},
     "output_type": "execute_result"
    }
   ],
   "source": [
    "school_data.columns"
   ]
  },
  {
   "cell_type": "code",
   "execution_count": 17,
   "metadata": {},
   "outputs": [],
   "source": [
    "from src.pre_process.park.park_info_feature_add import ParkInfoFeatureAdd"
   ]
  },
  {
   "cell_type": "code",
   "execution_count": 18,
   "metadata": {},
   "outputs": [],
   "source": [
    "park_info = pd.read_csv(os.path.join(BASE_PATH, 'parkinfo.csv'))"
   ]
  },
  {
   "cell_type": "code",
   "execution_count": 19,
   "metadata": {},
   "outputs": [],
   "source": [
    "park_add = ParkInfoFeatureAdd(school_data,park_info)\n",
    "park_add.add_park_feature()\n",
    "park_data = park_add.get_data()"
   ]
  },
  {
   "cell_type": "code",
   "execution_count": 20,
   "metadata": {},
   "outputs": [
    {
     "data": {
      "text/plain": [
       "Index(['index', 'area_m2', 'contract_year_month', 'contract_day',\n",
       "       'contract_type', 'floor', 'built_year', 'latitude', 'longitude', 'age',\n",
       "       'deposit', '_type', 'apt_idx', 'area', 'area_price', 'area_m2_price',\n",
       "       'grid_id', 'nearest_subway_distance_x', 'nearest_subway_idx_x',\n",
       "       'num_subway_within_1km_x', 'category_interchange_within_1km_x',\n",
       "       'num_subway_within_500m_x', 'category_interchange_within_500m_x',\n",
       "       'nearest_subway_distance_y', 'nearest_subway_idx_y',\n",
       "       'num_subway_within_1km_y', 'category_interchange_within_1km_y',\n",
       "       'num_subway_within_500m_y', 'category_interchange_within_500m_y',\n",
       "       'nearest_elementary_school_distance_x',\n",
       "       'nearest_elementary_school_within_1km_x',\n",
       "       'has_elementary_school_within_1km_x',\n",
       "       'nearest_middle_school_distance_x',\n",
       "       'nearest_middle_school_within_1km_x', 'has_middle_school_within_1km_x',\n",
       "       'nearest_high_school_distance_x', 'nearest_high_school_within_1km_x',\n",
       "       'has_high_school_within_1km_x', 'nearest_elementary_school_distance_y',\n",
       "       'nearest_elementary_school_within_1km_y',\n",
       "       'has_elementary_school_within_1km_y',\n",
       "       'nearest_middle_school_distance_y',\n",
       "       'nearest_middle_school_within_1km_y', 'has_middle_school_within_1km_y',\n",
       "       'nearest_high_school_distance_y', 'nearest_high_school_within_1km_y',\n",
       "       'has_high_school_within_1km_y', 'nearest_park_distance_x',\n",
       "       'nearest_park_within_500.0m_x', 'has_park_within_500.0m_x',\n",
       "       'nearest_park_distance_y', 'nearest_park_within_500.0m_y',\n",
       "       'has_park_within_500.0m_y'],\n",
       "      dtype='object')"
      ]
     },
     "execution_count": 20,
     "metadata": {},
     "output_type": "execute_result"
    }
   ],
   "source": [
    "park_data.columns"
   ]
  },
  {
   "cell_type": "code",
   "execution_count": 21,
   "metadata": {},
   "outputs": [],
   "source": [
    "from src.pre_procecss.interest.diff_interestrate import DiffInterestRateAdder"
   ]
  },
  {
   "cell_type": "code",
   "execution_count": 22,
   "metadata": {},
   "outputs": [],
   "source": [
    "interst = pd.read_csv(os.path.join(BASE_PATH, 'interestRate.csv'))"
   ]
  },
  {
   "cell_type": "code",
   "execution_count": 23,
   "metadata": {},
   "outputs": [],
   "source": [
    "interest_add = DiffInterestRateAdder(park_data, interst)\n",
    "interest_add._find_datetime_column()\n",
    "interest_data = interest_add.get_data()"
   ]
  },
  {
   "cell_type": "code",
   "execution_count": 24,
   "metadata": {},
   "outputs": [],
   "source": [
    "park_data['interest_rate'] = interest_data['interest_rate']\n",
    "park_data['diff_interest_rate'] = interest_data['diff_interest_rate']\n",
    "park_data['contract_year_month'] = school_data['contract_year_month']"
   ]
  },
  {
   "cell_type": "code",
   "execution_count": 25,
   "metadata": {},
   "outputs": [
    {
     "data": {
      "text/plain": [
       "Index(['index', 'area_m2', 'contract_year_month', 'contract_day',\n",
       "       'contract_type', 'floor', 'built_year', 'latitude', 'longitude', 'age',\n",
       "       'deposit', '_type', 'apt_idx', 'area', 'area_price', 'area_m2_price',\n",
       "       'grid_id', 'nearest_subway_distance_x', 'nearest_subway_idx_x',\n",
       "       'num_subway_within_1km_x', 'category_interchange_within_1km_x',\n",
       "       'num_subway_within_500m_x', 'category_interchange_within_500m_x',\n",
       "       'nearest_subway_distance_y', 'nearest_subway_idx_y',\n",
       "       'num_subway_within_1km_y', 'category_interchange_within_1km_y',\n",
       "       'num_subway_within_500m_y', 'category_interchange_within_500m_y',\n",
       "       'nearest_elementary_school_distance_x',\n",
       "       'nearest_elementary_school_within_1km_x',\n",
       "       'has_elementary_school_within_1km_x',\n",
       "       'nearest_middle_school_distance_x',\n",
       "       'nearest_middle_school_within_1km_x', 'has_middle_school_within_1km_x',\n",
       "       'nearest_high_school_distance_x', 'nearest_high_school_within_1km_x',\n",
       "       'has_high_school_within_1km_x', 'nearest_elementary_school_distance_y',\n",
       "       'nearest_elementary_school_within_1km_y',\n",
       "       'has_elementary_school_within_1km_y',\n",
       "       'nearest_middle_school_distance_y',\n",
       "       'nearest_middle_school_within_1km_y', 'has_middle_school_within_1km_y',\n",
       "       'nearest_high_school_distance_y', 'nearest_high_school_within_1km_y',\n",
       "       'has_high_school_within_1km_y', 'nearest_park_distance_x',\n",
       "       'nearest_park_within_500.0m_x', 'has_park_within_500.0m_x',\n",
       "       'nearest_park_distance_y', 'nearest_park_within_500.0m_y',\n",
       "       'has_park_within_500.0m_y', 'interest_rate', 'diff_interest_rate'],\n",
       "      dtype='object')"
      ]
     },
     "execution_count": 25,
     "metadata": {},
     "output_type": "execute_result"
    }
   ],
   "source": [
    "park_data.columns"
   ]
  },
  {
   "cell_type": "code",
   "execution_count": 26,
   "metadata": {},
   "outputs": [],
   "source": [
    "park_data.to_csv('v3_baek.csv')"
   ]
  },
  {
   "cell_type": "code",
   "execution_count": 27,
   "metadata": {},
   "outputs": [
    {
     "data": {
      "text/html": [
       "<div>\n",
       "<style scoped>\n",
       "    .dataframe tbody tr th:only-of-type {\n",
       "        vertical-align: middle;\n",
       "    }\n",
       "\n",
       "    .dataframe tbody tr th {\n",
       "        vertical-align: top;\n",
       "    }\n",
       "\n",
       "    .dataframe thead th {\n",
       "        text-align: right;\n",
       "    }\n",
       "</style>\n",
       "<table border=\"1\" class=\"dataframe\">\n",
       "  <thead>\n",
       "    <tr style=\"text-align: right;\">\n",
       "      <th></th>\n",
       "      <th>apt_idx</th>\n",
       "      <th>deposit</th>\n",
       "    </tr>\n",
       "  </thead>\n",
       "  <tbody>\n",
       "    <tr>\n",
       "      <th>apt_idx</th>\n",
       "      <td>1.000000</td>\n",
       "      <td>0.220488</td>\n",
       "    </tr>\n",
       "    <tr>\n",
       "      <th>deposit</th>\n",
       "      <td>0.220488</td>\n",
       "      <td>1.000000</td>\n",
       "    </tr>\n",
       "  </tbody>\n",
       "</table>\n",
       "</div>"
      ],
      "text/plain": [
       "          apt_idx   deposit\n",
       "apt_idx  1.000000  0.220488\n",
       "deposit  0.220488  1.000000"
      ]
     },
     "execution_count": 27,
     "metadata": {},
     "output_type": "execute_result"
    }
   ],
   "source": [
    "park_data[['apt_idx','deposit']].corr()"
   ]
  },
  {
   "cell_type": "code",
   "execution_count": 8,
=======
   "execution_count": 47,
>>>>>>> main
   "metadata": {},
   "outputs": [
    {
     "data": {
      "text/html": [
       "<div>\n",
       "<style scoped>\n",
       "    .dataframe tbody tr th:only-of-type {\n",
       "        vertical-align: middle;\n",
       "    }\n",
       "\n",
       "    .dataframe tbody tr th {\n",
       "        vertical-align: top;\n",
       "    }\n",
       "\n",
       "    .dataframe thead th {\n",
       "        text-align: right;\n",
       "    }\n",
       "</style>\n",
       "<table border=\"1\" class=\"dataframe\">\n",
       "  <thead>\n",
       "    <tr style=\"text-align: right;\">\n",
       "      <th></th>\n",
       "      <th>index</th>\n",
       "      <th>area_m2</th>\n",
       "      <th>contract_year_month</th>\n",
       "      <th>contract_day</th>\n",
       "      <th>contract_type</th>\n",
       "      <th>floor</th>\n",
       "      <th>built_year</th>\n",
       "      <th>latitude</th>\n",
       "      <th>longitude</th>\n",
       "      <th>age</th>\n",
       "      <th>deposit</th>\n",
<<<<<<< HEAD
       "      <th>contract_ymd</th>\n",
       "      <th>recent_deposit</th>\n",
=======
>>>>>>> main
       "      <th>apt_idx</th>\n",
       "      <th>area</th>\n",
       "      <th>area_price</th>\n",
       "      <th>area_m2_price</th>\n",
<<<<<<< HEAD
=======
       "      <th>_type</th>\n",
>>>>>>> main
       "    </tr>\n",
       "  </thead>\n",
       "  <tbody>\n",
       "    <tr>\n",
       "      <th>0</th>\n",
       "      <td>0</td>\n",
<<<<<<< HEAD
       "      <td>72.3200</td>\n",
       "      <td>201904</td>\n",
       "      <td>1</td>\n",
       "      <td>2</td>\n",
       "      <td>16</td>\n",
       "      <td>2016</td>\n",
       "      <td>36.977063</td>\n",
       "      <td>126.928605</td>\n",
       "      <td>3</td>\n",
       "      <td>17000.0</td>\n",
       "      <td>2019-04-01</td>\n",
       "      <td>-999.0</td>\n",
       "      <td>15</td>\n",
       "      <td>21.9</td>\n",
       "      <td>776.255708</td>\n",
       "      <td>235.066372</td>\n",
=======
       "      <td>84.9981</td>\n",
       "      <td>201906</td>\n",
       "      <td>25</td>\n",
       "      <td>2</td>\n",
       "      <td>9</td>\n",
       "      <td>2019</td>\n",
       "      <td>37.054314</td>\n",
       "      <td>127.045216</td>\n",
       "      <td>0</td>\n",
       "      <td>21525.0</td>\n",
       "      <td>0</td>\n",
       "      <td>25.8</td>\n",
       "      <td>658.914729</td>\n",
       "      <td>200.004471</td>\n",
       "      <td>train</td>\n",
>>>>>>> main
       "    </tr>\n",
       "    <tr>\n",
       "      <th>1</th>\n",
       "      <td>1</td>\n",
<<<<<<< HEAD
       "      <td>22.2700</td>\n",
       "      <td>201904</td>\n",
       "      <td>1</td>\n",
       "      <td>2</td>\n",
       "      <td>11</td>\n",
       "      <td>2013</td>\n",
       "      <td>36.989441</td>\n",
       "      <td>126.842601</td>\n",
       "      <td>6</td>\n",
       "      <td>4000.0</td>\n",
       "      <td>2019-04-01</td>\n",
       "      <td>-999.0</td>\n",
       "      <td>36</td>\n",
       "      <td>6.7</td>\n",
       "      <td>597.014925</td>\n",
       "      <td>179.613830</td>\n",
=======
       "      <td>84.9981</td>\n",
       "      <td>202003</td>\n",
       "      <td>26</td>\n",
       "      <td>2</td>\n",
       "      <td>20</td>\n",
       "      <td>2019</td>\n",
       "      <td>37.054314</td>\n",
       "      <td>127.045216</td>\n",
       "      <td>1</td>\n",
       "      <td>5250.0</td>\n",
       "      <td>0</td>\n",
       "      <td>25.8</td>\n",
       "      <td>891.472868</td>\n",
       "      <td>270.594284</td>\n",
       "      <td>train</td>\n",
>>>>>>> main
       "    </tr>\n",
       "    <tr>\n",
       "      <th>2</th>\n",
       "      <td>2</td>\n",
<<<<<<< HEAD
       "      <td>59.9400</td>\n",
       "      <td>201904</td>\n",
       "      <td>1</td>\n",
       "      <td>2</td>\n",
       "      <td>9</td>\n",
       "      <td>1996</td>\n",
       "      <td>37.126312</td>\n",
       "      <td>127.070305</td>\n",
       "      <td>23</td>\n",
       "      <td>9000.0</td>\n",
       "      <td>2019-04-01</td>\n",
       "      <td>-999.0</td>\n",
       "      <td>53</td>\n",
       "      <td>18.2</td>\n",
       "      <td>494.505495</td>\n",
       "      <td>150.150150</td>\n",
=======
       "      <td>84.9981</td>\n",
       "      <td>202003</td>\n",
       "      <td>28</td>\n",
       "      <td>2</td>\n",
       "      <td>8</td>\n",
       "      <td>2019</td>\n",
       "      <td>37.054314</td>\n",
       "      <td>127.045216</td>\n",
       "      <td>1</td>\n",
       "      <td>4200.0</td>\n",
       "      <td>0</td>\n",
       "      <td>25.8</td>\n",
       "      <td>891.472868</td>\n",
       "      <td>270.594284</td>\n",
       "      <td>train</td>\n",
>>>>>>> main
       "    </tr>\n",
       "    <tr>\n",
       "      <th>3</th>\n",
       "      <td>3</td>\n",
<<<<<<< HEAD
       "      <td>59.7600</td>\n",
       "      <td>201904</td>\n",
       "      <td>1</td>\n",
       "      <td>2</td>\n",
       "      <td>1</td>\n",
       "      <td>1992</td>\n",
       "      <td>36.961599</td>\n",
       "      <td>126.918827</td>\n",
       "      <td>27</td>\n",
       "      <td>3000.0</td>\n",
       "      <td>2019-04-01</td>\n",
       "      <td>-999.0</td>\n",
       "      <td>64</td>\n",
       "      <td>18.1</td>\n",
       "      <td>165.745856</td>\n",
       "      <td>50.200803</td>\n",
=======
       "      <td>59.3400</td>\n",
       "      <td>201907</td>\n",
       "      <td>15</td>\n",
       "      <td>2</td>\n",
       "      <td>1</td>\n",
       "      <td>1986</td>\n",
       "      <td>36.964647</td>\n",
       "      <td>127.055847</td>\n",
       "      <td>33</td>\n",
       "      <td>4200.0</td>\n",
       "      <td>1</td>\n",
       "      <td>18.0</td>\n",
       "      <td>277.777778</td>\n",
       "      <td>84.260195</td>\n",
       "      <td>train</td>\n",
>>>>>>> main
       "    </tr>\n",
       "    <tr>\n",
       "      <th>4</th>\n",
       "      <td>4</td>\n",
<<<<<<< HEAD
       "      <td>58.7640</td>\n",
       "      <td>201904</td>\n",
       "      <td>1</td>\n",
       "      <td>2</td>\n",
       "      <td>12</td>\n",
       "      <td>2005</td>\n",
       "      <td>37.589086</td>\n",
       "      <td>127.206811</td>\n",
       "      <td>14</td>\n",
       "      <td>18000.0</td>\n",
       "      <td>2019-04-01</td>\n",
       "      <td>-999.0</td>\n",
       "      <td>67</td>\n",
       "      <td>17.8</td>\n",
       "      <td>1011.235955</td>\n",
       "      <td>306.309986</td>\n",
=======
       "      <td>59.8100</td>\n",
       "      <td>201904</td>\n",
       "      <td>12</td>\n",
       "      <td>2</td>\n",
       "      <td>6</td>\n",
       "      <td>1995</td>\n",
       "      <td>36.972390</td>\n",
       "      <td>127.084514</td>\n",
       "      <td>24</td>\n",
       "      <td>4200.0</td>\n",
       "      <td>2</td>\n",
       "      <td>18.1</td>\n",
       "      <td>99.447514</td>\n",
       "      <td>30.095302</td>\n",
       "      <td>train</td>\n",
>>>>>>> main
       "    </tr>\n",
       "    <tr>\n",
       "      <th>...</th>\n",
       "      <td>...</td>\n",
       "      <td>...</td>\n",
       "      <td>...</td>\n",
       "      <td>...</td>\n",
       "      <td>...</td>\n",
       "      <td>...</td>\n",
       "      <td>...</td>\n",
       "      <td>...</td>\n",
       "      <td>...</td>\n",
       "      <td>...</td>\n",
       "      <td>...</td>\n",
       "      <td>...</td>\n",
       "      <td>...</td>\n",
       "      <td>...</td>\n",
       "      <td>...</td>\n",
       "      <td>...</td>\n",
<<<<<<< HEAD
       "      <td>...</td>\n",
       "    </tr>\n",
       "    <tr>\n",
       "      <th>1951395</th>\n",
       "      <td>1951395</td>\n",
       "      <td>84.8086</td>\n",
       "      <td>202406</td>\n",
       "      <td>20</td>\n",
       "      <td>0</td>\n",
       "      <td>1</td>\n",
       "      <td>2022</td>\n",
       "      <td>37.604125</td>\n",
       "      <td>126.711206</td>\n",
       "      <td>2</td>\n",
       "      <td>-999.0</td>\n",
       "      <td>2024-06-20</td>\n",
       "      <td>30000.0</td>\n",
       "      <td>18460</td>\n",
       "      <td>25.7</td>\n",
       "      <td>-38.871595</td>\n",
       "      <td>-11.779466</td>\n",
       "    </tr>\n",
       "    <tr>\n",
       "      <th>1951396</th>\n",
       "      <td>1951396</td>\n",
       "      <td>84.9947</td>\n",
       "      <td>202406</td>\n",
       "      <td>20</td>\n",
       "      <td>0</td>\n",
       "      <td>20</td>\n",
       "      <td>2022</td>\n",
       "      <td>37.599620</td>\n",
       "      <td>126.706729</td>\n",
       "      <td>2</td>\n",
       "      <td>-999.0</td>\n",
       "      <td>2024-06-20</td>\n",
       "      <td>35000.0</td>\n",
       "      <td>18462</td>\n",
       "      <td>25.8</td>\n",
       "      <td>-38.720930</td>\n",
       "      <td>-11.753674</td>\n",
       "    </tr>\n",
       "    <tr>\n",
       "      <th>1951397</th>\n",
       "      <td>1951397</td>\n",
       "      <td>61.0093</td>\n",
       "      <td>202406</td>\n",
       "      <td>20</td>\n",
       "      <td>0</td>\n",
       "      <td>2</td>\n",
       "      <td>2024</td>\n",
       "      <td>37.885999</td>\n",
       "      <td>127.196120</td>\n",
       "      <td>0</td>\n",
       "      <td>-999.0</td>\n",
       "      <td>2024-06-20</td>\n",
       "      <td>-999.0</td>\n",
       "      <td>18536</td>\n",
       "      <td>18.5</td>\n",
       "      <td>-54.000000</td>\n",
       "      <td>-16.374553</td>\n",
       "    </tr>\n",
       "    <tr>\n",
       "      <th>1951398</th>\n",
       "      <td>1951398</td>\n",
       "      <td>58.0500</td>\n",
       "      <td>202406</td>\n",
       "      <td>20</td>\n",
       "      <td>0</td>\n",
       "      <td>3</td>\n",
       "      <td>1996</td>\n",
       "      <td>37.489146</td>\n",
       "      <td>126.886988</td>\n",
       "      <td>28</td>\n",
       "      <td>-999.0</td>\n",
       "      <td>2024-06-20</td>\n",
       "      <td>-999.0</td>\n",
       "      <td>18590</td>\n",
       "      <td>17.6</td>\n",
       "      <td>-56.761364</td>\n",
       "      <td>-17.209302</td>\n",
       "    </tr>\n",
       "    <tr>\n",
       "      <th>1951399</th>\n",
       "      <td>1951399</td>\n",
       "      <td>84.9100</td>\n",
       "      <td>202406</td>\n",
       "      <td>20</td>\n",
       "      <td>0</td>\n",
       "      <td>25</td>\n",
       "      <td>2024</td>\n",
       "      <td>37.494573</td>\n",
       "      <td>126.557237</td>\n",
       "      <td>0</td>\n",
       "      <td>-999.0</td>\n",
       "      <td>2024-06-20</td>\n",
       "      <td>-999.0</td>\n",
       "      <td>18615</td>\n",
       "      <td>25.7</td>\n",
       "      <td>-38.871595</td>\n",
       "      <td>-11.765399</td>\n",
       "    </tr>\n",
       "  </tbody>\n",
       "</table>\n",
       "<p>1951400 rows × 17 columns</p>\n",
       "</div>"
      ],
      "text/plain": [
       "           index  area_m2  contract_year_month  contract_day  contract_type  \\\n",
       "0              0  72.3200               201904             1              2   \n",
       "1              1  22.2700               201904             1              2   \n",
       "2              2  59.9400               201904             1              2   \n",
       "3              3  59.7600               201904             1              2   \n",
       "4              4  58.7640               201904             1              2   \n",
       "...          ...      ...                  ...           ...            ...   \n",
       "1951395  1951395  84.8086               202406            20              0   \n",
       "1951396  1951396  84.9947               202406            20              0   \n",
       "1951397  1951397  61.0093               202406            20              0   \n",
       "1951398  1951398  58.0500               202406            20              0   \n",
       "1951399  1951399  84.9100               202406            20              0   \n",
       "\n",
       "         floor  built_year   latitude   longitude  age  deposit contract_ymd  \\\n",
       "0           16        2016  36.977063  126.928605    3  17000.0   2019-04-01   \n",
       "1           11        2013  36.989441  126.842601    6   4000.0   2019-04-01   \n",
       "2            9        1996  37.126312  127.070305   23   9000.0   2019-04-01   \n",
       "3            1        1992  36.961599  126.918827   27   3000.0   2019-04-01   \n",
       "4           12        2005  37.589086  127.206811   14  18000.0   2019-04-01   \n",
       "...        ...         ...        ...         ...  ...      ...          ...   \n",
       "1951395      1        2022  37.604125  126.711206    2   -999.0   2024-06-20   \n",
       "1951396     20        2022  37.599620  126.706729    2   -999.0   2024-06-20   \n",
       "1951397      2        2024  37.885999  127.196120    0   -999.0   2024-06-20   \n",
       "1951398      3        1996  37.489146  126.886988   28   -999.0   2024-06-20   \n",
       "1951399     25        2024  37.494573  126.557237    0   -999.0   2024-06-20   \n",
       "\n",
       "         recent_deposit  apt_idx  area   area_price  area_m2_price  \n",
       "0                -999.0       15  21.9   776.255708     235.066372  \n",
       "1                -999.0       36   6.7   597.014925     179.613830  \n",
       "2                -999.0       53  18.2   494.505495     150.150150  \n",
       "3                -999.0       64  18.1   165.745856      50.200803  \n",
       "4                -999.0       67  17.8  1011.235955     306.309986  \n",
       "...                 ...      ...   ...          ...            ...  \n",
       "1951395         30000.0    18460  25.7   -38.871595     -11.779466  \n",
       "1951396         35000.0    18462  25.8   -38.720930     -11.753674  \n",
       "1951397          -999.0    18536  18.5   -54.000000     -16.374553  \n",
       "1951398          -999.0    18590  17.6   -56.761364     -17.209302  \n",
       "1951399          -999.0    18615  25.7   -38.871595     -11.765399  \n",
       "\n",
       "[1951400 rows x 17 columns]"
      ]
     },
     "execution_count": 8,
=======
       "    </tr>\n",
       "    <tr>\n",
       "      <th>150167</th>\n",
       "      <td>150167</td>\n",
       "      <td>115.5101</td>\n",
       "      <td>202402</td>\n",
       "      <td>27</td>\n",
       "      <td>0</td>\n",
       "      <td>17</td>\n",
       "      <td>2010</td>\n",
       "      <td>37.528394</td>\n",
       "      <td>126.659398</td>\n",
       "      <td>14</td>\n",
       "      <td>30450.0</td>\n",
       "      <td>17869</td>\n",
       "      <td>35.0</td>\n",
       "      <td>NaN</td>\n",
       "      <td>NaN</td>\n",
       "      <td>test</td>\n",
       "    </tr>\n",
       "    <tr>\n",
       "      <th>150168</th>\n",
       "      <td>150168</td>\n",
       "      <td>142.8738</td>\n",
       "      <td>202403</td>\n",
       "      <td>2</td>\n",
       "      <td>0</td>\n",
       "      <td>4</td>\n",
       "      <td>2010</td>\n",
       "      <td>37.528394</td>\n",
       "      <td>126.659398</td>\n",
       "      <td>14</td>\n",
       "      <td>32550.0</td>\n",
       "      <td>17869</td>\n",
       "      <td>43.3</td>\n",
       "      <td>NaN</td>\n",
       "      <td>NaN</td>\n",
       "      <td>test</td>\n",
       "    </tr>\n",
       "    <tr>\n",
       "      <th>150169</th>\n",
       "      <td>150169</td>\n",
       "      <td>142.8738</td>\n",
       "      <td>202403</td>\n",
       "      <td>16</td>\n",
       "      <td>1</td>\n",
       "      <td>13</td>\n",
       "      <td>2010</td>\n",
       "      <td>37.528394</td>\n",
       "      <td>126.659398</td>\n",
       "      <td>14</td>\n",
       "      <td>32550.0</td>\n",
       "      <td>17869</td>\n",
       "      <td>43.3</td>\n",
       "      <td>NaN</td>\n",
       "      <td>NaN</td>\n",
       "      <td>test</td>\n",
       "    </tr>\n",
       "    <tr>\n",
       "      <th>150170</th>\n",
       "      <td>150170</td>\n",
       "      <td>114.9285</td>\n",
       "      <td>202403</td>\n",
       "      <td>22</td>\n",
       "      <td>1</td>\n",
       "      <td>2</td>\n",
       "      <td>2010</td>\n",
       "      <td>37.528394</td>\n",
       "      <td>126.659398</td>\n",
       "      <td>14</td>\n",
       "      <td>31500.0</td>\n",
       "      <td>17869</td>\n",
       "      <td>34.8</td>\n",
       "      <td>NaN</td>\n",
       "      <td>NaN</td>\n",
       "      <td>test</td>\n",
       "    </tr>\n",
       "    <tr>\n",
       "      <th>150171</th>\n",
       "      <td>150171</td>\n",
       "      <td>115.5101</td>\n",
       "      <td>202403</td>\n",
       "      <td>22</td>\n",
       "      <td>1</td>\n",
       "      <td>7</td>\n",
       "      <td>2010</td>\n",
       "      <td>37.528394</td>\n",
       "      <td>126.659398</td>\n",
       "      <td>14</td>\n",
       "      <td>30450.0</td>\n",
       "      <td>17869</td>\n",
       "      <td>35.0</td>\n",
       "      <td>NaN</td>\n",
       "      <td>NaN</td>\n",
       "      <td>test</td>\n",
       "    </tr>\n",
       "  </tbody>\n",
       "</table>\n",
       "<p>1951400 rows × 16 columns</p>\n",
       "</div>"
      ],
      "text/plain": [
       "         index   area_m2  contract_year_month  contract_day  contract_type  \\\n",
       "0            0   84.9981               201906            25              2   \n",
       "1            1   84.9981               202003            26              2   \n",
       "2            2   84.9981               202003            28              2   \n",
       "3            3   59.3400               201907            15              2   \n",
       "4            4   59.8100               201904            12              2   \n",
       "...        ...       ...                  ...           ...            ...   \n",
       "150167  150167  115.5101               202402            27              0   \n",
       "150168  150168  142.8738               202403             2              0   \n",
       "150169  150169  142.8738               202403            16              1   \n",
       "150170  150170  114.9285               202403            22              1   \n",
       "150171  150171  115.5101               202403            22              1   \n",
       "\n",
       "        floor  built_year   latitude   longitude  age  deposit  apt_idx  area  \\\n",
       "0           9        2019  37.054314  127.045216    0  21525.0        0  25.8   \n",
       "1          20        2019  37.054314  127.045216    1   5250.0        0  25.8   \n",
       "2           8        2019  37.054314  127.045216    1   4200.0        0  25.8   \n",
       "3           1        1986  36.964647  127.055847   33   4200.0        1  18.0   \n",
       "4           6        1995  36.972390  127.084514   24   4200.0        2  18.1   \n",
       "...       ...         ...        ...         ...  ...      ...      ...   ...   \n",
       "150167     17        2010  37.528394  126.659398   14  30450.0    17869  35.0   \n",
       "150168      4        2010  37.528394  126.659398   14  32550.0    17869  43.3   \n",
       "150169     13        2010  37.528394  126.659398   14  32550.0    17869  43.3   \n",
       "150170      2        2010  37.528394  126.659398   14  31500.0    17869  34.8   \n",
       "150171      7        2010  37.528394  126.659398   14  30450.0    17869  35.0   \n",
       "\n",
       "        area_price  area_m2_price  _type  \n",
       "0       658.914729     200.004471  train  \n",
       "1       891.472868     270.594284  train  \n",
       "2       891.472868     270.594284  train  \n",
       "3       277.777778      84.260195  train  \n",
       "4        99.447514      30.095302  train  \n",
       "...            ...            ...    ...  \n",
       "150167         NaN            NaN   test  \n",
       "150168         NaN            NaN   test  \n",
       "150169         NaN            NaN   test  \n",
       "150170         NaN            NaN   test  \n",
       "150171         NaN            NaN   test  \n",
       "\n",
       "[1951400 rows x 16 columns]"
      ]
     },
     "execution_count": 47,
     "metadata": {},
     "output_type": "execute_result"
    }
   ],
   "source": [
    "df_filled = fill_deposit_na(concat_df)\n",
    "df_filled"
   ]
  },
  {
   "cell_type": "code",
   "execution_count": 49,
   "metadata": {},
   "outputs": [
    {
     "data": {
      "text/plain": [
       "3398"
      ]
     },
     "execution_count": 49,
     "metadata": {},
     "output_type": "execute_result"
    }
   ],
   "source": [
    "df_filled['deposit'].isnull().sum()"
   ]
  },
  {
   "cell_type": "code",
   "execution_count": 54,
   "metadata": {},
   "outputs": [
    {
     "data": {
      "text/plain": [
       "0"
      ]
     },
     "execution_count": 54,
     "metadata": {},
     "output_type": "execute_result"
    }
   ],
   "source": [
    "train_data['deposit'].isnull().sum()"
   ]
  },
  {
   "cell_type": "code",
   "execution_count": 56,
   "metadata": {},
   "outputs": [
    {
     "data": {
      "text/html": [
       "<div>\n",
       "<style scoped>\n",
       "    .dataframe tbody tr th:only-of-type {\n",
       "        vertical-align: middle;\n",
       "    }\n",
       "\n",
       "    .dataframe tbody tr th {\n",
       "        vertical-align: top;\n",
       "    }\n",
       "\n",
       "    .dataframe thead th {\n",
       "        text-align: right;\n",
       "    }\n",
       "</style>\n",
       "<table border=\"1\" class=\"dataframe\">\n",
       "  <thead>\n",
       "    <tr style=\"text-align: right;\">\n",
       "      <th></th>\n",
       "      <th>index</th>\n",
       "      <th>area_m2</th>\n",
       "      <th>contract_year_month</th>\n",
       "      <th>contract_day</th>\n",
       "      <th>contract_type</th>\n",
       "      <th>floor</th>\n",
       "      <th>built_year</th>\n",
       "      <th>latitude</th>\n",
       "      <th>longitude</th>\n",
       "      <th>age</th>\n",
       "      <th>deposit</th>\n",
       "      <th>apt_idx</th>\n",
       "      <th>area</th>\n",
       "      <th>area_price</th>\n",
       "      <th>area_m2_price</th>\n",
       "      <th>_type</th>\n",
       "    </tr>\n",
       "  </thead>\n",
       "  <tbody>\n",
       "    <tr>\n",
       "      <th>411</th>\n",
       "      <td>411</td>\n",
       "      <td>59.87</td>\n",
       "      <td>201911</td>\n",
       "      <td>5</td>\n",
       "      <td>2</td>\n",
       "      <td>8</td>\n",
       "      <td>1999</td>\n",
       "      <td>36.980536</td>\n",
       "      <td>126.917535</td>\n",
       "      <td>20</td>\n",
       "      <td>NaN</td>\n",
       "      <td>21</td>\n",
       "      <td>18.1</td>\n",
       "      <td>497.237569</td>\n",
       "      <td>150.325706</td>\n",
       "      <td>train</td>\n",
       "    </tr>\n",
       "    <tr>\n",
       "      <th>411</th>\n",
       "      <td>411</td>\n",
       "      <td>59.79</td>\n",
       "      <td>202405</td>\n",
       "      <td>15</td>\n",
       "      <td>0</td>\n",
       "      <td>6</td>\n",
       "      <td>2024</td>\n",
       "      <td>37.585373</td>\n",
       "      <td>127.216700</td>\n",
       "      <td>0</td>\n",
       "      <td>NaN</td>\n",
       "      <td>18491</td>\n",
       "      <td>18.1</td>\n",
       "      <td>NaN</td>\n",
       "      <td>NaN</td>\n",
       "      <td>test</td>\n",
       "    </tr>\n",
       "  </tbody>\n",
       "</table>\n",
       "</div>"
      ],
      "text/plain": [
       "     index  area_m2  contract_year_month  contract_day  contract_type  floor  \\\n",
       "411    411    59.87               201911             5              2      8   \n",
       "411    411    59.79               202405            15              0      6   \n",
       "\n",
       "     built_year   latitude   longitude  age  deposit  apt_idx  area  \\\n",
       "411        1999  36.980536  126.917535   20      NaN       21  18.1   \n",
       "411        2024  37.585373  127.216700    0      NaN    18491  18.1   \n",
       "\n",
       "     area_price  area_m2_price  _type  \n",
       "411  497.237569     150.325706  train  \n",
       "411         NaN            NaN   test  "
      ]
     },
     "execution_count": 56,
     "metadata": {},
     "output_type": "execute_result"
    }
   ],
   "source": [
    "df_filled[df_filled['index']==411]"
   ]
  },
  {
   "cell_type": "code",
   "execution_count": 57,
   "metadata": {},
   "outputs": [
    {
     "data": {
      "text/html": [
       "<div>\n",
       "<style scoped>\n",
       "    .dataframe tbody tr th:only-of-type {\n",
       "        vertical-align: middle;\n",
       "    }\n",
       "\n",
       "    .dataframe tbody tr th {\n",
       "        vertical-align: top;\n",
       "    }\n",
       "\n",
       "    .dataframe thead th {\n",
       "        text-align: right;\n",
       "    }\n",
       "</style>\n",
       "<table border=\"1\" class=\"dataframe\">\n",
       "  <thead>\n",
       "    <tr style=\"text-align: right;\">\n",
       "      <th></th>\n",
       "      <th>index</th>\n",
       "      <th>area_m2</th>\n",
       "      <th>contract_year_month</th>\n",
       "      <th>contract_day</th>\n",
       "      <th>contract_type</th>\n",
       "      <th>floor</th>\n",
       "      <th>built_year</th>\n",
       "      <th>latitude</th>\n",
       "      <th>longitude</th>\n",
       "      <th>age</th>\n",
       "      <th>deposit</th>\n",
       "      <th>apt_idx</th>\n",
       "      <th>area</th>\n",
       "      <th>area_price</th>\n",
       "      <th>area_m2_price</th>\n",
       "      <th>_type</th>\n",
       "    </tr>\n",
       "  </thead>\n",
       "  <tbody>\n",
       "    <tr>\n",
       "      <th>411</th>\n",
       "      <td>411</td>\n",
       "      <td>59.87</td>\n",
       "      <td>201911</td>\n",
       "      <td>5</td>\n",
       "      <td>2</td>\n",
       "      <td>8</td>\n",
       "      <td>1999</td>\n",
       "      <td>36.980536</td>\n",
       "      <td>126.917535</td>\n",
       "      <td>20</td>\n",
       "      <td>NaN</td>\n",
       "      <td>21</td>\n",
       "      <td>18.1</td>\n",
       "      <td>497.237569</td>\n",
       "      <td>150.325706</td>\n",
       "      <td>train</td>\n",
       "    </tr>\n",
       "    <tr>\n",
       "      <th>411</th>\n",
       "      <td>411</td>\n",
       "      <td>59.79</td>\n",
       "      <td>202405</td>\n",
       "      <td>15</td>\n",
       "      <td>0</td>\n",
       "      <td>6</td>\n",
       "      <td>2024</td>\n",
       "      <td>37.585373</td>\n",
       "      <td>127.216700</td>\n",
       "      <td>0</td>\n",
       "      <td>NaN</td>\n",
       "      <td>18491</td>\n",
       "      <td>18.1</td>\n",
       "      <td>NaN</td>\n",
       "      <td>NaN</td>\n",
       "      <td>test</td>\n",
       "    </tr>\n",
       "  </tbody>\n",
       "</table>\n",
       "</div>"
      ],
      "text/plain": [
       "     index  area_m2  contract_year_month  contract_day  contract_type  floor  \\\n",
       "411    411    59.87               201911             5              2      8   \n",
       "411    411    59.79               202405            15              0      6   \n",
       "\n",
       "     built_year   latitude   longitude  age  deposit  apt_idx  area  \\\n",
       "411        1999  36.980536  126.917535   20      NaN       21  18.1   \n",
       "411        2024  37.585373  127.216700    0      NaN    18491  18.1   \n",
       "\n",
       "     area_price  area_m2_price  _type  \n",
       "411  497.237569     150.325706  train  \n",
       "411         NaN            NaN   test  "
      ]
     },
     "execution_count": 57,
     "metadata": {},
     "output_type": "execute_result"
    }
   ],
   "source": [
    "concat_df[concat_df['index']==411]"
   ]
  },
  {
   "cell_type": "code",
   "execution_count": 50,
   "metadata": {},
   "outputs": [
    {
     "data": {
      "text/html": [
       "<div>\n",
       "<style scoped>\n",
       "    .dataframe tbody tr th:only-of-type {\n",
       "        vertical-align: middle;\n",
       "    }\n",
       "\n",
       "    .dataframe tbody tr th {\n",
       "        vertical-align: top;\n",
       "    }\n",
       "\n",
       "    .dataframe thead th {\n",
       "        text-align: right;\n",
       "    }\n",
       "</style>\n",
       "<table border=\"1\" class=\"dataframe\">\n",
       "  <thead>\n",
       "    <tr style=\"text-align: right;\">\n",
       "      <th></th>\n",
       "      <th>index</th>\n",
       "      <th>area_m2</th>\n",
       "      <th>contract_year_month</th>\n",
       "      <th>contract_day</th>\n",
       "      <th>contract_type</th>\n",
       "      <th>floor</th>\n",
       "      <th>built_year</th>\n",
       "      <th>latitude</th>\n",
       "      <th>longitude</th>\n",
       "      <th>age</th>\n",
       "      <th>deposit</th>\n",
       "      <th>apt_idx</th>\n",
       "      <th>area</th>\n",
       "      <th>area_price</th>\n",
       "      <th>area_m2_price</th>\n",
       "      <th>_type</th>\n",
       "    </tr>\n",
       "  </thead>\n",
       "  <tbody>\n",
       "    <tr>\n",
       "      <th>411</th>\n",
       "      <td>411</td>\n",
       "      <td>59.870</td>\n",
       "      <td>201911</td>\n",
       "      <td>5</td>\n",
       "      <td>2</td>\n",
       "      <td>8</td>\n",
       "      <td>1999</td>\n",
       "      <td>36.980536</td>\n",
       "      <td>126.917535</td>\n",
       "      <td>20</td>\n",
       "      <td>NaN</td>\n",
       "      <td>21</td>\n",
       "      <td>18.1</td>\n",
       "      <td>497.237569</td>\n",
       "      <td>150.325706</td>\n",
       "      <td>train</td>\n",
       "    </tr>\n",
       "    <tr>\n",
       "      <th>424</th>\n",
       "      <td>424</td>\n",
       "      <td>84.996</td>\n",
       "      <td>201912</td>\n",
       "      <td>4</td>\n",
       "      <td>2</td>\n",
       "      <td>14</td>\n",
       "      <td>2004</td>\n",
       "      <td>36.987779</td>\n",
       "      <td>126.919841</td>\n",
       "      <td>15</td>\n",
       "      <td>NaN</td>\n",
       "      <td>20</td>\n",
       "      <td>25.8</td>\n",
       "      <td>581.395349</td>\n",
       "      <td>176.478893</td>\n",
       "      <td>train</td>\n",
       "    </tr>\n",
       "    <tr>\n",
       "      <th>426</th>\n",
       "      <td>426</td>\n",
       "      <td>84.996</td>\n",
       "      <td>201912</td>\n",
       "      <td>9</td>\n",
       "      <td>2</td>\n",
       "      <td>11</td>\n",
       "      <td>2004</td>\n",
       "      <td>36.987779</td>\n",
       "      <td>126.919841</td>\n",
       "      <td>15</td>\n",
       "      <td>NaN</td>\n",
       "      <td>20</td>\n",
       "      <td>25.8</td>\n",
       "      <td>600.775194</td>\n",
       "      <td>182.361523</td>\n",
       "      <td>train</td>\n",
       "    </tr>\n",
       "    <tr>\n",
       "      <th>428</th>\n",
       "      <td>428</td>\n",
       "      <td>59.870</td>\n",
       "      <td>201912</td>\n",
       "      <td>15</td>\n",
       "      <td>2</td>\n",
       "      <td>13</td>\n",
       "      <td>1999</td>\n",
       "      <td>36.980536</td>\n",
       "      <td>126.917535</td>\n",
       "      <td>20</td>\n",
       "      <td>NaN</td>\n",
       "      <td>21</td>\n",
       "      <td>18.1</td>\n",
       "      <td>524.861878</td>\n",
       "      <td>158.677134</td>\n",
       "      <td>train</td>\n",
       "    </tr>\n",
       "    <tr>\n",
       "      <th>429</th>\n",
       "      <td>429</td>\n",
       "      <td>59.870</td>\n",
       "      <td>201912</td>\n",
       "      <td>15</td>\n",
       "      <td>2</td>\n",
       "      <td>13</td>\n",
       "      <td>1999</td>\n",
       "      <td>36.980536</td>\n",
       "      <td>126.917535</td>\n",
       "      <td>20</td>\n",
       "      <td>NaN</td>\n",
       "      <td>21</td>\n",
       "      <td>18.1</td>\n",
       "      <td>524.861878</td>\n",
       "      <td>158.677134</td>\n",
       "      <td>train</td>\n",
       "    </tr>\n",
       "    <tr>\n",
       "      <th>...</th>\n",
       "      <td>...</td>\n",
       "      <td>...</td>\n",
       "      <td>...</td>\n",
       "      <td>...</td>\n",
       "      <td>...</td>\n",
       "      <td>...</td>\n",
       "      <td>...</td>\n",
       "      <td>...</td>\n",
       "      <td>...</td>\n",
       "      <td>...</td>\n",
       "      <td>...</td>\n",
       "      <td>...</td>\n",
       "      <td>...</td>\n",
       "      <td>...</td>\n",
       "      <td>...</td>\n",
       "      <td>...</td>\n",
       "    </tr>\n",
       "    <tr>\n",
       "      <th>142684</th>\n",
       "      <td>142684</td>\n",
       "      <td>84.830</td>\n",
       "      <td>202403</td>\n",
       "      <td>26</td>\n",
       "      <td>0</td>\n",
       "      <td>18</td>\n",
       "      <td>2024</td>\n",
       "      <td>37.490141</td>\n",
       "      <td>126.503261</td>\n",
       "      <td>0</td>\n",
       "      <td>NaN</td>\n",
       "      <td>18616</td>\n",
       "      <td>25.7</td>\n",
       "      <td>NaN</td>\n",
       "      <td>NaN</td>\n",
       "      <td>test</td>\n",
       "    </tr>\n",
       "    <tr>\n",
       "      <th>142914</th>\n",
       "      <td>142914</td>\n",
       "      <td>75.620</td>\n",
       "      <td>202401</td>\n",
       "      <td>16</td>\n",
       "      <td>0</td>\n",
       "      <td>3</td>\n",
       "      <td>2004</td>\n",
       "      <td>37.463234</td>\n",
       "      <td>126.642899</td>\n",
       "      <td>20</td>\n",
       "      <td>NaN</td>\n",
       "      <td>18673</td>\n",
       "      <td>22.9</td>\n",
       "      <td>NaN</td>\n",
       "      <td>NaN</td>\n",
       "      <td>test</td>\n",
       "    </tr>\n",
       "    <tr>\n",
       "      <th>142915</th>\n",
       "      <td>142915</td>\n",
       "      <td>75.620</td>\n",
       "      <td>202401</td>\n",
       "      <td>16</td>\n",
       "      <td>0</td>\n",
       "      <td>3</td>\n",
       "      <td>2004</td>\n",
       "      <td>37.463234</td>\n",
       "      <td>126.642899</td>\n",
       "      <td>20</td>\n",
       "      <td>NaN</td>\n",
       "      <td>18673</td>\n",
       "      <td>22.9</td>\n",
       "      <td>NaN</td>\n",
       "      <td>NaN</td>\n",
       "      <td>test</td>\n",
       "    </tr>\n",
       "    <tr>\n",
       "      <th>143189</th>\n",
       "      <td>143189</td>\n",
       "      <td>49.900</td>\n",
       "      <td>202403</td>\n",
       "      <td>25</td>\n",
       "      <td>0</td>\n",
       "      <td>13</td>\n",
       "      <td>2015</td>\n",
       "      <td>37.459061</td>\n",
       "      <td>126.674991</td>\n",
       "      <td>9</td>\n",
       "      <td>NaN</td>\n",
       "      <td>18674</td>\n",
       "      <td>15.1</td>\n",
       "      <td>NaN</td>\n",
       "      <td>NaN</td>\n",
       "      <td>test</td>\n",
       "    </tr>\n",
       "    <tr>\n",
       "      <th>145311</th>\n",
       "      <td>145311</td>\n",
       "      <td>84.940</td>\n",
       "      <td>202402</td>\n",
       "      <td>26</td>\n",
       "      <td>0</td>\n",
       "      <td>9</td>\n",
       "      <td>2006</td>\n",
       "      <td>37.465068</td>\n",
       "      <td>126.714757</td>\n",
       "      <td>18</td>\n",
       "      <td>NaN</td>\n",
       "      <td>18675</td>\n",
       "      <td>25.7</td>\n",
       "      <td>NaN</td>\n",
       "      <td>NaN</td>\n",
       "      <td>test</td>\n",
       "    </tr>\n",
       "  </tbody>\n",
       "</table>\n",
       "<p>3398 rows × 16 columns</p>\n",
       "</div>"
      ],
      "text/plain": [
       "         index  area_m2  contract_year_month  contract_day  contract_type  \\\n",
       "411        411   59.870               201911             5              2   \n",
       "424        424   84.996               201912             4              2   \n",
       "426        426   84.996               201912             9              2   \n",
       "428        428   59.870               201912            15              2   \n",
       "429        429   59.870               201912            15              2   \n",
       "...        ...      ...                  ...           ...            ...   \n",
       "142684  142684   84.830               202403            26              0   \n",
       "142914  142914   75.620               202401            16              0   \n",
       "142915  142915   75.620               202401            16              0   \n",
       "143189  143189   49.900               202403            25              0   \n",
       "145311  145311   84.940               202402            26              0   \n",
       "\n",
       "        floor  built_year   latitude   longitude  age  deposit  apt_idx  area  \\\n",
       "411         8        1999  36.980536  126.917535   20      NaN       21  18.1   \n",
       "424        14        2004  36.987779  126.919841   15      NaN       20  25.8   \n",
       "426        11        2004  36.987779  126.919841   15      NaN       20  25.8   \n",
       "428        13        1999  36.980536  126.917535   20      NaN       21  18.1   \n",
       "429        13        1999  36.980536  126.917535   20      NaN       21  18.1   \n",
       "...       ...         ...        ...         ...  ...      ...      ...   ...   \n",
       "142684     18        2024  37.490141  126.503261    0      NaN    18616  25.7   \n",
       "142914      3        2004  37.463234  126.642899   20      NaN    18673  22.9   \n",
       "142915      3        2004  37.463234  126.642899   20      NaN    18673  22.9   \n",
       "143189     13        2015  37.459061  126.674991    9      NaN    18674  15.1   \n",
       "145311      9        2006  37.465068  126.714757   18      NaN    18675  25.7   \n",
       "\n",
       "        area_price  area_m2_price  _type  \n",
       "411     497.237569     150.325706  train  \n",
       "424     581.395349     176.478893  train  \n",
       "426     600.775194     182.361523  train  \n",
       "428     524.861878     158.677134  train  \n",
       "429     524.861878     158.677134  train  \n",
       "...            ...            ...    ...  \n",
       "142684         NaN            NaN   test  \n",
       "142914         NaN            NaN   test  \n",
       "142915         NaN            NaN   test  \n",
       "143189         NaN            NaN   test  \n",
       "145311         NaN            NaN   test  \n",
       "\n",
       "[3398 rows x 16 columns]"
      ]
     },
     "execution_count": 50,
>>>>>>> main
     "metadata": {},
     "output_type": "execute_result"
    }
   ],
   "source": [
<<<<<<< HEAD
    "recent_deposit = pd.read_csv(os.path.join(BASE_PATH, 'all_apt_idx_recent_deposit.csv'))\n",
    "recent_deposit"
=======
    "nan_deposit_rows = df_filled[df_filled['deposit'].isna()]\n",
    "nan_deposit_rows"
>>>>>>> main
   ]
  },
  {
   "cell_type": "code",
<<<<<<< HEAD
   "execution_count": 9,
   "metadata": {},
   "outputs": [
    {
     "data": {
      "text/html": [
       "<div>\n",
       "<style scoped>\n",
       "    .dataframe tbody tr th:only-of-type {\n",
       "        vertical-align: middle;\n",
       "    }\n",
       "\n",
       "    .dataframe tbody tr th {\n",
       "        vertical-align: top;\n",
       "    }\n",
       "\n",
       "    .dataframe thead th {\n",
       "        text-align: right;\n",
       "    }\n",
       "</style>\n",
       "<table border=\"1\" class=\"dataframe\">\n",
       "  <thead>\n",
       "    <tr style=\"text-align: right;\">\n",
       "      <th></th>\n",
       "      <th>deposit</th>\n",
       "      <th>recent_deposit</th>\n",
       "    </tr>\n",
       "  </thead>\n",
       "  <tbody>\n",
       "    <tr>\n",
       "      <th>deposit</th>\n",
       "      <td>1.000000</td>\n",
       "      <td>0.756467</td>\n",
       "    </tr>\n",
       "    <tr>\n",
       "      <th>recent_deposit</th>\n",
       "      <td>0.756467</td>\n",
       "      <td>1.000000</td>\n",
       "    </tr>\n",
       "  </tbody>\n",
       "</table>\n",
       "</div>"
      ],
      "text/plain": [
       "                 deposit  recent_deposit\n",
       "deposit         1.000000        0.756467\n",
       "recent_deposit  0.756467        1.000000"
      ]
     },
     "execution_count": 9,
     "metadata": {},
     "output_type": "execute_result"
    }
   ],
   "source": [
    "recent_deposit[['deposit','recent_deposit']].corr()"
   ]
  },
  {
   "cell_type": "code",
   "execution_count": 119,
   "metadata": {},
   "outputs": [
    {
     "data": {
      "text/html": [
       "<div>\n",
       "<style scoped>\n",
       "    .dataframe tbody tr th:only-of-type {\n",
       "        vertical-align: middle;\n",
       "    }\n",
       "\n",
       "    .dataframe tbody tr th {\n",
       "        vertical-align: top;\n",
       "    }\n",
       "\n",
       "    .dataframe thead th {\n",
       "        text-align: right;\n",
       "    }\n",
       "</style>\n",
       "<table border=\"1\" class=\"dataframe\">\n",
       "  <thead>\n",
       "    <tr style=\"text-align: right;\">\n",
       "      <th></th>\n",
       "      <th>index</th>\n",
       "      <th>area_m2</th>\n",
       "      <th>contract_year_month</th>\n",
       "      <th>contract_day</th>\n",
       "      <th>contract_type</th>\n",
       "      <th>floor</th>\n",
       "      <th>built_year</th>\n",
       "      <th>latitude</th>\n",
       "      <th>longitude</th>\n",
       "      <th>age</th>\n",
       "      <th>deposit</th>\n",
       "      <th>contract_ymd</th>\n",
       "      <th>recent_deposit</th>\n",
       "      <th>apt_idx</th>\n",
       "      <th>area</th>\n",
       "      <th>area_price</th>\n",
       "      <th>area_m2_price</th>\n",
       "    </tr>\n",
       "  </thead>\n",
       "  <tbody>\n",
       "    <tr>\n",
       "      <th>899831</th>\n",
       "      <td>899831</td>\n",
       "      <td>273.96</td>\n",
       "      <td>202111</td>\n",
       "      <td>12</td>\n",
       "      <td>0</td>\n",
       "      <td>14</td>\n",
       "      <td>2020</td>\n",
       "      <td>37.525956</td>\n",
       "      <td>127.054237</td>\n",
       "      <td>1</td>\n",
       "      <td>930000.0</td>\n",
       "      <td>2021-11-12</td>\n",
       "      <td>-999.0</td>\n",
       "      <td>15571</td>\n",
       "      <td>83.0</td>\n",
       "      <td>11204.819277</td>\n",
       "      <td>3394.656154</td>\n",
       "    </tr>\n",
       "    <tr>\n",
       "      <th>1280137</th>\n",
       "      <td>1280137</td>\n",
       "      <td>273.96</td>\n",
       "      <td>202210</td>\n",
       "      <td>13</td>\n",
       "      <td>0</td>\n",
       "      <td>18</td>\n",
       "      <td>2020</td>\n",
       "      <td>37.525956</td>\n",
       "      <td>127.054237</td>\n",
       "      <td>2</td>\n",
       "      <td>1100000.0</td>\n",
       "      <td>2022-10-13</td>\n",
       "      <td>930000.0</td>\n",
       "      <td>15571</td>\n",
       "      <td>83.0</td>\n",
       "      <td>13253.012048</td>\n",
       "      <td>4015.184698</td>\n",
       "    </tr>\n",
       "    <tr>\n",
       "      <th>1509058</th>\n",
       "      <td>1509058</td>\n",
       "      <td>273.96</td>\n",
       "      <td>202304</td>\n",
       "      <td>20</td>\n",
       "      <td>1</td>\n",
       "      <td>2</td>\n",
       "      <td>2020</td>\n",
       "      <td>37.525956</td>\n",
       "      <td>127.054237</td>\n",
       "      <td>3</td>\n",
       "      <td>570000.0</td>\n",
       "      <td>2023-04-20</td>\n",
       "      <td>1100000.0</td>\n",
       "      <td>15571</td>\n",
       "      <td>83.0</td>\n",
       "      <td>6867.469880</td>\n",
       "      <td>2080.595707</td>\n",
       "    </tr>\n",
       "    <tr>\n",
       "      <th>1602284</th>\n",
       "      <td>1602284</td>\n",
       "      <td>273.96</td>\n",
       "      <td>202307</td>\n",
       "      <td>7</td>\n",
       "      <td>2</td>\n",
       "      <td>14</td>\n",
       "      <td>2020</td>\n",
       "      <td>37.525956</td>\n",
       "      <td>127.054237</td>\n",
       "      <td>3</td>\n",
       "      <td>1000000.0</td>\n",
       "      <td>2023-07-07</td>\n",
       "      <td>930000.0</td>\n",
       "      <td>15571</td>\n",
       "      <td>83.0</td>\n",
       "      <td>12048.192771</td>\n",
       "      <td>3650.167908</td>\n",
       "    </tr>\n",
       "  </tbody>\n",
       "</table>\n",
       "</div>"
      ],
      "text/plain": [
       "           index  area_m2  contract_year_month  contract_day  contract_type  \\\n",
       "899831    899831   273.96               202111            12              0   \n",
       "1280137  1280137   273.96               202210            13              0   \n",
       "1509058  1509058   273.96               202304            20              1   \n",
       "1602284  1602284   273.96               202307             7              2   \n",
       "\n",
       "         floor  built_year   latitude   longitude  age    deposit  \\\n",
       "899831      14        2020  37.525956  127.054237    1   930000.0   \n",
       "1280137     18        2020  37.525956  127.054237    2  1100000.0   \n",
       "1509058      2        2020  37.525956  127.054237    3   570000.0   \n",
       "1602284     14        2020  37.525956  127.054237    3  1000000.0   \n",
       "\n",
       "        contract_ymd  recent_deposit  apt_idx  area    area_price  \\\n",
       "899831    2021-11-12          -999.0    15571  83.0  11204.819277   \n",
       "1280137   2022-10-13        930000.0    15571  83.0  13253.012048   \n",
       "1509058   2023-04-20       1100000.0    15571  83.0   6867.469880   \n",
       "1602284   2023-07-07        930000.0    15571  83.0  12048.192771   \n",
       "\n",
       "         area_m2_price  \n",
       "899831     3394.656154  \n",
       "1280137    4015.184698  \n",
       "1509058    2080.595707  \n",
       "1602284    3650.167908  "
      ]
     },
     "execution_count": 119,
     "metadata": {},
     "output_type": "execute_result"
    }
   ],
   "source": [
    "recent_deposit[recent_deposit['apt_idx']==15571]"
   ]
  },
  {
   "cell_type": "code",
   "execution_count": 104,
   "metadata": {},
   "outputs": [],
   "source": [
    "v2 = pd.read_csv(os.path.join(BASE_PATH,'V2_features.csv'))"
=======
   "execution_count": 40,
   "metadata": {},
   "outputs": [],
   "source": [
    "train_df = concat_df[concat_df['_type']==\"train\"]\n",
    "test_df = concat_df[concat_df['_type']==\"test\"]"
>>>>>>> main
   ]
  },
  {
   "cell_type": "code",
<<<<<<< HEAD
   "execution_count": 123,
   "metadata": {},
   "outputs": [
    {
     "data": {
      "text/html": [
       "<div>\n",
       "<style scoped>\n",
       "    .dataframe tbody tr th:only-of-type {\n",
       "        vertical-align: middle;\n",
       "    }\n",
       "\n",
       "    .dataframe tbody tr th {\n",
       "        vertical-align: top;\n",
       "    }\n",
       "\n",
       "    .dataframe thead th {\n",
       "        text-align: right;\n",
       "    }\n",
       "</style>\n",
       "<table border=\"1\" class=\"dataframe\">\n",
       "  <thead>\n",
       "    <tr style=\"text-align: right;\">\n",
       "      <th></th>\n",
       "      <th>area_m2</th>\n",
       "      <th>contract_type</th>\n",
       "      <th>floor</th>\n",
       "      <th>built_year</th>\n",
       "      <th>latitude</th>\n",
       "      <th>longitude</th>\n",
       "      <th>age</th>\n",
       "      <th>deposit</th>\n",
       "      <th>recent_deposit</th>\n",
       "    </tr>\n",
       "  </thead>\n",
       "  <tbody>\n",
       "    <tr>\n",
       "      <th>1260709</th>\n",
       "      <td>273.96</td>\n",
       "      <td>0</td>\n",
       "      <td>14</td>\n",
       "      <td>2020</td>\n",
       "      <td>37.525956</td>\n",
       "      <td>127.054237</td>\n",
       "      <td>1</td>\n",
       "      <td>930000.0</td>\n",
       "      <td>100000.0</td>\n",
       "    </tr>\n",
       "    <tr>\n",
       "      <th>1406833</th>\n",
       "      <td>273.96</td>\n",
       "      <td>0</td>\n",
       "      <td>18</td>\n",
       "      <td>2020</td>\n",
       "      <td>37.525956</td>\n",
       "      <td>127.054237</td>\n",
       "      <td>2</td>\n",
       "      <td>1100000.0</td>\n",
       "      <td>50000.0</td>\n",
       "    </tr>\n",
       "    <tr>\n",
       "      <th>1539384</th>\n",
       "      <td>273.96</td>\n",
       "      <td>1</td>\n",
       "      <td>2</td>\n",
       "      <td>2020</td>\n",
       "      <td>37.525956</td>\n",
       "      <td>127.054237</td>\n",
       "      <td>3</td>\n",
       "      <td>570000.0</td>\n",
       "      <td>87000.0</td>\n",
       "    </tr>\n",
       "    <tr>\n",
       "      <th>1542638</th>\n",
       "      <td>273.96</td>\n",
       "      <td>2</td>\n",
       "      <td>14</td>\n",
       "      <td>2020</td>\n",
       "      <td>37.525956</td>\n",
       "      <td>127.054237</td>\n",
       "      <td>3</td>\n",
       "      <td>1000000.0</td>\n",
       "      <td>57700.0</td>\n",
       "    </tr>\n",
       "  </tbody>\n",
       "</table>\n",
       "</div>"
      ],
      "text/plain": [
       "         area_m2  contract_type  floor  built_year   latitude   longitude  \\\n",
       "1260709   273.96              0     14        2020  37.525956  127.054237   \n",
       "1406833   273.96              0     18        2020  37.525956  127.054237   \n",
       "1539384   273.96              1      2        2020  37.525956  127.054237   \n",
       "1542638   273.96              2     14        2020  37.525956  127.054237   \n",
       "\n",
       "         age    deposit  recent_deposit  \n",
       "1260709    1   930000.0        100000.0  \n",
       "1406833    2  1100000.0         50000.0  \n",
       "1539384    3   570000.0         87000.0  \n",
       "1542638    3  1000000.0         57700.0  "
      ]
     },
     "execution_count": 123,
     "metadata": {},
     "output_type": "execute_result"
    }
   ],
   "source": [
    "v2.loc[v2['apt_idx'] == 15571, \n",
    "       ['area_m2', 'contract_type', 'floor', 'built_year', \n",
    "        'latitude', 'longitude', 'age', 'deposit', 'recent_deposit']]\n"
   ]
  },
  {
   "cell_type": "code",
   "execution_count": 125,
   "metadata": {},
   "outputs": [
    {
     "data": {
      "text/html": [
       "<div>\n",
       "<style scoped>\n",
       "    .dataframe tbody tr th:only-of-type {\n",
       "        vertical-align: middle;\n",
       "    }\n",
       "\n",
       "    .dataframe tbody tr th {\n",
       "        vertical-align: top;\n",
       "    }\n",
       "\n",
       "    .dataframe thead th {\n",
       "        text-align: right;\n",
       "    }\n",
       "</style>\n",
       "<table border=\"1\" class=\"dataframe\">\n",
       "  <thead>\n",
       "    <tr style=\"text-align: right;\">\n",
       "      <th></th>\n",
       "      <th>index</th>\n",
       "      <th>area_m2</th>\n",
       "      <th>contract_year_month</th>\n",
       "      <th>contract_day</th>\n",
       "      <th>contract_type</th>\n",
       "      <th>floor</th>\n",
       "      <th>built_year</th>\n",
       "      <th>latitude</th>\n",
       "      <th>longitude</th>\n",
       "      <th>age</th>\n",
       "      <th>deposit</th>\n",
       "      <th>contract_ymd</th>\n",
       "      <th>recent_deposit</th>\n",
       "      <th>apt_idx</th>\n",
       "      <th>area</th>\n",
       "      <th>area_price</th>\n",
       "      <th>area_m2_price</th>\n",
       "    </tr>\n",
       "  </thead>\n",
       "  <tbody>\n",
       "    <tr>\n",
       "      <th>1406833</th>\n",
       "      <td>1406833</td>\n",
       "      <td>134.88</td>\n",
       "      <td>202302</td>\n",
       "      <td>8</td>\n",
       "      <td>0</td>\n",
       "      <td>13</td>\n",
       "      <td>1994</td>\n",
       "      <td>37.679009</td>\n",
       "      <td>126.762119</td>\n",
       "      <td>29</td>\n",
       "      <td>30000.0</td>\n",
       "      <td>2023-02-08</td>\n",
       "      <td>50000.0</td>\n",
       "      <td>4182</td>\n",
       "      <td>40.9</td>\n",
       "      <td>733.496333</td>\n",
       "      <td>222.419929</td>\n",
       "    </tr>\n",
       "  </tbody>\n",
       "</table>\n",
       "</div>"
      ],
      "text/plain": [
       "           index  area_m2  contract_year_month  contract_day  contract_type  \\\n",
       "1406833  1406833   134.88               202302             8              0   \n",
       "\n",
       "         floor  built_year   latitude   longitude  age  deposit contract_ymd  \\\n",
       "1406833     13        1994  37.679009  126.762119   29  30000.0   2023-02-08   \n",
       "\n",
       "         recent_deposit  apt_idx  area  area_price  area_m2_price  \n",
       "1406833         50000.0     4182  40.9  733.496333     222.419929  "
      ]
     },
     "execution_count": 125,
     "metadata": {},
     "output_type": "execute_result"
    }
   ],
   "source": [
    "recent_deposit[recent_deposit['index']==1406833]"
   ]
  },
  {
   "cell_type": "code",
   "execution_count": 88,
   "metadata": {},
   "outputs": [],
   "source": [
    "train_df = park_data[park_data['_type']=='train']\n",
    "test_df = park_data[park_data['_type']=='test']"
   ]
  },
  {
   "cell_type": "code",
   "execution_count": 94,
=======
   "execution_count": 41,
>>>>>>> main
   "metadata": {
    "ExecuteTime": {
     "end_time": "2024-09-30T06:12:36.481705Z",
     "start_time": "2024-09-30T06:12:36.429537Z"
    }
   },
   "outputs": [],
   "source": [
<<<<<<< HEAD
    "columns_needed = [\n",
    "       'area_m2', 'contract_year_month', 'contract_day', 'contract_type',\n",
    "       'floor', 'built_year', 'latitude', 'longitude', 'age', 'deposit', \n",
    "       'apt_idx', 'grid_id',\n",
    "       'nearest_subway_distance_x', 'nearest_subway_idx_x',\n",
    "       'num_subway_within_1km_x', 'category_interchange_within_1km_x',\n",
    "       'num_subway_within_500m_x', 'category_interchange_within_500m_x',\n",
    "       'nearest_subway_distance_y', 'nearest_subway_idx_y',\n",
    "       'num_subway_within_1km_y', 'category_interchange_within_1km_y',\n",
    "       'num_subway_within_500m_y', 'category_interchange_within_500m_y',\n",
    "       'nearest_elementary_school_distance_x',\n",
    "       'nearest_elementary_school_within_1km_x',\n",
    "       'has_elementary_school_within_1km_x',\n",
    "       'nearest_middle_school_distance_x',\n",
    "       'nearest_middle_school_within_1km_x', 'has_middle_school_within_1km_x',\n",
    "       'nearest_high_school_distance_x', 'nearest_high_school_within_1km_x',\n",
    "       'has_high_school_within_1km_x', 'nearest_elementary_school_distance_y',\n",
    "       'nearest_elementary_school_within_1km_y',\n",
    "       'has_elementary_school_within_1km_y',\n",
    "       'nearest_middle_school_distance_y',\n",
    "       'nearest_middle_school_within_1km_y', 'has_middle_school_within_1km_y',\n",
    "       'nearest_high_school_distance_y', 'nearest_high_school_within_1km_y',\n",
    "       'has_high_school_within_1km_y',\n",
    "       'nearest_park_within_500.0m_x', 'has_park_within_500.0m_x',\n",
    "       'nearest_park_distance_y', 'nearest_park_within_500.0m_y',\n",
    "       'has_park_within_500.0m_y',\n",
    "       'interest_rate', 'diff_interest_rate'\n",
    "       ]\n",
    "columns_needed_test = [\n",
    "       'area_m2', 'contract_year_month', 'contract_day', 'contract_type',\n",
    "       'floor', 'built_year', 'latitude', 'longitude', 'age', 'deposit', \n",
    "       'apt_idx', 'grid_id',\n",
    "       'nearest_subway_distance_x', 'nearest_subway_idx_x',\n",
    "       'num_subway_within_1km_x', 'category_interchange_within_1km_x',\n",
    "       'num_subway_within_500m_x', 'category_interchange_within_500m_x',\n",
    "       'nearest_subway_distance_y', 'nearest_subway_idx_y',\n",
    "       'num_subway_within_1km_y', 'category_interchange_within_1km_y',\n",
    "       'num_subway_within_500m_y', 'category_interchange_within_500m_y',\n",
    "       'nearest_elementary_school_distance_x',\n",
    "       'nearest_elementary_school_within_1km_x',\n",
    "       'has_elementary_school_within_1km_x',\n",
    "       'nearest_middle_school_distance_x',\n",
    "       'nearest_middle_school_within_1km_x', 'has_middle_school_within_1km_x',\n",
    "       'nearest_high_school_distance_x', 'nearest_high_school_within_1km_x',\n",
    "       'has_high_school_within_1km_x', 'nearest_elementary_school_distance_y',\n",
    "       'nearest_elementary_school_within_1km_y',\n",
    "       'has_elementary_school_within_1km_y',\n",
    "       'nearest_middle_school_distance_y',\n",
    "       'nearest_middle_school_within_1km_y', 'has_middle_school_within_1km_y',\n",
    "       'nearest_high_school_distance_y', 'nearest_high_school_within_1km_y',\n",
    "       'has_high_school_within_1km_y',\n",
    "       'nearest_park_within_500.0m_x', 'has_park_within_500.0m_x',\n",
    "       'nearest_park_distance_y', 'nearest_park_within_500.0m_y',\n",
    "       'has_park_within_500.0m_y',\n",
    "       'interest_rate', 'diff_interest_rate'\n",
    "       ]\n",
=======
    "columns_needed = ['area_m2', 'contract_year_month', 'contract_day', 'contract_type', 'floor', 'latitude', 'longitude',\n",
    "                  'deposit', 'apt_idx']\n",
    "columns_needed_test = ['area_m2', 'contract_year_month', 'contract_day', 'contract_type', 'floor', 'latitude',\n",
    "                       'longitude','apt_idx']\n",
>>>>>>> main
    "train_data = train_df[columns_needed]\n",
    "test_data = test_df[columns_needed_test]"
   ]
  },
  {
   "cell_type": "markdown",
   "metadata": {},
   "source": [
    "# Holdout 데이터셋 설정 (예: 2023년 7월부터 12월까지의 데이터)"
   ]
  },
  {
   "cell_type": "code",
<<<<<<< HEAD
   "execution_count": 95,
=======
   "execution_count": 42,
>>>>>>> main
   "metadata": {
    "ExecuteTime": {
     "end_time": "2024-09-30T06:12:36.785562Z",
     "start_time": "2024-09-30T06:12:36.682644Z"
    }
   },
   "outputs": [],
   "source": [
    "holdout_start = 202307\n",
    "holdout_end = 202312\n",
    "holdout_data = train_data[\n",
    "    (train_data['contract_year_month'] >= holdout_start) & (train_data['contract_year_month'] <= holdout_end)]\n",
    "train_data = train_data[\n",
    "    ~((train_data['contract_year_month'] >= holdout_start) & (train_data['contract_year_month'] <= holdout_end))]"
   ]
  },
  {
   "cell_type": "markdown",
   "metadata": {},
   "source": [
    "# 학습 데이터와 정답 데이터 분리"
   ]
  },
  {
   "cell_type": "code",
<<<<<<< HEAD
   "execution_count": 96,
=======
   "execution_count": 43,
>>>>>>> main
   "metadata": {
    "ExecuteTime": {
     "end_time": "2024-09-30T06:12:36.830587Z",
     "start_time": "2024-09-30T06:12:36.792816Z"
    }
   },
   "outputs": [],
   "source": [
    "X_train = train_data.drop(columns=['deposit'])\n",
    "y_train = train_data['deposit']\n",
    "X_holdout = holdout_data.drop(columns=['deposit'])\n",
    "y_holdout = holdout_data['deposit']\n",
    "X_test = test_data.copy()"
   ]
  },
  {
   "cell_type": "markdown",
   "metadata": {},
   "source": [
    "## XGBoost 모델 훈련"
   ]
  },
  {
   "cell_type": "code",
<<<<<<< HEAD
   "execution_count": 97,
=======
   "execution_count": 44,
>>>>>>> main
   "metadata": {},
   "outputs": [
    {
     "data": {
      "text/html": [
<<<<<<< HEAD
       "<style>#sk-container-id-10 {\n",
=======
       "<style>#sk-container-id-5 {\n",
>>>>>>> main
       "  /* Definition of color scheme common for light and dark mode */\n",
       "  --sklearn-color-text: black;\n",
       "  --sklearn-color-line: gray;\n",
       "  /* Definition of color scheme for unfitted estimators */\n",
       "  --sklearn-color-unfitted-level-0: #fff5e6;\n",
       "  --sklearn-color-unfitted-level-1: #f6e4d2;\n",
       "  --sklearn-color-unfitted-level-2: #ffe0b3;\n",
       "  --sklearn-color-unfitted-level-3: chocolate;\n",
       "  /* Definition of color scheme for fitted estimators */\n",
       "  --sklearn-color-fitted-level-0: #f0f8ff;\n",
       "  --sklearn-color-fitted-level-1: #d4ebff;\n",
       "  --sklearn-color-fitted-level-2: #b3dbfd;\n",
       "  --sklearn-color-fitted-level-3: cornflowerblue;\n",
       "\n",
       "  /* Specific color for light theme */\n",
       "  --sklearn-color-text-on-default-background: var(--sg-text-color, var(--theme-code-foreground, var(--jp-content-font-color1, black)));\n",
       "  --sklearn-color-background: var(--sg-background-color, var(--theme-background, var(--jp-layout-color0, white)));\n",
       "  --sklearn-color-border-box: var(--sg-text-color, var(--theme-code-foreground, var(--jp-content-font-color1, black)));\n",
       "  --sklearn-color-icon: #696969;\n",
       "\n",
       "  @media (prefers-color-scheme: dark) {\n",
       "    /* Redefinition of color scheme for dark theme */\n",
       "    --sklearn-color-text-on-default-background: var(--sg-text-color, var(--theme-code-foreground, var(--jp-content-font-color1, white)));\n",
       "    --sklearn-color-background: var(--sg-background-color, var(--theme-background, var(--jp-layout-color0, #111)));\n",
       "    --sklearn-color-border-box: var(--sg-text-color, var(--theme-code-foreground, var(--jp-content-font-color1, white)));\n",
       "    --sklearn-color-icon: #878787;\n",
       "  }\n",
       "}\n",
       "\n",
<<<<<<< HEAD
       "#sk-container-id-10 {\n",
       "  color: var(--sklearn-color-text);\n",
       "}\n",
       "\n",
       "#sk-container-id-10 pre {\n",
       "  padding: 0;\n",
       "}\n",
       "\n",
       "#sk-container-id-10 input.sk-hidden--visually {\n",
=======
       "#sk-container-id-5 {\n",
       "  color: var(--sklearn-color-text);\n",
       "}\n",
       "\n",
       "#sk-container-id-5 pre {\n",
       "  padding: 0;\n",
       "}\n",
       "\n",
       "#sk-container-id-5 input.sk-hidden--visually {\n",
>>>>>>> main
       "  border: 0;\n",
       "  clip: rect(1px 1px 1px 1px);\n",
       "  clip: rect(1px, 1px, 1px, 1px);\n",
       "  height: 1px;\n",
       "  margin: -1px;\n",
       "  overflow: hidden;\n",
       "  padding: 0;\n",
       "  position: absolute;\n",
       "  width: 1px;\n",
       "}\n",
       "\n",
<<<<<<< HEAD
       "#sk-container-id-10 div.sk-dashed-wrapped {\n",
=======
       "#sk-container-id-5 div.sk-dashed-wrapped {\n",
>>>>>>> main
       "  border: 1px dashed var(--sklearn-color-line);\n",
       "  margin: 0 0.4em 0.5em 0.4em;\n",
       "  box-sizing: border-box;\n",
       "  padding-bottom: 0.4em;\n",
       "  background-color: var(--sklearn-color-background);\n",
       "}\n",
       "\n",
<<<<<<< HEAD
       "#sk-container-id-10 div.sk-container {\n",
=======
       "#sk-container-id-5 div.sk-container {\n",
>>>>>>> main
       "  /* jupyter's `normalize.less` sets `[hidden] { display: none; }`\n",
       "     but bootstrap.min.css set `[hidden] { display: none !important; }`\n",
       "     so we also need the `!important` here to be able to override the\n",
       "     default hidden behavior on the sphinx rendered scikit-learn.org.\n",
       "     See: https://github.com/scikit-learn/scikit-learn/issues/21755 */\n",
       "  display: inline-block !important;\n",
       "  position: relative;\n",
       "}\n",
       "\n",
<<<<<<< HEAD
       "#sk-container-id-10 div.sk-text-repr-fallback {\n",
=======
       "#sk-container-id-5 div.sk-text-repr-fallback {\n",
>>>>>>> main
       "  display: none;\n",
       "}\n",
       "\n",
       "div.sk-parallel-item,\n",
       "div.sk-serial,\n",
       "div.sk-item {\n",
       "  /* draw centered vertical line to link estimators */\n",
       "  background-image: linear-gradient(var(--sklearn-color-text-on-default-background), var(--sklearn-color-text-on-default-background));\n",
       "  background-size: 2px 100%;\n",
       "  background-repeat: no-repeat;\n",
       "  background-position: center center;\n",
       "}\n",
       "\n",
       "/* Parallel-specific style estimator block */\n",
       "\n",
<<<<<<< HEAD
       "#sk-container-id-10 div.sk-parallel-item::after {\n",
=======
       "#sk-container-id-5 div.sk-parallel-item::after {\n",
>>>>>>> main
       "  content: \"\";\n",
       "  width: 100%;\n",
       "  border-bottom: 2px solid var(--sklearn-color-text-on-default-background);\n",
       "  flex-grow: 1;\n",
       "}\n",
       "\n",
<<<<<<< HEAD
       "#sk-container-id-10 div.sk-parallel {\n",
=======
       "#sk-container-id-5 div.sk-parallel {\n",
>>>>>>> main
       "  display: flex;\n",
       "  align-items: stretch;\n",
       "  justify-content: center;\n",
       "  background-color: var(--sklearn-color-background);\n",
       "  position: relative;\n",
       "}\n",
       "\n",
<<<<<<< HEAD
       "#sk-container-id-10 div.sk-parallel-item {\n",
=======
       "#sk-container-id-5 div.sk-parallel-item {\n",
>>>>>>> main
       "  display: flex;\n",
       "  flex-direction: column;\n",
       "}\n",
       "\n",
<<<<<<< HEAD
       "#sk-container-id-10 div.sk-parallel-item:first-child::after {\n",
=======
       "#sk-container-id-5 div.sk-parallel-item:first-child::after {\n",
>>>>>>> main
       "  align-self: flex-end;\n",
       "  width: 50%;\n",
       "}\n",
       "\n",
<<<<<<< HEAD
       "#sk-container-id-10 div.sk-parallel-item:last-child::after {\n",
=======
       "#sk-container-id-5 div.sk-parallel-item:last-child::after {\n",
>>>>>>> main
       "  align-self: flex-start;\n",
       "  width: 50%;\n",
       "}\n",
       "\n",
<<<<<<< HEAD
       "#sk-container-id-10 div.sk-parallel-item:only-child::after {\n",
=======
       "#sk-container-id-5 div.sk-parallel-item:only-child::after {\n",
>>>>>>> main
       "  width: 0;\n",
       "}\n",
       "\n",
       "/* Serial-specific style estimator block */\n",
       "\n",
<<<<<<< HEAD
       "#sk-container-id-10 div.sk-serial {\n",
=======
       "#sk-container-id-5 div.sk-serial {\n",
>>>>>>> main
       "  display: flex;\n",
       "  flex-direction: column;\n",
       "  align-items: center;\n",
       "  background-color: var(--sklearn-color-background);\n",
       "  padding-right: 1em;\n",
       "  padding-left: 1em;\n",
       "}\n",
       "\n",
       "\n",
       "/* Toggleable style: style used for estimator/Pipeline/ColumnTransformer box that is\n",
       "clickable and can be expanded/collapsed.\n",
       "- Pipeline and ColumnTransformer use this feature and define the default style\n",
       "- Estimators will overwrite some part of the style using the `sk-estimator` class\n",
       "*/\n",
       "\n",
       "/* Pipeline and ColumnTransformer style (default) */\n",
       "\n",
<<<<<<< HEAD
       "#sk-container-id-10 div.sk-toggleable {\n",
=======
       "#sk-container-id-5 div.sk-toggleable {\n",
>>>>>>> main
       "  /* Default theme specific background. It is overwritten whether we have a\n",
       "  specific estimator or a Pipeline/ColumnTransformer */\n",
       "  background-color: var(--sklearn-color-background);\n",
       "}\n",
       "\n",
       "/* Toggleable label */\n",
<<<<<<< HEAD
       "#sk-container-id-10 label.sk-toggleable__label {\n",
=======
       "#sk-container-id-5 label.sk-toggleable__label {\n",
>>>>>>> main
       "  cursor: pointer;\n",
       "  display: block;\n",
       "  width: 100%;\n",
       "  margin-bottom: 0;\n",
       "  padding: 0.5em;\n",
       "  box-sizing: border-box;\n",
       "  text-align: center;\n",
       "}\n",
       "\n",
<<<<<<< HEAD
       "#sk-container-id-10 label.sk-toggleable__label-arrow:before {\n",
=======
       "#sk-container-id-5 label.sk-toggleable__label-arrow:before {\n",
>>>>>>> main
       "  /* Arrow on the left of the label */\n",
       "  content: \"▸\";\n",
       "  float: left;\n",
       "  margin-right: 0.25em;\n",
       "  color: var(--sklearn-color-icon);\n",
       "}\n",
       "\n",
<<<<<<< HEAD
       "#sk-container-id-10 label.sk-toggleable__label-arrow:hover:before {\n",
=======
       "#sk-container-id-5 label.sk-toggleable__label-arrow:hover:before {\n",
>>>>>>> main
       "  color: var(--sklearn-color-text);\n",
       "}\n",
       "\n",
       "/* Toggleable content - dropdown */\n",
       "\n",
<<<<<<< HEAD
       "#sk-container-id-10 div.sk-toggleable__content {\n",
=======
       "#sk-container-id-5 div.sk-toggleable__content {\n",
>>>>>>> main
       "  max-height: 0;\n",
       "  max-width: 0;\n",
       "  overflow: hidden;\n",
       "  text-align: left;\n",
       "  /* unfitted */\n",
       "  background-color: var(--sklearn-color-unfitted-level-0);\n",
       "}\n",
       "\n",
<<<<<<< HEAD
       "#sk-container-id-10 div.sk-toggleable__content.fitted {\n",
=======
       "#sk-container-id-5 div.sk-toggleable__content.fitted {\n",
>>>>>>> main
       "  /* fitted */\n",
       "  background-color: var(--sklearn-color-fitted-level-0);\n",
       "}\n",
       "\n",
<<<<<<< HEAD
       "#sk-container-id-10 div.sk-toggleable__content pre {\n",
=======
       "#sk-container-id-5 div.sk-toggleable__content pre {\n",
>>>>>>> main
       "  margin: 0.2em;\n",
       "  border-radius: 0.25em;\n",
       "  color: var(--sklearn-color-text);\n",
       "  /* unfitted */\n",
       "  background-color: var(--sklearn-color-unfitted-level-0);\n",
       "}\n",
       "\n",
<<<<<<< HEAD
       "#sk-container-id-10 div.sk-toggleable__content.fitted pre {\n",
=======
       "#sk-container-id-5 div.sk-toggleable__content.fitted pre {\n",
>>>>>>> main
       "  /* unfitted */\n",
       "  background-color: var(--sklearn-color-fitted-level-0);\n",
       "}\n",
       "\n",
<<<<<<< HEAD
       "#sk-container-id-10 input.sk-toggleable__control:checked~div.sk-toggleable__content {\n",
=======
       "#sk-container-id-5 input.sk-toggleable__control:checked~div.sk-toggleable__content {\n",
>>>>>>> main
       "  /* Expand drop-down */\n",
       "  max-height: 200px;\n",
       "  max-width: 100%;\n",
       "  overflow: auto;\n",
       "}\n",
       "\n",
<<<<<<< HEAD
       "#sk-container-id-10 input.sk-toggleable__control:checked~label.sk-toggleable__label-arrow:before {\n",
=======
       "#sk-container-id-5 input.sk-toggleable__control:checked~label.sk-toggleable__label-arrow:before {\n",
>>>>>>> main
       "  content: \"▾\";\n",
       "}\n",
       "\n",
       "/* Pipeline/ColumnTransformer-specific style */\n",
       "\n",
<<<<<<< HEAD
       "#sk-container-id-10 div.sk-label input.sk-toggleable__control:checked~label.sk-toggleable__label {\n",
=======
       "#sk-container-id-5 div.sk-label input.sk-toggleable__control:checked~label.sk-toggleable__label {\n",
>>>>>>> main
       "  color: var(--sklearn-color-text);\n",
       "  background-color: var(--sklearn-color-unfitted-level-2);\n",
       "}\n",
       "\n",
<<<<<<< HEAD
       "#sk-container-id-10 div.sk-label.fitted input.sk-toggleable__control:checked~label.sk-toggleable__label {\n",
=======
       "#sk-container-id-5 div.sk-label.fitted input.sk-toggleable__control:checked~label.sk-toggleable__label {\n",
>>>>>>> main
       "  background-color: var(--sklearn-color-fitted-level-2);\n",
       "}\n",
       "\n",
       "/* Estimator-specific style */\n",
       "\n",
       "/* Colorize estimator box */\n",
<<<<<<< HEAD
       "#sk-container-id-10 div.sk-estimator input.sk-toggleable__control:checked~label.sk-toggleable__label {\n",
=======
       "#sk-container-id-5 div.sk-estimator input.sk-toggleable__control:checked~label.sk-toggleable__label {\n",
>>>>>>> main
       "  /* unfitted */\n",
       "  background-color: var(--sklearn-color-unfitted-level-2);\n",
       "}\n",
       "\n",
<<<<<<< HEAD
       "#sk-container-id-10 div.sk-estimator.fitted input.sk-toggleable__control:checked~label.sk-toggleable__label {\n",
=======
       "#sk-container-id-5 div.sk-estimator.fitted input.sk-toggleable__control:checked~label.sk-toggleable__label {\n",
>>>>>>> main
       "  /* fitted */\n",
       "  background-color: var(--sklearn-color-fitted-level-2);\n",
       "}\n",
       "\n",
<<<<<<< HEAD
       "#sk-container-id-10 div.sk-label label.sk-toggleable__label,\n",
       "#sk-container-id-10 div.sk-label label {\n",
=======
       "#sk-container-id-5 div.sk-label label.sk-toggleable__label,\n",
       "#sk-container-id-5 div.sk-label label {\n",
>>>>>>> main
       "  /* The background is the default theme color */\n",
       "  color: var(--sklearn-color-text-on-default-background);\n",
       "}\n",
       "\n",
       "/* On hover, darken the color of the background */\n",
<<<<<<< HEAD
       "#sk-container-id-10 div.sk-label:hover label.sk-toggleable__label {\n",
=======
       "#sk-container-id-5 div.sk-label:hover label.sk-toggleable__label {\n",
>>>>>>> main
       "  color: var(--sklearn-color-text);\n",
       "  background-color: var(--sklearn-color-unfitted-level-2);\n",
       "}\n",
       "\n",
       "/* Label box, darken color on hover, fitted */\n",
<<<<<<< HEAD
       "#sk-container-id-10 div.sk-label.fitted:hover label.sk-toggleable__label.fitted {\n",
=======
       "#sk-container-id-5 div.sk-label.fitted:hover label.sk-toggleable__label.fitted {\n",
>>>>>>> main
       "  color: var(--sklearn-color-text);\n",
       "  background-color: var(--sklearn-color-fitted-level-2);\n",
       "}\n",
       "\n",
       "/* Estimator label */\n",
       "\n",
<<<<<<< HEAD
       "#sk-container-id-10 div.sk-label label {\n",
=======
       "#sk-container-id-5 div.sk-label label {\n",
>>>>>>> main
       "  font-family: monospace;\n",
       "  font-weight: bold;\n",
       "  display: inline-block;\n",
       "  line-height: 1.2em;\n",
       "}\n",
       "\n",
<<<<<<< HEAD
       "#sk-container-id-10 div.sk-label-container {\n",
=======
       "#sk-container-id-5 div.sk-label-container {\n",
>>>>>>> main
       "  text-align: center;\n",
       "}\n",
       "\n",
       "/* Estimator-specific */\n",
<<<<<<< HEAD
       "#sk-container-id-10 div.sk-estimator {\n",
=======
       "#sk-container-id-5 div.sk-estimator {\n",
>>>>>>> main
       "  font-family: monospace;\n",
       "  border: 1px dotted var(--sklearn-color-border-box);\n",
       "  border-radius: 0.25em;\n",
       "  box-sizing: border-box;\n",
       "  margin-bottom: 0.5em;\n",
       "  /* unfitted */\n",
       "  background-color: var(--sklearn-color-unfitted-level-0);\n",
       "}\n",
       "\n",
<<<<<<< HEAD
       "#sk-container-id-10 div.sk-estimator.fitted {\n",
=======
       "#sk-container-id-5 div.sk-estimator.fitted {\n",
>>>>>>> main
       "  /* fitted */\n",
       "  background-color: var(--sklearn-color-fitted-level-0);\n",
       "}\n",
       "\n",
       "/* on hover */\n",
<<<<<<< HEAD
       "#sk-container-id-10 div.sk-estimator:hover {\n",
=======
       "#sk-container-id-5 div.sk-estimator:hover {\n",
>>>>>>> main
       "  /* unfitted */\n",
       "  background-color: var(--sklearn-color-unfitted-level-2);\n",
       "}\n",
       "\n",
<<<<<<< HEAD
       "#sk-container-id-10 div.sk-estimator.fitted:hover {\n",
=======
       "#sk-container-id-5 div.sk-estimator.fitted:hover {\n",
>>>>>>> main
       "  /* fitted */\n",
       "  background-color: var(--sklearn-color-fitted-level-2);\n",
       "}\n",
       "\n",
       "/* Specification for estimator info (e.g. \"i\" and \"?\") */\n",
       "\n",
       "/* Common style for \"i\" and \"?\" */\n",
       "\n",
       ".sk-estimator-doc-link,\n",
       "a:link.sk-estimator-doc-link,\n",
       "a:visited.sk-estimator-doc-link {\n",
       "  float: right;\n",
       "  font-size: smaller;\n",
       "  line-height: 1em;\n",
       "  font-family: monospace;\n",
       "  background-color: var(--sklearn-color-background);\n",
       "  border-radius: 1em;\n",
       "  height: 1em;\n",
       "  width: 1em;\n",
       "  text-decoration: none !important;\n",
       "  margin-left: 1ex;\n",
       "  /* unfitted */\n",
       "  border: var(--sklearn-color-unfitted-level-1) 1pt solid;\n",
       "  color: var(--sklearn-color-unfitted-level-1);\n",
       "}\n",
       "\n",
       ".sk-estimator-doc-link.fitted,\n",
       "a:link.sk-estimator-doc-link.fitted,\n",
       "a:visited.sk-estimator-doc-link.fitted {\n",
       "  /* fitted */\n",
       "  border: var(--sklearn-color-fitted-level-1) 1pt solid;\n",
       "  color: var(--sklearn-color-fitted-level-1);\n",
       "}\n",
       "\n",
       "/* On hover */\n",
       "div.sk-estimator:hover .sk-estimator-doc-link:hover,\n",
       ".sk-estimator-doc-link:hover,\n",
       "div.sk-label-container:hover .sk-estimator-doc-link:hover,\n",
       ".sk-estimator-doc-link:hover {\n",
       "  /* unfitted */\n",
       "  background-color: var(--sklearn-color-unfitted-level-3);\n",
       "  color: var(--sklearn-color-background);\n",
       "  text-decoration: none;\n",
       "}\n",
       "\n",
       "div.sk-estimator.fitted:hover .sk-estimator-doc-link.fitted:hover,\n",
       ".sk-estimator-doc-link.fitted:hover,\n",
       "div.sk-label-container:hover .sk-estimator-doc-link.fitted:hover,\n",
       ".sk-estimator-doc-link.fitted:hover {\n",
       "  /* fitted */\n",
       "  background-color: var(--sklearn-color-fitted-level-3);\n",
       "  color: var(--sklearn-color-background);\n",
       "  text-decoration: none;\n",
       "}\n",
       "\n",
       "/* Span, style for the box shown on hovering the info icon */\n",
       ".sk-estimator-doc-link span {\n",
       "  display: none;\n",
       "  z-index: 9999;\n",
       "  position: relative;\n",
       "  font-weight: normal;\n",
       "  right: .2ex;\n",
       "  padding: .5ex;\n",
       "  margin: .5ex;\n",
       "  width: min-content;\n",
       "  min-width: 20ex;\n",
       "  max-width: 50ex;\n",
       "  color: var(--sklearn-color-text);\n",
       "  box-shadow: 2pt 2pt 4pt #999;\n",
       "  /* unfitted */\n",
       "  background: var(--sklearn-color-unfitted-level-0);\n",
       "  border: .5pt solid var(--sklearn-color-unfitted-level-3);\n",
       "}\n",
       "\n",
       ".sk-estimator-doc-link.fitted span {\n",
       "  /* fitted */\n",
       "  background: var(--sklearn-color-fitted-level-0);\n",
       "  border: var(--sklearn-color-fitted-level-3);\n",
       "}\n",
       "\n",
       ".sk-estimator-doc-link:hover span {\n",
       "  display: block;\n",
       "}\n",
       "\n",
       "/* \"?\"-specific style due to the `<a>` HTML tag */\n",
       "\n",
<<<<<<< HEAD
       "#sk-container-id-10 a.estimator_doc_link {\n",
=======
       "#sk-container-id-5 a.estimator_doc_link {\n",
>>>>>>> main
       "  float: right;\n",
       "  font-size: 1rem;\n",
       "  line-height: 1em;\n",
       "  font-family: monospace;\n",
       "  background-color: var(--sklearn-color-background);\n",
       "  border-radius: 1rem;\n",
       "  height: 1rem;\n",
       "  width: 1rem;\n",
       "  text-decoration: none;\n",
       "  /* unfitted */\n",
       "  color: var(--sklearn-color-unfitted-level-1);\n",
       "  border: var(--sklearn-color-unfitted-level-1) 1pt solid;\n",
       "}\n",
       "\n",
<<<<<<< HEAD
       "#sk-container-id-10 a.estimator_doc_link.fitted {\n",
=======
       "#sk-container-id-5 a.estimator_doc_link.fitted {\n",
>>>>>>> main
       "  /* fitted */\n",
       "  border: var(--sklearn-color-fitted-level-1) 1pt solid;\n",
       "  color: var(--sklearn-color-fitted-level-1);\n",
       "}\n",
       "\n",
       "/* On hover */\n",
<<<<<<< HEAD
       "#sk-container-id-10 a.estimator_doc_link:hover {\n",
=======
       "#sk-container-id-5 a.estimator_doc_link:hover {\n",
>>>>>>> main
       "  /* unfitted */\n",
       "  background-color: var(--sklearn-color-unfitted-level-3);\n",
       "  color: var(--sklearn-color-background);\n",
       "  text-decoration: none;\n",
       "}\n",
       "\n",
<<<<<<< HEAD
       "#sk-container-id-10 a.estimator_doc_link.fitted:hover {\n",
       "  /* fitted */\n",
       "  background-color: var(--sklearn-color-fitted-level-3);\n",
       "}\n",
       "</style><div id=\"sk-container-id-10\" class=\"sk-top-container\"><div class=\"sk-text-repr-fallback\"><pre>XGBRegressor(base_score=None, booster=None, callbacks=None,\n",
=======
       "#sk-container-id-5 a.estimator_doc_link.fitted:hover {\n",
       "  /* fitted */\n",
       "  background-color: var(--sklearn-color-fitted-level-3);\n",
       "}\n",
       "</style><div id=\"sk-container-id-5\" class=\"sk-top-container\"><div class=\"sk-text-repr-fallback\"><pre>XGBRegressor(base_score=None, booster=None, callbacks=None,\n",
>>>>>>> main
       "             colsample_bylevel=None, colsample_bynode=None,\n",
       "             colsample_bytree=None, device=None, early_stopping_rounds=None,\n",
       "             enable_categorical=False, eval_metric=None, feature_types=None,\n",
       "             gamma=None, grow_policy=None, importance_type=None,\n",
       "             interaction_constraints=None, learning_rate=None, max_bin=None,\n",
       "             max_cat_threshold=None, max_cat_to_onehot=None,\n",
       "             max_delta_step=None, max_depth=None, max_leaves=None,\n",
       "             min_child_weight=None, missing=nan, monotone_constraints=None,\n",
       "             multi_strategy=None, n_estimators=None, n_jobs=None,\n",
<<<<<<< HEAD
       "             num_parallel_tree=None, random_state=42, ...)</pre><b>In a Jupyter environment, please rerun this cell to show the HTML representation or trust the notebook. <br />On GitHub, the HTML representation is unable to render, please try loading this page with nbviewer.org.</b></div><div class=\"sk-container\" hidden><div class=\"sk-item\"><div class=\"sk-estimator fitted sk-toggleable\"><input class=\"sk-toggleable__control sk-hidden--visually\" id=\"sk-estimator-id-10\" type=\"checkbox\" checked><label for=\"sk-estimator-id-10\" class=\"sk-toggleable__label fitted sk-toggleable__label-arrow fitted\">&nbsp;XGBRegressor<span class=\"sk-estimator-doc-link fitted\">i<span>Fitted</span></span></label><div class=\"sk-toggleable__content fitted\"><pre>XGBRegressor(base_score=None, booster=None, callbacks=None,\n",
=======
       "             num_parallel_tree=None, random_state=42, ...)</pre><b>In a Jupyter environment, please rerun this cell to show the HTML representation or trust the notebook. <br />On GitHub, the HTML representation is unable to render, please try loading this page with nbviewer.org.</b></div><div class=\"sk-container\" hidden><div class=\"sk-item\"><div class=\"sk-estimator fitted sk-toggleable\"><input class=\"sk-toggleable__control sk-hidden--visually\" id=\"sk-estimator-id-5\" type=\"checkbox\" checked><label for=\"sk-estimator-id-5\" class=\"sk-toggleable__label fitted sk-toggleable__label-arrow fitted\">&nbsp;XGBRegressor<span class=\"sk-estimator-doc-link fitted\">i<span>Fitted</span></span></label><div class=\"sk-toggleable__content fitted\"><pre>XGBRegressor(base_score=None, booster=None, callbacks=None,\n",
>>>>>>> main
       "             colsample_bylevel=None, colsample_bynode=None,\n",
       "             colsample_bytree=None, device=None, early_stopping_rounds=None,\n",
       "             enable_categorical=False, eval_metric=None, feature_types=None,\n",
       "             gamma=None, grow_policy=None, importance_type=None,\n",
       "             interaction_constraints=None, learning_rate=None, max_bin=None,\n",
       "             max_cat_threshold=None, max_cat_to_onehot=None,\n",
       "             max_delta_step=None, max_depth=None, max_leaves=None,\n",
       "             min_child_weight=None, missing=nan, monotone_constraints=None,\n",
       "             multi_strategy=None, n_estimators=None, n_jobs=None,\n",
       "             num_parallel_tree=None, random_state=42, ...)</pre></div> </div></div></div></div>"
      ],
      "text/plain": [
       "XGBRegressor(base_score=None, booster=None, callbacks=None,\n",
       "             colsample_bylevel=None, colsample_bynode=None,\n",
       "             colsample_bytree=None, device=None, early_stopping_rounds=None,\n",
       "             enable_categorical=False, eval_metric=None, feature_types=None,\n",
       "             gamma=None, grow_policy=None, importance_type=None,\n",
       "             interaction_constraints=None, learning_rate=None, max_bin=None,\n",
       "             max_cat_threshold=None, max_cat_to_onehot=None,\n",
       "             max_delta_step=None, max_depth=None, max_leaves=None,\n",
       "             min_child_weight=None, missing=nan, monotone_constraints=None,\n",
       "             multi_strategy=None, n_estimators=None, n_jobs=None,\n",
       "             num_parallel_tree=None, random_state=42, ...)"
      ]
     },
<<<<<<< HEAD
     "execution_count": 97,
=======
     "execution_count": 44,
>>>>>>> main
     "metadata": {},
     "output_type": "execute_result"
    }
   ],
   "source": [
    "from xgboost import XGBRegressor\n",
    "\n",
    "xgb_model = XGBRegressor(random_state=RANDOM_SEED)\n",
    "xgb_model.fit(X_train, y_train)"
   ]
  },
  {
   "cell_type": "code",
<<<<<<< HEAD
   "execution_count": 98,
=======
   "execution_count": 45,
>>>>>>> main
   "metadata": {},
   "outputs": [
    {
     "name": "stdout",
     "output_type": "stream",
     "text": [
      "Holdout 데이터셋 성능:\n",
<<<<<<< HEAD
      "XGBoost MAE: 5439.26\n"
=======
      "XGBoost MAE: 6489.70\n"
>>>>>>> main
     ]
    }
   ],
   "source": [
    "# 홀드아웃 데이터에 대한 예측\n",
    "xgb_holdout_pred = xgb_model.predict(X_holdout)\n",
    "\n",
    "# 홀드아웃 데이터의 MAE 계산\n",
    "from sklearn.metrics import mean_absolute_error\n",
    "xgb_holdout_mae = mean_absolute_error(y_holdout, xgb_holdout_pred)\n",
    "\n",
    "print(\"Holdout 데이터셋 성능:\")\n",
    "print(f\"XGBoost MAE: {xgb_holdout_mae:.2f}\")"
   ]
  },
  {
   "cell_type": "code",
   "execution_count": 18,
   "metadata": {},
   "outputs": [],
   "source": [
    "xgb_test_pred = xgb_model.predict(X_test)\n",
    "sample_submission['deposit'] = xgb_test_pred\n",
    "sample_submission.to_csv('output.csv', index=False, encoding='utf-8-sig')"
   ]
  },
  {
   "cell_type": "markdown",
   "metadata": {},
   "source": [
    "# LightGBM 모델 훈련"
   ]
  },
  {
   "cell_type": "code",
<<<<<<< HEAD
   "execution_count": 52,
=======
   "execution_count": 14,
>>>>>>> main
   "metadata": {
    "ExecuteTime": {
     "end_time": "2024-09-30T06:12:39.675519Z",
     "start_time": "2024-09-30T06:12:36.878259Z"
    }
   },
   "outputs": [
    {
<<<<<<< HEAD
     "name": "stderr",
     "output_type": "stream",
     "text": [
      "c:\\Users\\com\\miniconda3\\Lib\\site-packages\\joblib\\externals\\loky\\backend\\context.py:136: UserWarning: Could not find the number of physical cores for the following reason:\n",
      "found 0 physical cores < 1\n",
      "Returning the number of logical cores instead. You can silence this warning by setting LOKY_MAX_CPU_COUNT to the number of cores you want to use.\n",
      "  warnings.warn(\n",
      "  File \"c:\\Users\\com\\miniconda3\\Lib\\site-packages\\joblib\\externals\\loky\\backend\\context.py\", line 282, in _count_physical_cores\n",
      "    raise ValueError(f\"found {cpu_count_physical} physical cores < 1\")\n"
     ]
    },
    {
     "name": "stdout",
     "output_type": "stream",
     "text": [
      "[LightGBM] [Info] Auto-choosing col-wise multi-threading, the overhead of testing was 0.241356 seconds.\n",
      "You can set `force_col_wise=true` to remove the overhead.\n",
      "[LightGBM] [Info] Total Bins 4177\n",
      "[LightGBM] [Info] Number of data points in the train set: 1594362, number of used features: 41\n",
=======
     "name": "stdout",
     "output_type": "stream",
     "text": [
      "[LightGBM] [Info] Auto-choosing row-wise multi-threading, the overhead of testing was 0.010378 seconds.\n",
      "You can set `force_row_wise=true` to remove the overhead.\n",
      "And if memory is not enough, you can set `force_col_wise=true`.\n",
      "[LightGBM] [Info] Total Bins 914\n",
      "[LightGBM] [Info] Number of data points in the train set: 1594362, number of used features: 7\n",
>>>>>>> main
      "[LightGBM] [Info] Start training from score 37814.733261\n"
     ]
    },
    {
     "data": {
      "text/html": [
<<<<<<< HEAD
       "<style>#sk-container-id-6 {\n",
=======
       "<style>#sk-container-id-2 {\n",
>>>>>>> main
       "  /* Definition of color scheme common for light and dark mode */\n",
       "  --sklearn-color-text: black;\n",
       "  --sklearn-color-line: gray;\n",
       "  /* Definition of color scheme for unfitted estimators */\n",
       "  --sklearn-color-unfitted-level-0: #fff5e6;\n",
       "  --sklearn-color-unfitted-level-1: #f6e4d2;\n",
       "  --sklearn-color-unfitted-level-2: #ffe0b3;\n",
       "  --sklearn-color-unfitted-level-3: chocolate;\n",
       "  /* Definition of color scheme for fitted estimators */\n",
       "  --sklearn-color-fitted-level-0: #f0f8ff;\n",
       "  --sklearn-color-fitted-level-1: #d4ebff;\n",
       "  --sklearn-color-fitted-level-2: #b3dbfd;\n",
       "  --sklearn-color-fitted-level-3: cornflowerblue;\n",
       "\n",
       "  /* Specific color for light theme */\n",
       "  --sklearn-color-text-on-default-background: var(--sg-text-color, var(--theme-code-foreground, var(--jp-content-font-color1, black)));\n",
       "  --sklearn-color-background: var(--sg-background-color, var(--theme-background, var(--jp-layout-color0, white)));\n",
       "  --sklearn-color-border-box: var(--sg-text-color, var(--theme-code-foreground, var(--jp-content-font-color1, black)));\n",
       "  --sklearn-color-icon: #696969;\n",
       "\n",
       "  @media (prefers-color-scheme: dark) {\n",
       "    /* Redefinition of color scheme for dark theme */\n",
       "    --sklearn-color-text-on-default-background: var(--sg-text-color, var(--theme-code-foreground, var(--jp-content-font-color1, white)));\n",
       "    --sklearn-color-background: var(--sg-background-color, var(--theme-background, var(--jp-layout-color0, #111)));\n",
       "    --sklearn-color-border-box: var(--sg-text-color, var(--theme-code-foreground, var(--jp-content-font-color1, white)));\n",
       "    --sklearn-color-icon: #878787;\n",
       "  }\n",
       "}\n",
       "\n",
<<<<<<< HEAD
       "#sk-container-id-6 {\n",
       "  color: var(--sklearn-color-text);\n",
       "}\n",
       "\n",
       "#sk-container-id-6 pre {\n",
       "  padding: 0;\n",
       "}\n",
       "\n",
       "#sk-container-id-6 input.sk-hidden--visually {\n",
=======
       "#sk-container-id-2 {\n",
       "  color: var(--sklearn-color-text);\n",
       "}\n",
       "\n",
       "#sk-container-id-2 pre {\n",
       "  padding: 0;\n",
       "}\n",
       "\n",
       "#sk-container-id-2 input.sk-hidden--visually {\n",
>>>>>>> main
       "  border: 0;\n",
       "  clip: rect(1px 1px 1px 1px);\n",
       "  clip: rect(1px, 1px, 1px, 1px);\n",
       "  height: 1px;\n",
       "  margin: -1px;\n",
       "  overflow: hidden;\n",
       "  padding: 0;\n",
       "  position: absolute;\n",
       "  width: 1px;\n",
       "}\n",
       "\n",
<<<<<<< HEAD
       "#sk-container-id-6 div.sk-dashed-wrapped {\n",
=======
       "#sk-container-id-2 div.sk-dashed-wrapped {\n",
>>>>>>> main
       "  border: 1px dashed var(--sklearn-color-line);\n",
       "  margin: 0 0.4em 0.5em 0.4em;\n",
       "  box-sizing: border-box;\n",
       "  padding-bottom: 0.4em;\n",
       "  background-color: var(--sklearn-color-background);\n",
       "}\n",
       "\n",
<<<<<<< HEAD
       "#sk-container-id-6 div.sk-container {\n",
=======
       "#sk-container-id-2 div.sk-container {\n",
>>>>>>> main
       "  /* jupyter's `normalize.less` sets `[hidden] { display: none; }`\n",
       "     but bootstrap.min.css set `[hidden] { display: none !important; }`\n",
       "     so we also need the `!important` here to be able to override the\n",
       "     default hidden behavior on the sphinx rendered scikit-learn.org.\n",
       "     See: https://github.com/scikit-learn/scikit-learn/issues/21755 */\n",
       "  display: inline-block !important;\n",
       "  position: relative;\n",
       "}\n",
       "\n",
<<<<<<< HEAD
       "#sk-container-id-6 div.sk-text-repr-fallback {\n",
=======
       "#sk-container-id-2 div.sk-text-repr-fallback {\n",
>>>>>>> main
       "  display: none;\n",
       "}\n",
       "\n",
       "div.sk-parallel-item,\n",
       "div.sk-serial,\n",
       "div.sk-item {\n",
       "  /* draw centered vertical line to link estimators */\n",
       "  background-image: linear-gradient(var(--sklearn-color-text-on-default-background), var(--sklearn-color-text-on-default-background));\n",
       "  background-size: 2px 100%;\n",
       "  background-repeat: no-repeat;\n",
       "  background-position: center center;\n",
       "}\n",
       "\n",
       "/* Parallel-specific style estimator block */\n",
       "\n",
<<<<<<< HEAD
       "#sk-container-id-6 div.sk-parallel-item::after {\n",
=======
       "#sk-container-id-2 div.sk-parallel-item::after {\n",
>>>>>>> main
       "  content: \"\";\n",
       "  width: 100%;\n",
       "  border-bottom: 2px solid var(--sklearn-color-text-on-default-background);\n",
       "  flex-grow: 1;\n",
       "}\n",
       "\n",
<<<<<<< HEAD
       "#sk-container-id-6 div.sk-parallel {\n",
=======
       "#sk-container-id-2 div.sk-parallel {\n",
>>>>>>> main
       "  display: flex;\n",
       "  align-items: stretch;\n",
       "  justify-content: center;\n",
       "  background-color: var(--sklearn-color-background);\n",
       "  position: relative;\n",
       "}\n",
       "\n",
<<<<<<< HEAD
       "#sk-container-id-6 div.sk-parallel-item {\n",
=======
       "#sk-container-id-2 div.sk-parallel-item {\n",
>>>>>>> main
       "  display: flex;\n",
       "  flex-direction: column;\n",
       "}\n",
       "\n",
<<<<<<< HEAD
       "#sk-container-id-6 div.sk-parallel-item:first-child::after {\n",
=======
       "#sk-container-id-2 div.sk-parallel-item:first-child::after {\n",
>>>>>>> main
       "  align-self: flex-end;\n",
       "  width: 50%;\n",
       "}\n",
       "\n",
<<<<<<< HEAD
       "#sk-container-id-6 div.sk-parallel-item:last-child::after {\n",
=======
       "#sk-container-id-2 div.sk-parallel-item:last-child::after {\n",
>>>>>>> main
       "  align-self: flex-start;\n",
       "  width: 50%;\n",
       "}\n",
       "\n",
<<<<<<< HEAD
       "#sk-container-id-6 div.sk-parallel-item:only-child::after {\n",
=======
       "#sk-container-id-2 div.sk-parallel-item:only-child::after {\n",
>>>>>>> main
       "  width: 0;\n",
       "}\n",
       "\n",
       "/* Serial-specific style estimator block */\n",
       "\n",
<<<<<<< HEAD
       "#sk-container-id-6 div.sk-serial {\n",
=======
       "#sk-container-id-2 div.sk-serial {\n",
>>>>>>> main
       "  display: flex;\n",
       "  flex-direction: column;\n",
       "  align-items: center;\n",
       "  background-color: var(--sklearn-color-background);\n",
       "  padding-right: 1em;\n",
       "  padding-left: 1em;\n",
       "}\n",
       "\n",
       "\n",
       "/* Toggleable style: style used for estimator/Pipeline/ColumnTransformer box that is\n",
       "clickable and can be expanded/collapsed.\n",
       "- Pipeline and ColumnTransformer use this feature and define the default style\n",
       "- Estimators will overwrite some part of the style using the `sk-estimator` class\n",
       "*/\n",
       "\n",
       "/* Pipeline and ColumnTransformer style (default) */\n",
       "\n",
<<<<<<< HEAD
       "#sk-container-id-6 div.sk-toggleable {\n",
=======
       "#sk-container-id-2 div.sk-toggleable {\n",
>>>>>>> main
       "  /* Default theme specific background. It is overwritten whether we have a\n",
       "  specific estimator or a Pipeline/ColumnTransformer */\n",
       "  background-color: var(--sklearn-color-background);\n",
       "}\n",
       "\n",
       "/* Toggleable label */\n",
<<<<<<< HEAD
       "#sk-container-id-6 label.sk-toggleable__label {\n",
=======
       "#sk-container-id-2 label.sk-toggleable__label {\n",
>>>>>>> main
       "  cursor: pointer;\n",
       "  display: block;\n",
       "  width: 100%;\n",
       "  margin-bottom: 0;\n",
       "  padding: 0.5em;\n",
       "  box-sizing: border-box;\n",
       "  text-align: center;\n",
       "}\n",
       "\n",
<<<<<<< HEAD
       "#sk-container-id-6 label.sk-toggleable__label-arrow:before {\n",
=======
       "#sk-container-id-2 label.sk-toggleable__label-arrow:before {\n",
>>>>>>> main
       "  /* Arrow on the left of the label */\n",
       "  content: \"▸\";\n",
       "  float: left;\n",
       "  margin-right: 0.25em;\n",
       "  color: var(--sklearn-color-icon);\n",
       "}\n",
       "\n",
<<<<<<< HEAD
       "#sk-container-id-6 label.sk-toggleable__label-arrow:hover:before {\n",
=======
       "#sk-container-id-2 label.sk-toggleable__label-arrow:hover:before {\n",
>>>>>>> main
       "  color: var(--sklearn-color-text);\n",
       "}\n",
       "\n",
       "/* Toggleable content - dropdown */\n",
       "\n",
<<<<<<< HEAD
       "#sk-container-id-6 div.sk-toggleable__content {\n",
=======
       "#sk-container-id-2 div.sk-toggleable__content {\n",
>>>>>>> main
       "  max-height: 0;\n",
       "  max-width: 0;\n",
       "  overflow: hidden;\n",
       "  text-align: left;\n",
       "  /* unfitted */\n",
       "  background-color: var(--sklearn-color-unfitted-level-0);\n",
       "}\n",
       "\n",
<<<<<<< HEAD
       "#sk-container-id-6 div.sk-toggleable__content.fitted {\n",
=======
       "#sk-container-id-2 div.sk-toggleable__content.fitted {\n",
>>>>>>> main
       "  /* fitted */\n",
       "  background-color: var(--sklearn-color-fitted-level-0);\n",
       "}\n",
       "\n",
<<<<<<< HEAD
       "#sk-container-id-6 div.sk-toggleable__content pre {\n",
=======
       "#sk-container-id-2 div.sk-toggleable__content pre {\n",
>>>>>>> main
       "  margin: 0.2em;\n",
       "  border-radius: 0.25em;\n",
       "  color: var(--sklearn-color-text);\n",
       "  /* unfitted */\n",
       "  background-color: var(--sklearn-color-unfitted-level-0);\n",
       "}\n",
       "\n",
<<<<<<< HEAD
       "#sk-container-id-6 div.sk-toggleable__content.fitted pre {\n",
=======
       "#sk-container-id-2 div.sk-toggleable__content.fitted pre {\n",
>>>>>>> main
       "  /* unfitted */\n",
       "  background-color: var(--sklearn-color-fitted-level-0);\n",
       "}\n",
       "\n",
<<<<<<< HEAD
       "#sk-container-id-6 input.sk-toggleable__control:checked~div.sk-toggleable__content {\n",
=======
       "#sk-container-id-2 input.sk-toggleable__control:checked~div.sk-toggleable__content {\n",
>>>>>>> main
       "  /* Expand drop-down */\n",
       "  max-height: 200px;\n",
       "  max-width: 100%;\n",
       "  overflow: auto;\n",
       "}\n",
       "\n",
<<<<<<< HEAD
       "#sk-container-id-6 input.sk-toggleable__control:checked~label.sk-toggleable__label-arrow:before {\n",
=======
       "#sk-container-id-2 input.sk-toggleable__control:checked~label.sk-toggleable__label-arrow:before {\n",
>>>>>>> main
       "  content: \"▾\";\n",
       "}\n",
       "\n",
       "/* Pipeline/ColumnTransformer-specific style */\n",
       "\n",
<<<<<<< HEAD
       "#sk-container-id-6 div.sk-label input.sk-toggleable__control:checked~label.sk-toggleable__label {\n",
=======
       "#sk-container-id-2 div.sk-label input.sk-toggleable__control:checked~label.sk-toggleable__label {\n",
>>>>>>> main
       "  color: var(--sklearn-color-text);\n",
       "  background-color: var(--sklearn-color-unfitted-level-2);\n",
       "}\n",
       "\n",
<<<<<<< HEAD
       "#sk-container-id-6 div.sk-label.fitted input.sk-toggleable__control:checked~label.sk-toggleable__label {\n",
=======
       "#sk-container-id-2 div.sk-label.fitted input.sk-toggleable__control:checked~label.sk-toggleable__label {\n",
>>>>>>> main
       "  background-color: var(--sklearn-color-fitted-level-2);\n",
       "}\n",
       "\n",
       "/* Estimator-specific style */\n",
       "\n",
       "/* Colorize estimator box */\n",
<<<<<<< HEAD
       "#sk-container-id-6 div.sk-estimator input.sk-toggleable__control:checked~label.sk-toggleable__label {\n",
=======
       "#sk-container-id-2 div.sk-estimator input.sk-toggleable__control:checked~label.sk-toggleable__label {\n",
>>>>>>> main
       "  /* unfitted */\n",
       "  background-color: var(--sklearn-color-unfitted-level-2);\n",
       "}\n",
       "\n",
<<<<<<< HEAD
       "#sk-container-id-6 div.sk-estimator.fitted input.sk-toggleable__control:checked~label.sk-toggleable__label {\n",
=======
       "#sk-container-id-2 div.sk-estimator.fitted input.sk-toggleable__control:checked~label.sk-toggleable__label {\n",
>>>>>>> main
       "  /* fitted */\n",
       "  background-color: var(--sklearn-color-fitted-level-2);\n",
       "}\n",
       "\n",
<<<<<<< HEAD
       "#sk-container-id-6 div.sk-label label.sk-toggleable__label,\n",
       "#sk-container-id-6 div.sk-label label {\n",
=======
       "#sk-container-id-2 div.sk-label label.sk-toggleable__label,\n",
       "#sk-container-id-2 div.sk-label label {\n",
>>>>>>> main
       "  /* The background is the default theme color */\n",
       "  color: var(--sklearn-color-text-on-default-background);\n",
       "}\n",
       "\n",
       "/* On hover, darken the color of the background */\n",
<<<<<<< HEAD
       "#sk-container-id-6 div.sk-label:hover label.sk-toggleable__label {\n",
=======
       "#sk-container-id-2 div.sk-label:hover label.sk-toggleable__label {\n",
>>>>>>> main
       "  color: var(--sklearn-color-text);\n",
       "  background-color: var(--sklearn-color-unfitted-level-2);\n",
       "}\n",
       "\n",
       "/* Label box, darken color on hover, fitted */\n",
<<<<<<< HEAD
       "#sk-container-id-6 div.sk-label.fitted:hover label.sk-toggleable__label.fitted {\n",
=======
       "#sk-container-id-2 div.sk-label.fitted:hover label.sk-toggleable__label.fitted {\n",
>>>>>>> main
       "  color: var(--sklearn-color-text);\n",
       "  background-color: var(--sklearn-color-fitted-level-2);\n",
       "}\n",
       "\n",
       "/* Estimator label */\n",
       "\n",
<<<<<<< HEAD
       "#sk-container-id-6 div.sk-label label {\n",
=======
       "#sk-container-id-2 div.sk-label label {\n",
>>>>>>> main
       "  font-family: monospace;\n",
       "  font-weight: bold;\n",
       "  display: inline-block;\n",
       "  line-height: 1.2em;\n",
       "}\n",
       "\n",
<<<<<<< HEAD
       "#sk-container-id-6 div.sk-label-container {\n",
=======
       "#sk-container-id-2 div.sk-label-container {\n",
>>>>>>> main
       "  text-align: center;\n",
       "}\n",
       "\n",
       "/* Estimator-specific */\n",
<<<<<<< HEAD
       "#sk-container-id-6 div.sk-estimator {\n",
=======
       "#sk-container-id-2 div.sk-estimator {\n",
>>>>>>> main
       "  font-family: monospace;\n",
       "  border: 1px dotted var(--sklearn-color-border-box);\n",
       "  border-radius: 0.25em;\n",
       "  box-sizing: border-box;\n",
       "  margin-bottom: 0.5em;\n",
       "  /* unfitted */\n",
       "  background-color: var(--sklearn-color-unfitted-level-0);\n",
       "}\n",
       "\n",
<<<<<<< HEAD
       "#sk-container-id-6 div.sk-estimator.fitted {\n",
=======
       "#sk-container-id-2 div.sk-estimator.fitted {\n",
>>>>>>> main
       "  /* fitted */\n",
       "  background-color: var(--sklearn-color-fitted-level-0);\n",
       "}\n",
       "\n",
       "/* on hover */\n",
<<<<<<< HEAD
       "#sk-container-id-6 div.sk-estimator:hover {\n",
=======
       "#sk-container-id-2 div.sk-estimator:hover {\n",
>>>>>>> main
       "  /* unfitted */\n",
       "  background-color: var(--sklearn-color-unfitted-level-2);\n",
       "}\n",
       "\n",
<<<<<<< HEAD
       "#sk-container-id-6 div.sk-estimator.fitted:hover {\n",
=======
       "#sk-container-id-2 div.sk-estimator.fitted:hover {\n",
>>>>>>> main
       "  /* fitted */\n",
       "  background-color: var(--sklearn-color-fitted-level-2);\n",
       "}\n",
       "\n",
       "/* Specification for estimator info (e.g. \"i\" and \"?\") */\n",
       "\n",
       "/* Common style for \"i\" and \"?\" */\n",
       "\n",
       ".sk-estimator-doc-link,\n",
       "a:link.sk-estimator-doc-link,\n",
       "a:visited.sk-estimator-doc-link {\n",
       "  float: right;\n",
       "  font-size: smaller;\n",
       "  line-height: 1em;\n",
       "  font-family: monospace;\n",
       "  background-color: var(--sklearn-color-background);\n",
       "  border-radius: 1em;\n",
       "  height: 1em;\n",
       "  width: 1em;\n",
       "  text-decoration: none !important;\n",
       "  margin-left: 1ex;\n",
       "  /* unfitted */\n",
       "  border: var(--sklearn-color-unfitted-level-1) 1pt solid;\n",
       "  color: var(--sklearn-color-unfitted-level-1);\n",
       "}\n",
       "\n",
       ".sk-estimator-doc-link.fitted,\n",
       "a:link.sk-estimator-doc-link.fitted,\n",
       "a:visited.sk-estimator-doc-link.fitted {\n",
       "  /* fitted */\n",
       "  border: var(--sklearn-color-fitted-level-1) 1pt solid;\n",
       "  color: var(--sklearn-color-fitted-level-1);\n",
       "}\n",
       "\n",
       "/* On hover */\n",
       "div.sk-estimator:hover .sk-estimator-doc-link:hover,\n",
       ".sk-estimator-doc-link:hover,\n",
       "div.sk-label-container:hover .sk-estimator-doc-link:hover,\n",
       ".sk-estimator-doc-link:hover {\n",
       "  /* unfitted */\n",
       "  background-color: var(--sklearn-color-unfitted-level-3);\n",
       "  color: var(--sklearn-color-background);\n",
       "  text-decoration: none;\n",
       "}\n",
       "\n",
       "div.sk-estimator.fitted:hover .sk-estimator-doc-link.fitted:hover,\n",
       ".sk-estimator-doc-link.fitted:hover,\n",
       "div.sk-label-container:hover .sk-estimator-doc-link.fitted:hover,\n",
       ".sk-estimator-doc-link.fitted:hover {\n",
       "  /* fitted */\n",
       "  background-color: var(--sklearn-color-fitted-level-3);\n",
       "  color: var(--sklearn-color-background);\n",
       "  text-decoration: none;\n",
       "}\n",
       "\n",
       "/* Span, style for the box shown on hovering the info icon */\n",
       ".sk-estimator-doc-link span {\n",
       "  display: none;\n",
       "  z-index: 9999;\n",
       "  position: relative;\n",
       "  font-weight: normal;\n",
       "  right: .2ex;\n",
       "  padding: .5ex;\n",
       "  margin: .5ex;\n",
       "  width: min-content;\n",
       "  min-width: 20ex;\n",
       "  max-width: 50ex;\n",
       "  color: var(--sklearn-color-text);\n",
       "  box-shadow: 2pt 2pt 4pt #999;\n",
       "  /* unfitted */\n",
       "  background: var(--sklearn-color-unfitted-level-0);\n",
       "  border: .5pt solid var(--sklearn-color-unfitted-level-3);\n",
       "}\n",
       "\n",
       ".sk-estimator-doc-link.fitted span {\n",
       "  /* fitted */\n",
       "  background: var(--sklearn-color-fitted-level-0);\n",
       "  border: var(--sklearn-color-fitted-level-3);\n",
       "}\n",
       "\n",
       ".sk-estimator-doc-link:hover span {\n",
       "  display: block;\n",
       "}\n",
       "\n",
       "/* \"?\"-specific style due to the `<a>` HTML tag */\n",
       "\n",
<<<<<<< HEAD
       "#sk-container-id-6 a.estimator_doc_link {\n",
=======
       "#sk-container-id-2 a.estimator_doc_link {\n",
>>>>>>> main
       "  float: right;\n",
       "  font-size: 1rem;\n",
       "  line-height: 1em;\n",
       "  font-family: monospace;\n",
       "  background-color: var(--sklearn-color-background);\n",
       "  border-radius: 1rem;\n",
       "  height: 1rem;\n",
       "  width: 1rem;\n",
       "  text-decoration: none;\n",
       "  /* unfitted */\n",
       "  color: var(--sklearn-color-unfitted-level-1);\n",
       "  border: var(--sklearn-color-unfitted-level-1) 1pt solid;\n",
       "}\n",
       "\n",
<<<<<<< HEAD
       "#sk-container-id-6 a.estimator_doc_link.fitted {\n",
=======
       "#sk-container-id-2 a.estimator_doc_link.fitted {\n",
>>>>>>> main
       "  /* fitted */\n",
       "  border: var(--sklearn-color-fitted-level-1) 1pt solid;\n",
       "  color: var(--sklearn-color-fitted-level-1);\n",
       "}\n",
       "\n",
       "/* On hover */\n",
<<<<<<< HEAD
       "#sk-container-id-6 a.estimator_doc_link:hover {\n",
=======
       "#sk-container-id-2 a.estimator_doc_link:hover {\n",
>>>>>>> main
       "  /* unfitted */\n",
       "  background-color: var(--sklearn-color-unfitted-level-3);\n",
       "  color: var(--sklearn-color-background);\n",
       "  text-decoration: none;\n",
       "}\n",
       "\n",
<<<<<<< HEAD
       "#sk-container-id-6 a.estimator_doc_link.fitted:hover {\n",
       "  /* fitted */\n",
       "  background-color: var(--sklearn-color-fitted-level-3);\n",
       "}\n",
       "</style><div id=\"sk-container-id-6\" class=\"sk-top-container\"><div class=\"sk-text-repr-fallback\"><pre>LGBMRegressor(random_state=42)</pre><b>In a Jupyter environment, please rerun this cell to show the HTML representation or trust the notebook. <br />On GitHub, the HTML representation is unable to render, please try loading this page with nbviewer.org.</b></div><div class=\"sk-container\" hidden><div class=\"sk-item\"><div class=\"sk-estimator fitted sk-toggleable\"><input class=\"sk-toggleable__control sk-hidden--visually\" id=\"sk-estimator-id-6\" type=\"checkbox\" checked><label for=\"sk-estimator-id-6\" class=\"sk-toggleable__label fitted sk-toggleable__label-arrow fitted\">&nbsp;LGBMRegressor<span class=\"sk-estimator-doc-link fitted\">i<span>Fitted</span></span></label><div class=\"sk-toggleable__content fitted\"><pre>LGBMRegressor(random_state=42)</pre></div> </div></div></div></div>"
=======
       "#sk-container-id-2 a.estimator_doc_link.fitted:hover {\n",
       "  /* fitted */\n",
       "  background-color: var(--sklearn-color-fitted-level-3);\n",
       "}\n",
       "</style><div id=\"sk-container-id-2\" class=\"sk-top-container\"><div class=\"sk-text-repr-fallback\"><pre>LGBMRegressor(random_state=42)</pre><b>In a Jupyter environment, please rerun this cell to show the HTML representation or trust the notebook. <br />On GitHub, the HTML representation is unable to render, please try loading this page with nbviewer.org.</b></div><div class=\"sk-container\" hidden><div class=\"sk-item\"><div class=\"sk-estimator fitted sk-toggleable\"><input class=\"sk-toggleable__control sk-hidden--visually\" id=\"sk-estimator-id-2\" type=\"checkbox\" checked><label for=\"sk-estimator-id-2\" class=\"sk-toggleable__label fitted sk-toggleable__label-arrow fitted\">&nbsp;LGBMRegressor<span class=\"sk-estimator-doc-link fitted\">i<span>Fitted</span></span></label><div class=\"sk-toggleable__content fitted\"><pre>LGBMRegressor(random_state=42)</pre></div> </div></div></div></div>"
>>>>>>> main
      ],
      "text/plain": [
       "LGBMRegressor(random_state=42)"
      ]
     },
<<<<<<< HEAD
     "execution_count": 52,
=======
     "execution_count": 14,
>>>>>>> main
     "metadata": {},
     "output_type": "execute_result"
    }
   ],
   "source": [
    "lgb_model = lgb.LGBMRegressor(random_state=RANDOM_SEED)\n",
    "lgb_model.fit(X_train, y_train)"
   ]
  },
  {
   "cell_type": "markdown",
   "metadata": {},
   "source": [
    "# Holdout 데이터셋에 대한 성능 확인"
   ]
  },
  {
   "cell_type": "code",
<<<<<<< HEAD
   "execution_count": 53,
=======
   "execution_count": 15,
>>>>>>> main
   "metadata": {
    "ExecuteTime": {
     "end_time": "2024-09-30T06:12:39.889411Z",
     "start_time": "2024-09-30T06:12:39.722891Z"
    }
   },
   "outputs": [
    {
     "name": "stdout",
     "output_type": "stream",
     "text": [
      "Holdout 데이터셋 성능:\n",
<<<<<<< HEAD
      "LightGBM MAE: 6057.29\n"
=======
      "LightGBM MAE: 7904.04\n"
>>>>>>> main
     ]
    }
   ],
   "source": [
    "lgb_holdout_pred = lgb_model.predict(X_holdout)\n",
    "lgb_holdout_mae = mean_absolute_error(y_holdout, lgb_holdout_pred)\n",
    "print(\"Holdout 데이터셋 성능:\")\n",
    "print(f\"LightGBM MAE: {lgb_holdout_mae:.2f}\")"
   ]
  },
  {
   "cell_type": "markdown",
   "metadata": {},
   "source": [
    "# Sample Submission 제출하기"
   ]
  },
  {
   "cell_type": "code",
   "execution_count": 15,
   "metadata": {
    "ExecuteTime": {
     "end_time": "2024-09-30T06:12:40.248510Z",
     "start_time": "2024-09-30T06:12:39.935910Z"
    }
   },
   "outputs": [],
   "source": [
    "lgb_test_pred = lgb_model.predict(X_test)\n",
    "sample_submission['deposit'] = lgb_test_pred\n",
    "sample_submission.to_csv('output.csv', index=False, encoding='utf-8-sig')"
   ]
  }
 ],
 "metadata": {
  "kernelspec": {
<<<<<<< HEAD
   "display_name": "base",
=======
   "display_name": "faceswap_conda",
>>>>>>> main
   "language": "python",
   "name": "python3"
  },
  "language_info": {
   "codemirror_mode": {
    "name": "ipython",
    "version": 3
   },
   "file_extension": ".py",
   "mimetype": "text/x-python",
   "name": "python",
   "nbconvert_exporter": "python",
   "pygments_lexer": "ipython3",
   "version": "3.12.5"
  }
 },
 "nbformat": 4,
 "nbformat_minor": 2
}
