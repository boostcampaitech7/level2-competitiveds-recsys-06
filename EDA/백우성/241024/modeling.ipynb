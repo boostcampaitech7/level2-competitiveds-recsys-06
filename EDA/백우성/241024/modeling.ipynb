{
 "cells": [
  {
   "cell_type": "code",
   "execution_count": 13,
   "id": "163b542dd8421538",
   "metadata": {
    "ExecuteTime": {
     "end_time": "2024-10-18T05:50:15.269019Z",
     "start_time": "2024-10-18T05:50:15.259730Z"
    }
   },
   "outputs": [],
   "source": [
    "import os\n",
    "import pandas as pd\n",
    "import numpy as np\n",
    "import matplotlib.pyplot as plt\n",
    "import seaborn as sns\n",
    "import lightgbm as lgb\n",
    "from sklearn.metrics import mean_squared_error, mean_absolute_error"
   ]
  },
  {
   "cell_type": "code",
   "execution_count": 14,
   "id": "183ad610a9a6ff85",
   "metadata": {
    "ExecuteTime": {
     "end_time": "2024-10-18T05:50:16.355622Z",
     "start_time": "2024-10-18T05:50:16.352322Z"
    }
   },
   "outputs": [],
   "source": [
    "import sys\n",
    "import os\n",
    "\n",
    "sys.path.append(os.path.dirname(os.path.dirname(os.path.dirname(os.path.abspath(\"\")))))\n",
    "from src.pre_process.V4.feature_add import FeatureAddition\n",
    "from src.pre_process.V4.feature_duplicate import FeatureDuplication"
   ]
  },
  {
   "cell_type": "code",
   "execution_count": 16,
   "id": "efe89320cb9ed494",
   "metadata": {
    "ExecuteTime": {
     "end_time": "2024-10-18T05:50:23.722924Z",
     "start_time": "2024-10-18T05:50:17.529202Z"
    }
   },
   "outputs": [],
   "source": [
    "BASE_PATH = r'C:\\Users\\com\\Documents\\GitHub\\level2-competitiveds-recsys-06\\data\\etc'\n",
    "BASE_PATH2 = r'C:\\Users\\com\\Documents\\GitHub\\level2-competitiveds-recsys-06\\data\\processed'\n",
    "data = pd.read_csv(os.path.join(BASE_PATH2,'v9_fillna.csv'))\n",
    "# near_apt = pd.read_csv(os.path.join(BASE_PATH,'nearest_apt_deposit.csv'))\n",
    "sample_submission = pd.read_csv(os.path.join(BASE_PATH, 'sample_submission.csv'))"
   ]
  },
  {
   "cell_type": "code",
   "execution_count": 12,
   "id": "20dab797",
   "metadata": {},
   "outputs": [],
   "source": [
    "# v8 = pd.read_csv(os.path.join(BASE_PATH,'v8+subway_1+trade_vol+near_deposit.csv'))"
   ]
  },
  {
   "cell_type": "markdown",
   "id": "7df5c46be18da810",
   "metadata": {},
   "source": [
    "---"
   ]
  },
  {
   "cell_type": "markdown",
   "id": "c9f0056e",
   "metadata": {},
   "source": [
    "## 확인"
   ]
  },
  {
   "cell_type": "code",
   "execution_count": 15,
   "id": "dc07c024",
   "metadata": {},
   "outputs": [],
   "source": [
    "d1 = pd.read_csv('3483.csv')\n",
    "d2 = pd.read_csv('3504.csv')\n",
    "d3 = pd.read_csv('3654.csv')"
   ]
  },
  {
   "cell_type": "code",
   "execution_count": 17,
   "id": "0ceb2d7e",
   "metadata": {},
   "outputs": [],
   "source": [
    "v9 = pd.read_csv('v9_log.csv')"
   ]
  },
  {
   "cell_type": "code",
   "execution_count": 19,
   "id": "133f4eac",
   "metadata": {},
   "outputs": [],
   "source": [
    "v9['deposit'] = np.expm1(v9['deposit'])"
   ]
  },
  {
   "cell_type": "code",
   "execution_count": 20,
   "id": "b74d5283",
   "metadata": {},
   "outputs": [
    {
     "name": "stdout",
     "output_type": "stream",
     "text": [
      "39308.21168309737\n"
     ]
    }
   ],
   "source": [
    "print(v9['deposit'].mean())"
   ]
  },
  {
   "cell_type": "code",
   "execution_count": 24,
   "id": "049297d0",
   "metadata": {},
   "outputs": [],
   "source": [
    "d5 = pd.DataFrame()\n",
    "d5['index'] = d1['index']"
   ]
  },
  {
   "cell_type": "code",
   "execution_count": 48,
   "id": "c2044494",
   "metadata": {},
   "outputs": [],
   "source": [
    "d5['deposit']= (d1['deposit'] + d2['deposit']) / 2"
   ]
  },
  {
   "cell_type": "code",
   "execution_count": 49,
   "id": "20f48802",
   "metadata": {},
   "outputs": [
    {
     "data": {
      "text/plain": [
       "index      75085.500000\n",
       "deposit    39252.200315\n",
       "dtype: float64"
      ]
     },
     "execution_count": 49,
     "metadata": {},
     "output_type": "execute_result"
    }
   ],
   "source": [
    "d5.mean()"
   ]
  },
  {
   "cell_type": "code",
   "execution_count": 50,
   "id": "c567a195",
   "metadata": {},
   "outputs": [
    {
     "data": {
      "text/html": [
       "<div>\n",
       "<style scoped>\n",
       "    .dataframe tbody tr th:only-of-type {\n",
       "        vertical-align: middle;\n",
       "    }\n",
       "\n",
       "    .dataframe tbody tr th {\n",
       "        vertical-align: top;\n",
       "    }\n",
       "\n",
       "    .dataframe thead th {\n",
       "        text-align: right;\n",
       "    }\n",
       "</style>\n",
       "<table border=\"1\" class=\"dataframe\">\n",
       "  <thead>\n",
       "    <tr style=\"text-align: right;\">\n",
       "      <th></th>\n",
       "      <th>index</th>\n",
       "      <th>deposit</th>\n",
       "    </tr>\n",
       "  </thead>\n",
       "  <tbody>\n",
       "    <tr>\n",
       "      <th>0</th>\n",
       "      <td>0</td>\n",
       "      <td>23220.465726</td>\n",
       "    </tr>\n",
       "    <tr>\n",
       "      <th>1</th>\n",
       "      <td>1</td>\n",
       "      <td>7090.962065</td>\n",
       "    </tr>\n",
       "    <tr>\n",
       "      <th>2</th>\n",
       "      <td>2</td>\n",
       "      <td>5979.690964</td>\n",
       "    </tr>\n",
       "    <tr>\n",
       "      <th>3</th>\n",
       "      <td>3</td>\n",
       "      <td>6078.351467</td>\n",
       "    </tr>\n",
       "    <tr>\n",
       "      <th>4</th>\n",
       "      <td>4</td>\n",
       "      <td>6389.875701</td>\n",
       "    </tr>\n",
       "    <tr>\n",
       "      <th>...</th>\n",
       "      <td>...</td>\n",
       "      <td>...</td>\n",
       "    </tr>\n",
       "    <tr>\n",
       "      <th>150167</th>\n",
       "      <td>150167</td>\n",
       "      <td>38881.020974</td>\n",
       "    </tr>\n",
       "    <tr>\n",
       "      <th>150168</th>\n",
       "      <td>150168</td>\n",
       "      <td>43909.183094</td>\n",
       "    </tr>\n",
       "    <tr>\n",
       "      <th>150169</th>\n",
       "      <td>150169</td>\n",
       "      <td>45413.970518</td>\n",
       "    </tr>\n",
       "    <tr>\n",
       "      <th>150170</th>\n",
       "      <td>150170</td>\n",
       "      <td>38812.264046</td>\n",
       "    </tr>\n",
       "    <tr>\n",
       "      <th>150171</th>\n",
       "      <td>150171</td>\n",
       "      <td>38671.293181</td>\n",
       "    </tr>\n",
       "  </tbody>\n",
       "</table>\n",
       "<p>150172 rows × 2 columns</p>\n",
       "</div>"
      ],
      "text/plain": [
       "         index       deposit\n",
       "0            0  23220.465726\n",
       "1            1   7090.962065\n",
       "2            2   5979.690964\n",
       "3            3   6078.351467\n",
       "4            4   6389.875701\n",
       "...        ...           ...\n",
       "150167  150167  38881.020974\n",
       "150168  150168  43909.183094\n",
       "150169  150169  45413.970518\n",
       "150170  150170  38812.264046\n",
       "150171  150171  38671.293181\n",
       "\n",
       "[150172 rows x 2 columns]"
      ]
     },
     "execution_count": 50,
     "metadata": {},
     "output_type": "execute_result"
    }
   ],
   "source": [
    "d5"
   ]
  },
  {
   "cell_type": "code",
   "execution_count": 54,
   "id": "7f9ea699",
   "metadata": {},
   "outputs": [],
   "source": [
    "d5.to_csv('final.csv')"
   ]
  },
  {
   "cell_type": "code",
   "execution_count": 23,
   "id": "c77247a5",
   "metadata": {},
   "outputs": [
    {
     "name": "stdout",
     "output_type": "stream",
     "text": [
      "591.7098744994471\n"
     ]
    }
   ],
   "source": [
    "\n",
    "mae_d2_v9 = mean_absolute_error(d1['deposit'], v9['deposit'])\n",
    "print(mae_d2_v9)"
   ]
  },
  {
   "cell_type": "code",
   "execution_count": 4,
   "id": "01be9643",
   "metadata": {},
   "outputs": [
    {
     "name": "stdout",
     "output_type": "stream",
     "text": [
      "39147.14513313875\n",
      "39357.2554977428\n",
      "39262.106154423236\n",
      "-210.1103646040492\n"
     ]
    }
   ],
   "source": [
    "print(d1['deposit'].mean())\n",
    "print(d2['deposit'].mean())\n",
    "print(d3['deposit'].mean())\n",
    "print((d1['deposit'] - d2['deposit']).mean())"
   ]
  },
  {
   "cell_type": "code",
   "execution_count": 9,
   "id": "7c4e86a2",
   "metadata": {},
   "outputs": [
    {
     "name": "stdout",
     "output_type": "stream",
     "text": [
      "555.9645490880898\n",
      "1072.419542198984\n",
      "1021.9356753146889\n"
     ]
    }
   ],
   "source": [
    "from sklearn.metrics import mean_absolute_error\n",
    "mae_d1_d2 = mean_absolute_error(d1['deposit'], d2['deposit'])\n",
    "mae_d2_d3 = mean_absolute_error(d2['deposit'], d3['deposit'])\n",
    "mae_d1_d3 = mean_absolute_error(d1['deposit'], d3['deposit'])\n",
    "print(mae_d1_d2)\n",
    "print(mae_d2_d3)\n",
    "print(mae_d1_d3)"
   ]
  },
  {
   "cell_type": "code",
   "execution_count": 6,
   "id": "0c6895c9",
   "metadata": {},
   "outputs": [],
   "source": [
    "d4 = pd.DataFrame()\n",
    "d4['index'] = d1['index']"
   ]
  },
  {
   "cell_type": "code",
   "execution_count": 7,
   "id": "ba69d6d3",
   "metadata": {},
   "outputs": [],
   "source": [
    "d4['deposit']= ((d2['deposit'] * 0.75) + (d3['deposit'] * 0.25))"
   ]
  },
  {
   "cell_type": "code",
   "execution_count": 8,
   "id": "8c4fd376",
   "metadata": {},
   "outputs": [
    {
     "data": {
      "text/html": [
       "<div>\n",
       "<style scoped>\n",
       "    .dataframe tbody tr th:only-of-type {\n",
       "        vertical-align: middle;\n",
       "    }\n",
       "\n",
       "    .dataframe tbody tr th {\n",
       "        vertical-align: top;\n",
       "    }\n",
       "\n",
       "    .dataframe thead th {\n",
       "        text-align: right;\n",
       "    }\n",
       "</style>\n",
       "<table border=\"1\" class=\"dataframe\">\n",
       "  <thead>\n",
       "    <tr style=\"text-align: right;\">\n",
       "      <th></th>\n",
       "      <th>index</th>\n",
       "      <th>deposit</th>\n",
       "    </tr>\n",
       "  </thead>\n",
       "  <tbody>\n",
       "    <tr>\n",
       "      <th>0</th>\n",
       "      <td>0</td>\n",
       "      <td>23350.230911</td>\n",
       "    </tr>\n",
       "    <tr>\n",
       "      <th>1</th>\n",
       "      <td>1</td>\n",
       "      <td>7130.747067</td>\n",
       "    </tr>\n",
       "    <tr>\n",
       "      <th>2</th>\n",
       "      <td>2</td>\n",
       "      <td>5920.535725</td>\n",
       "    </tr>\n",
       "    <tr>\n",
       "      <th>3</th>\n",
       "      <td>3</td>\n",
       "      <td>5970.201693</td>\n",
       "    </tr>\n",
       "    <tr>\n",
       "      <th>4</th>\n",
       "      <td>4</td>\n",
       "      <td>6430.956542</td>\n",
       "    </tr>\n",
       "    <tr>\n",
       "      <th>...</th>\n",
       "      <td>...</td>\n",
       "      <td>...</td>\n",
       "    </tr>\n",
       "    <tr>\n",
       "      <th>150167</th>\n",
       "      <td>150167</td>\n",
       "      <td>39163.889968</td>\n",
       "    </tr>\n",
       "    <tr>\n",
       "      <th>150168</th>\n",
       "      <td>150168</td>\n",
       "      <td>43656.366001</td>\n",
       "    </tr>\n",
       "    <tr>\n",
       "      <th>150169</th>\n",
       "      <td>150169</td>\n",
       "      <td>44571.156443</td>\n",
       "    </tr>\n",
       "    <tr>\n",
       "      <th>150170</th>\n",
       "      <td>150170</td>\n",
       "      <td>38720.150330</td>\n",
       "    </tr>\n",
       "    <tr>\n",
       "      <th>150171</th>\n",
       "      <td>150171</td>\n",
       "      <td>38781.098819</td>\n",
       "    </tr>\n",
       "  </tbody>\n",
       "</table>\n",
       "<p>150172 rows × 2 columns</p>\n",
       "</div>"
      ],
      "text/plain": [
       "         index       deposit\n",
       "0            0  23350.230911\n",
       "1            1   7130.747067\n",
       "2            2   5920.535725\n",
       "3            3   5970.201693\n",
       "4            4   6430.956542\n",
       "...        ...           ...\n",
       "150167  150167  39163.889968\n",
       "150168  150168  43656.366001\n",
       "150169  150169  44571.156443\n",
       "150170  150170  38720.150330\n",
       "150171  150171  38781.098819\n",
       "\n",
       "[150172 rows x 2 columns]"
      ]
     },
     "execution_count": 8,
     "metadata": {},
     "output_type": "execute_result"
    }
   ],
   "source": [
    "d4"
   ]
  },
  {
   "cell_type": "code",
   "execution_count": 12,
   "id": "e8099748",
   "metadata": {},
   "outputs": [],
   "source": [
    "d4.to_csv('v9_ensemble.csv',index=False)"
   ]
  },
  {
   "cell_type": "code",
   "execution_count": 10,
   "id": "c53f6b9d",
   "metadata": {},
   "outputs": [
    {
     "name": "stdout",
     "output_type": "stream",
     "text": [
      "39333.46816191291\n",
      "528.1814471000981\n"
     ]
    }
   ],
   "source": [
    "mae_d1_d4 = mean_absolute_error(d1['deposit'], d4['deposit'])\n",
    "print(d4['deposit'].mean())\n",
    "print(mae_d1_d4)"
   ]
  },
  {
   "cell_type": "code",
   "execution_count": 44,
   "id": "62a0d4db",
   "metadata": {},
   "outputs": [],
   "source": [
    "d4['deposit']= (d1['deposit']+d2['deposit']) / 2"
   ]
  },
  {
   "cell_type": "code",
   "execution_count": 47,
   "id": "0675575e",
   "metadata": {},
   "outputs": [
    {
     "name": "stdout",
     "output_type": "stream",
     "text": [
      "39355.02543500874\n"
     ]
    }
   ],
   "source": [
    "print(d4['deposit'].mean())"
   ]
  },
  {
   "cell_type": "code",
   "execution_count": 25,
   "id": "324b7a64",
   "metadata": {},
   "outputs": [
    {
     "name": "stderr",
     "output_type": "stream",
     "text": [
      "No artists with labels found to put in legend.  Note that artists whose label start with an underscore are ignored when legend() is called with no argument.\n"
     ]
    },
    {
     "data": {
      "image/png": "[encoded data removed]",
      "text/plain": [
       "<Figure size 1000x800 with 1 Axes>"
      ]
     },
     "metadata": {},
     "output_type": "display_data"
    }
   ],
   "source": [
    "plt.figure(figsize=(10,8))\n",
    "plt.scatter(d1['index'],d1['deposit'])\n",
    "plt.scatter(d2['index'],d2['deposit'])\n",
    "plt.scatter(v9['index'],v9['deposit'])\n",
    "plt.legend()\n",
    "plt.show()"
   ]
  },
  {
   "cell_type": "code",
   "execution_count": 34,
   "id": "366cfe31",
   "metadata": {},
   "outputs": [],
   "source": [
    "# 각 데이터프레임의 상위 30%만 추출\n",
    "d1_top_30 = d1.iloc[:int(len(d1) * 0.3)]\n",
    "d2_top_30 = d2.iloc[:int(len(d2) * 0.3)]\n",
    "d3_top_30 = d3.iloc[:int(len(d3) * 0.3)]\n",
    "\n",
    "# 상위 30%의 'deposit' 값의 평균 계산\n",
    "mean_d1_top_30 = d1_top_30['deposit'].mean()\n",
    "mean_d2_top_30 = d2_top_30['deposit'].mean()\n",
    "mean_d3_top_30 = d3_top_30['deposit'].mean()"
   ]
  },
  {
   "cell_type": "code",
   "execution_count": 35,
   "id": "d20eca09",
   "metadata": {},
   "outputs": [
    {
     "name": "stdout",
     "output_type": "stream",
     "text": [
      "34475.88950808671\n",
      "34574.647153395425\n",
      "34515.40996955903\n"
     ]
    }
   ],
   "source": [
    "print(mean_d1_top_30)\n",
    "print(mean_d2_top_30)\n",
    "print(mean_d3_top_30)"
   ]
  },
  {
   "cell_type": "markdown",
   "id": "b747f76a",
   "metadata": {},
   "source": [
    "## data"
   ]
  },
  {
   "cell_type": "code",
   "execution_count": 17,
   "id": "32bff8bb",
   "metadata": {},
   "outputs": [
    {
     "data": {
      "text/plain": [
       "Index(['contract_date_numeric', 'area_m2', 'floor', 'built_year', 'latitude',\n",
       "       'longitude', 'age', 'contract_0', 'contract_1', 'deposit', 'apt_idx',\n",
       "       'area', 'grid_deposit', 'apt_deposit_rank', 'apt_area_deposit_rank',\n",
       "       'recent_deposit', 'nearest_park_distance', 'nearest_park_idx',\n",
       "       'park_area', 'nearest_school_distance', 'nearest_school_idx',\n",
       "       'nearest_subway_distance', 'nearest_subway_idx', 'park_count',\n",
       "       'school_count', 'subway_count', '_type'],\n",
       "      dtype='object')"
      ]
     },
     "execution_count": 17,
     "metadata": {},
     "output_type": "execute_result"
    }
   ],
   "source": [
    "data.columns"
   ]
  },
  {
   "cell_type": "code",
   "execution_count": 18,
   "id": "b812c21a",
   "metadata": {},
   "outputs": [],
   "source": [
    "data[['floor','age']] = data[['floor','age']].clip(lower=0)"
   ]
  },
  {
   "cell_type": "code",
   "execution_count": 7,
   "id": "5c960fff",
   "metadata": {},
   "outputs": [
    {
     "data": {
      "text/html": [
       "<div>\n",
       "<style scoped>\n",
       "    .dataframe tbody tr th:only-of-type {\n",
       "        vertical-align: middle;\n",
       "    }\n",
       "\n",
       "    .dataframe tbody tr th {\n",
       "        vertical-align: top;\n",
       "    }\n",
       "\n",
       "    .dataframe thead th {\n",
       "        text-align: right;\n",
       "    }\n",
       "</style>\n",
       "<table border=\"1\" class=\"dataframe\">\n",
       "  <thead>\n",
       "    <tr style=\"text-align: right;\">\n",
       "      <th></th>\n",
       "      <th>deposit</th>\n",
       "      <th>floor</th>\n",
       "    </tr>\n",
       "  </thead>\n",
       "  <tbody>\n",
       "    <tr>\n",
       "      <th>deposit</th>\n",
       "      <td>1.000000</td>\n",
       "      <td>0.132339</td>\n",
       "    </tr>\n",
       "    <tr>\n",
       "      <th>floor</th>\n",
       "      <td>0.132339</td>\n",
       "      <td>1.000000</td>\n",
       "    </tr>\n",
       "  </tbody>\n",
       "</table>\n",
       "</div>"
      ],
      "text/plain": [
       "          deposit     floor\n",
       "deposit  1.000000  0.132339\n",
       "floor    0.132339  1.000000"
      ]
     },
     "execution_count": 7,
     "metadata": {},
     "output_type": "execute_result"
    }
   ],
   "source": [
    "data[['deposit','floor']].corr()"
   ]
  },
  {
   "cell_type": "code",
   "execution_count": 19,
   "id": "91f25a31",
   "metadata": {},
   "outputs": [],
   "source": [
    "data[['area_m2', 'floor', 'built_year', 'age','deposit',\n",
    "       'area', 'grid_deposit',\n",
    "       'recent_deposit', 'nearest_park_distance',\n",
    "       'park_area', 'nearest_school_distance',\n",
    "       'nearest_subway_distance', 'park_count',\n",
    "       'school_count', 'subway_count',]] = np.log1p(data[['area_m2', 'floor', 'built_year', 'age','deposit',\n",
    "       'area', 'grid_deposit',\n",
    "       'recent_deposit', 'nearest_park_distance',\n",
    "       'park_area', 'nearest_school_distance',\n",
    "       'nearest_subway_distance', 'park_count',\n",
    "       'school_count', 'subway_count',]])"
   ]
  },
  {
   "cell_type": "code",
   "execution_count": 20,
   "id": "493e461f",
   "metadata": {},
   "outputs": [
    {
     "data": {
      "text/html": [
       "<div>\n",
       "<style scoped>\n",
       "    .dataframe tbody tr th:only-of-type {\n",
       "        vertical-align: middle;\n",
       "    }\n",
       "\n",
       "    .dataframe tbody tr th {\n",
       "        vertical-align: top;\n",
       "    }\n",
       "\n",
       "    .dataframe thead th {\n",
       "        text-align: right;\n",
       "    }\n",
       "</style>\n",
       "<table border=\"1\" class=\"dataframe\">\n",
       "  <thead>\n",
       "    <tr style=\"text-align: right;\">\n",
       "      <th></th>\n",
       "      <th>contract_date_numeric</th>\n",
       "      <th>area_m2</th>\n",
       "      <th>floor</th>\n",
       "      <th>built_year</th>\n",
       "      <th>latitude</th>\n",
       "      <th>longitude</th>\n",
       "      <th>age</th>\n",
       "      <th>contract_0</th>\n",
       "      <th>contract_1</th>\n",
       "      <th>deposit</th>\n",
       "      <th>...</th>\n",
       "      <th>nearest_park_idx</th>\n",
       "      <th>park_area</th>\n",
       "      <th>nearest_school_distance</th>\n",
       "      <th>nearest_school_idx</th>\n",
       "      <th>nearest_subway_distance</th>\n",
       "      <th>nearest_subway_idx</th>\n",
       "      <th>park_count</th>\n",
       "      <th>school_count</th>\n",
       "      <th>subway_count</th>\n",
       "      <th>_type</th>\n",
       "    </tr>\n",
       "  </thead>\n",
       "  <tbody>\n",
       "    <tr>\n",
       "      <th>0</th>\n",
       "      <td>20190625</td>\n",
       "      <td>4.454325</td>\n",
       "      <td>2.302585</td>\n",
       "      <td>7.610853</td>\n",
       "      <td>37.054314</td>\n",
       "      <td>127.045216</td>\n",
       "      <td>0.000000</td>\n",
       "      <td>False</td>\n",
       "      <td>False</td>\n",
       "      <td>9.741027</td>\n",
       "      <td>...</td>\n",
       "      <td>9759</td>\n",
       "      <td>8.268475</td>\n",
       "      <td>5.057013</td>\n",
       "      <td>6739</td>\n",
       "      <td>6.576404</td>\n",
       "      <td>12</td>\n",
       "      <td>2.302585</td>\n",
       "      <td>2.772589</td>\n",
       "      <td>0.693147</td>\n",
       "      <td>train</td>\n",
       "    </tr>\n",
       "    <tr>\n",
       "      <th>1</th>\n",
       "      <td>20200326</td>\n",
       "      <td>4.454325</td>\n",
       "      <td>3.044522</td>\n",
       "      <td>7.610853</td>\n",
       "      <td>37.054314</td>\n",
       "      <td>127.045216</td>\n",
       "      <td>0.693147</td>\n",
       "      <td>False</td>\n",
       "      <td>False</td>\n",
       "      <td>10.043293</td>\n",
       "      <td>...</td>\n",
       "      <td>9759</td>\n",
       "      <td>8.268475</td>\n",
       "      <td>5.057013</td>\n",
       "      <td>6739</td>\n",
       "      <td>6.576404</td>\n",
       "      <td>12</td>\n",
       "      <td>2.302585</td>\n",
       "      <td>2.772589</td>\n",
       "      <td>0.693147</td>\n",
       "      <td>train</td>\n",
       "    </tr>\n",
       "    <tr>\n",
       "      <th>2</th>\n",
       "      <td>20200328</td>\n",
       "      <td>4.454325</td>\n",
       "      <td>2.197225</td>\n",
       "      <td>7.610853</td>\n",
       "      <td>37.054314</td>\n",
       "      <td>127.045216</td>\n",
       "      <td>0.693147</td>\n",
       "      <td>False</td>\n",
       "      <td>False</td>\n",
       "      <td>10.043293</td>\n",
       "      <td>...</td>\n",
       "      <td>9759</td>\n",
       "      <td>8.268475</td>\n",
       "      <td>5.057013</td>\n",
       "      <td>6739</td>\n",
       "      <td>6.576404</td>\n",
       "      <td>12</td>\n",
       "      <td>2.302585</td>\n",
       "      <td>2.772589</td>\n",
       "      <td>0.693147</td>\n",
       "      <td>train</td>\n",
       "    </tr>\n",
       "    <tr>\n",
       "      <th>3</th>\n",
       "      <td>20190715</td>\n",
       "      <td>4.099995</td>\n",
       "      <td>0.693147</td>\n",
       "      <td>7.594381</td>\n",
       "      <td>36.964647</td>\n",
       "      <td>127.055847</td>\n",
       "      <td>3.526361</td>\n",
       "      <td>False</td>\n",
       "      <td>False</td>\n",
       "      <td>8.517393</td>\n",
       "      <td>...</td>\n",
       "      <td>9139</td>\n",
       "      <td>7.388328</td>\n",
       "      <td>5.373238</td>\n",
       "      <td>6535</td>\n",
       "      <td>8.268291</td>\n",
       "      <td>10</td>\n",
       "      <td>2.079442</td>\n",
       "      <td>1.386294</td>\n",
       "      <td>0.693147</td>\n",
       "      <td>train</td>\n",
       "    </tr>\n",
       "    <tr>\n",
       "      <th>4</th>\n",
       "      <td>20190412</td>\n",
       "      <td>4.107754</td>\n",
       "      <td>1.945910</td>\n",
       "      <td>7.598900</td>\n",
       "      <td>36.972390</td>\n",
       "      <td>127.084514</td>\n",
       "      <td>3.218876</td>\n",
       "      <td>False</td>\n",
       "      <td>False</td>\n",
       "      <td>7.496097</td>\n",
       "      <td>...</td>\n",
       "      <td>9201</td>\n",
       "      <td>8.290794</td>\n",
       "      <td>7.443950</td>\n",
       "      <td>6589</td>\n",
       "      <td>7.621041</td>\n",
       "      <td>10</td>\n",
       "      <td>0.693147</td>\n",
       "      <td>1.945910</td>\n",
       "      <td>0.693147</td>\n",
       "      <td>train</td>\n",
       "    </tr>\n",
       "    <tr>\n",
       "      <th>...</th>\n",
       "      <td>...</td>\n",
       "      <td>...</td>\n",
       "      <td>...</td>\n",
       "      <td>...</td>\n",
       "      <td>...</td>\n",
       "      <td>...</td>\n",
       "      <td>...</td>\n",
       "      <td>...</td>\n",
       "      <td>...</td>\n",
       "      <td>...</td>\n",
       "      <td>...</td>\n",
       "      <td>...</td>\n",
       "      <td>...</td>\n",
       "      <td>...</td>\n",
       "      <td>...</td>\n",
       "      <td>...</td>\n",
       "      <td>...</td>\n",
       "      <td>...</td>\n",
       "      <td>...</td>\n",
       "      <td>...</td>\n",
       "      <td>...</td>\n",
       "    </tr>\n",
       "    <tr>\n",
       "      <th>1951395</th>\n",
       "      <td>20240227</td>\n",
       "      <td>4.757978</td>\n",
       "      <td>2.890372</td>\n",
       "      <td>7.606387</td>\n",
       "      <td>37.528394</td>\n",
       "      <td>126.659398</td>\n",
       "      <td>2.708050</td>\n",
       "      <td>True</td>\n",
       "      <td>False</td>\n",
       "      <td>NaN</td>\n",
       "      <td>...</td>\n",
       "      <td>14160</td>\n",
       "      <td>9.101072</td>\n",
       "      <td>5.419447</td>\n",
       "      <td>9387</td>\n",
       "      <td>7.302526</td>\n",
       "      <td>293</td>\n",
       "      <td>2.302585</td>\n",
       "      <td>2.484907</td>\n",
       "      <td>1.609438</td>\n",
       "      <td>test</td>\n",
       "    </tr>\n",
       "    <tr>\n",
       "      <th>1951396</th>\n",
       "      <td>20240302</td>\n",
       "      <td>4.968937</td>\n",
       "      <td>1.609438</td>\n",
       "      <td>7.606387</td>\n",
       "      <td>37.528394</td>\n",
       "      <td>126.659398</td>\n",
       "      <td>2.708050</td>\n",
       "      <td>True</td>\n",
       "      <td>False</td>\n",
       "      <td>NaN</td>\n",
       "      <td>...</td>\n",
       "      <td>14160</td>\n",
       "      <td>9.101072</td>\n",
       "      <td>5.419447</td>\n",
       "      <td>9387</td>\n",
       "      <td>7.302526</td>\n",
       "      <td>293</td>\n",
       "      <td>2.302585</td>\n",
       "      <td>2.484907</td>\n",
       "      <td>1.609438</td>\n",
       "      <td>test</td>\n",
       "    </tr>\n",
       "    <tr>\n",
       "      <th>1951397</th>\n",
       "      <td>20240316</td>\n",
       "      <td>4.968937</td>\n",
       "      <td>2.639057</td>\n",
       "      <td>7.606387</td>\n",
       "      <td>37.528394</td>\n",
       "      <td>126.659398</td>\n",
       "      <td>2.708050</td>\n",
       "      <td>False</td>\n",
       "      <td>True</td>\n",
       "      <td>NaN</td>\n",
       "      <td>...</td>\n",
       "      <td>14160</td>\n",
       "      <td>9.101072</td>\n",
       "      <td>5.419447</td>\n",
       "      <td>9387</td>\n",
       "      <td>7.302526</td>\n",
       "      <td>293</td>\n",
       "      <td>2.302585</td>\n",
       "      <td>2.484907</td>\n",
       "      <td>1.609438</td>\n",
       "      <td>test</td>\n",
       "    </tr>\n",
       "    <tr>\n",
       "      <th>1951398</th>\n",
       "      <td>20240322</td>\n",
       "      <td>4.752974</td>\n",
       "      <td>1.098612</td>\n",
       "      <td>7.606387</td>\n",
       "      <td>37.528394</td>\n",
       "      <td>126.659398</td>\n",
       "      <td>2.708050</td>\n",
       "      <td>False</td>\n",
       "      <td>True</td>\n",
       "      <td>NaN</td>\n",
       "      <td>...</td>\n",
       "      <td>14160</td>\n",
       "      <td>9.101072</td>\n",
       "      <td>5.419447</td>\n",
       "      <td>9387</td>\n",
       "      <td>7.302526</td>\n",
       "      <td>293</td>\n",
       "      <td>2.302585</td>\n",
       "      <td>2.484907</td>\n",
       "      <td>1.609438</td>\n",
       "      <td>test</td>\n",
       "    </tr>\n",
       "    <tr>\n",
       "      <th>1951399</th>\n",
       "      <td>20240322</td>\n",
       "      <td>4.757978</td>\n",
       "      <td>2.079442</td>\n",
       "      <td>7.606387</td>\n",
       "      <td>37.528394</td>\n",
       "      <td>126.659398</td>\n",
       "      <td>2.708050</td>\n",
       "      <td>False</td>\n",
       "      <td>True</td>\n",
       "      <td>NaN</td>\n",
       "      <td>...</td>\n",
       "      <td>14160</td>\n",
       "      <td>9.101072</td>\n",
       "      <td>5.419447</td>\n",
       "      <td>9387</td>\n",
       "      <td>7.302526</td>\n",
       "      <td>293</td>\n",
       "      <td>2.302585</td>\n",
       "      <td>2.484907</td>\n",
       "      <td>1.609438</td>\n",
       "      <td>test</td>\n",
       "    </tr>\n",
       "  </tbody>\n",
       "</table>\n",
       "<p>1951400 rows × 27 columns</p>\n",
       "</div>"
      ],
      "text/plain": [
       "         contract_date_numeric   area_m2     floor  built_year   latitude  \\\n",
       "0                     20190625  4.454325  2.302585    7.610853  37.054314   \n",
       "1                     20200326  4.454325  3.044522    7.610853  37.054314   \n",
       "2                     20200328  4.454325  2.197225    7.610853  37.054314   \n",
       "3                     20190715  4.099995  0.693147    7.594381  36.964647   \n",
       "4                     20190412  4.107754  1.945910    7.598900  36.972390   \n",
       "...                        ...       ...       ...         ...        ...   \n",
       "1951395               20240227  4.757978  2.890372    7.606387  37.528394   \n",
       "1951396               20240302  4.968937  1.609438    7.606387  37.528394   \n",
       "1951397               20240316  4.968937  2.639057    7.606387  37.528394   \n",
       "1951398               20240322  4.752974  1.098612    7.606387  37.528394   \n",
       "1951399               20240322  4.757978  2.079442    7.606387  37.528394   \n",
       "\n",
       "          longitude       age  contract_0  contract_1    deposit  ...  \\\n",
       "0        127.045216  0.000000       False       False   9.741027  ...   \n",
       "1        127.045216  0.693147       False       False  10.043293  ...   \n",
       "2        127.045216  0.693147       False       False  10.043293  ...   \n",
       "3        127.055847  3.526361       False       False   8.517393  ...   \n",
       "4        127.084514  3.218876       False       False   7.496097  ...   \n",
       "...             ...       ...         ...         ...        ...  ...   \n",
       "1951395  126.659398  2.708050        True       False        NaN  ...   \n",
       "1951396  126.659398  2.708050        True       False        NaN  ...   \n",
       "1951397  126.659398  2.708050       False        True        NaN  ...   \n",
       "1951398  126.659398  2.708050       False        True        NaN  ...   \n",
       "1951399  126.659398  2.708050       False        True        NaN  ...   \n",
       "\n",
       "         nearest_park_idx  park_area  nearest_school_distance  \\\n",
       "0                    9759   8.268475                 5.057013   \n",
       "1                    9759   8.268475                 5.057013   \n",
       "2                    9759   8.268475                 5.057013   \n",
       "3                    9139   7.388328                 5.373238   \n",
       "4                    9201   8.290794                 7.443950   \n",
       "...                   ...        ...                      ...   \n",
       "1951395             14160   9.101072                 5.419447   \n",
       "1951396             14160   9.101072                 5.419447   \n",
       "1951397             14160   9.101072                 5.419447   \n",
       "1951398             14160   9.101072                 5.419447   \n",
       "1951399             14160   9.101072                 5.419447   \n",
       "\n",
       "         nearest_school_idx  nearest_subway_distance  nearest_subway_idx  \\\n",
       "0                      6739                 6.576404                  12   \n",
       "1                      6739                 6.576404                  12   \n",
       "2                      6739                 6.576404                  12   \n",
       "3                      6535                 8.268291                  10   \n",
       "4                      6589                 7.621041                  10   \n",
       "...                     ...                      ...                 ...   \n",
       "1951395                9387                 7.302526                 293   \n",
       "1951396                9387                 7.302526                 293   \n",
       "1951397                9387                 7.302526                 293   \n",
       "1951398                9387                 7.302526                 293   \n",
       "1951399                9387                 7.302526                 293   \n",
       "\n",
       "         park_count  school_count  subway_count  _type  \n",
       "0          2.302585      2.772589      0.693147  train  \n",
       "1          2.302585      2.772589      0.693147  train  \n",
       "2          2.302585      2.772589      0.693147  train  \n",
       "3          2.079442      1.386294      0.693147  train  \n",
       "4          0.693147      1.945910      0.693147  train  \n",
       "...             ...           ...           ...    ...  \n",
       "1951395    2.302585      2.484907      1.609438   test  \n",
       "1951396    2.302585      2.484907      1.609438   test  \n",
       "1951397    2.302585      2.484907      1.609438   test  \n",
       "1951398    2.302585      2.484907      1.609438   test  \n",
       "1951399    2.302585      2.484907      1.609438   test  \n",
       "\n",
       "[1951400 rows x 27 columns]"
      ]
     },
     "execution_count": 20,
     "metadata": {},
     "output_type": "execute_result"
    }
   ],
   "source": [
    "data"
   ]
  },
  {
   "cell_type": "code",
   "execution_count": 21,
   "id": "2d5ca449",
   "metadata": {},
   "outputs": [],
   "source": [
    "data.to_csv('v9_log.csv',index=False)"
   ]
  },
  {
   "cell_type": "markdown",
   "id": "56710196",
   "metadata": {},
   "source": [
    "# data 확인"
   ]
  },
  {
   "cell_type": "code",
   "execution_count": 4,
   "id": "557bb390f9a5b2fa",
   "metadata": {
    "ExecuteTime": {
     "end_time": "2024-10-18T05:50:28.975047Z",
     "start_time": "2024-10-18T05:50:28.684338Z"
    }
   },
   "outputs": [
    {
     "data": {
      "text/html": [
       "<div>\n",
       "<style scoped>\n",
       "    .dataframe tbody tr th:only-of-type {\n",
       "        vertical-align: middle;\n",
       "    }\n",
       "\n",
       "    .dataframe tbody tr th {\n",
       "        vertical-align: top;\n",
       "    }\n",
       "\n",
       "    .dataframe thead th {\n",
       "        text-align: right;\n",
       "    }\n",
       "</style>\n",
       "<table border=\"1\" class=\"dataframe\">\n",
       "  <thead>\n",
       "    <tr style=\"text-align: right;\">\n",
       "      <th></th>\n",
       "      <th>contract_date_numeric</th>\n",
       "      <th>area_m2</th>\n",
       "      <th>floor</th>\n",
       "      <th>built_year</th>\n",
       "      <th>latitude</th>\n",
       "      <th>longitude</th>\n",
       "      <th>age</th>\n",
       "      <th>contract_0</th>\n",
       "      <th>contract_1</th>\n",
       "      <th>deposit</th>\n",
       "      <th>...</th>\n",
       "      <th>nearest_park_idx</th>\n",
       "      <th>park_area</th>\n",
       "      <th>nearest_school_distance</th>\n",
       "      <th>nearest_school_idx</th>\n",
       "      <th>nearest_subway_distance</th>\n",
       "      <th>nearest_subway_idx</th>\n",
       "      <th>park_count</th>\n",
       "      <th>school_count</th>\n",
       "      <th>subway_count</th>\n",
       "      <th>_type</th>\n",
       "    </tr>\n",
       "  </thead>\n",
       "  <tbody>\n",
       "    <tr>\n",
       "      <th>0</th>\n",
       "      <td>20190625</td>\n",
       "      <td>84.9981</td>\n",
       "      <td>9</td>\n",
       "      <td>2019</td>\n",
       "      <td>37.054314</td>\n",
       "      <td>127.045216</td>\n",
       "      <td>0</td>\n",
       "      <td>False</td>\n",
       "      <td>False</td>\n",
       "      <td>17000.0</td>\n",
       "      <td>...</td>\n",
       "      <td>9759</td>\n",
       "      <td>3898.0</td>\n",
       "      <td>156.120431</td>\n",
       "      <td>6739</td>\n",
       "      <td>716.952948</td>\n",
       "      <td>12</td>\n",
       "      <td>9.0</td>\n",
       "      <td>15</td>\n",
       "      <td>1</td>\n",
       "      <td>train</td>\n",
       "    </tr>\n",
       "    <tr>\n",
       "      <th>1</th>\n",
       "      <td>20200326</td>\n",
       "      <td>84.9981</td>\n",
       "      <td>20</td>\n",
       "      <td>2019</td>\n",
       "      <td>37.054314</td>\n",
       "      <td>127.045216</td>\n",
       "      <td>1</td>\n",
       "      <td>False</td>\n",
       "      <td>False</td>\n",
       "      <td>23000.0</td>\n",
       "      <td>...</td>\n",
       "      <td>9759</td>\n",
       "      <td>3898.0</td>\n",
       "      <td>156.120431</td>\n",
       "      <td>6739</td>\n",
       "      <td>716.952948</td>\n",
       "      <td>12</td>\n",
       "      <td>9.0</td>\n",
       "      <td>15</td>\n",
       "      <td>1</td>\n",
       "      <td>train</td>\n",
       "    </tr>\n",
       "    <tr>\n",
       "      <th>2</th>\n",
       "      <td>20200328</td>\n",
       "      <td>84.9981</td>\n",
       "      <td>8</td>\n",
       "      <td>2019</td>\n",
       "      <td>37.054314</td>\n",
       "      <td>127.045216</td>\n",
       "      <td>1</td>\n",
       "      <td>False</td>\n",
       "      <td>False</td>\n",
       "      <td>23000.0</td>\n",
       "      <td>...</td>\n",
       "      <td>9759</td>\n",
       "      <td>3898.0</td>\n",
       "      <td>156.120431</td>\n",
       "      <td>6739</td>\n",
       "      <td>716.952948</td>\n",
       "      <td>12</td>\n",
       "      <td>9.0</td>\n",
       "      <td>15</td>\n",
       "      <td>1</td>\n",
       "      <td>train</td>\n",
       "    </tr>\n",
       "    <tr>\n",
       "      <th>3</th>\n",
       "      <td>20190715</td>\n",
       "      <td>59.3400</td>\n",
       "      <td>1</td>\n",
       "      <td>1986</td>\n",
       "      <td>36.964647</td>\n",
       "      <td>127.055847</td>\n",
       "      <td>33</td>\n",
       "      <td>False</td>\n",
       "      <td>False</td>\n",
       "      <td>5000.0</td>\n",
       "      <td>...</td>\n",
       "      <td>9139</td>\n",
       "      <td>1616.0</td>\n",
       "      <td>214.559689</td>\n",
       "      <td>6535</td>\n",
       "      <td>3897.279708</td>\n",
       "      <td>10</td>\n",
       "      <td>7.0</td>\n",
       "      <td>3</td>\n",
       "      <td>1</td>\n",
       "      <td>train</td>\n",
       "    </tr>\n",
       "    <tr>\n",
       "      <th>4</th>\n",
       "      <td>20190412</td>\n",
       "      <td>59.8100</td>\n",
       "      <td>6</td>\n",
       "      <td>1995</td>\n",
       "      <td>36.972390</td>\n",
       "      <td>127.084514</td>\n",
       "      <td>24</td>\n",
       "      <td>False</td>\n",
       "      <td>False</td>\n",
       "      <td>1800.0</td>\n",
       "      <td>...</td>\n",
       "      <td>9201</td>\n",
       "      <td>3986.0</td>\n",
       "      <td>1708.489263</td>\n",
       "      <td>6589</td>\n",
       "      <td>2039.685349</td>\n",
       "      <td>10</td>\n",
       "      <td>1.0</td>\n",
       "      <td>6</td>\n",
       "      <td>1</td>\n",
       "      <td>train</td>\n",
       "    </tr>\n",
       "    <tr>\n",
       "      <th>...</th>\n",
       "      <td>...</td>\n",
       "      <td>...</td>\n",
       "      <td>...</td>\n",
       "      <td>...</td>\n",
       "      <td>...</td>\n",
       "      <td>...</td>\n",
       "      <td>...</td>\n",
       "      <td>...</td>\n",
       "      <td>...</td>\n",
       "      <td>...</td>\n",
       "      <td>...</td>\n",
       "      <td>...</td>\n",
       "      <td>...</td>\n",
       "      <td>...</td>\n",
       "      <td>...</td>\n",
       "      <td>...</td>\n",
       "      <td>...</td>\n",
       "      <td>...</td>\n",
       "      <td>...</td>\n",
       "      <td>...</td>\n",
       "      <td>...</td>\n",
       "    </tr>\n",
       "    <tr>\n",
       "      <th>1951395</th>\n",
       "      <td>20240227</td>\n",
       "      <td>115.5101</td>\n",
       "      <td>17</td>\n",
       "      <td>2010</td>\n",
       "      <td>37.528394</td>\n",
       "      <td>126.659398</td>\n",
       "      <td>14</td>\n",
       "      <td>True</td>\n",
       "      <td>False</td>\n",
       "      <td>NaN</td>\n",
       "      <td>...</td>\n",
       "      <td>14160</td>\n",
       "      <td>8963.9</td>\n",
       "      <td>224.754177</td>\n",
       "      <td>9387</td>\n",
       "      <td>1483.044562</td>\n",
       "      <td>293</td>\n",
       "      <td>9.0</td>\n",
       "      <td>11</td>\n",
       "      <td>4</td>\n",
       "      <td>test</td>\n",
       "    </tr>\n",
       "    <tr>\n",
       "      <th>1951396</th>\n",
       "      <td>20240302</td>\n",
       "      <td>142.8738</td>\n",
       "      <td>4</td>\n",
       "      <td>2010</td>\n",
       "      <td>37.528394</td>\n",
       "      <td>126.659398</td>\n",
       "      <td>14</td>\n",
       "      <td>True</td>\n",
       "      <td>False</td>\n",
       "      <td>NaN</td>\n",
       "      <td>...</td>\n",
       "      <td>14160</td>\n",
       "      <td>8963.9</td>\n",
       "      <td>224.754177</td>\n",
       "      <td>9387</td>\n",
       "      <td>1483.044562</td>\n",
       "      <td>293</td>\n",
       "      <td>9.0</td>\n",
       "      <td>11</td>\n",
       "      <td>4</td>\n",
       "      <td>test</td>\n",
       "    </tr>\n",
       "    <tr>\n",
       "      <th>1951397</th>\n",
       "      <td>20240316</td>\n",
       "      <td>142.8738</td>\n",
       "      <td>13</td>\n",
       "      <td>2010</td>\n",
       "      <td>37.528394</td>\n",
       "      <td>126.659398</td>\n",
       "      <td>14</td>\n",
       "      <td>False</td>\n",
       "      <td>True</td>\n",
       "      <td>NaN</td>\n",
       "      <td>...</td>\n",
       "      <td>14160</td>\n",
       "      <td>8963.9</td>\n",
       "      <td>224.754177</td>\n",
       "      <td>9387</td>\n",
       "      <td>1483.044562</td>\n",
       "      <td>293</td>\n",
       "      <td>9.0</td>\n",
       "      <td>11</td>\n",
       "      <td>4</td>\n",
       "      <td>test</td>\n",
       "    </tr>\n",
       "    <tr>\n",
       "      <th>1951398</th>\n",
       "      <td>20240322</td>\n",
       "      <td>114.9285</td>\n",
       "      <td>2</td>\n",
       "      <td>2010</td>\n",
       "      <td>37.528394</td>\n",
       "      <td>126.659398</td>\n",
       "      <td>14</td>\n",
       "      <td>False</td>\n",
       "      <td>True</td>\n",
       "      <td>NaN</td>\n",
       "      <td>...</td>\n",
       "      <td>14160</td>\n",
       "      <td>8963.9</td>\n",
       "      <td>224.754177</td>\n",
       "      <td>9387</td>\n",
       "      <td>1483.044562</td>\n",
       "      <td>293</td>\n",
       "      <td>9.0</td>\n",
       "      <td>11</td>\n",
       "      <td>4</td>\n",
       "      <td>test</td>\n",
       "    </tr>\n",
       "    <tr>\n",
       "      <th>1951399</th>\n",
       "      <td>20240322</td>\n",
       "      <td>115.5101</td>\n",
       "      <td>7</td>\n",
       "      <td>2010</td>\n",
       "      <td>37.528394</td>\n",
       "      <td>126.659398</td>\n",
       "      <td>14</td>\n",
       "      <td>False</td>\n",
       "      <td>True</td>\n",
       "      <td>NaN</td>\n",
       "      <td>...</td>\n",
       "      <td>14160</td>\n",
       "      <td>8963.9</td>\n",
       "      <td>224.754177</td>\n",
       "      <td>9387</td>\n",
       "      <td>1483.044562</td>\n",
       "      <td>293</td>\n",
       "      <td>9.0</td>\n",
       "      <td>11</td>\n",
       "      <td>4</td>\n",
       "      <td>test</td>\n",
       "    </tr>\n",
       "  </tbody>\n",
       "</table>\n",
       "<p>1951400 rows × 27 columns</p>\n",
       "</div>"
      ],
      "text/plain": [
       "         contract_date_numeric   area_m2  floor  built_year   latitude  \\\n",
       "0                     20190625   84.9981      9        2019  37.054314   \n",
       "1                     20200326   84.9981     20        2019  37.054314   \n",
       "2                     20200328   84.9981      8        2019  37.054314   \n",
       "3                     20190715   59.3400      1        1986  36.964647   \n",
       "4                     20190412   59.8100      6        1995  36.972390   \n",
       "...                        ...       ...    ...         ...        ...   \n",
       "1951395               20240227  115.5101     17        2010  37.528394   \n",
       "1951396               20240302  142.8738      4        2010  37.528394   \n",
       "1951397               20240316  142.8738     13        2010  37.528394   \n",
       "1951398               20240322  114.9285      2        2010  37.528394   \n",
       "1951399               20240322  115.5101      7        2010  37.528394   \n",
       "\n",
       "          longitude  age  contract_0  contract_1  deposit  ...  \\\n",
       "0        127.045216    0       False       False  17000.0  ...   \n",
       "1        127.045216    1       False       False  23000.0  ...   \n",
       "2        127.045216    1       False       False  23000.0  ...   \n",
       "3        127.055847   33       False       False   5000.0  ...   \n",
       "4        127.084514   24       False       False   1800.0  ...   \n",
       "...             ...  ...         ...         ...      ...  ...   \n",
       "1951395  126.659398   14        True       False      NaN  ...   \n",
       "1951396  126.659398   14        True       False      NaN  ...   \n",
       "1951397  126.659398   14       False        True      NaN  ...   \n",
       "1951398  126.659398   14       False        True      NaN  ...   \n",
       "1951399  126.659398   14       False        True      NaN  ...   \n",
       "\n",
       "         nearest_park_idx  park_area  nearest_school_distance  \\\n",
       "0                    9759     3898.0               156.120431   \n",
       "1                    9759     3898.0               156.120431   \n",
       "2                    9759     3898.0               156.120431   \n",
       "3                    9139     1616.0               214.559689   \n",
       "4                    9201     3986.0              1708.489263   \n",
       "...                   ...        ...                      ...   \n",
       "1951395             14160     8963.9               224.754177   \n",
       "1951396             14160     8963.9               224.754177   \n",
       "1951397             14160     8963.9               224.754177   \n",
       "1951398             14160     8963.9               224.754177   \n",
       "1951399             14160     8963.9               224.754177   \n",
       "\n",
       "         nearest_school_idx  nearest_subway_distance  nearest_subway_idx  \\\n",
       "0                      6739               716.952948                  12   \n",
       "1                      6739               716.952948                  12   \n",
       "2                      6739               716.952948                  12   \n",
       "3                      6535              3897.279708                  10   \n",
       "4                      6589              2039.685349                  10   \n",
       "...                     ...                      ...                 ...   \n",
       "1951395                9387              1483.044562                 293   \n",
       "1951396                9387              1483.044562                 293   \n",
       "1951397                9387              1483.044562                 293   \n",
       "1951398                9387              1483.044562                 293   \n",
       "1951399                9387              1483.044562                 293   \n",
       "\n",
       "         park_count  school_count  subway_count  _type  \n",
       "0               9.0            15             1  train  \n",
       "1               9.0            15             1  train  \n",
       "2               9.0            15             1  train  \n",
       "3               7.0             3             1  train  \n",
       "4               1.0             6             1  train  \n",
       "...             ...           ...           ...    ...  \n",
       "1951395         9.0            11             4   test  \n",
       "1951396         9.0            11             4   test  \n",
       "1951397         9.0            11             4   test  \n",
       "1951398         9.0            11             4   test  \n",
       "1951399         9.0            11             4   test  \n",
       "\n",
       "[1951400 rows x 27 columns]"
      ]
     },
     "execution_count": 4,
     "metadata": {},
     "output_type": "execute_result"
    }
   ],
   "source": [
    "data"
   ]
  },
  {
   "cell_type": "code",
   "execution_count": 5,
   "id": "878f65ba902311aa",
   "metadata": {
    "ExecuteTime": {
     "end_time": "2024-10-18T05:50:30.933572Z",
     "start_time": "2024-10-18T05:50:30.926464Z"
    }
   },
   "outputs": [
    {
     "data": {
      "text/plain": [
       "Index(['contract_date_numeric', 'area_m2', 'floor', 'built_year', 'latitude',\n",
       "       'longitude', 'age', 'contract_0', 'contract_1', 'deposit', 'apt_idx',\n",
       "       'area', 'grid_deposit', 'apt_deposit_rank', 'apt_area_deposit_rank',\n",
       "       'recent_deposit', 'nearest_park_distance', 'nearest_park_idx',\n",
       "       'park_area', 'nearest_school_distance', 'nearest_school_idx',\n",
       "       'nearest_subway_distance', 'nearest_subway_idx', 'park_count',\n",
       "       'school_count', 'subway_count', '_type'],\n",
       "      dtype='object')"
      ]
     },
     "execution_count": 5,
     "metadata": {},
     "output_type": "execute_result"
    }
   ],
   "source": [
    "data.columns"
   ]
  },
  {
   "cell_type": "code",
   "execution_count": 7,
   "id": "ddcb0600",
   "metadata": {},
   "outputs": [],
   "source": [
    "data['nearest_apt_deposit'] = near_apt['nearest_apt_deposit']"
   ]
  },
  {
   "cell_type": "code",
   "execution_count": 10,
   "id": "37415849",
   "metadata": {},
   "outputs": [],
   "source": [
    "data['recent_deposit'] = data['recent_deposit'].fillna(data['nearest_apt_deposit'])"
   ]
  },
  {
   "cell_type": "code",
   "execution_count": 11,
   "id": "ad536aca",
   "metadata": {},
   "outputs": [
    {
     "data": {
      "text/plain": [
       "contract_date_numeric           0\n",
       "area_m2                         0\n",
       "floor                           0\n",
       "built_year                      0\n",
       "latitude                        0\n",
       "longitude                       0\n",
       "age                             0\n",
       "contract_0                      0\n",
       "contract_1                      0\n",
       "deposit                    150172\n",
       "apt_idx                         0\n",
       "area                            0\n",
       "grid_deposit                    0\n",
       "apt_deposit_rank                0\n",
       "apt_area_deposit_rank           0\n",
       "recent_deposit                 34\n",
       "nearest_park_distance           0\n",
       "nearest_park_idx                0\n",
       "park_area                       0\n",
       "nearest_school_distance         0\n",
       "nearest_school_idx              0\n",
       "nearest_subway_distance         0\n",
       "nearest_subway_idx              0\n",
       "park_count                     88\n",
       "school_count                    0\n",
       "subway_count                    0\n",
       "_type                           0\n",
       "nearest_apt_deposit            34\n",
       "dtype: int64"
      ]
     },
     "execution_count": 11,
     "metadata": {},
     "output_type": "execute_result"
    }
   ],
   "source": [
    "data.isnull().sum()"
   ]
  },
  {
   "cell_type": "code",
   "execution_count": 13,
   "id": "bee759f0",
   "metadata": {},
   "outputs": [
    {
     "data": {
      "text/plain": [
       "Index(['contract_date_numeric', 'area_m2', 'floor', 'built_year', 'latitude',\n",
       "       'longitude', 'age', 'contract_0', 'contract_1', 'deposit', 'apt_idx',\n",
       "       'area', 'grid_deposit', 'apt_deposit_rank', 'apt_area_deposit_rank',\n",
       "       'recent_deposit', 'nearest_park_distance', 'nearest_park_idx',\n",
       "       'park_area', 'nearest_school_distance', 'nearest_school_idx',\n",
       "       'nearest_subway_distance', 'nearest_subway_idx', 'park_count',\n",
       "       'school_count', 'subway_count', '_type', 'nearest_apt_deposit'],\n",
       "      dtype='object')"
      ]
     },
     "execution_count": 13,
     "metadata": {},
     "output_type": "execute_result"
    }
   ],
   "source": [
    "data.columns"
   ]
  },
  {
   "cell_type": "code",
   "execution_count": 14,
   "id": "7097c565",
   "metadata": {},
   "outputs": [
    {
     "data": {
      "text/plain": [
       "Index(['apt_idx', 'area_m2', 'index', '_type', 'floor', 'built_year',\n",
       "       'latitude', 'longitude', 'age', 'contract_0', 'contract_1', 'deposit',\n",
       "       'area', 'grid_deposit', 'apt_deposit_rank', 'apt_area_deposit_rank',\n",
       "       'recent_deposit', 'interest_rate', 'grid_id', 'nearest_park_distance',\n",
       "       'nearest_park_idx', 'park_grid_id', 'park_area',\n",
       "       'nearest_school_distance', 'nearest_school_idx', 'school_grid_id',\n",
       "       'nearest_subway_distance', 'nearest_subway_idx', 'subway_grid_id',\n",
       "       'park_count', 'school_count', 'subway_count', 'contract_timestamp',\n",
       "       'subway_1', 'monthly_trade_volume', 'cumulative_trade_volume',\n",
       "       'nearest_apt_deposit'],\n",
       "      dtype='object')"
      ]
     },
     "execution_count": 14,
     "metadata": {},
     "output_type": "execute_result"
    }
   ],
   "source": [
    "v8.columns"
   ]
  },
  {
   "cell_type": "code",
   "execution_count": 16,
   "id": "3b36b551",
   "metadata": {},
   "outputs": [],
   "source": [
    "data[['subway_1','monthly_trade_volume','cumulative_trade_volume']] = v8[[\n",
    "    'subway_1', 'monthly_trade_volume', 'cumulative_trade_volume'\n",
    "]]"
   ]
  },
  {
   "cell_type": "code",
   "execution_count": 18,
   "id": "ef086a07",
   "metadata": {},
   "outputs": [
    {
     "data": {
      "text/html": [
       "<div>\n",
       "<style scoped>\n",
       "    .dataframe tbody tr th:only-of-type {\n",
       "        vertical-align: middle;\n",
       "    }\n",
       "\n",
       "    .dataframe tbody tr th {\n",
       "        vertical-align: top;\n",
       "    }\n",
       "\n",
       "    .dataframe thead th {\n",
       "        text-align: right;\n",
       "    }\n",
       "</style>\n",
       "<table border=\"1\" class=\"dataframe\">\n",
       "  <thead>\n",
       "    <tr style=\"text-align: right;\">\n",
       "      <th></th>\n",
       "      <th>subway_1</th>\n",
       "      <th>monthly_trade_volume</th>\n",
       "      <th>cumulative_trade_volume</th>\n",
       "      <th>deposit</th>\n",
       "    </tr>\n",
       "  </thead>\n",
       "  <tbody>\n",
       "    <tr>\n",
       "      <th>subway_1</th>\n",
       "      <td>1.000000</td>\n",
       "      <td>0.019458</td>\n",
       "      <td>0.056942</td>\n",
       "      <td>0.364705</td>\n",
       "    </tr>\n",
       "    <tr>\n",
       "      <th>monthly_trade_volume</th>\n",
       "      <td>0.019458</td>\n",
       "      <td>1.000000</td>\n",
       "      <td>0.436069</td>\n",
       "      <td>-0.054105</td>\n",
       "    </tr>\n",
       "    <tr>\n",
       "      <th>cumulative_trade_volume</th>\n",
       "      <td>0.056942</td>\n",
       "      <td>0.436069</td>\n",
       "      <td>1.000000</td>\n",
       "      <td>-0.022011</td>\n",
       "    </tr>\n",
       "    <tr>\n",
       "      <th>deposit</th>\n",
       "      <td>0.364705</td>\n",
       "      <td>-0.054105</td>\n",
       "      <td>-0.022011</td>\n",
       "      <td>1.000000</td>\n",
       "    </tr>\n",
       "  </tbody>\n",
       "</table>\n",
       "</div>"
      ],
      "text/plain": [
       "                         subway_1  monthly_trade_volume  \\\n",
       "subway_1                 1.000000              0.019458   \n",
       "monthly_trade_volume     0.019458              1.000000   \n",
       "cumulative_trade_volume  0.056942              0.436069   \n",
       "deposit                  0.364705             -0.054105   \n",
       "\n",
       "                         cumulative_trade_volume   deposit  \n",
       "subway_1                                0.056942  0.364705  \n",
       "monthly_trade_volume                    0.436069 -0.054105  \n",
       "cumulative_trade_volume                 1.000000 -0.022011  \n",
       "deposit                                -0.022011  1.000000  "
      ]
     },
     "execution_count": 18,
     "metadata": {},
     "output_type": "execute_result"
    }
   ],
   "source": [
    "data[['subway_1','monthly_trade_volume','cumulative_trade_volume','deposit']].corr()"
   ]
  },
  {
   "cell_type": "code",
   "execution_count": 22,
   "id": "b2192f39",
   "metadata": {},
   "outputs": [
    {
     "data": {
      "text/plain": [
       "Index(['contract_date_numeric', 'area_m2', 'floor', 'built_year', 'latitude',\n",
       "       'longitude', 'age', 'contract_0', 'contract_1', 'deposit', 'apt_idx',\n",
       "       'area', 'grid_deposit', 'apt_deposit_rank', 'apt_area_deposit_rank',\n",
       "       'recent_deposit', 'nearest_park_distance', 'nearest_park_idx',\n",
       "       'park_area', 'nearest_school_distance', 'nearest_school_idx',\n",
       "       'nearest_subway_distance', 'nearest_subway_idx', 'park_count',\n",
       "       'school_count', 'subway_count', '_type', 'subway_1',\n",
       "       'monthly_trade_volume', 'cumulative_trade_volume'],\n",
       "      dtype='object')"
      ]
     },
     "execution_count": 22,
     "metadata": {},
     "output_type": "execute_result"
    }
   ],
   "source": [
    "data.columns"
   ]
  },
  {
   "cell_type": "code",
   "execution_count": 21,
   "id": "741d2560",
   "metadata": {},
   "outputs": [],
   "source": [
    "data.drop(columns='nearest_apt_deposit',inplace=True)"
   ]
  },
  {
   "cell_type": "code",
   "execution_count": null,
   "id": "18902674",
   "metadata": {},
   "outputs": [],
   "source": [
    "dta"
   ]
  },
  {
   "cell_type": "code",
   "execution_count": 23,
   "id": "79d45435",
   "metadata": {},
   "outputs": [],
   "source": [
    "data.to_csv('v12_drop.csv',index=False)"
   ]
  },
  {
   "cell_type": "markdown",
   "id": "84bd34f47a781bd8",
   "metadata": {},
   "source": [
    "---"
   ]
  },
  {
   "cell_type": "markdown",
   "id": "722a2de4",
   "metadata": {},
   "source": [
    "# 모델링"
   ]
  },
  {
   "cell_type": "code",
   "execution_count": 14,
   "id": "cfb990484c4426e3",
   "metadata": {
    "ExecuteTime": {
     "end_time": "2024-10-18T08:35:26.955668Z",
     "start_time": "2024-10-18T08:35:26.512733Z"
    }
   },
   "outputs": [],
   "source": [
    "train_data = data[data['_type'] == 'train']\n",
    "test_data = data[data['_type'] == 'test']"
   ]
  },
  {
   "cell_type": "code",
   "execution_count": 21,
   "id": "e6746ac730a34bd4",
   "metadata": {
    "ExecuteTime": {
     "end_time": "2024-10-18T09:02:45.505074Z",
     "start_time": "2024-10-18T09:02:45.417823Z"
    }
   },
   "outputs": [],
   "source": [
    "column_needed = [\n",
    "    # 'index', '_type', 'area_price', 'area_m2_price', 'original_index','contract_year_month', 'contract_day', 'area_m2',\n",
    "    'contract_date_numeric', \n",
    "    'area_m2',\n",
    "    'floor', 'built_year', 'latitude', 'longitude','age', \n",
    "    'contract_0', 'contract_1', \n",
    "    'deposit', \n",
    "    'apt_idx', \n",
    "    'area',\n",
    "    'grid_deposit', \n",
    "    'apt_deposit_rank', 'apt_area_deposit_rank',\n",
    "    'recent_deposit', \n",
    "    # 'interest_rate', \n",
    "    # 'grid_id',  'school_grid_id', 'park_grid_id', 'subway_grid_id',\n",
    "    'nearest_park_distance','nearest_park_idx', 'park_area',\n",
    "    'nearest_school_distance', 'nearest_school_idx',\n",
    "    'nearest_subway_distance', 'nearest_subway_idx',\n",
    "    'park_count', 'school_count', 'subway_count',\n",
    "    # 'contract_timestamp',\n",
    "]\n",
    "test_column_needed = [\n",
    "    # 'index', '_type', 'area_price', 'area_m2_price', 'original_index','contract_year_month', 'contract_day', 'area_m2',\n",
    "    'contract_date_numeric',\n",
    "    'area_m2',\n",
    "    'floor', 'built_year', 'latitude', 'longitude','age', \n",
    "    'contract_0', 'contract_1',  \n",
    "    'apt_idx', \n",
    "    'area',\n",
    "    'grid_deposit', \n",
    "    'apt_deposit_rank', 'apt_area_deposit_rank',\n",
    "    'recent_deposit', \n",
    "    # 'interest_rate', \n",
    "    # 'grid_id',  'school_grid_id', 'park_grid_id', 'subway_grid_id',\n",
    "    'nearest_park_distance','nearest_park_idx', 'park_area',\n",
    "    'nearest_school_distance', 'nearest_school_idx',\n",
    "    'nearest_subway_distance', 'nearest_subway_idx',\n",
    "    'park_count', 'school_count', 'subway_count',\n",
    "    # 'contract_timestamp',\n",
    "]\n",
    "train_df = train_data[column_needed]\n",
    "test_df = test_data[test_column_needed]"
   ]
  },
  {
   "cell_type": "markdown",
   "id": "a9c47587",
   "metadata": {},
   "source": [
    "---"
   ]
  },
  {
   "cell_type": "code",
   "execution_count": 22,
   "id": "2178790a",
   "metadata": {},
   "outputs": [],
   "source": [
    "X_train = train_df.drop(columns=['deposit'])\n",
    "y_train = train_df['deposit']\n",
    "X_test = test_df.copy()"
   ]
  },
  {
   "cell_type": "code",
   "execution_count": 20,
   "id": "e5409ff19ebe6ce7",
   "metadata": {
    "ExecuteTime": {
     "end_time": "2024-10-18T09:08:08.124240Z",
     "start_time": "2024-10-18T09:02:49.881838Z"
    }
   },
   "outputs": [
    {
     "name": "stdout",
     "output_type": "stream",
     "text": [
      "[0]\ttrain-mae:16477.66290\teval-mae:16479.61304\n",
      "[100]\ttrain-mae:4201.21827\teval-mae:4198.05642\n",
      "[200]\ttrain-mae:4029.29052\teval-mae:4033.67618\n",
      "[300]\ttrain-mae:3957.98301\teval-mae:3966.89647\n",
      "[400]\ttrain-mae:3909.12903\teval-mae:3921.65214\n",
      "[500]\ttrain-mae:3871.04855\teval-mae:3887.91143\n",
      "[600]\ttrain-mae:3843.37477\teval-mae:3863.41660\n",
      "[700]\ttrain-mae:3821.52749\teval-mae:3844.62054\n",
      "[800]\ttrain-mae:3802.82133\teval-mae:3828.75708\n",
      "[900]\ttrain-mae:3785.91311\teval-mae:3814.40395\n",
      "[1000]\ttrain-mae:3769.22765\teval-mae:3800.02820\n",
      "[1100]\ttrain-mae:3759.00915\teval-mae:3791.74209\n",
      "[1200]\ttrain-mae:3747.14283\teval-mae:3782.39039\n",
      "[1300]\ttrain-mae:3737.73426\teval-mae:3775.08518\n",
      "[1400]\ttrain-mae:3729.12826\teval-mae:3768.54589\n",
      "[1500]\ttrain-mae:3720.20564\teval-mae:3761.84046\n",
      "[1600]\ttrain-mae:3712.84681\teval-mae:3756.45755\n",
      "[1700]\ttrain-mae:3704.16615\teval-mae:3750.37946\n",
      "[1800]\ttrain-mae:3696.62385\teval-mae:3745.05480\n",
      "[1900]\ttrain-mae:3690.34975\teval-mae:3740.86550\n",
      "[2000]\ttrain-mae:3683.77581\teval-mae:3736.36483\n",
      "[2100]\ttrain-mae:3678.11107\teval-mae:3732.65041\n",
      "[2200]\ttrain-mae:3672.60088\teval-mae:3728.89897\n",
      "[2300]\ttrain-mae:3667.98225\teval-mae:3725.98286\n",
      "[2400]\ttrain-mae:3663.78259\teval-mae:3723.12763\n",
      "[2500]\ttrain-mae:3658.60080\teval-mae:3719.65380\n",
      "[2600]\ttrain-mae:3652.97286\teval-mae:3716.02856\n",
      "[2700]\ttrain-mae:3648.31604\teval-mae:3712.87446\n",
      "[2800]\ttrain-mae:3643.91359\teval-mae:3710.08582\n",
      "[2900]\ttrain-mae:3640.01406\teval-mae:3707.87952\n",
      "[3000]\ttrain-mae:3636.00159\teval-mae:3705.45680\n",
      "[3100]\ttrain-mae:3631.62185\teval-mae:3703.00740\n",
      "[3200]\ttrain-mae:3628.11939\teval-mae:3701.06125\n",
      "[3300]\ttrain-mae:3624.83491\teval-mae:3699.18306\n",
      "[3400]\ttrain-mae:3620.71035\teval-mae:3696.80623\n",
      "[3500]\ttrain-mae:3616.98736\teval-mae:3694.93925\n",
      "[3600]\ttrain-mae:3614.11269\teval-mae:3693.32651\n",
      "[3700]\ttrain-mae:3611.05242\teval-mae:3691.58402\n",
      "[3800]\ttrain-mae:3607.58310\teval-mae:3689.77130\n",
      "[3900]\ttrain-mae:3604.69395\teval-mae:3688.17376\n",
      "[4000]\ttrain-mae:3601.21219\teval-mae:3686.43197\n",
      "[4100]\ttrain-mae:3598.84106\teval-mae:3685.14819\n",
      "[4200]\ttrain-mae:3596.59660\teval-mae:3683.82642\n",
      "[4300]\ttrain-mae:3594.01157\teval-mae:3682.47181\n",
      "[4400]\ttrain-mae:3591.12526\teval-mae:3680.94696\n",
      "[4500]\ttrain-mae:3588.68656\teval-mae:3679.61841\n",
      "[4600]\ttrain-mae:3586.44954\teval-mae:3678.51165\n",
      "[4700]\ttrain-mae:3585.01996\teval-mae:3677.78351\n",
      "[4800]\ttrain-mae:3583.00630\teval-mae:3676.69832\n",
      "[4900]\ttrain-mae:3581.55463\teval-mae:3675.95128\n",
      "[4999]\ttrain-mae:3579.42452\teval-mae:3674.86146\n"
     ]
    }
   ],
   "source": [
    "import xgboost as xgb\n",
    "from sklearn.model_selection import train_test_split\n",
    "from sklearn.metrics import mean_absolute_error\n",
    "\n",
    "# # 학습에 사용할 특징 열\n",
    "# feature_columns = [col for col in data.columns if col not in ['deposit', '_type', 'index']]\n",
    "# 학습 및 테스트 데이터 준비\n",
    "X_train = train_df.drop(columns=['deposit'])\n",
    "y_train = train_df['deposit']\n",
    "X_test = test_df.copy()\n",
    "# 학습 데이터를 검증용으로 분할\n",
    "X_train_split, X_val_split, y_train_split, y_val_split = train_test_split(X_train, y_train, test_size=0.2,\n",
    "                                                                          random_state=42)\n",
    "# XGBoost를 위한 DMatrix 생성\n",
    "dtrain = xgb.DMatrix(X_train_split, label=y_train_split)\n",
    "dval = xgb.DMatrix(X_val_split, label=y_val_split)\n",
    "dtest = xgb.DMatrix(X_test)\n",
    "# XGBoost 파라미터 설정\n",
    "params = {\n",
    "    'objective': 'reg:absoluteerror',\n",
    "    'eval_metric': 'mae',\n",
    "    'max_depth': 6,\n",
    "    'eta': 0.05,\n",
    "    'subsample': 0.8,\n",
    "    'colsample_bytree': 0.8,\n",
    "    'seed': 42\n",
    "}\n",
    "# 모델 학습\n",
    "evals = [(dtrain, 'train'), (dval, 'eval')]\n",
    "model = xgb.train(params, dtrain, num_boost_round=500, early_stopping_rounds=50, evals=evals, verbose_eval=100)\n",
    "# 테스트 세트에 대한 예측\n",
    "y_pred = model.predict(dtest)"
   ]
  },
  {
   "cell_type": "code",
   "execution_count": 21,
   "id": "955bbb62429d672a",
   "metadata": {
    "ExecuteTime": {
     "end_time": "2024-10-18T09:08:26.003056Z",
     "start_time": "2024-10-18T09:08:25.849735Z"
    }
   },
   "outputs": [
    {
     "data": {
      "image/png": "[encoded data removed]",
      "text/plain": [
       "<Figure size 1000x800 with 1 Axes>"
      ]
     },
     "metadata": {},
     "output_type": "display_data"
    }
   ],
   "source": [
    "#Feature Importance\n",
    "# 피처 중요도 추출\n",
    "feature_importance = model.get_fscore()\n",
    "# 피처 중요도를 DataFrame으로 변환\n",
    "importance_df = pd.DataFrame(feature_importance.items(), columns=['Feature', 'Importance'])\n",
    "# 중요도 순으로 정렬\n",
    "importance_df = importance_df.sort_values(by='Importance', ascending=False)\n",
    "# 시각화\n",
    "plt.figure(figsize=(10, 8))\n",
    "sns.barplot(x='Importance', y='Feature', data=importance_df)\n",
    "plt.title('Feature Importance')\n",
    "plt.show()"
   ]
  },
  {
   "cell_type": "code",
   "execution_count": 22,
   "id": "4a660cc0c25eb265",
   "metadata": {
    "ExecuteTime": {
     "end_time": "2024-10-18T09:08:29.834551Z",
     "start_time": "2024-10-18T09:08:29.830219Z"
    }
   },
   "outputs": [
    {
     "data": {
      "text/plain": [
       "array([23174.48 ,  7080.909,  6007.085, ..., 45237.953, 38058.59 ,\n",
       "       38525.37 ], dtype=float32)"
      ]
     },
     "execution_count": 22,
     "metadata": {},
     "output_type": "execute_result"
    }
   ],
   "source": [
    "y_pred"
   ]
  },
  {
   "cell_type": "code",
   "execution_count": 23,
   "id": "bb7db05baf47b631",
   "metadata": {
    "ExecuteTime": {
     "end_time": "2024-10-18T09:08:31.641364Z",
     "start_time": "2024-10-18T09:08:31.635030Z"
    }
   },
   "outputs": [
    {
     "data": {
      "text/html": [
       "<div>\n",
       "<style scoped>\n",
       "    .dataframe tbody tr th:only-of-type {\n",
       "        vertical-align: middle;\n",
       "    }\n",
       "\n",
       "    .dataframe tbody tr th {\n",
       "        vertical-align: top;\n",
       "    }\n",
       "\n",
       "    .dataframe thead th {\n",
       "        text-align: right;\n",
       "    }\n",
       "</style>\n",
       "<table border=\"1\" class=\"dataframe\">\n",
       "  <thead>\n",
       "    <tr style=\"text-align: right;\">\n",
       "      <th></th>\n",
       "      <th>index</th>\n",
       "      <th>deposit</th>\n",
       "    </tr>\n",
       "  </thead>\n",
       "  <tbody>\n",
       "    <tr>\n",
       "      <th>0</th>\n",
       "      <td>0</td>\n",
       "      <td>23174.480469</td>\n",
       "    </tr>\n",
       "    <tr>\n",
       "      <th>1</th>\n",
       "      <td>1</td>\n",
       "      <td>7080.909180</td>\n",
       "    </tr>\n",
       "    <tr>\n",
       "      <th>2</th>\n",
       "      <td>2</td>\n",
       "      <td>6007.084961</td>\n",
       "    </tr>\n",
       "    <tr>\n",
       "      <th>3</th>\n",
       "      <td>3</td>\n",
       "      <td>6111.806152</td>\n",
       "    </tr>\n",
       "    <tr>\n",
       "      <th>4</th>\n",
       "      <td>4</td>\n",
       "      <td>6479.200684</td>\n",
       "    </tr>\n",
       "    <tr>\n",
       "      <th>...</th>\n",
       "      <td>...</td>\n",
       "      <td>...</td>\n",
       "    </tr>\n",
       "    <tr>\n",
       "      <th>150167</th>\n",
       "      <td>150167</td>\n",
       "      <td>37639.843750</td>\n",
       "    </tr>\n",
       "    <tr>\n",
       "      <th>150168</th>\n",
       "      <td>150168</td>\n",
       "      <td>44034.597656</td>\n",
       "    </tr>\n",
       "    <tr>\n",
       "      <th>150169</th>\n",
       "      <td>150169</td>\n",
       "      <td>45237.953125</td>\n",
       "    </tr>\n",
       "    <tr>\n",
       "      <th>150170</th>\n",
       "      <td>150170</td>\n",
       "      <td>38058.589844</td>\n",
       "    </tr>\n",
       "    <tr>\n",
       "      <th>150171</th>\n",
       "      <td>150171</td>\n",
       "      <td>38525.371094</td>\n",
       "    </tr>\n",
       "  </tbody>\n",
       "</table>\n",
       "<p>150172 rows × 2 columns</p>\n",
       "</div>"
      ],
      "text/plain": [
       "         index       deposit\n",
       "0            0  23174.480469\n",
       "1            1   7080.909180\n",
       "2            2   6007.084961\n",
       "3            3   6111.806152\n",
       "4            4   6479.200684\n",
       "...        ...           ...\n",
       "150167  150167  37639.843750\n",
       "150168  150168  44034.597656\n",
       "150169  150169  45237.953125\n",
       "150170  150170  38058.589844\n",
       "150171  150171  38525.371094\n",
       "\n",
       "[150172 rows x 2 columns]"
      ]
     },
     "execution_count": 23,
     "metadata": {},
     "output_type": "execute_result"
    }
   ],
   "source": [
    "sample_submission['deposit'] = y_pred\n",
    "sample_submission"
   ]
  },
  {
   "cell_type": "code",
   "execution_count": 24,
   "id": "2b94ebab94998b5b",
   "metadata": {
    "ExecuteTime": {
     "end_time": "2024-10-18T09:08:33.766674Z",
     "start_time": "2024-10-18T09:08:33.751576Z"
    }
   },
   "outputs": [
    {
     "data": {
      "text/html": [
       "<div>\n",
       "<style scoped>\n",
       "    .dataframe tbody tr th:only-of-type {\n",
       "        vertical-align: middle;\n",
       "    }\n",
       "\n",
       "    .dataframe tbody tr th {\n",
       "        vertical-align: top;\n",
       "    }\n",
       "\n",
       "    .dataframe thead th {\n",
       "        text-align: right;\n",
       "    }\n",
       "</style>\n",
       "<table border=\"1\" class=\"dataframe\">\n",
       "  <thead>\n",
       "    <tr style=\"text-align: right;\">\n",
       "      <th></th>\n",
       "      <th>index</th>\n",
       "      <th>deposit</th>\n",
       "    </tr>\n",
       "  </thead>\n",
       "  <tbody>\n",
       "    <tr>\n",
       "      <th>count</th>\n",
       "      <td>150172.00000</td>\n",
       "      <td>150172.000000</td>\n",
       "    </tr>\n",
       "    <tr>\n",
       "      <th>mean</th>\n",
       "      <td>75085.50000</td>\n",
       "      <td>39294.285156</td>\n",
       "    </tr>\n",
       "    <tr>\n",
       "      <th>std</th>\n",
       "      <td>43351.06665</td>\n",
       "      <td>24372.753906</td>\n",
       "    </tr>\n",
       "    <tr>\n",
       "      <th>min</th>\n",
       "      <td>0.00000</td>\n",
       "      <td>2835.812988</td>\n",
       "    </tr>\n",
       "    <tr>\n",
       "      <th>25%</th>\n",
       "      <td>37542.75000</td>\n",
       "      <td>23355.395020</td>\n",
       "    </tr>\n",
       "    <tr>\n",
       "      <th>50%</th>\n",
       "      <td>75085.50000</td>\n",
       "      <td>34007.021484</td>\n",
       "    </tr>\n",
       "    <tr>\n",
       "      <th>75%</th>\n",
       "      <td>112628.25000</td>\n",
       "      <td>48619.085938</td>\n",
       "    </tr>\n",
       "    <tr>\n",
       "      <th>max</th>\n",
       "      <td>150171.00000</td>\n",
       "      <td>534889.812500</td>\n",
       "    </tr>\n",
       "  </tbody>\n",
       "</table>\n",
       "</div>"
      ],
      "text/plain": [
       "              index        deposit\n",
       "count  150172.00000  150172.000000\n",
       "mean    75085.50000   39294.285156\n",
       "std     43351.06665   24372.753906\n",
       "min         0.00000    2835.812988\n",
       "25%     37542.75000   23355.395020\n",
       "50%     75085.50000   34007.021484\n",
       "75%    112628.25000   48619.085938\n",
       "max    150171.00000  534889.812500"
      ]
     },
     "execution_count": 24,
     "metadata": {},
     "output_type": "execute_result"
    }
   ],
   "source": [
    "sample_submission.describe()"
   ]
  },
  {
   "cell_type": "code",
   "execution_count": 25,
   "id": "b83cf61f95960f5f",
   "metadata": {
    "ExecuteTime": {
     "end_time": "2024-10-18T08:56:26.725212Z",
     "start_time": "2024-10-18T08:56:26.590496Z"
    }
   },
   "outputs": [],
   "source": [
    "# sample_submission.to_csv('v8_xgb_5000.csv', index=False)"
   ]
  },
  {
   "cell_type": "markdown",
   "id": "ea414db01cca6b4",
   "metadata": {},
   "source": [
    "---"
   ]
  }
 ],
 "metadata": {
  "kernelspec": {
   "display_name": "base",
   "language": "python",
   "name": "python3"
  },
  "language_info": {
   "codemirror_mode": {
    "name": "ipython",
    "version": 3
   },
   "file_extension": ".py",
   "mimetype": "text/x-python",
   "name": "python",
   "nbconvert_exporter": "python",
   "pygments_lexer": "ipython3",
   "version": "3.12.5"
  }
 },
 "nbformat": 4,
 "nbformat_minor": 5
}
