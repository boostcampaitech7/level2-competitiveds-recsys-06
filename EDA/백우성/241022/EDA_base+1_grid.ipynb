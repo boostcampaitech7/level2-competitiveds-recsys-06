{
 "cells": [
  {
   "cell_type": "code",
   "execution_count": 1,
   "metadata": {},
   "outputs": [],
   "source": [
    "import os\n",
    "import pandas as pd\n",
    "import numpy as np\n",
    "import matplotlib.pyplot as plt\n",
    "import seaborn as sns\n",
    "import sys\n",
    "import os\n",
    "\n",
    "sys.path.append(os.path.dirname(os.path.dirname(os.path.dirname(os.path.abspath(\"\")))))"
   ]
  },
  {
   "cell_type": "code",
   "execution_count": 2,
   "metadata": {},
   "outputs": [],
   "source": [
    "BASE_PATH = r'C:\\Users\\com\\Documents\\GitHub\\level2-competitiveds-recsys-06\\data\\etc'\n",
    "data = pd.read_csv('add_grid_id.csv')\n",
    "park = pd.read_csv(os.path.join(BASE_PATH,'parkinfo.csv'))\n",
    "subway = pd.read_csv(os.path.join(BASE_PATH,'subwayinfo.csv'))\n",
    "school = pd.read_csv(os.path.join(BASE_PATH,'schoolinfo.csv'))"
   ]
  },
  {
   "cell_type": "markdown",
   "metadata": {},
   "source": [
    "---"
   ]
  },
  {
   "cell_type": "code",
   "execution_count": 3,
   "metadata": {},
   "outputs": [],
   "source": [
    "park = park.groupby(['latitude','longitude'])['area'].mean().reset_index()\n",
    "school = school.groupby(['latitude','longitude']).max().reset_index()\n",
    "subway = subway.groupby(['latitude','longitude']).max().reset_index()"
   ]
  },
  {
   "cell_type": "code",
   "execution_count": 4,
   "metadata": {},
   "outputs": [],
   "source": [
    "park[\"park_idx\"] = park.index\n",
    "school['school_idx'] = school.index\n",
    "subway['subway_idx'] = subway.index"
   ]
  },
  {
   "cell_type": "code",
   "execution_count": 5,
   "metadata": {},
   "outputs": [
    {
     "name": "stdout",
     "output_type": "stream",
     "text": [
      "    latitude   longitude      area  park_idx\n",
      "0  31.373335  126.954253    2159.0         0\n",
      "1  33.218571  126.252728    1733.0         1\n",
      "2  33.229983  126.498677    7461.0         2\n",
      "3  33.236820  126.562841  104137.0         3\n",
      "4  33.243482  126.569065   48279.0         4\n",
      "    latitude   longitude  subway_idx\n",
      "0  36.769502  126.951108           0\n",
      "1  36.777629  127.052991           1\n",
      "2  36.780483  127.003249           2\n",
      "3  36.792053  127.104361           3\n",
      "4  36.793759  127.121400           4\n",
      "    latitude   longitude schoolLevel  school_idx\n",
      "0  33.169187  126.269883  elementary           0\n",
      "1  33.219962  126.253233      middle           1\n",
      "2  33.225592  126.255688  elementary           2\n",
      "3  33.229189  126.253314        high           3\n",
      "4  33.231926  126.259500        high           4\n"
     ]
    }
   ],
   "source": [
    "print(park.head())\n",
    "print(subway.head())\n",
    "print(school.head())"
   ]
  },
  {
   "cell_type": "code",
   "execution_count": 6,
   "metadata": {},
   "outputs": [],
   "source": [
    "# 그리드 크기 설정 (3km = 약 0.027도)\n",
    "grid_size = 0.027  # 3km를 위도/경도 단위로 변환한 크기\n",
    "\n",
    "# data에서 위도와 경도의 최소값 및 최대값을 계산\n",
    "lat_min = data['latitude'].min()\n",
    "lat_max = data['latitude'].max()\n",
    "lon_min = data['longitude'].min()\n",
    "lon_max = data['longitude'].max()\n",
    "\n",
    "# 그리드 경계 설정 (data에서 추출한 최소, 최대 위도/경도 값을 사용)\n",
    "grid_lat_min = lat_min\n",
    "grid_lat_max = lat_max\n",
    "grid_lon_min = lon_min\n",
    "grid_lon_max = lon_max"
   ]
  },
  {
   "cell_type": "code",
   "execution_count": 7,
   "metadata": {},
   "outputs": [
    {
     "name": "stderr",
     "output_type": "stream",
     "text": [
      "Latitude steps:   0%|          | 0/47 [00:00<?, ?it/s]\n",
      "Longitude steps:   0%|          | 0/44 [00:00<?, ?it/s]"
     ]
    },
    {
     "name": "stderr",
     "output_type": "stream",
     "text": [
      "Latitude steps: 100%|██████████| 47/47 [00:00<00:00, 120.84it/s]\n"
     ]
    }
   ],
   "source": [
    "from tqdm import tqdm\n",
    "import pandas as pd\n",
    "\n",
    "# 그리드 생성\n",
    "grid = []\n",
    "\n",
    "# 위도, 경도 그리드 범위를 계산\n",
    "lat_steps = int((grid_lat_max - grid_lat_min) / grid_size) + 1\n",
    "lon_steps = int((grid_lon_max - grid_lon_min) / grid_size) + 1\n",
    "\n",
    "# tqdm 적용하여 진행 상황 표시\n",
    "for i in tqdm(range(lat_steps), desc=\"Latitude steps\"):\n",
    "    for j in tqdm(range(lon_steps), desc=\"Longitude steps\", leave=False):\n",
    "        grid.append({\n",
    "            'grid_id': f'{i}-{j}',\n",
    "            'min_lat': grid_lat_min + i * grid_size,\n",
    "            'max_lat': grid_lat_min + (i + 1) * grid_size,\n",
    "            'min_lon': grid_lon_min + j * grid_size,\n",
    "            'max_lon': grid_lon_min + (j + 1) * grid_size\n",
    "        })\n",
    "\n",
    "grid_df = pd.DataFrame(grid)\n"
   ]
  },
  {
   "cell_type": "code",
   "execution_count": 8,
   "metadata": {},
   "outputs": [],
   "source": [
    "# 각 시설의 위치를 그리드에 매칭하는 함수\n",
    "def find_grid(lat, lon, grid_df):\n",
    "    grid_row = grid_df[\n",
    "        (grid_df['min_lat'] <= lat) & (grid_df['max_lat'] > lat) &\n",
    "        (grid_df['min_lon'] <= lon) & (grid_df['max_lon'] > lon)\n",
    "    ]\n",
    "    if not grid_row.empty:\n",
    "        return grid_row.iloc[0]['grid_id']\n",
    "    else:\n",
    "        return None"
   ]
  },
  {
   "cell_type": "code",
   "execution_count": 9,
   "metadata": {},
   "outputs": [
    {
     "name": "stderr",
     "output_type": "stream",
     "text": [
      "Matching park grids: 100%|██████████| 17122/17122 [00:13<00:00, 1256.03it/s]\n",
      "Matching subway grids: 100%|██████████| 583/583 [00:00<00:00, 1316.58it/s]\n",
      "Matching school grids: 100%|██████████| 11425/11425 [00:07<00:00, 1431.67it/s]"
     ]
    },
    {
     "name": "stdout",
     "output_type": "stream",
     "text": [
      "    latitude   longitude      area  park_idx grid_id\n",
      "0  31.373335  126.954253    2159.0         0    None\n",
      "1  33.218571  126.252728    1733.0         1    None\n",
      "2  33.229983  126.498677    7461.0         2    None\n",
      "3  33.236820  126.562841  104137.0         3    None\n",
      "4  33.243482  126.569065   48279.0         4    None\n",
      "    latitude   longitude  subway_idx grid_id\n",
      "0  36.769502  126.951108           0    None\n",
      "1  36.777629  127.052991           1    None\n",
      "2  36.780483  127.003249           2    None\n",
      "3  36.792053  127.104361           3    None\n",
      "4  36.793759  127.121400           4    None\n",
      "    latitude   longitude schoolLevel  school_idx grid_id\n",
      "0  33.169187  126.269883  elementary           0    None\n",
      "1  33.219962  126.253233      middle           1    None\n",
      "2  33.225592  126.255688  elementary           2    None\n",
      "3  33.229189  126.253314        high           3    None\n",
      "4  33.231926  126.259500        high           4    None\n"
     ]
    },
    {
     "name": "stderr",
     "output_type": "stream",
     "text": [
      "\n"
     ]
    }
   ],
   "source": [
    "# 공원 데이터에 그리드 매칭\n",
    "park['grid_id'] = None  # 먼저 빈 grid_id 열을 생성\n",
    "for index, row in tqdm(park.iterrows(), total=len(park), desc=\"Matching park grids\"):\n",
    "    park.at[index, 'grid_id'] = find_grid(row['latitude'], row['longitude'], grid_df)\n",
    "\n",
    "# 지하철 데이터에 그리드 매칭\n",
    "subway['grid_id'] = None  # 먼저 빈 grid_id 열을 생성\n",
    "for index, row in tqdm(subway.iterrows(), total=len(subway), desc=\"Matching subway grids\"):\n",
    "    subway.at[index, 'grid_id'] = find_grid(row['latitude'], row['longitude'], grid_df)\n",
    "\n",
    "# 학교 데이터에 그리드 매칭\n",
    "school['grid_id'] = None  # 먼저 빈 grid_id 열을 생성\n",
    "for index, row in tqdm(school.iterrows(), total=len(school), desc=\"Matching school grids\"):\n",
    "    school.at[index, 'grid_id'] = find_grid(row['latitude'], row['longitude'], grid_df)\n",
    "\n",
    "# 결과 확인\n",
    "print(park.head())\n",
    "print(subway.head())\n",
    "print(school.head())"
   ]
  },
  {
   "cell_type": "code",
   "execution_count": 10,
   "metadata": {},
   "outputs": [
    {
     "name": "stdout",
     "output_type": "stream",
     "text": [
      "latitude        0\n",
      "longitude       0\n",
      "area            0\n",
      "park_idx        0\n",
      "grid_id      9887\n",
      "dtype: int64\n",
      "latitude       0\n",
      "longitude      0\n",
      "subway_idx     0\n",
      "grid_id       14\n",
      "dtype: int64\n",
      "latitude          0\n",
      "longitude         0\n",
      "schoolLevel       0\n",
      "school_idx        0\n",
      "grid_id        7244\n",
      "dtype: int64\n"
     ]
    }
   ],
   "source": [
    "print(park.isnull().sum())\n",
    "print(subway.isnull().sum())\n",
    "print(school.isnull().sum())"
   ]
  },
  {
   "cell_type": "code",
   "execution_count": 11,
   "metadata": {},
   "outputs": [
    {
     "name": "stdout",
     "output_type": "stream",
     "text": [
      "  grid_id  numeric_grid_id\n",
      "0    None              NaN\n",
      "1    None              NaN\n",
      "2    None              NaN\n",
      "3    None              NaN\n",
      "4    None              NaN\n",
      "  grid_id  numeric_grid_id\n",
      "0    None              NaN\n",
      "1    None              NaN\n",
      "2    None              NaN\n",
      "3    None              NaN\n",
      "4    None              NaN\n",
      "  grid_id  numeric_grid_id\n",
      "0    None              NaN\n",
      "1    None              NaN\n",
      "2    None              NaN\n",
      "3    None              NaN\n",
      "4    None              NaN\n"
     ]
    }
   ],
   "source": [
    "# None이 아닌 값에 대해서만 '-'를 제거하고 숫자로 변환하는 함수\n",
    "def convert_grid_id(grid_id):\n",
    "    if pd.isna(grid_id):  # grid_id가 None이면 None을 반환\n",
    "        return None\n",
    "    else:\n",
    "        return int(grid_id.replace('-', ''))\n",
    "\n",
    "# 공원 데이터에 numeric_grid_id 추가\n",
    "park['numeric_grid_id'] = park['grid_id'].apply(convert_grid_id)\n",
    "\n",
    "# 지하철 데이터에 numeric_grid_id 추가\n",
    "subway['numeric_grid_id'] = subway['grid_id'].apply(convert_grid_id)\n",
    "\n",
    "# 학교 데이터에 numeric_grid_id 추가\n",
    "school['numeric_grid_id'] = school['grid_id'].apply(convert_grid_id)\n",
    "\n",
    "# 결과 확인\n",
    "print(park[['grid_id', 'numeric_grid_id']].head())\n",
    "print(subway[['grid_id', 'numeric_grid_id']].head())\n",
    "print(school[['grid_id', 'numeric_grid_id']].head())\n",
    "\n"
   ]
  },
  {
   "cell_type": "code",
   "execution_count": 20,
   "metadata": {},
   "outputs": [
    {
     "name": "stderr",
     "output_type": "stream",
     "text": [
      "Matching data grids: 100%|██████████| 1951400/1951400 [23:37<00:00, 1376.86it/s]\n"
     ]
    }
   ],
   "source": [
    "# data에 grid_id 추가\n",
    "data['grid_id'] = None  # 빈 grid_id 열 생성\n",
    "\n",
    "# tqdm을 사용하여 각 행에 대해 grid_id 매칭\n",
    "for index, row in tqdm(data.iterrows(), total=len(data), desc=\"Matching data grids\"):\n",
    "    data.at[index, 'grid_id'] = find_grid(row['latitude'], row['longitude'], grid_df)"
   ]
  },
  {
   "cell_type": "code",
   "execution_count": 12,
   "metadata": {},
   "outputs": [
    {
     "data": {
      "text/plain": [
       "Index(['index', '_type', 'contract_year_month', 'contract_day', 'area_m2',\n",
       "       'contract_date_numeric', 'floor', 'built_year', 'latitude', 'longitude',\n",
       "       'age', 'contract_0', 'contract_1', 'deposit', 'apt_idx', 'area',\n",
       "       'grid_deposit', 'nearest_park_distance', 'apt_deposit_rank',\n",
       "       'apt_area_deposit_rank', 'recent_deposit', 'interest_rate', 'grid_id'],\n",
       "      dtype='object')"
      ]
     },
     "execution_count": 12,
     "metadata": {},
     "output_type": "execute_result"
    }
   ],
   "source": [
    "data.columns"
   ]
  },
  {
   "cell_type": "code",
   "execution_count": 13,
   "metadata": {},
   "outputs": [],
   "source": [
    "data['grid_id'] = data['grid_id'].apply(convert_grid_id)"
   ]
  },
  {
   "cell_type": "markdown",
   "metadata": {},
   "source": [
    "---"
   ]
  },
  {
   "cell_type": "markdown",
   "metadata": {},
   "source": [
    "## merge"
   ]
  },
  {
   "cell_type": "code",
   "execution_count": 14,
   "metadata": {},
   "outputs": [],
   "source": [
    "from sklearn.neighbors import BallTree"
   ]
  },
  {
   "cell_type": "code",
   "execution_count": 15,
   "metadata": {},
   "outputs": [],
   "source": [
    "park.rename(columns={'numeric_grid_id': 'park_grid_id'},inplace=True)\n",
    "subway.rename(columns={'numeric_grid_id': 'subway_grid_id'},inplace=True)\n",
    "school.rename(columns={'numeric_grid_id': 'school_grid_id'},inplace=True)"
   ]
  },
  {
   "cell_type": "code",
   "execution_count": 16,
   "metadata": {},
   "outputs": [
    {
     "name": "stdout",
     "output_type": "stream",
     "text": [
      "    latitude   longitude      area  park_idx grid_id  park_grid_id\n",
      "0  31.373335  126.954253    2159.0         0    None           NaN\n",
      "1  33.218571  126.252728    1733.0         1    None           NaN\n",
      "2  33.229983  126.498677    7461.0         2    None           NaN\n",
      "3  33.236820  126.562841  104137.0         3    None           NaN\n",
      "4  33.243482  126.569065   48279.0         4    None           NaN\n",
      "    latitude   longitude  subway_idx grid_id  subway_grid_id\n",
      "0  36.769502  126.951108           0    None             NaN\n",
      "1  36.777629  127.052991           1    None             NaN\n",
      "2  36.780483  127.003249           2    None             NaN\n",
      "3  36.792053  127.104361           3    None             NaN\n",
      "4  36.793759  127.121400           4    None             NaN\n",
      "    latitude   longitude schoolLevel  school_idx grid_id  school_grid_id\n",
      "0  33.169187  126.269883  elementary           0    None             NaN\n",
      "1  33.219962  126.253233      middle           1    None             NaN\n",
      "2  33.225592  126.255688  elementary           2    None             NaN\n",
      "3  33.229189  126.253314        high           3    None             NaN\n",
      "4  33.231926  126.259500        high           4    None             NaN\n"
     ]
    }
   ],
   "source": [
    "print(park.head())\n",
    "print(subway.head())\n",
    "print(school.head())"
   ]
  },
  {
   "cell_type": "code",
   "execution_count": 17,
   "metadata": {},
   "outputs": [],
   "source": [
    "temp_df = data.drop_duplicates(subset=\"apt_idx\", keep=\"first\")\n",
    "\n",
    "EARTH_RADIUS_KM = 6371.0\n",
    "\n",
    "temp_df_rad = np.radians(temp_df[[\"latitude\", \"longitude\"]].values)"
   ]
  },
  {
   "cell_type": "code",
   "execution_count": 18,
   "metadata": {},
   "outputs": [
    {
     "name": "stderr",
     "output_type": "stream",
     "text": [
      "C:\\Users\\com\\AppData\\Local\\Temp\\ipykernel_9236\\1779847317.py:4: SettingWithCopyWarning: \n",
      "A value is trying to be set on a copy of a slice from a DataFrame.\n",
      "Try using .loc[row_indexer,col_indexer] = value instead\n",
      "\n",
      "See the caveats in the documentation: https://pandas.pydata.org/pandas-docs/stable/user_guide/indexing.html#returning-a-view-versus-a-copy\n",
      "  temp_df[\"nearest_park_distance\"] = (distances.flatten() * EARTH_RADIUS_KM * 1000)\n",
      "C:\\Users\\com\\AppData\\Local\\Temp\\ipykernel_9236\\1779847317.py:5: SettingWithCopyWarning: \n",
      "A value is trying to be set on a copy of a slice from a DataFrame.\n",
      "Try using .loc[row_indexer,col_indexer] = value instead\n",
      "\n",
      "See the caveats in the documentation: https://pandas.pydata.org/pandas-docs/stable/user_guide/indexing.html#returning-a-view-versus-a-copy\n",
      "  temp_df[\"nearest_park_idx\"] = (park[\"park_idx\"].iloc[indices.flatten()].values)\n",
      "C:\\Users\\com\\AppData\\Local\\Temp\\ipykernel_9236\\1779847317.py:6: SettingWithCopyWarning: \n",
      "A value is trying to be set on a copy of a slice from a DataFrame.\n",
      "Try using .loc[row_indexer,col_indexer] = value instead\n",
      "\n",
      "See the caveats in the documentation: https://pandas.pydata.org/pandas-docs/stable/user_guide/indexing.html#returning-a-view-versus-a-copy\n",
      "  temp_df['park_grid_id'] = temp_df['nearest_park_idx'].map(park.set_index('park_idx')['park_grid_id'])\n",
      "C:\\Users\\com\\AppData\\Local\\Temp\\ipykernel_9236\\1779847317.py:7: SettingWithCopyWarning: \n",
      "A value is trying to be set on a copy of a slice from a DataFrame.\n",
      "Try using .loc[row_indexer,col_indexer] = value instead\n",
      "\n",
      "See the caveats in the documentation: https://pandas.pydata.org/pandas-docs/stable/user_guide/indexing.html#returning-a-view-versus-a-copy\n",
      "  temp_df['park_area'] = temp_df['nearest_park_idx'].map(park.set_index('park_idx')['area'])\n"
     ]
    }
   ],
   "source": [
    "park_info_rad = np.radians(park[[\"latitude\", \"longitude\"]].values)\n",
    "tree = BallTree(park_info_rad, metric=\"haversine\")\n",
    "distances, indices = tree.query(temp_df_rad, k=1)\n",
    "temp_df[\"nearest_park_distance\"] = (distances.flatten() * EARTH_RADIUS_KM * 1000)\n",
    "temp_df[\"nearest_park_idx\"] = (park[\"park_idx\"].iloc[indices.flatten()].values)\n",
    "temp_df['park_grid_id'] = temp_df['nearest_park_idx'].map(park.set_index('park_idx')['park_grid_id'])\n",
    "temp_df['park_area'] = temp_df['nearest_park_idx'].map(park.set_index('park_idx')['area'])"
   ]
  },
  {
   "cell_type": "code",
   "execution_count": 19,
   "metadata": {},
   "outputs": [
    {
     "data": {
      "text/html": [
       "<div>\n",
       "<style scoped>\n",
       "    .dataframe tbody tr th:only-of-type {\n",
       "        vertical-align: middle;\n",
       "    }\n",
       "\n",
       "    .dataframe tbody tr th {\n",
       "        vertical-align: top;\n",
       "    }\n",
       "\n",
       "    .dataframe thead th {\n",
       "        text-align: right;\n",
       "    }\n",
       "</style>\n",
       "<table border=\"1\" class=\"dataframe\">\n",
       "  <thead>\n",
       "    <tr style=\"text-align: right;\">\n",
       "      <th></th>\n",
       "      <th>index</th>\n",
       "      <th>_type</th>\n",
       "      <th>contract_year_month</th>\n",
       "      <th>contract_day</th>\n",
       "      <th>area_m2</th>\n",
       "      <th>contract_date_numeric</th>\n",
       "      <th>floor</th>\n",
       "      <th>built_year</th>\n",
       "      <th>latitude</th>\n",
       "      <th>longitude</th>\n",
       "      <th>...</th>\n",
       "      <th>grid_deposit</th>\n",
       "      <th>nearest_park_distance</th>\n",
       "      <th>apt_deposit_rank</th>\n",
       "      <th>apt_area_deposit_rank</th>\n",
       "      <th>recent_deposit</th>\n",
       "      <th>interest_rate</th>\n",
       "      <th>grid_id</th>\n",
       "      <th>nearest_park_idx</th>\n",
       "      <th>park_grid_id</th>\n",
       "      <th>park_area</th>\n",
       "    </tr>\n",
       "  </thead>\n",
       "  <tbody>\n",
       "    <tr>\n",
       "      <th>0</th>\n",
       "      <td>0</td>\n",
       "      <td>train</td>\n",
       "      <td>201906</td>\n",
       "      <td>25</td>\n",
       "      <td>84.9981</td>\n",
       "      <td>20190625</td>\n",
       "      <td>9</td>\n",
       "      <td>2019</td>\n",
       "      <td>37.054314</td>\n",
       "      <td>127.045216</td>\n",
       "      <td>...</td>\n",
       "      <td>25581.836691</td>\n",
       "      <td>498.618918</td>\n",
       "      <td>7683</td>\n",
       "      <td>29300</td>\n",
       "      <td>NaN</td>\n",
       "      <td>1.78</td>\n",
       "      <td>520</td>\n",
       "      <td>9759</td>\n",
       "      <td>420.0</td>\n",
       "      <td>3898.0</td>\n",
       "    </tr>\n",
       "    <tr>\n",
       "      <th>3</th>\n",
       "      <td>3</td>\n",
       "      <td>train</td>\n",
       "      <td>201907</td>\n",
       "      <td>15</td>\n",
       "      <td>59.3400</td>\n",
       "      <td>20190715</td>\n",
       "      <td>1</td>\n",
       "      <td>1986</td>\n",
       "      <td>36.964647</td>\n",
       "      <td>127.055847</td>\n",
       "      <td>...</td>\n",
       "      <td>18375.213675</td>\n",
       "      <td>169.839678</td>\n",
       "      <td>18366</td>\n",
       "      <td>58901</td>\n",
       "      <td>NaN</td>\n",
       "      <td>1.68</td>\n",
       "      <td>121</td>\n",
       "      <td>9139</td>\n",
       "      <td>121.0</td>\n",
       "      <td>1616.0</td>\n",
       "    </tr>\n",
       "    <tr>\n",
       "      <th>4</th>\n",
       "      <td>4</td>\n",
       "      <td>train</td>\n",
       "      <td>201904</td>\n",
       "      <td>12</td>\n",
       "      <td>59.8100</td>\n",
       "      <td>20190412</td>\n",
       "      <td>6</td>\n",
       "      <td>1995</td>\n",
       "      <td>36.972390</td>\n",
       "      <td>127.084514</td>\n",
       "      <td>...</td>\n",
       "      <td>12627.879781</td>\n",
       "      <td>382.401815</td>\n",
       "      <td>18369</td>\n",
       "      <td>58863</td>\n",
       "      <td>NaN</td>\n",
       "      <td>1.85</td>\n",
       "      <td>222</td>\n",
       "      <td>9201</td>\n",
       "      <td>122.0</td>\n",
       "      <td>3986.0</td>\n",
       "    </tr>\n",
       "    <tr>\n",
       "      <th>5</th>\n",
       "      <td>5</td>\n",
       "      <td>train</td>\n",
       "      <td>201904</td>\n",
       "      <td>26</td>\n",
       "      <td>84.9342</td>\n",
       "      <td>20190426</td>\n",
       "      <td>13</td>\n",
       "      <td>2016</td>\n",
       "      <td>36.965423</td>\n",
       "      <td>127.048779</td>\n",
       "      <td>...</td>\n",
       "      <td>18375.213675</td>\n",
       "      <td>288.442840</td>\n",
       "      <td>11986</td>\n",
       "      <td>43564</td>\n",
       "      <td>NaN</td>\n",
       "      <td>1.85</td>\n",
       "      <td>121</td>\n",
       "      <td>9150</td>\n",
       "      <td>120.0</td>\n",
       "      <td>4858.3</td>\n",
       "    </tr>\n",
       "    <tr>\n",
       "      <th>6</th>\n",
       "      <td>6</td>\n",
       "      <td>train</td>\n",
       "      <td>201905</td>\n",
       "      <td>7</td>\n",
       "      <td>39.2700</td>\n",
       "      <td>20190507</td>\n",
       "      <td>3</td>\n",
       "      <td>1990</td>\n",
       "      <td>36.957089</td>\n",
       "      <td>127.047449</td>\n",
       "      <td>...</td>\n",
       "      <td>4635.616438</td>\n",
       "      <td>272.286038</td>\n",
       "      <td>18382</td>\n",
       "      <td>59031</td>\n",
       "      <td>NaN</td>\n",
       "      <td>1.85</td>\n",
       "      <td>121</td>\n",
       "      <td>9117</td>\n",
       "      <td>121.0</td>\n",
       "      <td>6173.0</td>\n",
       "    </tr>\n",
       "    <tr>\n",
       "      <th>...</th>\n",
       "      <td>...</td>\n",
       "      <td>...</td>\n",
       "      <td>...</td>\n",
       "      <td>...</td>\n",
       "      <td>...</td>\n",
       "      <td>...</td>\n",
       "      <td>...</td>\n",
       "      <td>...</td>\n",
       "      <td>...</td>\n",
       "      <td>...</td>\n",
       "      <td>...</td>\n",
       "      <td>...</td>\n",
       "      <td>...</td>\n",
       "      <td>...</td>\n",
       "      <td>...</td>\n",
       "      <td>...</td>\n",
       "      <td>...</td>\n",
       "      <td>...</td>\n",
       "      <td>...</td>\n",
       "      <td>...</td>\n",
       "      <td>...</td>\n",
       "    </tr>\n",
       "    <tr>\n",
       "      <th>1940450</th>\n",
       "      <td>139222</td>\n",
       "      <td>test</td>\n",
       "      <td>202401</td>\n",
       "      <td>13</td>\n",
       "      <td>79.4000</td>\n",
       "      <td>20240113</td>\n",
       "      <td>3</td>\n",
       "      <td>2003</td>\n",
       "      <td>37.540437</td>\n",
       "      <td>127.145738</td>\n",
       "      <td>...</td>\n",
       "      <td>45508.725993</td>\n",
       "      <td>213.004451</td>\n",
       "      <td>5738</td>\n",
       "      <td>22416</td>\n",
       "      <td>NaN</td>\n",
       "      <td>3.66</td>\n",
       "      <td>2324</td>\n",
       "      <td>14384</td>\n",
       "      <td>2324.0</td>\n",
       "      <td>996.3</td>\n",
       "    </tr>\n",
       "    <tr>\n",
       "      <th>1940955</th>\n",
       "      <td>139727</td>\n",
       "      <td>test</td>\n",
       "      <td>202401</td>\n",
       "      <td>23</td>\n",
       "      <td>64.1000</td>\n",
       "      <td>20240123</td>\n",
       "      <td>10</td>\n",
       "      <td>2015</td>\n",
       "      <td>37.499548</td>\n",
       "      <td>127.144838</td>\n",
       "      <td>...</td>\n",
       "      <td>53208.361204</td>\n",
       "      <td>205.998864</td>\n",
       "      <td>5774</td>\n",
       "      <td>22578</td>\n",
       "      <td>NaN</td>\n",
       "      <td>3.66</td>\n",
       "      <td>2124</td>\n",
       "      <td>13716</td>\n",
       "      <td>2124.0</td>\n",
       "      <td>10962.5</td>\n",
       "    </tr>\n",
       "    <tr>\n",
       "      <th>1944142</th>\n",
       "      <td>142914</td>\n",
       "      <td>test</td>\n",
       "      <td>202401</td>\n",
       "      <td>16</td>\n",
       "      <td>75.6200</td>\n",
       "      <td>20240116</td>\n",
       "      <td>3</td>\n",
       "      <td>2004</td>\n",
       "      <td>37.463234</td>\n",
       "      <td>126.642899</td>\n",
       "      <td>...</td>\n",
       "      <td>22537.737348</td>\n",
       "      <td>600.149610</td>\n",
       "      <td>5759</td>\n",
       "      <td>22449</td>\n",
       "      <td>NaN</td>\n",
       "      <td>3.66</td>\n",
       "      <td>206</td>\n",
       "      <td>12943</td>\n",
       "      <td>205.0</td>\n",
       "      <td>494.0</td>\n",
       "    </tr>\n",
       "    <tr>\n",
       "      <th>1944417</th>\n",
       "      <td>143189</td>\n",
       "      <td>test</td>\n",
       "      <td>202403</td>\n",
       "      <td>25</td>\n",
       "      <td>49.9000</td>\n",
       "      <td>20240325</td>\n",
       "      <td>13</td>\n",
       "      <td>2015</td>\n",
       "      <td>37.459061</td>\n",
       "      <td>126.674991</td>\n",
       "      <td>...</td>\n",
       "      <td>18786.523185</td>\n",
       "      <td>450.729668</td>\n",
       "      <td>5724</td>\n",
       "      <td>23181</td>\n",
       "      <td>NaN</td>\n",
       "      <td>3.59</td>\n",
       "      <td>207</td>\n",
       "      <td>12879</td>\n",
       "      <td>207.0</td>\n",
       "      <td>7974.2</td>\n",
       "    </tr>\n",
       "    <tr>\n",
       "      <th>1946539</th>\n",
       "      <td>145311</td>\n",
       "      <td>test</td>\n",
       "      <td>202402</td>\n",
       "      <td>26</td>\n",
       "      <td>84.9400</td>\n",
       "      <td>20240226</td>\n",
       "      <td>9</td>\n",
       "      <td>2006</td>\n",
       "      <td>37.465068</td>\n",
       "      <td>126.714757</td>\n",
       "      <td>...</td>\n",
       "      <td>23232.810104</td>\n",
       "      <td>185.103191</td>\n",
       "      <td>5791</td>\n",
       "      <td>22850</td>\n",
       "      <td>NaN</td>\n",
       "      <td>3.62</td>\n",
       "      <td>208</td>\n",
       "      <td>12930</td>\n",
       "      <td>208.0</td>\n",
       "      <td>515.0</td>\n",
       "    </tr>\n",
       "  </tbody>\n",
       "</table>\n",
       "<p>18676 rows × 26 columns</p>\n",
       "</div>"
      ],
      "text/plain": [
       "          index  _type  contract_year_month  contract_day  area_m2  \\\n",
       "0             0  train               201906            25  84.9981   \n",
       "3             3  train               201907            15  59.3400   \n",
       "4             4  train               201904            12  59.8100   \n",
       "5             5  train               201904            26  84.9342   \n",
       "6             6  train               201905             7  39.2700   \n",
       "...         ...    ...                  ...           ...      ...   \n",
       "1940450  139222   test               202401            13  79.4000   \n",
       "1940955  139727   test               202401            23  64.1000   \n",
       "1944142  142914   test               202401            16  75.6200   \n",
       "1944417  143189   test               202403            25  49.9000   \n",
       "1946539  145311   test               202402            26  84.9400   \n",
       "\n",
       "         contract_date_numeric  floor  built_year   latitude   longitude  ...  \\\n",
       "0                     20190625      9        2019  37.054314  127.045216  ...   \n",
       "3                     20190715      1        1986  36.964647  127.055847  ...   \n",
       "4                     20190412      6        1995  36.972390  127.084514  ...   \n",
       "5                     20190426     13        2016  36.965423  127.048779  ...   \n",
       "6                     20190507      3        1990  36.957089  127.047449  ...   \n",
       "...                        ...    ...         ...        ...         ...  ...   \n",
       "1940450               20240113      3        2003  37.540437  127.145738  ...   \n",
       "1940955               20240123     10        2015  37.499548  127.144838  ...   \n",
       "1944142               20240116      3        2004  37.463234  126.642899  ...   \n",
       "1944417               20240325     13        2015  37.459061  126.674991  ...   \n",
       "1946539               20240226      9        2006  37.465068  126.714757  ...   \n",
       "\n",
       "         grid_deposit  nearest_park_distance  apt_deposit_rank  \\\n",
       "0        25581.836691             498.618918              7683   \n",
       "3        18375.213675             169.839678             18366   \n",
       "4        12627.879781             382.401815             18369   \n",
       "5        18375.213675             288.442840             11986   \n",
       "6         4635.616438             272.286038             18382   \n",
       "...               ...                    ...               ...   \n",
       "1940450  45508.725993             213.004451              5738   \n",
       "1940955  53208.361204             205.998864              5774   \n",
       "1944142  22537.737348             600.149610              5759   \n",
       "1944417  18786.523185             450.729668              5724   \n",
       "1946539  23232.810104             185.103191              5791   \n",
       "\n",
       "         apt_area_deposit_rank  recent_deposit  interest_rate  grid_id  \\\n",
       "0                        29300             NaN           1.78      520   \n",
       "3                        58901             NaN           1.68      121   \n",
       "4                        58863             NaN           1.85      222   \n",
       "5                        43564             NaN           1.85      121   \n",
       "6                        59031             NaN           1.85      121   \n",
       "...                        ...             ...            ...      ...   \n",
       "1940450                  22416             NaN           3.66     2324   \n",
       "1940955                  22578             NaN           3.66     2124   \n",
       "1944142                  22449             NaN           3.66      206   \n",
       "1944417                  23181             NaN           3.59      207   \n",
       "1946539                  22850             NaN           3.62      208   \n",
       "\n",
       "         nearest_park_idx  park_grid_id  park_area  \n",
       "0                    9759         420.0     3898.0  \n",
       "3                    9139         121.0     1616.0  \n",
       "4                    9201         122.0     3986.0  \n",
       "5                    9150         120.0     4858.3  \n",
       "6                    9117         121.0     6173.0  \n",
       "...                   ...           ...        ...  \n",
       "1940450             14384        2324.0      996.3  \n",
       "1940955             13716        2124.0    10962.5  \n",
       "1944142             12943         205.0      494.0  \n",
       "1944417             12879         207.0     7974.2  \n",
       "1946539             12930         208.0      515.0  \n",
       "\n",
       "[18676 rows x 26 columns]"
      ]
     },
     "execution_count": 19,
     "metadata": {},
     "output_type": "execute_result"
    }
   ],
   "source": [
    "temp_df"
   ]
  },
  {
   "cell_type": "code",
   "execution_count": 20,
   "metadata": {},
   "outputs": [],
   "source": [
    "data = data.merge(temp_df[[\n",
    "    'apt_idx','nearest_park_distance','nearest_park_idx','park_grid_id','park_area']]\n",
    "    ,on=['apt_idx'],how='left')"
   ]
  },
  {
   "cell_type": "code",
   "execution_count": 21,
   "metadata": {},
   "outputs": [],
   "source": [
    "school_info_rad = np.radians(school[[\"latitude\", \"longitude\"]].values)\n",
    "tree = BallTree(school_info_rad, metric=\"haversine\")\n",
    "distances, indices = tree.query(temp_df_rad, k=1)\n",
    "temp_df[\"nearest_school_distance\"] = (distances.flatten() * EARTH_RADIUS_KM * 1000)\n",
    "temp_df[\"nearest_school_idx\"] = (school[\"school_idx\"].iloc[indices.flatten()].values)\n",
    "temp_df['school_grid_id'] = temp_df['nearest_school_idx'].map(school.set_index('school_idx')['school_grid_id'])"
   ]
  },
  {
   "cell_type": "code",
   "execution_count": 22,
   "metadata": {},
   "outputs": [],
   "source": [
    "data = data.merge(temp_df[[\n",
    "    'apt_idx','nearest_school_distance','nearest_school_idx','school_grid_id']]\n",
    "    ,on=['apt_idx'],how='left')"
   ]
  },
  {
   "cell_type": "code",
   "execution_count": 24,
   "metadata": {},
   "outputs": [
    {
     "name": "stdout",
     "output_type": "stream",
     "text": [
      "indices length: 18676, temp_df length: 18676\n",
      "   nearest_subway_idx  subway_grid_id\n",
      "0                  12           521.0\n",
      "3                  10           222.0\n",
      "4                  10           222.0\n",
      "5                  10           222.0\n",
      "6                  10           222.0\n"
     ]
    }
   ],
   "source": [
    "# subway의 위도와 경도 정보를 radians로 변환 (subway 데이터를 제대로 사용해야 함)\n",
    "subway_info_rad = np.radians(subway[[\"latitude\", \"longitude\"]].values)\n",
    "\n",
    "# BallTree 적용\n",
    "tree = BallTree(subway_info_rad, metric=\"haversine\")\n",
    "distances, indices = tree.query(temp_df_rad, k=1)\n",
    "\n",
    "# indices가 temp_df의 개수와 일치하는지 확인\n",
    "print(f\"indices length: {len(indices)}, temp_df length: {len(temp_df)}\")\n",
    "\n",
    "# 지하철 데이터에 대한 가장 가까운 거리 및 인덱스 정보 추가\n",
    "temp_df[\"nearest_subway_distance\"] = (distances.flatten() * EARTH_RADIUS_KM * 1000)\n",
    "\n",
    "# 인덱스가 유효한지 확인하는 코드 추가\n",
    "valid_indices = indices.flatten()\n",
    "\n",
    "# 유효한 지하철 인덱스에 따라 nearest_subway_idx 추가 (범위를 벗어난 인덱스를 처리)\n",
    "temp_df[\"nearest_subway_idx\"] = subway[\"subway_idx\"].iloc[valid_indices].values\n",
    "\n",
    "# subway_grid_id를 subway_idx에 맞춰 매핑\n",
    "temp_df['subway_grid_id'] = temp_df['nearest_subway_idx'].map(subway.set_index('subway_idx')['subway_grid_id'])\n",
    "\n",
    "# 결과 확인\n",
    "print(temp_df[['nearest_subway_idx', 'subway_grid_id']].head())\n"
   ]
  },
  {
   "cell_type": "code",
   "execution_count": 25,
   "metadata": {},
   "outputs": [],
   "source": [
    "data = data.merge(temp_df[[\n",
    "    'apt_idx','nearest_subway_distance','nearest_subway_idx','subway_grid_id']]\n",
    "    ,on=['apt_idx'],how='left')"
   ]
  },
  {
   "cell_type": "code",
   "execution_count": 30,
   "metadata": {},
   "outputs": [
    {
     "data": {
      "text/plain": [
       "Index(['index', '_type', 'contract_year_month', 'contract_day', 'area_m2',\n",
       "       'contract_date_numeric', 'floor', 'built_year', 'latitude', 'longitude',\n",
       "       'age', 'contract_0', 'contract_1', 'deposit', 'apt_idx', 'area',\n",
       "       'grid_deposit', 'apt_deposit_rank', 'apt_area_deposit_rank',\n",
       "       'recent_deposit', 'interest_rate', 'grid_id', 'nearest_park_distance',\n",
       "       'nearest_park_idx', 'park_grid_id', 'park_area',\n",
       "       'nearest_school_distance', 'nearest_school_idx', 'school_grid_id',\n",
       "       'nearest_subway_distance', 'nearest_subway_idx', 'subway_grid_id'],\n",
       "      dtype='object')"
      ]
     },
     "execution_count": 30,
     "metadata": {},
     "output_type": "execute_result"
    }
   ],
   "source": [
    "data.columns"
   ]
  },
  {
   "cell_type": "code",
   "execution_count": 27,
   "metadata": {},
   "outputs": [],
   "source": [
    "data.drop(columns=['nearest_park_distance_x'],inplace=True)"
   ]
  },
  {
   "cell_type": "code",
   "execution_count": 29,
   "metadata": {},
   "outputs": [],
   "source": [
    "data.rename(columns={'nearest_park_distance_y':'nearest_park_distance'},inplace=True)"
   ]
  },
  {
   "cell_type": "code",
   "execution_count": null,
   "metadata": {},
   "outputs": [],
   "source": [
    "data"
   ]
  },
  {
   "cell_type": "code",
   "execution_count": 31,
   "metadata": {},
   "outputs": [],
   "source": [
    "data.to_csv('temp_real_v8.csv',index=False)"
   ]
  },
  {
   "cell_type": "markdown",
   "metadata": {},
   "source": [
    "---"
   ]
  }
 ],
 "metadata": {
  "kernelspec": {
   "display_name": "base",
   "language": "python",
   "name": "python3"
  },
  "language_info": {
   "codemirror_mode": {
    "name": "ipython",
    "version": 3
   },
   "file_extension": ".py",
   "mimetype": "text/x-python",
   "name": "python",
   "nbconvert_exporter": "python",
   "pygments_lexer": "ipython3",
   "version": "3.12.5"
  }
 },
 "nbformat": 4,
 "nbformat_minor": 2
}
