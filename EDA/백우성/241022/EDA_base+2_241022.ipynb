{
 "cells": [
  {
   "cell_type": "code",
   "execution_count": 1,
   "id": "163b542dd8421538",
   "metadata": {
    "ExecuteTime": {
     "end_time": "2024-10-18T05:50:15.269019Z",
     "start_time": "2024-10-18T05:50:15.259730Z"
    }
   },
   "outputs": [],
   "source": [
    "import os\n",
    "import pandas as pd\n",
    "import numpy as np\n",
    "import matplotlib.pyplot as plt\n",
    "import seaborn as sns\n",
    "import lightgbm as lgb\n",
    "from sklearn.metrics import mean_squared_error, mean_absolute_error"
   ]
  },
  {
   "cell_type": "code",
   "execution_count": 2,
   "id": "183ad610a9a6ff85",
   "metadata": {
    "ExecuteTime": {
     "end_time": "2024-10-18T05:50:16.355622Z",
     "start_time": "2024-10-18T05:50:16.352322Z"
    }
   },
   "outputs": [],
   "source": [
    "import sys\n",
    "import os\n",
    "\n",
    "sys.path.append(os.path.dirname(os.path.dirname(os.path.dirname(os.path.abspath(\"\")))))\n",
    "from src.pre_process.V4.feature_add import FeatureAddition\n",
    "from src.pre_process.V4.feature_duplicate import FeatureDuplication"
   ]
  },
  {
   "cell_type": "code",
   "execution_count": 3,
   "id": "efe89320cb9ed494",
   "metadata": {
    "ExecuteTime": {
     "end_time": "2024-10-18T05:50:23.722924Z",
     "start_time": "2024-10-18T05:50:17.529202Z"
    }
   },
   "outputs": [],
   "source": [
    "BASE_PATH = r'C:\\Users\\com\\Documents\\GitHub\\level2-competitiveds-recsys-06\\data\\etc'\n",
    "data = pd.read_csv('temp_real_v8.csv')\n",
    "# train_data = pd.read_csv(os.path.join(BASE_PATH, 'train.csv'))\n",
    "# test_data = pd.read_csv(os.path.join(BASE_PATH, 'test.csv'))\n",
    "sample_submission = pd.read_csv(os.path.join(BASE_PATH, 'sample_submission.csv'))"
   ]
  },
  {
   "cell_type": "markdown",
   "id": "7df5c46be18da810",
   "metadata": {},
   "source": [
    "---"
   ]
  },
  {
   "cell_type": "markdown",
   "id": "56710196",
   "metadata": {},
   "source": [
    "# data 확인"
   ]
  },
  {
   "cell_type": "code",
   "execution_count": 4,
   "id": "557bb390f9a5b2fa",
   "metadata": {
    "ExecuteTime": {
     "end_time": "2024-10-18T05:50:28.975047Z",
     "start_time": "2024-10-18T05:50:28.684338Z"
    }
   },
   "outputs": [
    {
     "data": {
      "text/html": [
       "<div>\n",
       "<style scoped>\n",
       "    .dataframe tbody tr th:only-of-type {\n",
       "        vertical-align: middle;\n",
       "    }\n",
       "\n",
       "    .dataframe tbody tr th {\n",
       "        vertical-align: top;\n",
       "    }\n",
       "\n",
       "    .dataframe thead th {\n",
       "        text-align: right;\n",
       "    }\n",
       "</style>\n",
       "<table border=\"1\" class=\"dataframe\">\n",
       "  <thead>\n",
       "    <tr style=\"text-align: right;\">\n",
       "      <th></th>\n",
       "      <th>index</th>\n",
       "      <th>_type</th>\n",
       "      <th>contract_year_month</th>\n",
       "      <th>contract_day</th>\n",
       "      <th>area_m2</th>\n",
       "      <th>contract_date_numeric</th>\n",
       "      <th>floor</th>\n",
       "      <th>built_year</th>\n",
       "      <th>latitude</th>\n",
       "      <th>longitude</th>\n",
       "      <th>...</th>\n",
       "      <th>nearest_park_distance</th>\n",
       "      <th>nearest_park_idx</th>\n",
       "      <th>park_grid_id</th>\n",
       "      <th>park_area</th>\n",
       "      <th>nearest_school_distance</th>\n",
       "      <th>nearest_school_idx</th>\n",
       "      <th>school_grid_id</th>\n",
       "      <th>nearest_subway_distance</th>\n",
       "      <th>nearest_subway_idx</th>\n",
       "      <th>subway_grid_id</th>\n",
       "    </tr>\n",
       "  </thead>\n",
       "  <tbody>\n",
       "    <tr>\n",
       "      <th>0</th>\n",
       "      <td>0</td>\n",
       "      <td>train</td>\n",
       "      <td>201906</td>\n",
       "      <td>25</td>\n",
       "      <td>84.9981</td>\n",
       "      <td>20190625</td>\n",
       "      <td>9</td>\n",
       "      <td>2019</td>\n",
       "      <td>37.054314</td>\n",
       "      <td>127.045216</td>\n",
       "      <td>...</td>\n",
       "      <td>498.618918</td>\n",
       "      <td>9759</td>\n",
       "      <td>420.0</td>\n",
       "      <td>3898.0</td>\n",
       "      <td>156.120431</td>\n",
       "      <td>6739</td>\n",
       "      <td>521.0</td>\n",
       "      <td>716.952948</td>\n",
       "      <td>12</td>\n",
       "      <td>521.0</td>\n",
       "    </tr>\n",
       "    <tr>\n",
       "      <th>1</th>\n",
       "      <td>1</td>\n",
       "      <td>train</td>\n",
       "      <td>202003</td>\n",
       "      <td>26</td>\n",
       "      <td>84.9981</td>\n",
       "      <td>20200326</td>\n",
       "      <td>20</td>\n",
       "      <td>2019</td>\n",
       "      <td>37.054314</td>\n",
       "      <td>127.045216</td>\n",
       "      <td>...</td>\n",
       "      <td>498.618918</td>\n",
       "      <td>9759</td>\n",
       "      <td>420.0</td>\n",
       "      <td>3898.0</td>\n",
       "      <td>156.120431</td>\n",
       "      <td>6739</td>\n",
       "      <td>521.0</td>\n",
       "      <td>716.952948</td>\n",
       "      <td>12</td>\n",
       "      <td>521.0</td>\n",
       "    </tr>\n",
       "    <tr>\n",
       "      <th>2</th>\n",
       "      <td>2</td>\n",
       "      <td>train</td>\n",
       "      <td>202003</td>\n",
       "      <td>28</td>\n",
       "      <td>84.9981</td>\n",
       "      <td>20200328</td>\n",
       "      <td>8</td>\n",
       "      <td>2019</td>\n",
       "      <td>37.054314</td>\n",
       "      <td>127.045216</td>\n",
       "      <td>...</td>\n",
       "      <td>498.618918</td>\n",
       "      <td>9759</td>\n",
       "      <td>420.0</td>\n",
       "      <td>3898.0</td>\n",
       "      <td>156.120431</td>\n",
       "      <td>6739</td>\n",
       "      <td>521.0</td>\n",
       "      <td>716.952948</td>\n",
       "      <td>12</td>\n",
       "      <td>521.0</td>\n",
       "    </tr>\n",
       "    <tr>\n",
       "      <th>3</th>\n",
       "      <td>3</td>\n",
       "      <td>train</td>\n",
       "      <td>201907</td>\n",
       "      <td>15</td>\n",
       "      <td>59.3400</td>\n",
       "      <td>20190715</td>\n",
       "      <td>1</td>\n",
       "      <td>1986</td>\n",
       "      <td>36.964647</td>\n",
       "      <td>127.055847</td>\n",
       "      <td>...</td>\n",
       "      <td>169.839678</td>\n",
       "      <td>9139</td>\n",
       "      <td>121.0</td>\n",
       "      <td>1616.0</td>\n",
       "      <td>214.559689</td>\n",
       "      <td>6535</td>\n",
       "      <td>121.0</td>\n",
       "      <td>3897.279708</td>\n",
       "      <td>10</td>\n",
       "      <td>222.0</td>\n",
       "    </tr>\n",
       "    <tr>\n",
       "      <th>4</th>\n",
       "      <td>4</td>\n",
       "      <td>train</td>\n",
       "      <td>201904</td>\n",
       "      <td>12</td>\n",
       "      <td>59.8100</td>\n",
       "      <td>20190412</td>\n",
       "      <td>6</td>\n",
       "      <td>1995</td>\n",
       "      <td>36.972390</td>\n",
       "      <td>127.084514</td>\n",
       "      <td>...</td>\n",
       "      <td>382.401815</td>\n",
       "      <td>9201</td>\n",
       "      <td>122.0</td>\n",
       "      <td>3986.0</td>\n",
       "      <td>1708.489263</td>\n",
       "      <td>6589</td>\n",
       "      <td>222.0</td>\n",
       "      <td>2039.685349</td>\n",
       "      <td>10</td>\n",
       "      <td>222.0</td>\n",
       "    </tr>\n",
       "    <tr>\n",
       "      <th>...</th>\n",
       "      <td>...</td>\n",
       "      <td>...</td>\n",
       "      <td>...</td>\n",
       "      <td>...</td>\n",
       "      <td>...</td>\n",
       "      <td>...</td>\n",
       "      <td>...</td>\n",
       "      <td>...</td>\n",
       "      <td>...</td>\n",
       "      <td>...</td>\n",
       "      <td>...</td>\n",
       "      <td>...</td>\n",
       "      <td>...</td>\n",
       "      <td>...</td>\n",
       "      <td>...</td>\n",
       "      <td>...</td>\n",
       "      <td>...</td>\n",
       "      <td>...</td>\n",
       "      <td>...</td>\n",
       "      <td>...</td>\n",
       "      <td>...</td>\n",
       "    </tr>\n",
       "    <tr>\n",
       "      <th>1951395</th>\n",
       "      <td>150167</td>\n",
       "      <td>test</td>\n",
       "      <td>202402</td>\n",
       "      <td>27</td>\n",
       "      <td>115.5101</td>\n",
       "      <td>20240227</td>\n",
       "      <td>17</td>\n",
       "      <td>2010</td>\n",
       "      <td>37.528394</td>\n",
       "      <td>126.659398</td>\n",
       "      <td>...</td>\n",
       "      <td>398.113485</td>\n",
       "      <td>14160</td>\n",
       "      <td>226.0</td>\n",
       "      <td>8963.9</td>\n",
       "      <td>224.754177</td>\n",
       "      <td>9387</td>\n",
       "      <td>226.0</td>\n",
       "      <td>1483.044562</td>\n",
       "      <td>293</td>\n",
       "      <td>227.0</td>\n",
       "    </tr>\n",
       "    <tr>\n",
       "      <th>1951396</th>\n",
       "      <td>150168</td>\n",
       "      <td>test</td>\n",
       "      <td>202403</td>\n",
       "      <td>2</td>\n",
       "      <td>142.8738</td>\n",
       "      <td>20240302</td>\n",
       "      <td>4</td>\n",
       "      <td>2010</td>\n",
       "      <td>37.528394</td>\n",
       "      <td>126.659398</td>\n",
       "      <td>...</td>\n",
       "      <td>398.113485</td>\n",
       "      <td>14160</td>\n",
       "      <td>226.0</td>\n",
       "      <td>8963.9</td>\n",
       "      <td>224.754177</td>\n",
       "      <td>9387</td>\n",
       "      <td>226.0</td>\n",
       "      <td>1483.044562</td>\n",
       "      <td>293</td>\n",
       "      <td>227.0</td>\n",
       "    </tr>\n",
       "    <tr>\n",
       "      <th>1951397</th>\n",
       "      <td>150169</td>\n",
       "      <td>test</td>\n",
       "      <td>202403</td>\n",
       "      <td>16</td>\n",
       "      <td>142.8738</td>\n",
       "      <td>20240316</td>\n",
       "      <td>13</td>\n",
       "      <td>2010</td>\n",
       "      <td>37.528394</td>\n",
       "      <td>126.659398</td>\n",
       "      <td>...</td>\n",
       "      <td>398.113485</td>\n",
       "      <td>14160</td>\n",
       "      <td>226.0</td>\n",
       "      <td>8963.9</td>\n",
       "      <td>224.754177</td>\n",
       "      <td>9387</td>\n",
       "      <td>226.0</td>\n",
       "      <td>1483.044562</td>\n",
       "      <td>293</td>\n",
       "      <td>227.0</td>\n",
       "    </tr>\n",
       "    <tr>\n",
       "      <th>1951398</th>\n",
       "      <td>150170</td>\n",
       "      <td>test</td>\n",
       "      <td>202403</td>\n",
       "      <td>22</td>\n",
       "      <td>114.9285</td>\n",
       "      <td>20240322</td>\n",
       "      <td>2</td>\n",
       "      <td>2010</td>\n",
       "      <td>37.528394</td>\n",
       "      <td>126.659398</td>\n",
       "      <td>...</td>\n",
       "      <td>398.113485</td>\n",
       "      <td>14160</td>\n",
       "      <td>226.0</td>\n",
       "      <td>8963.9</td>\n",
       "      <td>224.754177</td>\n",
       "      <td>9387</td>\n",
       "      <td>226.0</td>\n",
       "      <td>1483.044562</td>\n",
       "      <td>293</td>\n",
       "      <td>227.0</td>\n",
       "    </tr>\n",
       "    <tr>\n",
       "      <th>1951399</th>\n",
       "      <td>150171</td>\n",
       "      <td>test</td>\n",
       "      <td>202403</td>\n",
       "      <td>22</td>\n",
       "      <td>115.5101</td>\n",
       "      <td>20240322</td>\n",
       "      <td>7</td>\n",
       "      <td>2010</td>\n",
       "      <td>37.528394</td>\n",
       "      <td>126.659398</td>\n",
       "      <td>...</td>\n",
       "      <td>398.113485</td>\n",
       "      <td>14160</td>\n",
       "      <td>226.0</td>\n",
       "      <td>8963.9</td>\n",
       "      <td>224.754177</td>\n",
       "      <td>9387</td>\n",
       "      <td>226.0</td>\n",
       "      <td>1483.044562</td>\n",
       "      <td>293</td>\n",
       "      <td>227.0</td>\n",
       "    </tr>\n",
       "  </tbody>\n",
       "</table>\n",
       "<p>1951400 rows × 32 columns</p>\n",
       "</div>"
      ],
      "text/plain": [
       "          index  _type  contract_year_month  contract_day   area_m2  \\\n",
       "0             0  train               201906            25   84.9981   \n",
       "1             1  train               202003            26   84.9981   \n",
       "2             2  train               202003            28   84.9981   \n",
       "3             3  train               201907            15   59.3400   \n",
       "4             4  train               201904            12   59.8100   \n",
       "...         ...    ...                  ...           ...       ...   \n",
       "1951395  150167   test               202402            27  115.5101   \n",
       "1951396  150168   test               202403             2  142.8738   \n",
       "1951397  150169   test               202403            16  142.8738   \n",
       "1951398  150170   test               202403            22  114.9285   \n",
       "1951399  150171   test               202403            22  115.5101   \n",
       "\n",
       "         contract_date_numeric  floor  built_year   latitude   longitude  ...  \\\n",
       "0                     20190625      9        2019  37.054314  127.045216  ...   \n",
       "1                     20200326     20        2019  37.054314  127.045216  ...   \n",
       "2                     20200328      8        2019  37.054314  127.045216  ...   \n",
       "3                     20190715      1        1986  36.964647  127.055847  ...   \n",
       "4                     20190412      6        1995  36.972390  127.084514  ...   \n",
       "...                        ...    ...         ...        ...         ...  ...   \n",
       "1951395               20240227     17        2010  37.528394  126.659398  ...   \n",
       "1951396               20240302      4        2010  37.528394  126.659398  ...   \n",
       "1951397               20240316     13        2010  37.528394  126.659398  ...   \n",
       "1951398               20240322      2        2010  37.528394  126.659398  ...   \n",
       "1951399               20240322      7        2010  37.528394  126.659398  ...   \n",
       "\n",
       "         nearest_park_distance  nearest_park_idx  park_grid_id  park_area  \\\n",
       "0                   498.618918              9759         420.0     3898.0   \n",
       "1                   498.618918              9759         420.0     3898.0   \n",
       "2                   498.618918              9759         420.0     3898.0   \n",
       "3                   169.839678              9139         121.0     1616.0   \n",
       "4                   382.401815              9201         122.0     3986.0   \n",
       "...                        ...               ...           ...        ...   \n",
       "1951395             398.113485             14160         226.0     8963.9   \n",
       "1951396             398.113485             14160         226.0     8963.9   \n",
       "1951397             398.113485             14160         226.0     8963.9   \n",
       "1951398             398.113485             14160         226.0     8963.9   \n",
       "1951399             398.113485             14160         226.0     8963.9   \n",
       "\n",
       "         nearest_school_distance  nearest_school_idx  school_grid_id  \\\n",
       "0                     156.120431                6739           521.0   \n",
       "1                     156.120431                6739           521.0   \n",
       "2                     156.120431                6739           521.0   \n",
       "3                     214.559689                6535           121.0   \n",
       "4                    1708.489263                6589           222.0   \n",
       "...                          ...                 ...             ...   \n",
       "1951395               224.754177                9387           226.0   \n",
       "1951396               224.754177                9387           226.0   \n",
       "1951397               224.754177                9387           226.0   \n",
       "1951398               224.754177                9387           226.0   \n",
       "1951399               224.754177                9387           226.0   \n",
       "\n",
       "         nearest_subway_distance  nearest_subway_idx  subway_grid_id  \n",
       "0                     716.952948                  12           521.0  \n",
       "1                     716.952948                  12           521.0  \n",
       "2                     716.952948                  12           521.0  \n",
       "3                    3897.279708                  10           222.0  \n",
       "4                    2039.685349                  10           222.0  \n",
       "...                          ...                 ...             ...  \n",
       "1951395              1483.044562                 293           227.0  \n",
       "1951396              1483.044562                 293           227.0  \n",
       "1951397              1483.044562                 293           227.0  \n",
       "1951398              1483.044562                 293           227.0  \n",
       "1951399              1483.044562                 293           227.0  \n",
       "\n",
       "[1951400 rows x 32 columns]"
      ]
     },
     "execution_count": 4,
     "metadata": {},
     "output_type": "execute_result"
    }
   ],
   "source": [
    "data"
   ]
  },
  {
   "cell_type": "code",
   "execution_count": 5,
   "id": "878f65ba902311aa",
   "metadata": {
    "ExecuteTime": {
     "end_time": "2024-10-18T05:50:30.933572Z",
     "start_time": "2024-10-18T05:50:30.926464Z"
    }
   },
   "outputs": [
    {
     "data": {
      "text/plain": [
       "Index(['index', '_type', 'contract_year_month', 'contract_day', 'area_m2',\n",
       "       'contract_date_numeric', 'floor', 'built_year', 'latitude', 'longitude',\n",
       "       'age', 'contract_0', 'contract_1', 'deposit', 'apt_idx', 'area',\n",
       "       'grid_deposit', 'apt_deposit_rank', 'apt_area_deposit_rank',\n",
       "       'recent_deposit', 'interest_rate', 'grid_id', 'nearest_park_distance',\n",
       "       'nearest_park_idx', 'park_grid_id', 'park_area',\n",
       "       'nearest_school_distance', 'nearest_school_idx', 'school_grid_id',\n",
       "       'nearest_subway_distance', 'nearest_subway_idx', 'subway_grid_id'],\n",
       "      dtype='object')"
      ]
     },
     "execution_count": 5,
     "metadata": {},
     "output_type": "execute_result"
    }
   ],
   "source": [
    "data.columns"
   ]
  },
  {
   "cell_type": "markdown",
   "id": "84bd34f47a781bd8",
   "metadata": {},
   "source": [
    "---"
   ]
  },
  {
   "cell_type": "markdown",
   "id": "b8d9a9e458718bfb",
   "metadata": {},
   "source": [
    "# 추가 EDA"
   ]
  },
  {
   "cell_type": "code",
   "execution_count": 6,
   "id": "84fa5cb1",
   "metadata": {},
   "outputs": [
    {
     "name": "stdout",
     "output_type": "stream",
     "text": [
      "grid_id                4623\n",
      "unique_subway_count      14\n",
      "dtype: int64\n"
     ]
    }
   ],
   "source": [
    "# 각 grid_id마다 고유한 nearest_subway_idx의 개수를 계산\n",
    "unique_subway_per_grid = data.groupby('grid_id')['nearest_subway_idx'].nunique().reset_index(name='unique_subway_count')\n",
    "\n",
    "# 결과 확인\n",
    "print(unique_subway_per_grid.max())"
   ]
  },
  {
   "cell_type": "code",
   "execution_count": 7,
   "id": "d768c62f",
   "metadata": {},
   "outputs": [
    {
     "name": "stdout",
     "output_type": "stream",
     "text": [
      "   park_grid_id  unique_park_count\n",
      "0          15.0                  1\n",
      "1         113.0                  1\n",
      "2         114.0                  2\n",
      "3         116.0                  2\n",
      "4         119.0                  1\n",
      "   school_grid_id  unique_school_count\n",
      "0            16.0                    1\n",
      "1           109.0                    1\n",
      "2           114.0                    1\n",
      "3           116.0                    1\n",
      "4           119.0                    1\n"
     ]
    }
   ],
   "source": [
    "# 각 grid_id에 있는 고유한 nearest_park_idx 개수 계산\n",
    "unique_park_per_grid = data.groupby('park_grid_id')['nearest_park_idx'].nunique().reset_index(name='unique_park_count')\n",
    "\n",
    "# 각 grid_id에 있는 고유한 nearest_school_idx 개수 계산\n",
    "unique_school_per_grid = data.groupby('school_grid_id')['nearest_school_idx'].nunique().reset_index(name='unique_school_count')\n",
    "\n",
    "# 결과 확인\n",
    "print(unique_park_per_grid.head())\n",
    "print(unique_school_per_grid.head())\n"
   ]
  },
  {
   "cell_type": "code",
   "execution_count": 8,
   "id": "76be9c40",
   "metadata": {},
   "outputs": [
    {
     "name": "stdout",
     "output_type": "stream",
     "text": [
      "   park_grid_id  park_count  school_grid_id  school_count  grid_id  \\\n",
      "0         420.0         9.0           521.0            15      520   \n",
      "1         420.0         9.0           521.0            15      520   \n",
      "2         420.0         9.0           521.0            15      520   \n",
      "3         121.0         7.0           121.0             3      121   \n",
      "4         122.0         1.0           222.0             6      222   \n",
      "\n",
      "   subway_count  \n",
      "0             1  \n",
      "1             1  \n",
      "2             1  \n",
      "3             1  \n",
      "4             1  \n"
     ]
    },
    {
     "name": "stderr",
     "output_type": "stream",
     "text": [
      "C:\\Users\\com\\AppData\\Local\\Temp\\ipykernel_17244\\3367762499.py:11: SettingWithCopyWarning: \n",
      "A value is trying to be set on a copy of a slice from a DataFrame\n",
      "\n",
      "See the caveats in the documentation: https://pandas.pydata.org/pandas-docs/stable/user_guide/indexing.html#returning-a-view-versus-a-copy\n",
      "  data[['park_count','school_count','subway_count']].fillna(0, inplace=True)\n"
     ]
    }
   ],
   "source": [
    "# park_grid_id를 기준으로 unique_park_count 매핑\n",
    "data['park_count'] = data['park_grid_id'].map(unique_park_per_grid.set_index('park_grid_id')['unique_park_count'])\n",
    "\n",
    "# school_grid_id를 기준으로 unique_school_count 매핑\n",
    "data['school_count'] = data['school_grid_id'].map(unique_school_per_grid.set_index('school_grid_id')['unique_school_count'])\n",
    "\n",
    "# subway_grid_id를 기준으로 이미 계산한 unique_subway_count 매핑\n",
    "data['subway_count'] = data['grid_id'].map(unique_subway_per_grid.set_index('grid_id')['unique_subway_count'])\n",
    "\n",
    "# NaN 값을 0으로 대체\n",
    "data[['park_count','school_count','subway_count']].fillna(0, inplace=True)\n",
    "\n",
    "# 결과 확인\n",
    "print(data[['park_grid_id', 'park_count', 'school_grid_id', 'school_count', 'grid_id', 'subway_count']].head())\n"
   ]
  },
  {
   "cell_type": "code",
   "execution_count": 9,
   "id": "d0a301a0",
   "metadata": {},
   "outputs": [
    {
     "name": "stdout",
     "output_type": "stream",
     "text": [
      "date_length\n",
      "8    1951400\n",
      "Name: count, dtype: int64\n"
     ]
    }
   ],
   "source": [
    "# 데이터 길이 확인\n",
    "data['date_length'] = data['contract_date_numeric'].astype(str).apply(len)\n",
    "print(data['date_length'].value_counts())\n"
   ]
  },
  {
   "cell_type": "code",
   "execution_count": 10,
   "id": "dede5e4b",
   "metadata": {},
   "outputs": [
    {
     "name": "stdout",
     "output_type": "stream",
     "text": [
      "   contract_date_numeric contract_date  contract_timestamp\n",
      "0               20190625    2019-06-25          1561388400\n",
      "1               20200326    2020-03-26          1585148400\n",
      "2               20200328    2020-03-28          1585321200\n",
      "3               20190715    2019-07-15          1563116400\n",
      "4               20190412    2019-04-12          1554994800\n"
     ]
    }
   ],
   "source": [
    "import time\n",
    "from datetime import datetime\n",
    "\n",
    "data['contract_date'] = pd.to_datetime(data['contract_date_numeric'], format='%Y%m%d')\n",
    "\n",
    "data['contract_timestamp'] = data['contract_date'].apply(lambda x: int(time.mktime(x.timetuple())))\n",
    "\n",
    "print(data[['contract_date_numeric', 'contract_date', 'contract_timestamp']].head())\n"
   ]
  },
  {
   "cell_type": "markdown",
   "id": "0b8e3341",
   "metadata": {},
   "source": [
    "## 데이터 컬럼 확인"
   ]
  },
  {
   "cell_type": "code",
   "execution_count": 22,
   "id": "8e8868b4c799b0a6",
   "metadata": {
    "ExecuteTime": {
     "end_time": "2024-10-18T05:52:28.789331Z",
     "start_time": "2024-10-18T05:52:28.782867Z"
    }
   },
   "outputs": [
    {
     "data": {
      "text/plain": [
       "Index(['index', '_type', 'contract_year_month', 'contract_day', 'area_m2',\n",
       "       'contract_date_numeric', 'floor', 'built_year', 'latitude', 'longitude',\n",
       "       'age', 'contract_0', 'contract_1', 'deposit', 'apt_idx', 'area',\n",
       "       'grid_deposit', 'apt_deposit_rank', 'apt_area_deposit_rank',\n",
       "       'recent_deposit', 'interest_rate', 'grid_id', 'nearest_park_distance',\n",
       "       'nearest_park_idx', 'park_grid_id', 'park_area',\n",
       "       'nearest_school_distance', 'nearest_school_idx', 'school_grid_id',\n",
       "       'nearest_subway_distance', 'nearest_subway_idx', 'subway_grid_id',\n",
       "       'park_count', 'school_count', 'subway_count', 'date_length',\n",
       "       'contract_date', 'contract_timestamp'],\n",
       "      dtype='object')"
      ]
     },
     "execution_count": 22,
     "metadata": {},
     "output_type": "execute_result"
    }
   ],
   "source": [
    "data.columns"
   ]
  },
  {
   "cell_type": "code",
   "execution_count": 33,
   "id": "c5746807",
   "metadata": {},
   "outputs": [
    {
     "data": {
      "text/plain": [
       "index                           0\n",
       "_type                           0\n",
       "contract_year_month             0\n",
       "contract_day                    0\n",
       "area_m2                         0\n",
       "contract_date_numeric           0\n",
       "floor                           0\n",
       "built_year                      0\n",
       "latitude                        0\n",
       "longitude                       0\n",
       "age                             0\n",
       "contract_0                      0\n",
       "contract_1                      0\n",
       "deposit                    150172\n",
       "apt_idx                         0\n",
       "area                            0\n",
       "grid_deposit                    0\n",
       "apt_deposit_rank                0\n",
       "apt_area_deposit_rank           0\n",
       "recent_deposit              67857\n",
       "interest_rate               11882\n",
       "grid_id                         0\n",
       "nearest_park_distance           0\n",
       "nearest_park_idx                0\n",
       "park_grid_id                   88\n",
       "park_area                       0\n",
       "nearest_school_distance         0\n",
       "nearest_school_idx              0\n",
       "school_grid_id                  0\n",
       "nearest_subway_distance         0\n",
       "nearest_subway_idx              0\n",
       "subway_grid_id               2195\n",
       "park_count                     88\n",
       "school_count                    0\n",
       "subway_count                    0\n",
       "date_length                     0\n",
       "contract_date                   0\n",
       "contract_timestamp              0\n",
       "dtype: int64"
      ]
     },
     "execution_count": 33,
     "metadata": {},
     "output_type": "execute_result"
    }
   ],
   "source": [
    "data.isnull().sum()"
   ]
  },
  {
   "cell_type": "code",
   "execution_count": 31,
   "id": "0445ab2c",
   "metadata": {},
   "outputs": [],
   "source": [
    "data.to_csv('v9.csv',index=False)"
   ]
  },
  {
   "cell_type": "markdown",
   "id": "e4c635c271ec92b9",
   "metadata": {},
   "source": [
    "---"
   ]
  },
  {
   "cell_type": "markdown",
   "id": "722a2de4",
   "metadata": {},
   "source": [
    "# 모델링"
   ]
  },
  {
   "cell_type": "code",
   "execution_count": 23,
   "id": "cfb990484c4426e3",
   "metadata": {
    "ExecuteTime": {
     "end_time": "2024-10-18T08:35:26.955668Z",
     "start_time": "2024-10-18T08:35:26.512733Z"
    }
   },
   "outputs": [],
   "source": [
    "train_data = data[data['_type'] == 'train']\n",
    "test_data = data[data['_type'] == 'test']"
   ]
  },
  {
   "cell_type": "code",
   "execution_count": 24,
   "id": "e6746ac730a34bd4",
   "metadata": {
    "ExecuteTime": {
     "end_time": "2024-10-18T09:02:45.505074Z",
     "start_time": "2024-10-18T09:02:45.417823Z"
    }
   },
   "outputs": [],
   "source": [
    "column_needed = [\n",
    "    # 'index', '_type', 'area_price', 'area_m2_price', 'original_index','contract_year_month', 'contract_day', 'area_m2',\n",
    "    'contract_date_numeric', \n",
    "    'area_m2',\n",
    "    'floor', 'built_year', 'latitude', 'longitude','age', \n",
    "    'contract_0', 'contract_1', \n",
    "    'deposit', \n",
    "    'apt_idx', \n",
    "    'area',\n",
    "    'grid_deposit', \n",
    "    'apt_deposit_rank', 'apt_area_deposit_rank',\n",
    "    'recent_deposit', \n",
    "    # 'interest_rate', \n",
    "    # 'grid_id',  'school_grid_id', 'park_grid_id', 'subway_grid_id',\n",
    "    'nearest_park_distance','nearest_park_idx', 'park_area',\n",
    "    'nearest_school_distance', 'nearest_school_idx',\n",
    "    'nearest_subway_distance', 'nearest_subway_idx',\n",
    "    'park_count', 'school_count', 'subway_count',\n",
    "    # 'contract_timestamp',\n",
    "]\n",
    "test_column_needed = [\n",
    "    # 'index', '_type', 'area_price', 'area_m2_price', 'original_index','contract_year_month', 'contract_day', 'area_m2',\n",
    "    'contract_date_numeric',\n",
    "    'area_m2',\n",
    "    'floor', 'built_year', 'latitude', 'longitude','age', \n",
    "    'contract_0', 'contract_1',  \n",
    "    'apt_idx', \n",
    "    'area',\n",
    "    'grid_deposit', \n",
    "    'apt_deposit_rank', 'apt_area_deposit_rank',\n",
    "    'recent_deposit', \n",
    "    # 'interest_rate', \n",
    "    # 'grid_id',  'school_grid_id', 'park_grid_id', 'subway_grid_id',\n",
    "    'nearest_park_distance','nearest_park_idx', 'park_area',\n",
    "    'nearest_school_distance', 'nearest_school_idx',\n",
    "    'nearest_subway_distance', 'nearest_subway_idx',\n",
    "    'park_count', 'school_count', 'subway_count',\n",
    "    # 'contract_timestamp',\n",
    "]\n",
    "train_df = train_data[column_needed]\n",
    "test_df = test_data[test_column_needed]"
   ]
  },
  {
   "cell_type": "code",
   "execution_count": 25,
   "id": "e5409ff19ebe6ce7",
   "metadata": {
    "ExecuteTime": {
     "end_time": "2024-10-18T09:08:08.124240Z",
     "start_time": "2024-10-18T09:02:49.881838Z"
    }
   },
   "outputs": [
    {
     "name": "stdout",
     "output_type": "stream",
     "text": [
      "[0]\ttrain-mae:16477.66290\teval-mae:16479.61304\n",
      "[10]\ttrain-mae:11229.43805\teval-mae:11231.48890\n",
      "[20]\ttrain-mae:8060.68567\teval-mae:8057.84171\n",
      "[30]\ttrain-mae:6261.85207\teval-mae:6252.50556\n",
      "[40]\ttrain-mae:5307.64348\teval-mae:5295.50616\n",
      "[50]\ttrain-mae:4785.07519\teval-mae:4773.57622\n",
      "[60]\ttrain-mae:4513.12787\teval-mae:4504.25448\n",
      "[70]\ttrain-mae:4371.29475\teval-mae:4364.46552\n",
      "[80]\ttrain-mae:4281.42614\teval-mae:4276.90155\n",
      "[90]\ttrain-mae:4234.73839\teval-mae:4230.86734\n",
      "[100]\ttrain-mae:4201.21827\teval-mae:4198.05642\n",
      "[110]\ttrain-mae:4172.24428\teval-mae:4169.92489\n",
      "[120]\ttrain-mae:4149.84370\teval-mae:4148.53670\n",
      "[130]\ttrain-mae:4127.21964\teval-mae:4126.88941\n",
      "[140]\ttrain-mae:4108.38547\teval-mae:4108.92510\n",
      "[150]\ttrain-mae:4088.04908\teval-mae:4089.40359\n",
      "[160]\ttrain-mae:4074.50690\teval-mae:4076.39115\n",
      "[170]\ttrain-mae:4062.66001\teval-mae:4065.31382\n",
      "[180]\ttrain-mae:4050.56977\teval-mae:4053.93720\n",
      "[190]\ttrain-mae:4042.48937\teval-mae:4046.31472\n",
      "[200]\ttrain-mae:4029.29052\teval-mae:4033.67618\n",
      "[210]\ttrain-mae:4022.21031\teval-mae:4026.78421\n",
      "[220]\ttrain-mae:4011.44214\teval-mae:4016.60086\n",
      "[230]\ttrain-mae:4004.97777\teval-mae:4010.64488\n",
      "[240]\ttrain-mae:3997.00689\teval-mae:4003.04468\n",
      "[250]\ttrain-mae:3989.47479\teval-mae:3996.12675\n",
      "[260]\ttrain-mae:3982.76514\teval-mae:3989.70954\n",
      "[270]\ttrain-mae:3975.35417\teval-mae:3982.67257\n",
      "[280]\ttrain-mae:3970.10185\teval-mae:3977.78133\n",
      "[290]\ttrain-mae:3963.31122\teval-mae:3971.67422\n",
      "[300]\ttrain-mae:3957.98301\teval-mae:3966.89647\n",
      "[310]\ttrain-mae:3951.94185\teval-mae:3961.34419\n",
      "[320]\ttrain-mae:3945.86351\teval-mae:3955.53438\n",
      "[330]\ttrain-mae:3940.33068\teval-mae:3950.36458\n",
      "[340]\ttrain-mae:3935.66451\teval-mae:3946.04747\n",
      "[350]\ttrain-mae:3931.53388\teval-mae:3942.22041\n",
      "[360]\ttrain-mae:3926.45050\teval-mae:3937.45532\n",
      "[370]\ttrain-mae:3919.54925\teval-mae:3930.97503\n",
      "[380]\ttrain-mae:3916.81851\teval-mae:3928.56829\n",
      "[390]\ttrain-mae:3913.40569\teval-mae:3925.52329\n",
      "[400]\ttrain-mae:3909.12903\teval-mae:3921.65214\n",
      "[410]\ttrain-mae:3904.38457\teval-mae:3917.29568\n",
      "[420]\ttrain-mae:3900.20338\teval-mae:3913.51218\n",
      "[430]\ttrain-mae:3896.30512\teval-mae:3910.12530\n",
      "[440]\ttrain-mae:3893.01667\teval-mae:3907.10381\n",
      "[450]\ttrain-mae:3889.58222\teval-mae:3904.04243\n",
      "[460]\ttrain-mae:3885.42837\teval-mae:3900.56724\n",
      "[470]\ttrain-mae:3881.91723\teval-mae:3897.43903\n",
      "[480]\ttrain-mae:3877.96542\teval-mae:3893.91627\n",
      "[490]\ttrain-mae:3874.41228\teval-mae:3890.86487\n",
      "[500]\ttrain-mae:3871.04855\teval-mae:3887.91143\n",
      "[510]\ttrain-mae:3867.97103\teval-mae:3885.21651\n",
      "[520]\ttrain-mae:3865.05279\teval-mae:3882.60877\n",
      "[530]\ttrain-mae:3861.74178\teval-mae:3879.71154\n",
      "[540]\ttrain-mae:3858.16500\teval-mae:3876.37637\n",
      "[550]\ttrain-mae:3856.01896\teval-mae:3874.48771\n",
      "[560]\ttrain-mae:3853.58411\teval-mae:3872.37369\n",
      "[570]\ttrain-mae:3850.85017\teval-mae:3870.07026\n",
      "[580]\ttrain-mae:3848.61263\teval-mae:3868.12478\n",
      "[590]\ttrain-mae:3845.11053\teval-mae:3864.88962\n",
      "[600]\ttrain-mae:3843.37477\teval-mae:3863.41660\n",
      "[610]\ttrain-mae:3840.56220\teval-mae:3861.11309\n",
      "[620]\ttrain-mae:3838.88272\teval-mae:3859.73409\n",
      "[630]\ttrain-mae:3836.71540\teval-mae:3857.86748\n",
      "[640]\ttrain-mae:3834.76999\teval-mae:3856.25735\n",
      "[650]\ttrain-mae:3832.79725\teval-mae:3854.58420\n",
      "[660]\ttrain-mae:3830.97661\teval-mae:3852.89114\n",
      "[670]\ttrain-mae:3829.01442\teval-mae:3851.24509\n",
      "[680]\ttrain-mae:3825.63918\teval-mae:3848.18770\n",
      "[690]\ttrain-mae:3823.76890\teval-mae:3846.53689\n",
      "[700]\ttrain-mae:3821.52749\teval-mae:3844.62054\n",
      "[710]\ttrain-mae:3818.42036\teval-mae:3841.89230\n",
      "[720]\ttrain-mae:3815.61465\teval-mae:3839.43694\n",
      "[730]\ttrain-mae:3813.54181\teval-mae:3837.70953\n",
      "[740]\ttrain-mae:3812.37770\teval-mae:3836.72704\n",
      "[750]\ttrain-mae:3811.09948\teval-mae:3835.64831\n",
      "[760]\ttrain-mae:3809.64788\teval-mae:3834.51988\n",
      "[770]\ttrain-mae:3807.99685\teval-mae:3833.03552\n",
      "[780]\ttrain-mae:3806.49541\teval-mae:3831.88659\n",
      "[790]\ttrain-mae:3804.02667\teval-mae:3829.94924\n",
      "[800]\ttrain-mae:3802.82133\teval-mae:3828.75708\n",
      "[810]\ttrain-mae:3800.79362\teval-mae:3827.09970\n",
      "[820]\ttrain-mae:3798.43116\teval-mae:3825.10544\n",
      "[830]\ttrain-mae:3797.61226\teval-mae:3824.50898\n",
      "[840]\ttrain-mae:3795.01543\teval-mae:3822.34500\n",
      "[850]\ttrain-mae:3793.44983\teval-mae:3820.94111\n",
      "[860]\ttrain-mae:3791.69491\teval-mae:3819.13299\n",
      "[870]\ttrain-mae:3789.68912\teval-mae:3817.40982\n",
      "[880]\ttrain-mae:3788.53299\teval-mae:3816.45284\n",
      "[890]\ttrain-mae:3787.08605\teval-mae:3815.32980\n",
      "[900]\ttrain-mae:3785.91311\teval-mae:3814.40395\n",
      "[910]\ttrain-mae:3784.66372\teval-mae:3813.34389\n",
      "[920]\ttrain-mae:3783.08709\teval-mae:3812.03897\n",
      "[930]\ttrain-mae:3781.05551\teval-mae:3810.27791\n",
      "[940]\ttrain-mae:3779.20043\teval-mae:3808.58861\n",
      "[950]\ttrain-mae:3777.79915\teval-mae:3807.45273\n",
      "[960]\ttrain-mae:3776.47833\teval-mae:3806.45705\n",
      "[970]\ttrain-mae:3774.54806\teval-mae:3804.41334\n",
      "[980]\ttrain-mae:3771.95511\teval-mae:3802.26092\n",
      "[990]\ttrain-mae:3770.16942\teval-mae:3800.69035\n",
      "[999]\ttrain-mae:3769.27623\teval-mae:3800.06324\n"
     ]
    }
   ],
   "source": [
    "import xgboost as xgb\n",
    "from sklearn.model_selection import train_test_split\n",
    "from sklearn.metrics import mean_absolute_error\n",
    "\n",
    "# # 학습에 사용할 특징 열\n",
    "# feature_columns = [col for col in data.columns if col not in ['deposit', '_type', 'index']]\n",
    "# 학습 및 테스트 데이터 준비\n",
    "X_train = train_df.drop(columns=['deposit'])\n",
    "y_train = train_df['deposit']\n",
    "X_test = test_df.copy()\n",
    "# 학습 데이터를 검증용으로 분할\n",
    "X_train_split, X_val_split, y_train_split, y_val_split = train_test_split(X_train, y_train, test_size=0.2,\n",
    "                                                                          random_state=42)\n",
    "# XGBoost를 위한 DMatrix 생성\n",
    "dtrain = xgb.DMatrix(X_train_split, label=y_train_split)\n",
    "dval = xgb.DMatrix(X_val_split, label=y_val_split)\n",
    "dtest = xgb.DMatrix(X_test)\n",
    "# XGBoost 파라미터 설정\n",
    "params = {\n",
    "    'objective': 'reg:absoluteerror',\n",
    "    'eval_metric': 'mae',\n",
    "    'max_depth': 6,\n",
    "    'eta': 0.05,\n",
    "    'subsample': 0.8,\n",
    "    'colsample_bytree': 0.8,\n",
    "    'seed': 42\n",
    "}\n",
    "# 모델 학습\n",
    "evals = [(dtrain, 'train'), (dval, 'eval')]\n",
    "model = xgb.train(params, dtrain, num_boost_round=1000, early_stopping_rounds=50, evals=evals, verbose_eval=10)\n",
    "# 테스트 세트에 대한 예측\n",
    "y_pred = model.predict(dtest)"
   ]
  },
  {
   "cell_type": "code",
   "execution_count": 26,
   "id": "955bbb62429d672a",
   "metadata": {
    "ExecuteTime": {
     "end_time": "2024-10-18T09:08:26.003056Z",
     "start_time": "2024-10-18T09:08:25.849735Z"
    }
   },
   "outputs": [
    {
     "data": {
      "image/png": "[encoded data removed]",
      "text/plain": [
       "<Figure size 1000x800 with 1 Axes>"
      ]
     },
     "metadata": {},
     "output_type": "display_data"
    }
   ],
   "source": [
    "#Feature Importance\n",
    "# 피처 중요도 추출\n",
    "feature_importance = model.get_fscore()\n",
    "# 피처 중요도를 DataFrame으로 변환\n",
    "importance_df = pd.DataFrame(feature_importance.items(), columns=['Feature', 'Importance'])\n",
    "# 중요도 순으로 정렬\n",
    "importance_df = importance_df.sort_values(by='Importance', ascending=False)\n",
    "# 시각화\n",
    "plt.figure(figsize=(10, 8))\n",
    "sns.barplot(x='Importance', y='Feature', data=importance_df)\n",
    "plt.title('Feature Importance')\n",
    "plt.show()"
   ]
  },
  {
   "cell_type": "code",
   "execution_count": 27,
   "id": "4a660cc0c25eb265",
   "metadata": {
    "ExecuteTime": {
     "end_time": "2024-10-18T09:08:29.834551Z",
     "start_time": "2024-10-18T09:08:29.830219Z"
    }
   },
   "outputs": [
    {
     "data": {
      "text/plain": [
       "array([22802.139 ,  7256.283 ,  6384.8555, ..., 45519.47  , 37123.64  ,\n",
       "       38261.547 ], dtype=float32)"
      ]
     },
     "execution_count": 27,
     "metadata": {},
     "output_type": "execute_result"
    }
   ],
   "source": [
    "y_pred"
   ]
  },
  {
   "cell_type": "code",
   "execution_count": 28,
   "id": "bb7db05baf47b631",
   "metadata": {
    "ExecuteTime": {
     "end_time": "2024-10-18T09:08:31.641364Z",
     "start_time": "2024-10-18T09:08:31.635030Z"
    }
   },
   "outputs": [
    {
     "data": {
      "text/html": [
       "<div>\n",
       "<style scoped>\n",
       "    .dataframe tbody tr th:only-of-type {\n",
       "        vertical-align: middle;\n",
       "    }\n",
       "\n",
       "    .dataframe tbody tr th {\n",
       "        vertical-align: top;\n",
       "    }\n",
       "\n",
       "    .dataframe thead th {\n",
       "        text-align: right;\n",
       "    }\n",
       "</style>\n",
       "<table border=\"1\" class=\"dataframe\">\n",
       "  <thead>\n",
       "    <tr style=\"text-align: right;\">\n",
       "      <th></th>\n",
       "      <th>index</th>\n",
       "      <th>deposit</th>\n",
       "    </tr>\n",
       "  </thead>\n",
       "  <tbody>\n",
       "    <tr>\n",
       "      <th>0</th>\n",
       "      <td>0</td>\n",
       "      <td>22802.138672</td>\n",
       "    </tr>\n",
       "    <tr>\n",
       "      <th>1</th>\n",
       "      <td>1</td>\n",
       "      <td>7256.283203</td>\n",
       "    </tr>\n",
       "    <tr>\n",
       "      <th>2</th>\n",
       "      <td>2</td>\n",
       "      <td>6384.855469</td>\n",
       "    </tr>\n",
       "    <tr>\n",
       "      <th>3</th>\n",
       "      <td>3</td>\n",
       "      <td>6549.868164</td>\n",
       "    </tr>\n",
       "    <tr>\n",
       "      <th>4</th>\n",
       "      <td>4</td>\n",
       "      <td>6749.155273</td>\n",
       "    </tr>\n",
       "    <tr>\n",
       "      <th>...</th>\n",
       "      <td>...</td>\n",
       "      <td>...</td>\n",
       "    </tr>\n",
       "    <tr>\n",
       "      <th>150167</th>\n",
       "      <td>150167</td>\n",
       "      <td>37280.503906</td>\n",
       "    </tr>\n",
       "    <tr>\n",
       "      <th>150168</th>\n",
       "      <td>150168</td>\n",
       "      <td>43815.035156</td>\n",
       "    </tr>\n",
       "    <tr>\n",
       "      <th>150169</th>\n",
       "      <td>150169</td>\n",
       "      <td>45519.468750</td>\n",
       "    </tr>\n",
       "    <tr>\n",
       "      <th>150170</th>\n",
       "      <td>150170</td>\n",
       "      <td>37123.640625</td>\n",
       "    </tr>\n",
       "    <tr>\n",
       "      <th>150171</th>\n",
       "      <td>150171</td>\n",
       "      <td>38261.546875</td>\n",
       "    </tr>\n",
       "  </tbody>\n",
       "</table>\n",
       "<p>150172 rows × 2 columns</p>\n",
       "</div>"
      ],
      "text/plain": [
       "         index       deposit\n",
       "0            0  22802.138672\n",
       "1            1   7256.283203\n",
       "2            2   6384.855469\n",
       "3            3   6549.868164\n",
       "4            4   6749.155273\n",
       "...        ...           ...\n",
       "150167  150167  37280.503906\n",
       "150168  150168  43815.035156\n",
       "150169  150169  45519.468750\n",
       "150170  150170  37123.640625\n",
       "150171  150171  38261.546875\n",
       "\n",
       "[150172 rows x 2 columns]"
      ]
     },
     "execution_count": 28,
     "metadata": {},
     "output_type": "execute_result"
    }
   ],
   "source": [
    "sample_submission['deposit'] = y_pred\n",
    "sample_submission"
   ]
  },
  {
   "cell_type": "code",
   "execution_count": 29,
   "id": "2b94ebab94998b5b",
   "metadata": {
    "ExecuteTime": {
     "end_time": "2024-10-18T09:08:33.766674Z",
     "start_time": "2024-10-18T09:08:33.751576Z"
    }
   },
   "outputs": [
    {
     "data": {
      "text/html": [
       "<div>\n",
       "<style scoped>\n",
       "    .dataframe tbody tr th:only-of-type {\n",
       "        vertical-align: middle;\n",
       "    }\n",
       "\n",
       "    .dataframe tbody tr th {\n",
       "        vertical-align: top;\n",
       "    }\n",
       "\n",
       "    .dataframe thead th {\n",
       "        text-align: right;\n",
       "    }\n",
       "</style>\n",
       "<table border=\"1\" class=\"dataframe\">\n",
       "  <thead>\n",
       "    <tr style=\"text-align: right;\">\n",
       "      <th></th>\n",
       "      <th>index</th>\n",
       "      <th>deposit</th>\n",
       "    </tr>\n",
       "  </thead>\n",
       "  <tbody>\n",
       "    <tr>\n",
       "      <th>count</th>\n",
       "      <td>150172.00000</td>\n",
       "      <td>150172.000000</td>\n",
       "    </tr>\n",
       "    <tr>\n",
       "      <th>mean</th>\n",
       "      <td>75085.50000</td>\n",
       "      <td>39195.167969</td>\n",
       "    </tr>\n",
       "    <tr>\n",
       "      <th>std</th>\n",
       "      <td>43351.06665</td>\n",
       "      <td>24097.947266</td>\n",
       "    </tr>\n",
       "    <tr>\n",
       "      <th>min</th>\n",
       "      <td>0.00000</td>\n",
       "      <td>3206.022217</td>\n",
       "    </tr>\n",
       "    <tr>\n",
       "      <th>25%</th>\n",
       "      <td>37542.75000</td>\n",
       "      <td>23223.801270</td>\n",
       "    </tr>\n",
       "    <tr>\n",
       "      <th>50%</th>\n",
       "      <td>75085.50000</td>\n",
       "      <td>33982.140625</td>\n",
       "    </tr>\n",
       "    <tr>\n",
       "      <th>75%</th>\n",
       "      <td>112628.25000</td>\n",
       "      <td>48647.042969</td>\n",
       "    </tr>\n",
       "    <tr>\n",
       "      <th>max</th>\n",
       "      <td>150171.00000</td>\n",
       "      <td>414229.250000</td>\n",
       "    </tr>\n",
       "  </tbody>\n",
       "</table>\n",
       "</div>"
      ],
      "text/plain": [
       "              index        deposit\n",
       "count  150172.00000  150172.000000\n",
       "mean    75085.50000   39195.167969\n",
       "std     43351.06665   24097.947266\n",
       "min         0.00000    3206.022217\n",
       "25%     37542.75000   23223.801270\n",
       "50%     75085.50000   33982.140625\n",
       "75%    112628.25000   48647.042969\n",
       "max    150171.00000  414229.250000"
      ]
     },
     "execution_count": 29,
     "metadata": {},
     "output_type": "execute_result"
    }
   ],
   "source": [
    "sample_submission.describe()"
   ]
  },
  {
   "cell_type": "code",
   "execution_count": 30,
   "id": "b83cf61f95960f5f",
   "metadata": {
    "ExecuteTime": {
     "end_time": "2024-10-18T08:56:26.725212Z",
     "start_time": "2024-10-18T08:56:26.590496Z"
    }
   },
   "outputs": [],
   "source": [
    "sample_submission.to_csv('v8_xgb_1000.csv', index=False)"
   ]
  },
  {
   "cell_type": "markdown",
   "id": "ea414db01cca6b4",
   "metadata": {},
   "source": [
    "---"
   ]
  }
 ],
 "metadata": {
  "kernelspec": {
   "display_name": "base",
   "language": "python",
   "name": "python3"
  },
  "language_info": {
   "codemirror_mode": {
    "name": "ipython",
    "version": 3
   },
   "file_extension": ".py",
   "mimetype": "text/x-python",
   "name": "python",
   "nbconvert_exporter": "python",
   "pygments_lexer": "ipython3",
   "version": "3.12.5"
  }
 },
 "nbformat": 4,
 "nbformat_minor": 5
}
