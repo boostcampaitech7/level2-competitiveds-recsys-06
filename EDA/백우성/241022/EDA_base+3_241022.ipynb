{
 "cells": [
  {
   "cell_type": "code",
   "execution_count": 1,
   "id": "163b542dd8421538",
   "metadata": {
    "ExecuteTime": {
     "end_time": "2024-10-18T05:50:15.269019Z",
     "start_time": "2024-10-18T05:50:15.259730Z"
    }
   },
   "outputs": [],
   "source": [
    "import os\n",
    "import pandas as pd\n",
    "import numpy as np\n",
    "import matplotlib.pyplot as plt\n",
    "import seaborn as sns\n",
    "import lightgbm as lgb\n",
    "from sklearn.metrics import mean_squared_error, mean_absolute_error"
   ]
  },
  {
   "cell_type": "code",
   "execution_count": 2,
   "id": "183ad610a9a6ff85",
   "metadata": {
    "ExecuteTime": {
     "end_time": "2024-10-18T05:50:16.355622Z",
     "start_time": "2024-10-18T05:50:16.352322Z"
    }
   },
   "outputs": [],
   "source": [
    "import sys\n",
    "import os\n",
    "\n",
    "sys.path.append(os.path.dirname(os.path.dirname(os.path.dirname(os.path.abspath(\"\")))))\n",
    "from src.pre_process.V4.feature_add import FeatureAddition\n",
    "from src.pre_process.V4.feature_duplicate import FeatureDuplication"
   ]
  },
  {
   "cell_type": "code",
   "execution_count": 3,
   "id": "efe89320cb9ed494",
   "metadata": {
    "ExecuteTime": {
     "end_time": "2024-10-18T05:50:23.722924Z",
     "start_time": "2024-10-18T05:50:17.529202Z"
    }
   },
   "outputs": [],
   "source": [
    "BASE_PATH = r'C:\\Users\\com\\Documents\\GitHub\\level2-competitiveds-recsys-06\\data\\etc'\n",
    "data = pd.read_csv('v9.csv')\n",
    "# train_data = pd.read_csv(os.path.join(BASE_PATH, 'train.csv'))\n",
    "# test_data = pd.read_csv(os.path.join(BASE_PATH, 'test.csv'))\n",
    "sample_submission = pd.read_csv(os.path.join(BASE_PATH, 'sample_submission.csv'))"
   ]
  },
  {
   "cell_type": "markdown",
   "id": "7df5c46be18da810",
   "metadata": {},
   "source": [
    "---"
   ]
  },
  {
   "cell_type": "markdown",
   "id": "56710196",
   "metadata": {},
   "source": [
    "# data 확인"
   ]
  },
  {
   "cell_type": "code",
   "execution_count": 4,
   "id": "557bb390f9a5b2fa",
   "metadata": {
    "ExecuteTime": {
     "end_time": "2024-10-18T05:50:28.975047Z",
     "start_time": "2024-10-18T05:50:28.684338Z"
    }
   },
   "outputs": [
    {
     "data": {
      "text/html": [
       "<div>\n",
       "<style scoped>\n",
       "    .dataframe tbody tr th:only-of-type {\n",
       "        vertical-align: middle;\n",
       "    }\n",
       "\n",
       "    .dataframe tbody tr th {\n",
       "        vertical-align: top;\n",
       "    }\n",
       "\n",
       "    .dataframe thead th {\n",
       "        text-align: right;\n",
       "    }\n",
       "</style>\n",
       "<table border=\"1\" class=\"dataframe\">\n",
       "  <thead>\n",
       "    <tr style=\"text-align: right;\">\n",
       "      <th></th>\n",
       "      <th>index</th>\n",
       "      <th>_type</th>\n",
       "      <th>contract_year_month</th>\n",
       "      <th>contract_day</th>\n",
       "      <th>area_m2</th>\n",
       "      <th>contract_date_numeric</th>\n",
       "      <th>floor</th>\n",
       "      <th>built_year</th>\n",
       "      <th>latitude</th>\n",
       "      <th>longitude</th>\n",
       "      <th>...</th>\n",
       "      <th>school_grid_id</th>\n",
       "      <th>nearest_subway_distance</th>\n",
       "      <th>nearest_subway_idx</th>\n",
       "      <th>subway_grid_id</th>\n",
       "      <th>park_count</th>\n",
       "      <th>school_count</th>\n",
       "      <th>subway_count</th>\n",
       "      <th>date_length</th>\n",
       "      <th>contract_date</th>\n",
       "      <th>contract_timestamp</th>\n",
       "    </tr>\n",
       "  </thead>\n",
       "  <tbody>\n",
       "    <tr>\n",
       "      <th>0</th>\n",
       "      <td>0</td>\n",
       "      <td>train</td>\n",
       "      <td>201906</td>\n",
       "      <td>25</td>\n",
       "      <td>84.9981</td>\n",
       "      <td>20190625</td>\n",
       "      <td>9</td>\n",
       "      <td>2019</td>\n",
       "      <td>37.054314</td>\n",
       "      <td>127.045216</td>\n",
       "      <td>...</td>\n",
       "      <td>521.0</td>\n",
       "      <td>716.952948</td>\n",
       "      <td>12</td>\n",
       "      <td>521.0</td>\n",
       "      <td>9.0</td>\n",
       "      <td>15</td>\n",
       "      <td>1</td>\n",
       "      <td>8</td>\n",
       "      <td>2019-06-25</td>\n",
       "      <td>1561388400</td>\n",
       "    </tr>\n",
       "    <tr>\n",
       "      <th>1</th>\n",
       "      <td>1</td>\n",
       "      <td>train</td>\n",
       "      <td>202003</td>\n",
       "      <td>26</td>\n",
       "      <td>84.9981</td>\n",
       "      <td>20200326</td>\n",
       "      <td>20</td>\n",
       "      <td>2019</td>\n",
       "      <td>37.054314</td>\n",
       "      <td>127.045216</td>\n",
       "      <td>...</td>\n",
       "      <td>521.0</td>\n",
       "      <td>716.952948</td>\n",
       "      <td>12</td>\n",
       "      <td>521.0</td>\n",
       "      <td>9.0</td>\n",
       "      <td>15</td>\n",
       "      <td>1</td>\n",
       "      <td>8</td>\n",
       "      <td>2020-03-26</td>\n",
       "      <td>1585148400</td>\n",
       "    </tr>\n",
       "    <tr>\n",
       "      <th>2</th>\n",
       "      <td>2</td>\n",
       "      <td>train</td>\n",
       "      <td>202003</td>\n",
       "      <td>28</td>\n",
       "      <td>84.9981</td>\n",
       "      <td>20200328</td>\n",
       "      <td>8</td>\n",
       "      <td>2019</td>\n",
       "      <td>37.054314</td>\n",
       "      <td>127.045216</td>\n",
       "      <td>...</td>\n",
       "      <td>521.0</td>\n",
       "      <td>716.952948</td>\n",
       "      <td>12</td>\n",
       "      <td>521.0</td>\n",
       "      <td>9.0</td>\n",
       "      <td>15</td>\n",
       "      <td>1</td>\n",
       "      <td>8</td>\n",
       "      <td>2020-03-28</td>\n",
       "      <td>1585321200</td>\n",
       "    </tr>\n",
       "    <tr>\n",
       "      <th>3</th>\n",
       "      <td>3</td>\n",
       "      <td>train</td>\n",
       "      <td>201907</td>\n",
       "      <td>15</td>\n",
       "      <td>59.3400</td>\n",
       "      <td>20190715</td>\n",
       "      <td>1</td>\n",
       "      <td>1986</td>\n",
       "      <td>36.964647</td>\n",
       "      <td>127.055847</td>\n",
       "      <td>...</td>\n",
       "      <td>121.0</td>\n",
       "      <td>3897.279708</td>\n",
       "      <td>10</td>\n",
       "      <td>222.0</td>\n",
       "      <td>7.0</td>\n",
       "      <td>3</td>\n",
       "      <td>1</td>\n",
       "      <td>8</td>\n",
       "      <td>2019-07-15</td>\n",
       "      <td>1563116400</td>\n",
       "    </tr>\n",
       "    <tr>\n",
       "      <th>4</th>\n",
       "      <td>4</td>\n",
       "      <td>train</td>\n",
       "      <td>201904</td>\n",
       "      <td>12</td>\n",
       "      <td>59.8100</td>\n",
       "      <td>20190412</td>\n",
       "      <td>6</td>\n",
       "      <td>1995</td>\n",
       "      <td>36.972390</td>\n",
       "      <td>127.084514</td>\n",
       "      <td>...</td>\n",
       "      <td>222.0</td>\n",
       "      <td>2039.685349</td>\n",
       "      <td>10</td>\n",
       "      <td>222.0</td>\n",
       "      <td>1.0</td>\n",
       "      <td>6</td>\n",
       "      <td>1</td>\n",
       "      <td>8</td>\n",
       "      <td>2019-04-12</td>\n",
       "      <td>1554994800</td>\n",
       "    </tr>\n",
       "    <tr>\n",
       "      <th>...</th>\n",
       "      <td>...</td>\n",
       "      <td>...</td>\n",
       "      <td>...</td>\n",
       "      <td>...</td>\n",
       "      <td>...</td>\n",
       "      <td>...</td>\n",
       "      <td>...</td>\n",
       "      <td>...</td>\n",
       "      <td>...</td>\n",
       "      <td>...</td>\n",
       "      <td>...</td>\n",
       "      <td>...</td>\n",
       "      <td>...</td>\n",
       "      <td>...</td>\n",
       "      <td>...</td>\n",
       "      <td>...</td>\n",
       "      <td>...</td>\n",
       "      <td>...</td>\n",
       "      <td>...</td>\n",
       "      <td>...</td>\n",
       "      <td>...</td>\n",
       "    </tr>\n",
       "    <tr>\n",
       "      <th>1951395</th>\n",
       "      <td>150167</td>\n",
       "      <td>test</td>\n",
       "      <td>202402</td>\n",
       "      <td>27</td>\n",
       "      <td>115.5101</td>\n",
       "      <td>20240227</td>\n",
       "      <td>17</td>\n",
       "      <td>2010</td>\n",
       "      <td>37.528394</td>\n",
       "      <td>126.659398</td>\n",
       "      <td>...</td>\n",
       "      <td>226.0</td>\n",
       "      <td>1483.044562</td>\n",
       "      <td>293</td>\n",
       "      <td>227.0</td>\n",
       "      <td>9.0</td>\n",
       "      <td>11</td>\n",
       "      <td>4</td>\n",
       "      <td>8</td>\n",
       "      <td>2024-02-27</td>\n",
       "      <td>1708959600</td>\n",
       "    </tr>\n",
       "    <tr>\n",
       "      <th>1951396</th>\n",
       "      <td>150168</td>\n",
       "      <td>test</td>\n",
       "      <td>202403</td>\n",
       "      <td>2</td>\n",
       "      <td>142.8738</td>\n",
       "      <td>20240302</td>\n",
       "      <td>4</td>\n",
       "      <td>2010</td>\n",
       "      <td>37.528394</td>\n",
       "      <td>126.659398</td>\n",
       "      <td>...</td>\n",
       "      <td>226.0</td>\n",
       "      <td>1483.044562</td>\n",
       "      <td>293</td>\n",
       "      <td>227.0</td>\n",
       "      <td>9.0</td>\n",
       "      <td>11</td>\n",
       "      <td>4</td>\n",
       "      <td>8</td>\n",
       "      <td>2024-03-02</td>\n",
       "      <td>1709305200</td>\n",
       "    </tr>\n",
       "    <tr>\n",
       "      <th>1951397</th>\n",
       "      <td>150169</td>\n",
       "      <td>test</td>\n",
       "      <td>202403</td>\n",
       "      <td>16</td>\n",
       "      <td>142.8738</td>\n",
       "      <td>20240316</td>\n",
       "      <td>13</td>\n",
       "      <td>2010</td>\n",
       "      <td>37.528394</td>\n",
       "      <td>126.659398</td>\n",
       "      <td>...</td>\n",
       "      <td>226.0</td>\n",
       "      <td>1483.044562</td>\n",
       "      <td>293</td>\n",
       "      <td>227.0</td>\n",
       "      <td>9.0</td>\n",
       "      <td>11</td>\n",
       "      <td>4</td>\n",
       "      <td>8</td>\n",
       "      <td>2024-03-16</td>\n",
       "      <td>1710514800</td>\n",
       "    </tr>\n",
       "    <tr>\n",
       "      <th>1951398</th>\n",
       "      <td>150170</td>\n",
       "      <td>test</td>\n",
       "      <td>202403</td>\n",
       "      <td>22</td>\n",
       "      <td>114.9285</td>\n",
       "      <td>20240322</td>\n",
       "      <td>2</td>\n",
       "      <td>2010</td>\n",
       "      <td>37.528394</td>\n",
       "      <td>126.659398</td>\n",
       "      <td>...</td>\n",
       "      <td>226.0</td>\n",
       "      <td>1483.044562</td>\n",
       "      <td>293</td>\n",
       "      <td>227.0</td>\n",
       "      <td>9.0</td>\n",
       "      <td>11</td>\n",
       "      <td>4</td>\n",
       "      <td>8</td>\n",
       "      <td>2024-03-22</td>\n",
       "      <td>1711033200</td>\n",
       "    </tr>\n",
       "    <tr>\n",
       "      <th>1951399</th>\n",
       "      <td>150171</td>\n",
       "      <td>test</td>\n",
       "      <td>202403</td>\n",
       "      <td>22</td>\n",
       "      <td>115.5101</td>\n",
       "      <td>20240322</td>\n",
       "      <td>7</td>\n",
       "      <td>2010</td>\n",
       "      <td>37.528394</td>\n",
       "      <td>126.659398</td>\n",
       "      <td>...</td>\n",
       "      <td>226.0</td>\n",
       "      <td>1483.044562</td>\n",
       "      <td>293</td>\n",
       "      <td>227.0</td>\n",
       "      <td>9.0</td>\n",
       "      <td>11</td>\n",
       "      <td>4</td>\n",
       "      <td>8</td>\n",
       "      <td>2024-03-22</td>\n",
       "      <td>1711033200</td>\n",
       "    </tr>\n",
       "  </tbody>\n",
       "</table>\n",
       "<p>1951400 rows × 38 columns</p>\n",
       "</div>"
      ],
      "text/plain": [
       "          index  _type  contract_year_month  contract_day   area_m2  \\\n",
       "0             0  train               201906            25   84.9981   \n",
       "1             1  train               202003            26   84.9981   \n",
       "2             2  train               202003            28   84.9981   \n",
       "3             3  train               201907            15   59.3400   \n",
       "4             4  train               201904            12   59.8100   \n",
       "...         ...    ...                  ...           ...       ...   \n",
       "1951395  150167   test               202402            27  115.5101   \n",
       "1951396  150168   test               202403             2  142.8738   \n",
       "1951397  150169   test               202403            16  142.8738   \n",
       "1951398  150170   test               202403            22  114.9285   \n",
       "1951399  150171   test               202403            22  115.5101   \n",
       "\n",
       "         contract_date_numeric  floor  built_year   latitude   longitude  ...  \\\n",
       "0                     20190625      9        2019  37.054314  127.045216  ...   \n",
       "1                     20200326     20        2019  37.054314  127.045216  ...   \n",
       "2                     20200328      8        2019  37.054314  127.045216  ...   \n",
       "3                     20190715      1        1986  36.964647  127.055847  ...   \n",
       "4                     20190412      6        1995  36.972390  127.084514  ...   \n",
       "...                        ...    ...         ...        ...         ...  ...   \n",
       "1951395               20240227     17        2010  37.528394  126.659398  ...   \n",
       "1951396               20240302      4        2010  37.528394  126.659398  ...   \n",
       "1951397               20240316     13        2010  37.528394  126.659398  ...   \n",
       "1951398               20240322      2        2010  37.528394  126.659398  ...   \n",
       "1951399               20240322      7        2010  37.528394  126.659398  ...   \n",
       "\n",
       "         school_grid_id  nearest_subway_distance  nearest_subway_idx  \\\n",
       "0                 521.0               716.952948                  12   \n",
       "1                 521.0               716.952948                  12   \n",
       "2                 521.0               716.952948                  12   \n",
       "3                 121.0              3897.279708                  10   \n",
       "4                 222.0              2039.685349                  10   \n",
       "...                 ...                      ...                 ...   \n",
       "1951395           226.0              1483.044562                 293   \n",
       "1951396           226.0              1483.044562                 293   \n",
       "1951397           226.0              1483.044562                 293   \n",
       "1951398           226.0              1483.044562                 293   \n",
       "1951399           226.0              1483.044562                 293   \n",
       "\n",
       "         subway_grid_id  park_count  school_count  subway_count  date_length  \\\n",
       "0                 521.0         9.0            15             1            8   \n",
       "1                 521.0         9.0            15             1            8   \n",
       "2                 521.0         9.0            15             1            8   \n",
       "3                 222.0         7.0             3             1            8   \n",
       "4                 222.0         1.0             6             1            8   \n",
       "...                 ...         ...           ...           ...          ...   \n",
       "1951395           227.0         9.0            11             4            8   \n",
       "1951396           227.0         9.0            11             4            8   \n",
       "1951397           227.0         9.0            11             4            8   \n",
       "1951398           227.0         9.0            11             4            8   \n",
       "1951399           227.0         9.0            11             4            8   \n",
       "\n",
       "         contract_date  contract_timestamp  \n",
       "0           2019-06-25          1561388400  \n",
       "1           2020-03-26          1585148400  \n",
       "2           2020-03-28          1585321200  \n",
       "3           2019-07-15          1563116400  \n",
       "4           2019-04-12          1554994800  \n",
       "...                ...                 ...  \n",
       "1951395     2024-02-27          1708959600  \n",
       "1951396     2024-03-02          1709305200  \n",
       "1951397     2024-03-16          1710514800  \n",
       "1951398     2024-03-22          1711033200  \n",
       "1951399     2024-03-22          1711033200  \n",
       "\n",
       "[1951400 rows x 38 columns]"
      ]
     },
     "execution_count": 4,
     "metadata": {},
     "output_type": "execute_result"
    }
   ],
   "source": [
    "data"
   ]
  },
  {
   "cell_type": "code",
   "execution_count": 5,
   "id": "878f65ba902311aa",
   "metadata": {
    "ExecuteTime": {
     "end_time": "2024-10-18T05:50:30.933572Z",
     "start_time": "2024-10-18T05:50:30.926464Z"
    }
   },
   "outputs": [
    {
     "data": {
      "text/plain": [
       "Index(['index', '_type', 'contract_year_month', 'contract_day', 'area_m2',\n",
       "       'contract_date_numeric', 'floor', 'built_year', 'latitude', 'longitude',\n",
       "       'age', 'contract_0', 'contract_1', 'deposit', 'apt_idx', 'area',\n",
       "       'grid_deposit', 'apt_deposit_rank', 'apt_area_deposit_rank',\n",
       "       'recent_deposit', 'interest_rate', 'grid_id', 'nearest_park_distance',\n",
       "       'nearest_park_idx', 'park_grid_id', 'park_area',\n",
       "       'nearest_school_distance', 'nearest_school_idx', 'school_grid_id',\n",
       "       'nearest_subway_distance', 'nearest_subway_idx', 'subway_grid_id',\n",
       "       'park_count', 'school_count', 'subway_count', 'date_length',\n",
       "       'contract_date', 'contract_timestamp'],\n",
       "      dtype='object')"
      ]
     },
     "execution_count": 5,
     "metadata": {},
     "output_type": "execute_result"
    }
   ],
   "source": [
    "data.columns"
   ]
  },
  {
   "cell_type": "markdown",
   "id": "84bd34f47a781bd8",
   "metadata": {},
   "source": [
    "---"
   ]
  },
  {
   "cell_type": "markdown",
   "id": "b8d9a9e458718bfb",
   "metadata": {},
   "source": [
    "# 추가 EDA"
   ]
  },
  {
   "cell_type": "code",
   "execution_count": 28,
   "id": "c5746807",
   "metadata": {},
   "outputs": [
    {
     "data": {
      "text/plain": [
       "index                           0\n",
       "_type                           0\n",
       "contract_year_month             0\n",
       "contract_day                    0\n",
       "area_m2                         0\n",
       "contract_date_numeric           0\n",
       "floor                           0\n",
       "built_year                      0\n",
       "latitude                        0\n",
       "longitude                       0\n",
       "age                             0\n",
       "contract_0                      0\n",
       "contract_1                      0\n",
       "deposit                    150172\n",
       "apt_idx                         0\n",
       "area                            0\n",
       "grid_deposit                    0\n",
       "apt_deposit_rank                0\n",
       "apt_area_deposit_rank           0\n",
       "recent_deposit              67857\n",
       "interest_rate               11882\n",
       "grid_id                         0\n",
       "nearest_park_distance           0\n",
       "nearest_park_idx                0\n",
       "park_grid_id                   88\n",
       "park_area                       0\n",
       "nearest_school_distance         0\n",
       "nearest_school_idx              0\n",
       "school_grid_id                  0\n",
       "nearest_subway_distance         0\n",
       "nearest_subway_idx              0\n",
       "subway_grid_id               2195\n",
       "park_count                     88\n",
       "school_count                    0\n",
       "subway_count                    0\n",
       "date_length                     0\n",
       "contract_date                   0\n",
       "contract_timestamp              0\n",
       "dtype: int64"
      ]
     },
     "execution_count": 28,
     "metadata": {},
     "output_type": "execute_result"
    }
   ],
   "source": [
    "data.isnull().sum()"
   ]
  },
  {
   "cell_type": "code",
   "execution_count": 11,
   "id": "e1759af7",
   "metadata": {},
   "outputs": [
    {
     "data": {
      "text/plain": [
       "index                           0\n",
       "_type                           0\n",
       "contract_year_month             0\n",
       "contract_day                    0\n",
       "area_m2                         0\n",
       "contract_date_numeric           0\n",
       "floor                           0\n",
       "built_year                      0\n",
       "latitude                        0\n",
       "longitude                       0\n",
       "age                             0\n",
       "contract_0                      0\n",
       "contract_1                      0\n",
       "deposit                    150172\n",
       "apt_idx                         0\n",
       "area                            0\n",
       "grid_deposit                    0\n",
       "apt_deposit_rank                0\n",
       "apt_area_deposit_rank           0\n",
       "recent_deposit                  0\n",
       "interest_rate               11882\n",
       "grid_id                         0\n",
       "nearest_park_distance           0\n",
       "nearest_park_idx                0\n",
       "park_grid_id                   88\n",
       "park_area                       0\n",
       "nearest_school_distance         0\n",
       "nearest_school_idx              0\n",
       "school_grid_id                  0\n",
       "nearest_subway_distance         0\n",
       "nearest_subway_idx              0\n",
       "subway_grid_id               2195\n",
       "park_count                     88\n",
       "school_count                    0\n",
       "subway_count                    0\n",
       "date_length                     0\n",
       "contract_date                   0\n",
       "contract_timestamp              0\n",
       "dtype: int64"
      ]
     },
     "execution_count": 11,
     "metadata": {},
     "output_type": "execute_result"
    }
   ],
   "source": [
    "# recent_deposit 열의 NaN 값을 같은 행의 grid_deposit 값으로 대체\n",
    "data['recent_deposit'] = data['recent_deposit'].fillna(data['grid_deposit'])\n",
    "\n",
    "# 결과 확인\n",
    "data.isnull().sum()  # 상위 5개의 데이터를 확인\n"
   ]
  },
  {
   "cell_type": "code",
   "execution_count": 9,
   "id": "a5dcfe81",
   "metadata": {},
   "outputs": [],
   "source": [
    "data['park_count'] = data['park_count'].fillna(0)"
   ]
  },
  {
   "cell_type": "markdown",
   "id": "46235c2e",
   "metadata": {},
   "source": [
    "---"
   ]
  },
  {
   "cell_type": "code",
   "execution_count": 30,
   "id": "2cdd41e7",
   "metadata": {},
   "outputs": [],
   "source": [
    "column_needed = [\n",
    "    # 'index', '_type', 'area_price', 'area_m2_price', 'original_index','contract_year_month', 'contract_day', 'area_m2',\n",
    "    'contract_date_numeric', \n",
    "    'area_m2',\n",
    "    'floor', 'built_year', 'latitude', 'longitude','age', \n",
    "    'contract_0', 'contract_1', \n",
    "    'deposit', \n",
    "    'apt_idx', \n",
    "    'area',\n",
    "    'grid_deposit', \n",
    "    'apt_deposit_rank', 'apt_area_deposit_rank',\n",
    "    'recent_deposit', \n",
    "    # 'interest_rate', \n",
    "    # 'grid_id',  'school_grid_id', 'park_grid_id', 'subway_grid_id',\n",
    "    'nearest_park_distance','nearest_park_idx', 'park_area',\n",
    "    'nearest_school_distance', 'nearest_school_idx',\n",
    "    'nearest_subway_distance', 'nearest_subway_idx',\n",
    "    'park_count', 'school_count', 'subway_count',\n",
    "    # 'contract_timestamp',\n",
    "]"
   ]
  },
  {
   "cell_type": "code",
   "execution_count": 31,
   "id": "0904ecce",
   "metadata": {},
   "outputs": [],
   "source": [
    "v9_server = data[column_needed]"
   ]
  },
  {
   "cell_type": "code",
   "execution_count": 33,
   "id": "5c38a169",
   "metadata": {},
   "outputs": [
    {
     "data": {
      "text/plain": [
       "Index(['contract_date_numeric', 'area_m2', 'floor', 'built_year', 'latitude',\n",
       "       'longitude', 'age', 'contract_0', 'contract_1', 'deposit', 'apt_idx',\n",
       "       'area', 'grid_deposit', 'apt_deposit_rank', 'apt_area_deposit_rank',\n",
       "       'recent_deposit', 'nearest_park_distance', 'nearest_park_idx',\n",
       "       'park_area', 'nearest_school_distance', 'nearest_school_idx',\n",
       "       'nearest_subway_distance', 'nearest_subway_idx', 'park_count',\n",
       "       'school_count', 'subway_count'],\n",
       "      dtype='object')"
      ]
     },
     "execution_count": 33,
     "metadata": {},
     "output_type": "execute_result"
    }
   ],
   "source": [
    "v9_server.columns"
   ]
  },
  {
   "cell_type": "code",
   "execution_count": 34,
   "id": "b5ff2a99",
   "metadata": {},
   "outputs": [],
   "source": [
    "v9_server.to_csv('v9_server.csv',index=False)"
   ]
  },
  {
   "cell_type": "markdown",
   "id": "e4c635c271ec92b9",
   "metadata": {},
   "source": [
    "---"
   ]
  },
  {
   "cell_type": "markdown",
   "id": "722a2de4",
   "metadata": {},
   "source": [
    "# 모델링"
   ]
  },
  {
   "cell_type": "code",
   "execution_count": 6,
   "id": "cfb990484c4426e3",
   "metadata": {
    "ExecuteTime": {
     "end_time": "2024-10-18T08:35:26.955668Z",
     "start_time": "2024-10-18T08:35:26.512733Z"
    }
   },
   "outputs": [],
   "source": [
    "train_data = data[data['_type'] == 'train']\n",
    "test_data = data[data['_type'] == 'test']"
   ]
  },
  {
   "cell_type": "code",
   "execution_count": 7,
   "id": "e6746ac730a34bd4",
   "metadata": {
    "ExecuteTime": {
     "end_time": "2024-10-18T09:02:45.505074Z",
     "start_time": "2024-10-18T09:02:45.417823Z"
    }
   },
   "outputs": [],
   "source": [
    "column_needed = [\n",
    "    # 'index', '_type', 'area_price', 'area_m2_price', 'original_index','contract_year_month', 'contract_day', 'area_m2',\n",
    "    'contract_date_numeric', \n",
    "    'area_m2',\n",
    "    'floor', 'built_year', 'latitude', 'longitude','age', \n",
    "    'contract_0', 'contract_1', \n",
    "    'deposit', \n",
    "    'apt_idx', \n",
    "    'area',\n",
    "    'grid_deposit', \n",
    "    'apt_deposit_rank', 'apt_area_deposit_rank',\n",
    "    'recent_deposit', \n",
    "    # 'interest_rate', \n",
    "    # 'grid_id',  'school_grid_id', 'park_grid_id', 'subway_grid_id',\n",
    "    'nearest_park_distance','nearest_park_idx', 'park_area',\n",
    "    'nearest_school_distance', 'nearest_school_idx',\n",
    "    'nearest_subway_distance', 'nearest_subway_idx',\n",
    "    'park_count', 'school_count', 'subway_count',\n",
    "    # 'contract_timestamp',\n",
    "]\n",
    "test_column_needed = [\n",
    "    # 'index', '_type', 'area_price', 'area_m2_price', 'original_index','contract_year_month', 'contract_day', 'area_m2',\n",
    "    'contract_date_numeric',\n",
    "    'area_m2',\n",
    "    'floor', 'built_year', 'latitude', 'longitude','age', \n",
    "    'contract_0', 'contract_1',  \n",
    "    'apt_idx', \n",
    "    'area',\n",
    "    'grid_deposit', \n",
    "    'apt_deposit_rank', 'apt_area_deposit_rank',\n",
    "    'recent_deposit', \n",
    "    # 'interest_rate', \n",
    "    # 'grid_id',  'school_grid_id', 'park_grid_id', 'subway_grid_id',\n",
    "    'nearest_park_distance','nearest_park_idx', 'park_area',\n",
    "    'nearest_school_distance', 'nearest_school_idx',\n",
    "    'nearest_subway_distance', 'nearest_subway_idx',\n",
    "    'park_count', 'school_count', 'subway_count',\n",
    "    # 'contract_timestamp',\n",
    "]\n",
    "train_df = train_data[column_needed]\n",
    "test_df = test_data[test_column_needed]"
   ]
  },
  {
   "cell_type": "code",
   "execution_count": 8,
   "id": "e5409ff19ebe6ce7",
   "metadata": {
    "ExecuteTime": {
     "end_time": "2024-10-18T09:08:08.124240Z",
     "start_time": "2024-10-18T09:02:49.881838Z"
    }
   },
   "outputs": [
    {
     "name": "stderr",
     "output_type": "stream",
     "text": [
      "KFold Training Progress:   0%|          | 0/5 [00:00<?, ?it/s]"
     ]
    },
    {
     "name": "stdout",
     "output_type": "stream",
     "text": [
      "Fold 1\n",
      "[0]\ttrain-mae:16476.07535\teval-mae:16478.03243\n",
      "[100]\ttrain-mae:4193.19879\teval-mae:4190.27804\n",
      "[200]\ttrain-mae:4033.02694\teval-mae:4036.95716\n",
      "[300]\ttrain-mae:3957.02131\teval-mae:3965.04855\n",
      "[400]\ttrain-mae:3906.45875\teval-mae:3918.33015\n",
      "[500]\ttrain-mae:3871.87526\teval-mae:3886.87029\n",
      "[600]\ttrain-mae:3845.81473\teval-mae:3863.65855\n",
      "[700]\ttrain-mae:3821.94652\teval-mae:3843.00786\n",
      "[800]\ttrain-mae:3803.79540\teval-mae:3827.24123\n",
      "[900]\ttrain-mae:3785.27107\teval-mae:3811.76150\n",
      "[999]\ttrain-mae:3773.37484\teval-mae:3801.47670\n",
      "Fold 1 MAE: 3801.4767037727534\n"
     ]
    },
    {
     "name": "stderr",
     "output_type": "stream",
     "text": [
      "KFold Training Progress:  20%|██        | 1/5 [07:56<31:47, 476.97s/it]"
     ]
    },
    {
     "name": "stdout",
     "output_type": "stream",
     "text": [
      "Fold 2\n",
      "[0]\ttrain-mae:16495.77973\teval-mae:16475.47435\n",
      "[100]\ttrain-mae:4203.40377\teval-mae:4217.75472\n",
      "[200]\ttrain-mae:4032.14539\teval-mae:4048.23228\n",
      "[300]\ttrain-mae:3956.69016\teval-mae:3976.87235\n",
      "[400]\ttrain-mae:3910.10901\teval-mae:3933.68176\n",
      "[500]\ttrain-mae:3876.73605\teval-mae:3903.46624\n",
      "[600]\ttrain-mae:3847.92280\teval-mae:3878.08592\n",
      "[700]\ttrain-mae:3824.68088\teval-mae:3858.21446\n",
      "[800]\ttrain-mae:3805.26596\teval-mae:3841.93977\n",
      "[900]\ttrain-mae:3788.38550\teval-mae:3828.02884\n",
      "[999]\ttrain-mae:3772.66521\teval-mae:3815.53297\n",
      "Fold 2 MAE: 3815.532972940699\n"
     ]
    },
    {
     "name": "stderr",
     "output_type": "stream",
     "text": [
      "KFold Training Progress:  40%|████      | 2/5 [16:06<24:13, 484.37s/it]"
     ]
    },
    {
     "name": "stdout",
     "output_type": "stream",
     "text": [
      "Fold 3\n",
      "[0]\ttrain-mae:16481.50119\teval-mae:16525.00534\n",
      "[100]\ttrain-mae:4208.02376\teval-mae:4227.71635\n",
      "[200]\ttrain-mae:4037.23020\teval-mae:4058.50741\n",
      "[300]\ttrain-mae:3959.35587\teval-mae:3984.60828\n",
      "[400]\ttrain-mae:3906.02675\teval-mae:3934.92767\n",
      "[500]\ttrain-mae:3874.50039\teval-mae:3906.33285\n",
      "[600]\ttrain-mae:3848.03862\teval-mae:3882.21475\n",
      "[700]\ttrain-mae:3825.33901\teval-mae:3862.07623\n",
      "[800]\ttrain-mae:3806.71774\teval-mae:3846.86087\n",
      "[900]\ttrain-mae:3790.39072\teval-mae:3833.41562\n",
      "[999]\ttrain-mae:3774.97445\teval-mae:3821.17282\n",
      "Fold 3 MAE: 3821.1728219867628\n"
     ]
    },
    {
     "name": "stderr",
     "output_type": "stream",
     "text": [
      "KFold Training Progress:  60%|██████    | 3/5 [23:58<15:57, 478.82s/it]"
     ]
    },
    {
     "name": "stdout",
     "output_type": "stream",
     "text": [
      "Fold 4\n",
      "[0]\ttrain-mae:16503.05682\teval-mae:16442.55094\n",
      "[100]\ttrain-mae:4205.47036\teval-mae:4195.04605\n",
      "[200]\ttrain-mae:4041.56279\teval-mae:4035.90651\n",
      "[300]\ttrain-mae:3959.61686\teval-mae:3961.94980\n",
      "[400]\ttrain-mae:3912.46658\teval-mae:3918.59271\n",
      "[500]\ttrain-mae:3876.13547\teval-mae:3886.12093\n",
      "[600]\ttrain-mae:3845.81976\teval-mae:3860.03963\n",
      "[700]\ttrain-mae:3821.71451\teval-mae:3839.75671\n",
      "[800]\ttrain-mae:3801.78137\teval-mae:3823.57284\n",
      "[900]\ttrain-mae:3785.15765\teval-mae:3810.53558\n",
      "[999]\ttrain-mae:3773.38756\teval-mae:3801.53617\n",
      "Fold 4 MAE: 3801.5361713282937\n"
     ]
    },
    {
     "name": "stderr",
     "output_type": "stream",
     "text": [
      "KFold Training Progress:  80%|████████  | 4/5 [32:14<08:05, 485.35s/it]"
     ]
    },
    {
     "name": "stdout",
     "output_type": "stream",
     "text": [
      "Fold 5\n",
      "[0]\ttrain-mae:16470.81110\teval-mae:16506.74675\n",
      "[100]\ttrain-mae:4201.57774\teval-mae:4211.72105\n",
      "[200]\ttrain-mae:4036.45371\teval-mae:4052.23659\n",
      "[300]\ttrain-mae:3964.26082\teval-mae:3984.56477\n",
      "[400]\ttrain-mae:3909.04303\teval-mae:3933.26987\n",
      "[500]\ttrain-mae:3872.98022\teval-mae:3901.23254\n",
      "[600]\ttrain-mae:3846.62027\teval-mae:3879.29575\n",
      "[700]\ttrain-mae:3827.90346\teval-mae:3864.39338\n",
      "[800]\ttrain-mae:3808.82997\teval-mae:3848.44093\n",
      "[900]\ttrain-mae:3791.86550\teval-mae:3834.40478\n",
      "[999]\ttrain-mae:3779.84745\teval-mae:3824.70760\n",
      "Fold 5 MAE: 3824.707602971914\n"
     ]
    },
    {
     "name": "stderr",
     "output_type": "stream",
     "text": [
      "KFold Training Progress: 100%|██████████| 5/5 [40:14<00:00, 482.93s/it]"
     ]
    },
    {
     "name": "stdout",
     "output_type": "stream",
     "text": [
      "Mean MAE over all folds: 3812.8852546000844\n",
      "Final predictions for test set complete.\n"
     ]
    },
    {
     "name": "stderr",
     "output_type": "stream",
     "text": [
      "\n"
     ]
    }
   ],
   "source": [
    "import xgboost as xgb\n",
    "from sklearn.model_selection import KFold\n",
    "from sklearn.metrics import mean_absolute_error\n",
    "import numpy as np\n",
    "from tqdm import tqdm  # TQDM 임포트\n",
    "\n",
    "# 학습에 사용할 데이터 준비\n",
    "X_train = train_df.drop(columns=['deposit'])\n",
    "y_train = train_df['deposit']\n",
    "X_test = test_df.copy()\n",
    "\n",
    "# KFold 설정\n",
    "kf = KFold(n_splits=5, shuffle=True, random_state=42)\n",
    "\n",
    "# 테스트 세트에 대한 예측을 저장할 배열\n",
    "y_pred = np.zeros(len(X_test))\n",
    "\n",
    "# 각 fold의 검증 MAE를 저장할 리스트\n",
    "mae_list = []\n",
    "\n",
    "# TQDM을 사용해 교차 검증 진행률 표시\n",
    "with tqdm(total=kf.n_splits, desc=\"KFold Training Progress\") as pbar:\n",
    "    # KFold 교차 검증\n",
    "    for fold, (train_idx, val_idx) in enumerate(kf.split(X_train, y_train)):\n",
    "        print(f\"Fold {fold + 1}\")\n",
    "        \n",
    "        # Train/Validation Split\n",
    "        X_train_split, X_val_split = X_train.iloc[train_idx], X_train.iloc[val_idx]\n",
    "        y_train_split, y_val_split = y_train.iloc[train_idx], y_train.iloc[val_idx]\n",
    "        \n",
    "        # XGBoost를 위한 DMatrix 생성\n",
    "        dtrain = xgb.DMatrix(X_train_split, label=y_train_split)\n",
    "        dval = xgb.DMatrix(X_val_split, label=y_val_split)\n",
    "        dtest = xgb.DMatrix(X_test)\n",
    "        \n",
    "        # XGBoost 파라미터 설정\n",
    "        params = {\n",
    "            'objective': 'reg:absoluteerror',\n",
    "            'eval_metric': 'mae',\n",
    "            'max_depth': 6,\n",
    "            'eta': 0.05,\n",
    "            'subsample': 0.8,\n",
    "            'colsample_bytree': 0.8,\n",
    "            'seed': 42\n",
    "        }\n",
    "        \n",
    "        # 모델 학습\n",
    "        evals = [(dtrain, 'train'), (dval, 'eval')]\n",
    "        model = xgb.train(params, dtrain, num_boost_round=1000, early_stopping_rounds=50, evals=evals, verbose_eval=100)\n",
    "        \n",
    "        # 검증 세트에 대한 예측\n",
    "        y_val_pred = model.predict(dval)\n",
    "        \n",
    "        # MAE 계산\n",
    "        mae = mean_absolute_error(y_val_split, y_val_pred)\n",
    "        mae_list.append(mae)\n",
    "        print(f\"Fold {fold + 1} MAE: {mae}\")\n",
    "        \n",
    "        # 테스트 세트에 대한 예측 (각 fold의 예측을 평균)\n",
    "        y_pred += model.predict(dtest) / kf.n_splits\n",
    "        \n",
    "        # TQDM 진행 업데이트\n",
    "        pbar.update(1)\n",
    "\n",
    "# KFold 전체 평균 MAE 출력\n",
    "mean_mae = np.mean(mae_list)\n",
    "print(f\"Mean MAE over all folds: {mean_mae}\")\n",
    "\n",
    "# 최종 예측 결과 출력\n",
    "print(\"Final predictions for test set complete.\")\n"
   ]
  },
  {
   "cell_type": "code",
   "execution_count": 9,
   "id": "955bbb62429d672a",
   "metadata": {
    "ExecuteTime": {
     "end_time": "2024-10-18T09:08:26.003056Z",
     "start_time": "2024-10-18T09:08:25.849735Z"
    }
   },
   "outputs": [
    {
     "data": {
      "image/png": "[encoded data removed]",
      "text/plain": [
       "<Figure size 1000x800 with 1 Axes>"
      ]
     },
     "metadata": {},
     "output_type": "display_data"
    }
   ],
   "source": [
    "#Feature Importance\n",
    "# 피처 중요도 추출\n",
    "feature_importance = model.get_fscore()\n",
    "# 피처 중요도를 DataFrame으로 변환\n",
    "importance_df = pd.DataFrame(feature_importance.items(), columns=['Feature', 'Importance'])\n",
    "# 중요도 순으로 정렬\n",
    "importance_df = importance_df.sort_values(by='Importance', ascending=False)\n",
    "# 시각화\n",
    "plt.figure(figsize=(10, 8))\n",
    "sns.barplot(x='Importance', y='Feature', data=importance_df)\n",
    "plt.title('Feature Importance')\n",
    "plt.show()"
   ]
  },
  {
   "cell_type": "code",
   "execution_count": 10,
   "id": "4a660cc0c25eb265",
   "metadata": {
    "ExecuteTime": {
     "end_time": "2024-10-18T09:08:29.834551Z",
     "start_time": "2024-10-18T09:08:29.830219Z"
    }
   },
   "outputs": [
    {
     "data": {
      "text/plain": [
       "array([22745.95751953,  7320.01135254,  6305.04370117, ...,\n",
       "       45740.80664062, 37458.19335938, 37974.81298828])"
      ]
     },
     "execution_count": 10,
     "metadata": {},
     "output_type": "execute_result"
    }
   ],
   "source": [
    "y_pred"
   ]
  },
  {
   "cell_type": "code",
   "execution_count": 11,
   "id": "bb7db05baf47b631",
   "metadata": {
    "ExecuteTime": {
     "end_time": "2024-10-18T09:08:31.641364Z",
     "start_time": "2024-10-18T09:08:31.635030Z"
    }
   },
   "outputs": [
    {
     "data": {
      "text/html": [
       "<div>\n",
       "<style scoped>\n",
       "    .dataframe tbody tr th:only-of-type {\n",
       "        vertical-align: middle;\n",
       "    }\n",
       "\n",
       "    .dataframe tbody tr th {\n",
       "        vertical-align: top;\n",
       "    }\n",
       "\n",
       "    .dataframe thead th {\n",
       "        text-align: right;\n",
       "    }\n",
       "</style>\n",
       "<table border=\"1\" class=\"dataframe\">\n",
       "  <thead>\n",
       "    <tr style=\"text-align: right;\">\n",
       "      <th></th>\n",
       "      <th>index</th>\n",
       "      <th>deposit</th>\n",
       "    </tr>\n",
       "  </thead>\n",
       "  <tbody>\n",
       "    <tr>\n",
       "      <th>0</th>\n",
       "      <td>0</td>\n",
       "      <td>22745.957520</td>\n",
       "    </tr>\n",
       "    <tr>\n",
       "      <th>1</th>\n",
       "      <td>1</td>\n",
       "      <td>7320.011353</td>\n",
       "    </tr>\n",
       "    <tr>\n",
       "      <th>2</th>\n",
       "      <td>2</td>\n",
       "      <td>6305.043701</td>\n",
       "    </tr>\n",
       "    <tr>\n",
       "      <th>3</th>\n",
       "      <td>3</td>\n",
       "      <td>6638.623901</td>\n",
       "    </tr>\n",
       "    <tr>\n",
       "      <th>4</th>\n",
       "      <td>4</td>\n",
       "      <td>6695.198364</td>\n",
       "    </tr>\n",
       "    <tr>\n",
       "      <th>...</th>\n",
       "      <td>...</td>\n",
       "      <td>...</td>\n",
       "    </tr>\n",
       "    <tr>\n",
       "      <th>150167</th>\n",
       "      <td>150167</td>\n",
       "      <td>37142.110352</td>\n",
       "    </tr>\n",
       "    <tr>\n",
       "      <th>150168</th>\n",
       "      <td>150168</td>\n",
       "      <td>43476.767578</td>\n",
       "    </tr>\n",
       "    <tr>\n",
       "      <th>150169</th>\n",
       "      <td>150169</td>\n",
       "      <td>45740.806641</td>\n",
       "    </tr>\n",
       "    <tr>\n",
       "      <th>150170</th>\n",
       "      <td>150170</td>\n",
       "      <td>37458.193359</td>\n",
       "    </tr>\n",
       "    <tr>\n",
       "      <th>150171</th>\n",
       "      <td>150171</td>\n",
       "      <td>37974.812988</td>\n",
       "    </tr>\n",
       "  </tbody>\n",
       "</table>\n",
       "<p>150172 rows × 2 columns</p>\n",
       "</div>"
      ],
      "text/plain": [
       "         index       deposit\n",
       "0            0  22745.957520\n",
       "1            1   7320.011353\n",
       "2            2   6305.043701\n",
       "3            3   6638.623901\n",
       "4            4   6695.198364\n",
       "...        ...           ...\n",
       "150167  150167  37142.110352\n",
       "150168  150168  43476.767578\n",
       "150169  150169  45740.806641\n",
       "150170  150170  37458.193359\n",
       "150171  150171  37974.812988\n",
       "\n",
       "[150172 rows x 2 columns]"
      ]
     },
     "execution_count": 11,
     "metadata": {},
     "output_type": "execute_result"
    }
   ],
   "source": [
    "sample_submission['deposit'] = y_pred\n",
    "sample_submission"
   ]
  },
  {
   "cell_type": "code",
   "execution_count": 12,
   "id": "2b94ebab94998b5b",
   "metadata": {
    "ExecuteTime": {
     "end_time": "2024-10-18T09:08:33.766674Z",
     "start_time": "2024-10-18T09:08:33.751576Z"
    }
   },
   "outputs": [
    {
     "data": {
      "text/html": [
       "<div>\n",
       "<style scoped>\n",
       "    .dataframe tbody tr th:only-of-type {\n",
       "        vertical-align: middle;\n",
       "    }\n",
       "\n",
       "    .dataframe tbody tr th {\n",
       "        vertical-align: top;\n",
       "    }\n",
       "\n",
       "    .dataframe thead th {\n",
       "        text-align: right;\n",
       "    }\n",
       "</style>\n",
       "<table border=\"1\" class=\"dataframe\">\n",
       "  <thead>\n",
       "    <tr style=\"text-align: right;\">\n",
       "      <th></th>\n",
       "      <th>index</th>\n",
       "      <th>deposit</th>\n",
       "    </tr>\n",
       "  </thead>\n",
       "  <tbody>\n",
       "    <tr>\n",
       "      <th>count</th>\n",
       "      <td>150172.00000</td>\n",
       "      <td>150172.000000</td>\n",
       "    </tr>\n",
       "    <tr>\n",
       "      <th>mean</th>\n",
       "      <td>75085.50000</td>\n",
       "      <td>39184.431767</td>\n",
       "    </tr>\n",
       "    <tr>\n",
       "      <th>std</th>\n",
       "      <td>43351.06665</td>\n",
       "      <td>24119.869654</td>\n",
       "    </tr>\n",
       "    <tr>\n",
       "      <th>min</th>\n",
       "      <td>0.00000</td>\n",
       "      <td>3298.924072</td>\n",
       "    </tr>\n",
       "    <tr>\n",
       "      <th>25%</th>\n",
       "      <td>37542.75000</td>\n",
       "      <td>23240.622925</td>\n",
       "    </tr>\n",
       "    <tr>\n",
       "      <th>50%</th>\n",
       "      <td>75085.50000</td>\n",
       "      <td>33919.830322</td>\n",
       "    </tr>\n",
       "    <tr>\n",
       "      <th>75%</th>\n",
       "      <td>112628.25000</td>\n",
       "      <td>48602.372803</td>\n",
       "    </tr>\n",
       "    <tr>\n",
       "      <th>max</th>\n",
       "      <td>150171.00000</td>\n",
       "      <td>458592.867188</td>\n",
       "    </tr>\n",
       "  </tbody>\n",
       "</table>\n",
       "</div>"
      ],
      "text/plain": [
       "              index        deposit\n",
       "count  150172.00000  150172.000000\n",
       "mean    75085.50000   39184.431767\n",
       "std     43351.06665   24119.869654\n",
       "min         0.00000    3298.924072\n",
       "25%     37542.75000   23240.622925\n",
       "50%     75085.50000   33919.830322\n",
       "75%    112628.25000   48602.372803\n",
       "max    150171.00000  458592.867188"
      ]
     },
     "execution_count": 12,
     "metadata": {},
     "output_type": "execute_result"
    }
   ],
   "source": [
    "sample_submission.describe()"
   ]
  },
  {
   "cell_type": "code",
   "execution_count": 13,
   "id": "b83cf61f95960f5f",
   "metadata": {
    "ExecuteTime": {
     "end_time": "2024-10-18T08:56:26.725212Z",
     "start_time": "2024-10-18T08:56:26.590496Z"
    }
   },
   "outputs": [],
   "source": [
    "sample_submission.to_csv('v8_xgb_1000_kfold_NaN.csv', index=False)"
   ]
  },
  {
   "cell_type": "markdown",
   "id": "ea414db01cca6b4",
   "metadata": {},
   "source": [
    "---"
   ]
  }
 ],
 "metadata": {
  "kernelspec": {
   "display_name": "base",
   "language": "python",
   "name": "python3"
  },
  "language_info": {
   "codemirror_mode": {
    "name": "ipython",
    "version": 3
   },
   "file_extension": ".py",
   "mimetype": "text/x-python",
   "name": "python",
   "nbconvert_exporter": "python",
   "pygments_lexer": "ipython3",
   "version": "3.12.5"
  }
 },
 "nbformat": 4,
 "nbformat_minor": 5
}
