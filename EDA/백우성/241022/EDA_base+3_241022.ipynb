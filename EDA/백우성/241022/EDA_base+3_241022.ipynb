{
 "cells": [
  {
   "cell_type": "code",
   "execution_count": 1,
   "id": "163b542dd8421538",
   "metadata": {
    "ExecuteTime": {
     "end_time": "2024-10-18T05:50:15.269019Z",
     "start_time": "2024-10-18T05:50:15.259730Z"
    }
   },
   "outputs": [],
   "source": [
    "import os\n",
    "import pandas as pd\n",
    "import numpy as np\n",
    "import matplotlib.pyplot as plt\n",
    "import seaborn as sns\n",
    "import lightgbm as lgb\n",
    "from sklearn.metrics import mean_squared_error, mean_absolute_error"
   ]
  },
  {
   "cell_type": "code",
   "execution_count": 2,
   "id": "183ad610a9a6ff85",
   "metadata": {
    "ExecuteTime": {
     "end_time": "2024-10-18T05:50:16.355622Z",
     "start_time": "2024-10-18T05:50:16.352322Z"
    }
   },
   "outputs": [],
   "source": [
    "import sys\n",
    "import os\n",
    "\n",
    "sys.path.append(os.path.dirname(os.path.dirname(os.path.dirname(os.path.abspath(\"\")))))\n",
    "from src.pre_process.V4.feature_add import FeatureAddition\n",
    "from src.pre_process.V4.feature_duplicate import FeatureDuplication"
   ]
  },
  {
   "cell_type": "code",
   "execution_count": 3,
   "id": "efe89320cb9ed494",
   "metadata": {
    "ExecuteTime": {
     "end_time": "2024-10-18T05:50:23.722924Z",
     "start_time": "2024-10-18T05:50:17.529202Z"
    }
   },
   "outputs": [],
   "source": [
    "BASE_PATH = r'C:\\Users\\com\\Documents\\GitHub\\level2-competitiveds-recsys-06\\data\\etc'\n",
    "data = pd.read_csv('v9.csv')\n",
    "# train_data = pd.read_csv(os.path.join(BASE_PATH, 'train.csv'))\n",
    "# test_data = pd.read_csv(os.path.join(BASE_PATH, 'test.csv'))\n",
    "sample_submission = pd.read_csv(os.path.join(BASE_PATH, 'sample_submission.csv'))"
   ]
  },
  {
   "cell_type": "markdown",
   "id": "7df5c46be18da810",
   "metadata": {},
   "source": [
    "---"
   ]
  },
  {
   "cell_type": "markdown",
   "id": "56710196",
   "metadata": {},
   "source": [
    "# data 확인"
   ]
  },
  {
   "cell_type": "code",
   "execution_count": 4,
   "id": "557bb390f9a5b2fa",
   "metadata": {
    "ExecuteTime": {
     "end_time": "2024-10-18T05:50:28.975047Z",
     "start_time": "2024-10-18T05:50:28.684338Z"
    }
   },
   "outputs": [
    {
     "data": {
      "text/html": [
       "<div>\n",
       "<style scoped>\n",
       "    .dataframe tbody tr th:only-of-type {\n",
       "        vertical-align: middle;\n",
       "    }\n",
       "\n",
       "    .dataframe tbody tr th {\n",
       "        vertical-align: top;\n",
       "    }\n",
       "\n",
       "    .dataframe thead th {\n",
       "        text-align: right;\n",
       "    }\n",
       "</style>\n",
       "<table border=\"1\" class=\"dataframe\">\n",
       "  <thead>\n",
       "    <tr style=\"text-align: right;\">\n",
       "      <th></th>\n",
       "      <th>index</th>\n",
       "      <th>_type</th>\n",
       "      <th>contract_year_month</th>\n",
       "      <th>contract_day</th>\n",
       "      <th>area_m2</th>\n",
       "      <th>contract_date_numeric</th>\n",
       "      <th>floor</th>\n",
       "      <th>built_year</th>\n",
       "      <th>latitude</th>\n",
       "      <th>longitude</th>\n",
       "      <th>...</th>\n",
       "      <th>school_grid_id</th>\n",
       "      <th>nearest_subway_distance</th>\n",
       "      <th>nearest_subway_idx</th>\n",
       "      <th>subway_grid_id</th>\n",
       "      <th>park_count</th>\n",
       "      <th>school_count</th>\n",
       "      <th>subway_count</th>\n",
       "      <th>date_length</th>\n",
       "      <th>contract_date</th>\n",
       "      <th>contract_timestamp</th>\n",
       "    </tr>\n",
       "  </thead>\n",
       "  <tbody>\n",
       "    <tr>\n",
       "      <th>0</th>\n",
       "      <td>0</td>\n",
       "      <td>train</td>\n",
       "      <td>201906</td>\n",
       "      <td>25</td>\n",
       "      <td>84.9981</td>\n",
       "      <td>20190625</td>\n",
       "      <td>9</td>\n",
       "      <td>2019</td>\n",
       "      <td>37.054314</td>\n",
       "      <td>127.045216</td>\n",
       "      <td>...</td>\n",
       "      <td>521.0</td>\n",
       "      <td>716.952948</td>\n",
       "      <td>12</td>\n",
       "      <td>521.0</td>\n",
       "      <td>9.0</td>\n",
       "      <td>15</td>\n",
       "      <td>1</td>\n",
       "      <td>8</td>\n",
       "      <td>2019-06-25</td>\n",
       "      <td>1561388400</td>\n",
       "    </tr>\n",
       "    <tr>\n",
       "      <th>1</th>\n",
       "      <td>1</td>\n",
       "      <td>train</td>\n",
       "      <td>202003</td>\n",
       "      <td>26</td>\n",
       "      <td>84.9981</td>\n",
       "      <td>20200326</td>\n",
       "      <td>20</td>\n",
       "      <td>2019</td>\n",
       "      <td>37.054314</td>\n",
       "      <td>127.045216</td>\n",
       "      <td>...</td>\n",
       "      <td>521.0</td>\n",
       "      <td>716.952948</td>\n",
       "      <td>12</td>\n",
       "      <td>521.0</td>\n",
       "      <td>9.0</td>\n",
       "      <td>15</td>\n",
       "      <td>1</td>\n",
       "      <td>8</td>\n",
       "      <td>2020-03-26</td>\n",
       "      <td>1585148400</td>\n",
       "    </tr>\n",
       "    <tr>\n",
       "      <th>2</th>\n",
       "      <td>2</td>\n",
       "      <td>train</td>\n",
       "      <td>202003</td>\n",
       "      <td>28</td>\n",
       "      <td>84.9981</td>\n",
       "      <td>20200328</td>\n",
       "      <td>8</td>\n",
       "      <td>2019</td>\n",
       "      <td>37.054314</td>\n",
       "      <td>127.045216</td>\n",
       "      <td>...</td>\n",
       "      <td>521.0</td>\n",
       "      <td>716.952948</td>\n",
       "      <td>12</td>\n",
       "      <td>521.0</td>\n",
       "      <td>9.0</td>\n",
       "      <td>15</td>\n",
       "      <td>1</td>\n",
       "      <td>8</td>\n",
       "      <td>2020-03-28</td>\n",
       "      <td>1585321200</td>\n",
       "    </tr>\n",
       "    <tr>\n",
       "      <th>3</th>\n",
       "      <td>3</td>\n",
       "      <td>train</td>\n",
       "      <td>201907</td>\n",
       "      <td>15</td>\n",
       "      <td>59.3400</td>\n",
       "      <td>20190715</td>\n",
       "      <td>1</td>\n",
       "      <td>1986</td>\n",
       "      <td>36.964647</td>\n",
       "      <td>127.055847</td>\n",
       "      <td>...</td>\n",
       "      <td>121.0</td>\n",
       "      <td>3897.279708</td>\n",
       "      <td>10</td>\n",
       "      <td>222.0</td>\n",
       "      <td>7.0</td>\n",
       "      <td>3</td>\n",
       "      <td>1</td>\n",
       "      <td>8</td>\n",
       "      <td>2019-07-15</td>\n",
       "      <td>1563116400</td>\n",
       "    </tr>\n",
       "    <tr>\n",
       "      <th>4</th>\n",
       "      <td>4</td>\n",
       "      <td>train</td>\n",
       "      <td>201904</td>\n",
       "      <td>12</td>\n",
       "      <td>59.8100</td>\n",
       "      <td>20190412</td>\n",
       "      <td>6</td>\n",
       "      <td>1995</td>\n",
       "      <td>36.972390</td>\n",
       "      <td>127.084514</td>\n",
       "      <td>...</td>\n",
       "      <td>222.0</td>\n",
       "      <td>2039.685349</td>\n",
       "      <td>10</td>\n",
       "      <td>222.0</td>\n",
       "      <td>1.0</td>\n",
       "      <td>6</td>\n",
       "      <td>1</td>\n",
       "      <td>8</td>\n",
       "      <td>2019-04-12</td>\n",
       "      <td>1554994800</td>\n",
       "    </tr>\n",
       "    <tr>\n",
       "      <th>...</th>\n",
       "      <td>...</td>\n",
       "      <td>...</td>\n",
       "      <td>...</td>\n",
       "      <td>...</td>\n",
       "      <td>...</td>\n",
       "      <td>...</td>\n",
       "      <td>...</td>\n",
       "      <td>...</td>\n",
       "      <td>...</td>\n",
       "      <td>...</td>\n",
       "      <td>...</td>\n",
       "      <td>...</td>\n",
       "      <td>...</td>\n",
       "      <td>...</td>\n",
       "      <td>...</td>\n",
       "      <td>...</td>\n",
       "      <td>...</td>\n",
       "      <td>...</td>\n",
       "      <td>...</td>\n",
       "      <td>...</td>\n",
       "      <td>...</td>\n",
       "    </tr>\n",
       "    <tr>\n",
       "      <th>1951395</th>\n",
       "      <td>150167</td>\n",
       "      <td>test</td>\n",
       "      <td>202402</td>\n",
       "      <td>27</td>\n",
       "      <td>115.5101</td>\n",
       "      <td>20240227</td>\n",
       "      <td>17</td>\n",
       "      <td>2010</td>\n",
       "      <td>37.528394</td>\n",
       "      <td>126.659398</td>\n",
       "      <td>...</td>\n",
       "      <td>226.0</td>\n",
       "      <td>1483.044562</td>\n",
       "      <td>293</td>\n",
       "      <td>227.0</td>\n",
       "      <td>9.0</td>\n",
       "      <td>11</td>\n",
       "      <td>4</td>\n",
       "      <td>8</td>\n",
       "      <td>2024-02-27</td>\n",
       "      <td>1708959600</td>\n",
       "    </tr>\n",
       "    <tr>\n",
       "      <th>1951396</th>\n",
       "      <td>150168</td>\n",
       "      <td>test</td>\n",
       "      <td>202403</td>\n",
       "      <td>2</td>\n",
       "      <td>142.8738</td>\n",
       "      <td>20240302</td>\n",
       "      <td>4</td>\n",
       "      <td>2010</td>\n",
       "      <td>37.528394</td>\n",
       "      <td>126.659398</td>\n",
       "      <td>...</td>\n",
       "      <td>226.0</td>\n",
       "      <td>1483.044562</td>\n",
       "      <td>293</td>\n",
       "      <td>227.0</td>\n",
       "      <td>9.0</td>\n",
       "      <td>11</td>\n",
       "      <td>4</td>\n",
       "      <td>8</td>\n",
       "      <td>2024-03-02</td>\n",
       "      <td>1709305200</td>\n",
       "    </tr>\n",
       "    <tr>\n",
       "      <th>1951397</th>\n",
       "      <td>150169</td>\n",
       "      <td>test</td>\n",
       "      <td>202403</td>\n",
       "      <td>16</td>\n",
       "      <td>142.8738</td>\n",
       "      <td>20240316</td>\n",
       "      <td>13</td>\n",
       "      <td>2010</td>\n",
       "      <td>37.528394</td>\n",
       "      <td>126.659398</td>\n",
       "      <td>...</td>\n",
       "      <td>226.0</td>\n",
       "      <td>1483.044562</td>\n",
       "      <td>293</td>\n",
       "      <td>227.0</td>\n",
       "      <td>9.0</td>\n",
       "      <td>11</td>\n",
       "      <td>4</td>\n",
       "      <td>8</td>\n",
       "      <td>2024-03-16</td>\n",
       "      <td>1710514800</td>\n",
       "    </tr>\n",
       "    <tr>\n",
       "      <th>1951398</th>\n",
       "      <td>150170</td>\n",
       "      <td>test</td>\n",
       "      <td>202403</td>\n",
       "      <td>22</td>\n",
       "      <td>114.9285</td>\n",
       "      <td>20240322</td>\n",
       "      <td>2</td>\n",
       "      <td>2010</td>\n",
       "      <td>37.528394</td>\n",
       "      <td>126.659398</td>\n",
       "      <td>...</td>\n",
       "      <td>226.0</td>\n",
       "      <td>1483.044562</td>\n",
       "      <td>293</td>\n",
       "      <td>227.0</td>\n",
       "      <td>9.0</td>\n",
       "      <td>11</td>\n",
       "      <td>4</td>\n",
       "      <td>8</td>\n",
       "      <td>2024-03-22</td>\n",
       "      <td>1711033200</td>\n",
       "    </tr>\n",
       "    <tr>\n",
       "      <th>1951399</th>\n",
       "      <td>150171</td>\n",
       "      <td>test</td>\n",
       "      <td>202403</td>\n",
       "      <td>22</td>\n",
       "      <td>115.5101</td>\n",
       "      <td>20240322</td>\n",
       "      <td>7</td>\n",
       "      <td>2010</td>\n",
       "      <td>37.528394</td>\n",
       "      <td>126.659398</td>\n",
       "      <td>...</td>\n",
       "      <td>226.0</td>\n",
       "      <td>1483.044562</td>\n",
       "      <td>293</td>\n",
       "      <td>227.0</td>\n",
       "      <td>9.0</td>\n",
       "      <td>11</td>\n",
       "      <td>4</td>\n",
       "      <td>8</td>\n",
       "      <td>2024-03-22</td>\n",
       "      <td>1711033200</td>\n",
       "    </tr>\n",
       "  </tbody>\n",
       "</table>\n",
       "<p>1951400 rows × 38 columns</p>\n",
       "</div>"
      ],
      "text/plain": [
       "          index  _type  contract_year_month  contract_day   area_m2  \\\n",
       "0             0  train               201906            25   84.9981   \n",
       "1             1  train               202003            26   84.9981   \n",
       "2             2  train               202003            28   84.9981   \n",
       "3             3  train               201907            15   59.3400   \n",
       "4             4  train               201904            12   59.8100   \n",
       "...         ...    ...                  ...           ...       ...   \n",
       "1951395  150167   test               202402            27  115.5101   \n",
       "1951396  150168   test               202403             2  142.8738   \n",
       "1951397  150169   test               202403            16  142.8738   \n",
       "1951398  150170   test               202403            22  114.9285   \n",
       "1951399  150171   test               202403            22  115.5101   \n",
       "\n",
       "         contract_date_numeric  floor  built_year   latitude   longitude  ...  \\\n",
       "0                     20190625      9        2019  37.054314  127.045216  ...   \n",
       "1                     20200326     20        2019  37.054314  127.045216  ...   \n",
       "2                     20200328      8        2019  37.054314  127.045216  ...   \n",
       "3                     20190715      1        1986  36.964647  127.055847  ...   \n",
       "4                     20190412      6        1995  36.972390  127.084514  ...   \n",
       "...                        ...    ...         ...        ...         ...  ...   \n",
       "1951395               20240227     17        2010  37.528394  126.659398  ...   \n",
       "1951396               20240302      4        2010  37.528394  126.659398  ...   \n",
       "1951397               20240316     13        2010  37.528394  126.659398  ...   \n",
       "1951398               20240322      2        2010  37.528394  126.659398  ...   \n",
       "1951399               20240322      7        2010  37.528394  126.659398  ...   \n",
       "\n",
       "         school_grid_id  nearest_subway_distance  nearest_subway_idx  \\\n",
       "0                 521.0               716.952948                  12   \n",
       "1                 521.0               716.952948                  12   \n",
       "2                 521.0               716.952948                  12   \n",
       "3                 121.0              3897.279708                  10   \n",
       "4                 222.0              2039.685349                  10   \n",
       "...                 ...                      ...                 ...   \n",
       "1951395           226.0              1483.044562                 293   \n",
       "1951396           226.0              1483.044562                 293   \n",
       "1951397           226.0              1483.044562                 293   \n",
       "1951398           226.0              1483.044562                 293   \n",
       "1951399           226.0              1483.044562                 293   \n",
       "\n",
       "         subway_grid_id  park_count  school_count  subway_count  date_length  \\\n",
       "0                 521.0         9.0            15             1            8   \n",
       "1                 521.0         9.0            15             1            8   \n",
       "2                 521.0         9.0            15             1            8   \n",
       "3                 222.0         7.0             3             1            8   \n",
       "4                 222.0         1.0             6             1            8   \n",
       "...                 ...         ...           ...           ...          ...   \n",
       "1951395           227.0         9.0            11             4            8   \n",
       "1951396           227.0         9.0            11             4            8   \n",
       "1951397           227.0         9.0            11             4            8   \n",
       "1951398           227.0         9.0            11             4            8   \n",
       "1951399           227.0         9.0            11             4            8   \n",
       "\n",
       "         contract_date  contract_timestamp  \n",
       "0           2019-06-25          1561388400  \n",
       "1           2020-03-26          1585148400  \n",
       "2           2020-03-28          1585321200  \n",
       "3           2019-07-15          1563116400  \n",
       "4           2019-04-12          1554994800  \n",
       "...                ...                 ...  \n",
       "1951395     2024-02-27          1708959600  \n",
       "1951396     2024-03-02          1709305200  \n",
       "1951397     2024-03-16          1710514800  \n",
       "1951398     2024-03-22          1711033200  \n",
       "1951399     2024-03-22          1711033200  \n",
       "\n",
       "[1951400 rows x 38 columns]"
      ]
     },
     "execution_count": 4,
     "metadata": {},
     "output_type": "execute_result"
    }
   ],
   "source": [
    "data"
   ]
  },
  {
   "cell_type": "code",
   "execution_count": 5,
   "id": "878f65ba902311aa",
   "metadata": {
    "ExecuteTime": {
     "end_time": "2024-10-18T05:50:30.933572Z",
     "start_time": "2024-10-18T05:50:30.926464Z"
    }
   },
   "outputs": [
    {
     "data": {
      "text/plain": [
       "Index(['index', '_type', 'contract_year_month', 'contract_day', 'area_m2',\n",
       "       'contract_date_numeric', 'floor', 'built_year', 'latitude', 'longitude',\n",
       "       'age', 'contract_0', 'contract_1', 'deposit', 'apt_idx', 'area',\n",
       "       'grid_deposit', 'apt_deposit_rank', 'apt_area_deposit_rank',\n",
       "       'recent_deposit', 'interest_rate', 'grid_id', 'nearest_park_distance',\n",
       "       'nearest_park_idx', 'park_grid_id', 'park_area',\n",
       "       'nearest_school_distance', 'nearest_school_idx', 'school_grid_id',\n",
       "       'nearest_subway_distance', 'nearest_subway_idx', 'subway_grid_id',\n",
       "       'park_count', 'school_count', 'subway_count', 'date_length',\n",
       "       'contract_date', 'contract_timestamp'],\n",
       "      dtype='object')"
      ]
     },
     "execution_count": 5,
     "metadata": {},
     "output_type": "execute_result"
    }
   ],
   "source": [
    "data.columns"
   ]
  },
  {
   "cell_type": "markdown",
   "id": "84bd34f47a781bd8",
   "metadata": {},
   "source": [
    "---"
   ]
  },
  {
   "cell_type": "markdown",
   "id": "b8d9a9e458718bfb",
   "metadata": {},
   "source": [
    "# 추가 EDA"
   ]
  },
  {
   "cell_type": "code",
   "execution_count": 6,
   "id": "c5746807",
   "metadata": {},
   "outputs": [
    {
     "data": {
      "text/plain": [
       "index                           0\n",
       "_type                           0\n",
       "contract_year_month             0\n",
       "contract_day                    0\n",
       "area_m2                         0\n",
       "contract_date_numeric           0\n",
       "floor                           0\n",
       "built_year                      0\n",
       "latitude                        0\n",
       "longitude                       0\n",
       "age                             0\n",
       "contract_0                      0\n",
       "contract_1                      0\n",
       "deposit                    150172\n",
       "apt_idx                         0\n",
       "area                            0\n",
       "grid_deposit                    0\n",
       "apt_deposit_rank                0\n",
       "apt_area_deposit_rank           0\n",
       "recent_deposit              67857\n",
       "interest_rate               11882\n",
       "grid_id                         0\n",
       "nearest_park_distance           0\n",
       "nearest_park_idx                0\n",
       "park_grid_id                   88\n",
       "park_area                       0\n",
       "nearest_school_distance         0\n",
       "nearest_school_idx              0\n",
       "school_grid_id                  0\n",
       "nearest_subway_distance         0\n",
       "nearest_subway_idx              0\n",
       "subway_grid_id               2195\n",
       "park_count                     88\n",
       "school_count                    0\n",
       "subway_count                    0\n",
       "date_length                     0\n",
       "contract_date                   0\n",
       "contract_timestamp              0\n",
       "dtype: int64"
      ]
     },
     "execution_count": 6,
     "metadata": {},
     "output_type": "execute_result"
    }
   ],
   "source": [
    "data.isnull().sum()"
   ]
  },
  {
   "cell_type": "code",
   "execution_count": 7,
   "id": "e1759af7",
   "metadata": {},
   "outputs": [
    {
     "data": {
      "text/plain": [
       "index                           0\n",
       "_type                           0\n",
       "contract_year_month             0\n",
       "contract_day                    0\n",
       "area_m2                         0\n",
       "contract_date_numeric           0\n",
       "floor                           0\n",
       "built_year                      0\n",
       "latitude                        0\n",
       "longitude                       0\n",
       "age                             0\n",
       "contract_0                      0\n",
       "contract_1                      0\n",
       "deposit                    150172\n",
       "apt_idx                         0\n",
       "area                            0\n",
       "grid_deposit                    0\n",
       "apt_deposit_rank                0\n",
       "apt_area_deposit_rank           0\n",
       "recent_deposit                  0\n",
       "interest_rate               11882\n",
       "grid_id                         0\n",
       "nearest_park_distance           0\n",
       "nearest_park_idx                0\n",
       "park_grid_id                   88\n",
       "park_area                       0\n",
       "nearest_school_distance         0\n",
       "nearest_school_idx              0\n",
       "school_grid_id                  0\n",
       "nearest_subway_distance         0\n",
       "nearest_subway_idx              0\n",
       "subway_grid_id               2195\n",
       "park_count                     88\n",
       "school_count                    0\n",
       "subway_count                    0\n",
       "date_length                     0\n",
       "contract_date                   0\n",
       "contract_timestamp              0\n",
       "dtype: int64"
      ]
     },
     "execution_count": 7,
     "metadata": {},
     "output_type": "execute_result"
    }
   ],
   "source": [
    "# recent_deposit 열의 NaN 값을 같은 행의 grid_deposit 값으로 대체\n",
    "data['recent_deposit'] = data['recent_deposit'].fillna(data['grid_deposit'])\n",
    "\n",
    "# 결과 확인\n",
    "data.isnull().sum()  # 상위 5개의 데이터를 확인\n"
   ]
  },
  {
   "cell_type": "code",
   "execution_count": 9,
   "id": "a5dcfe81",
   "metadata": {},
   "outputs": [],
   "source": [
    "data['park_count'] = data['park_count'].fillna(0)"
   ]
  },
  {
   "cell_type": "markdown",
   "id": "e4c635c271ec92b9",
   "metadata": {},
   "source": [
    "---"
   ]
  },
  {
   "cell_type": "markdown",
   "id": "722a2de4",
   "metadata": {},
   "source": [
    "# 모델링"
   ]
  },
  {
   "cell_type": "code",
   "execution_count": 8,
   "id": "cfb990484c4426e3",
   "metadata": {
    "ExecuteTime": {
     "end_time": "2024-10-18T08:35:26.955668Z",
     "start_time": "2024-10-18T08:35:26.512733Z"
    }
   },
   "outputs": [],
   "source": [
    "train_data = data[data['_type'] == 'train']\n",
    "test_data = data[data['_type'] == 'test']"
   ]
  },
  {
   "cell_type": "code",
   "execution_count": 9,
   "id": "e6746ac730a34bd4",
   "metadata": {
    "ExecuteTime": {
     "end_time": "2024-10-18T09:02:45.505074Z",
     "start_time": "2024-10-18T09:02:45.417823Z"
    }
   },
   "outputs": [],
   "source": [
    "column_needed = [\n",
    "    # 'index', '_type', 'area_price', 'area_m2_price', 'original_index','contract_year_month', 'contract_day', 'area_m2',\n",
    "    'contract_date_numeric', \n",
    "    'area_m2',\n",
    "    'floor', 'built_year', 'latitude', 'longitude','age', \n",
    "    'contract_0', 'contract_1', \n",
    "    'deposit', \n",
    "    'apt_idx', \n",
    "    'area',\n",
    "    'grid_deposit', \n",
    "    'apt_deposit_rank', 'apt_area_deposit_rank',\n",
    "    'recent_deposit', \n",
    "    # 'interest_rate', \n",
    "    # 'grid_id',  'school_grid_id', 'park_grid_id', 'subway_grid_id',\n",
    "    'nearest_park_distance','nearest_park_idx', 'park_area',\n",
    "    'nearest_school_distance', 'nearest_school_idx',\n",
    "    'nearest_subway_distance', 'nearest_subway_idx',\n",
    "    'park_count', 'school_count', 'subway_count',\n",
    "    # 'contract_timestamp',\n",
    "]\n",
    "test_column_needed = [\n",
    "    # 'index', '_type', 'area_price', 'area_m2_price', 'original_index','contract_year_month', 'contract_day', 'area_m2',\n",
    "    'contract_date_numeric',\n",
    "    'area_m2',\n",
    "    'floor', 'built_year', 'latitude', 'longitude','age', \n",
    "    'contract_0', 'contract_1',  \n",
    "    'apt_idx', \n",
    "    'area',\n",
    "    'grid_deposit', \n",
    "    'apt_deposit_rank', 'apt_area_deposit_rank',\n",
    "    'recent_deposit', \n",
    "    # 'interest_rate', \n",
    "    # 'grid_id',  'school_grid_id', 'park_grid_id', 'subway_grid_id',\n",
    "    'nearest_park_distance','nearest_park_idx', 'park_area',\n",
    "    'nearest_school_distance', 'nearest_school_idx',\n",
    "    'nearest_subway_distance', 'nearest_subway_idx',\n",
    "    'park_count', 'school_count', 'subway_count',\n",
    "    # 'contract_timestamp',\n",
    "]\n",
    "train_df = train_data[column_needed]\n",
    "test_df = test_data[test_column_needed]"
   ]
  },
  {
   "cell_type": "code",
   "execution_count": 10,
   "id": "e5409ff19ebe6ce7",
   "metadata": {
    "ExecuteTime": {
     "end_time": "2024-10-18T09:08:08.124240Z",
     "start_time": "2024-10-18T09:02:49.881838Z"
    }
   },
   "outputs": [
    {
     "name": "stderr",
     "output_type": "stream",
     "text": [
      "KFold Training Progress:   0%|          | 0/5 [00:00<?, ?it/s]"
     ]
    },
    {
     "name": "stdout",
     "output_type": "stream",
     "text": [
      "Fold 1\n",
      "[0]\ttrain-mae:16476.69763\teval-mae:16478.72657\n",
      "[100]\ttrain-mae:4221.19849\teval-mae:4219.91202\n",
      "[200]\ttrain-mae:4036.29512\teval-mae:4040.80096\n",
      "[300]\ttrain-mae:3957.61387\teval-mae:3965.85338\n",
      "[400]\ttrain-mae:3909.42503\teval-mae:3920.56349\n",
      "[500]\ttrain-mae:3874.78276\teval-mae:3888.74097\n",
      "[600]\ttrain-mae:3848.57202\teval-mae:3865.75046\n",
      "[700]\ttrain-mae:3827.00913\teval-mae:3846.80256\n",
      "[800]\ttrain-mae:3810.26696\teval-mae:3832.68236\n",
      "[900]\ttrain-mae:3793.90442\teval-mae:3818.68560\n",
      "[999]\ttrain-mae:3779.81643\teval-mae:3806.92751\n",
      "Fold 1 MAE: 3806.927508546989\n"
     ]
    },
    {
     "name": "stderr",
     "output_type": "stream",
     "text": [
      "KFold Training Progress:  20%|██        | 1/5 [08:00<32:01, 480.36s/it]"
     ]
    },
    {
     "name": "stdout",
     "output_type": "stream",
     "text": [
      "Fold 2\n",
      "[0]\ttrain-mae:16492.78732\teval-mae:16472.71750\n",
      "[100]\ttrain-mae:4224.82023\teval-mae:4239.58250\n",
      "[200]\ttrain-mae:4038.60314\teval-mae:4054.50591\n",
      "[300]\ttrain-mae:3958.74280\teval-mae:3978.58072\n",
      "[400]\ttrain-mae:3910.66949\teval-mae:3933.41820\n",
      "[500]\ttrain-mae:3874.90032\teval-mae:3900.91722\n",
      "[600]\ttrain-mae:3849.81603\teval-mae:3879.43461\n",
      "[700]\ttrain-mae:3828.43917\teval-mae:3861.47284\n",
      "[800]\ttrain-mae:3811.35717\teval-mae:3847.09738\n",
      "[900]\ttrain-mae:3795.27093\teval-mae:3833.55436\n",
      "[999]\ttrain-mae:3780.98905\teval-mae:3821.69695\n",
      "Fold 2 MAE: 3821.69694640852\n"
     ]
    },
    {
     "name": "stderr",
     "output_type": "stream",
     "text": [
      "KFold Training Progress:  40%|████      | 2/5 [15:51<23:45, 475.17s/it]"
     ]
    },
    {
     "name": "stdout",
     "output_type": "stream",
     "text": [
      "Fold 3\n",
      "[0]\ttrain-mae:16481.52620\teval-mae:16525.08082\n",
      "[100]\ttrain-mae:4222.26145\teval-mae:4241.64866\n",
      "[200]\ttrain-mae:4035.61227\teval-mae:4057.50898\n",
      "[300]\ttrain-mae:3953.81696\teval-mae:3979.45773\n",
      "[400]\ttrain-mae:3904.80738\teval-mae:3934.23574\n",
      "[500]\ttrain-mae:3868.40593\teval-mae:3901.24200\n",
      "[600]\ttrain-mae:3843.06601\teval-mae:3880.20056\n",
      "[700]\ttrain-mae:3822.78464\teval-mae:3862.73454\n",
      "[800]\ttrain-mae:3806.77173\teval-mae:3849.81204\n",
      "[900]\ttrain-mae:3791.42205\teval-mae:3837.68522\n",
      "[999]\ttrain-mae:3777.23069\teval-mae:3826.20747\n",
      "Fold 3 MAE: 3826.2074694386624\n"
     ]
    },
    {
     "name": "stderr",
     "output_type": "stream",
     "text": [
      "KFold Training Progress:  60%|██████    | 3/5 [23:38<15:42, 471.17s/it]"
     ]
    },
    {
     "name": "stdout",
     "output_type": "stream",
     "text": [
      "Fold 4\n",
      "[0]\ttrain-mae:16487.33601\teval-mae:16426.93771\n",
      "[100]\ttrain-mae:4224.86026\teval-mae:4213.77862\n",
      "[200]\ttrain-mae:4043.04679\teval-mae:4040.00094\n",
      "[300]\ttrain-mae:3957.08842\teval-mae:3961.40724\n",
      "[400]\ttrain-mae:3910.40761\teval-mae:3919.37524\n",
      "[500]\ttrain-mae:3876.71820\teval-mae:3889.67255\n",
      "[600]\ttrain-mae:3847.51164\teval-mae:3863.80616\n",
      "[700]\ttrain-mae:3826.37134\teval-mae:3846.19984\n",
      "[800]\ttrain-mae:3807.94355\teval-mae:3830.56856\n",
      "[900]\ttrain-mae:3792.57697\teval-mae:3817.89122\n",
      "[999]\ttrain-mae:3779.27871\teval-mae:3807.64417\n",
      "Fold 4 MAE: 3807.644170051046\n"
     ]
    },
    {
     "name": "stderr",
     "output_type": "stream",
     "text": [
      "KFold Training Progress:  80%|████████  | 4/5 [31:36<07:53, 473.89s/it]"
     ]
    },
    {
     "name": "stdout",
     "output_type": "stream",
     "text": [
      "Fold 5\n",
      "[0]\ttrain-mae:16468.46855\teval-mae:16504.05041\n",
      "[100]\ttrain-mae:4212.21299\teval-mae:4222.31435\n",
      "[200]\ttrain-mae:4039.48902\teval-mae:4055.82353\n",
      "[300]\ttrain-mae:3962.02036\teval-mae:3983.28585\n",
      "[400]\ttrain-mae:3912.42534\teval-mae:3938.97440\n",
      "[500]\ttrain-mae:3879.97270\teval-mae:3910.37436\n",
      "[600]\ttrain-mae:3853.13034\teval-mae:3886.82470\n",
      "[700]\ttrain-mae:3832.13825\teval-mae:3869.00104\n",
      "[800]\ttrain-mae:3812.93409\teval-mae:3852.95046\n",
      "[900]\ttrain-mae:3796.30122\teval-mae:3839.21536\n",
      "[999]\ttrain-mae:3781.17765\teval-mae:3827.01656\n",
      "Fold 5 MAE: 3827.016562763086\n"
     ]
    },
    {
     "name": "stderr",
     "output_type": "stream",
     "text": [
      "KFold Training Progress: 100%|██████████| 5/5 [39:35<00:00, 475.10s/it]"
     ]
    },
    {
     "name": "stdout",
     "output_type": "stream",
     "text": [
      "Mean MAE over all folds: 3817.8985314416605\n",
      "Final predictions for test set complete.\n"
     ]
    },
    {
     "name": "stderr",
     "output_type": "stream",
     "text": [
      "\n"
     ]
    }
   ],
   "source": [
    "import xgboost as xgb\n",
    "from sklearn.model_selection import KFold\n",
    "from sklearn.metrics import mean_absolute_error\n",
    "import numpy as np\n",
    "from tqdm import tqdm  # TQDM 임포트\n",
    "\n",
    "# 학습에 사용할 데이터 준비\n",
    "X_train = train_df.drop(columns=['deposit'])\n",
    "y_train = train_df['deposit']\n",
    "X_test = test_df.copy()\n",
    "\n",
    "# KFold 설정\n",
    "kf = KFold(n_splits=5, shuffle=True, random_state=42)\n",
    "\n",
    "# 테스트 세트에 대한 예측을 저장할 배열\n",
    "y_pred = np.zeros(len(X_test))\n",
    "\n",
    "# 각 fold의 검증 MAE를 저장할 리스트\n",
    "mae_list = []\n",
    "\n",
    "# TQDM을 사용해 교차 검증 진행률 표시\n",
    "with tqdm(total=kf.n_splits, desc=\"KFold Training Progress\") as pbar:\n",
    "    # KFold 교차 검증\n",
    "    for fold, (train_idx, val_idx) in enumerate(kf.split(X_train, y_train)):\n",
    "        print(f\"Fold {fold + 1}\")\n",
    "        \n",
    "        # Train/Validation Split\n",
    "        X_train_split, X_val_split = X_train.iloc[train_idx], X_train.iloc[val_idx]\n",
    "        y_train_split, y_val_split = y_train.iloc[train_idx], y_train.iloc[val_idx]\n",
    "        \n",
    "        # XGBoost를 위한 DMatrix 생성\n",
    "        dtrain = xgb.DMatrix(X_train_split, label=y_train_split)\n",
    "        dval = xgb.DMatrix(X_val_split, label=y_val_split)\n",
    "        dtest = xgb.DMatrix(X_test)\n",
    "        \n",
    "        # XGBoost 파라미터 설정\n",
    "        params = {\n",
    "            'objective': 'reg:absoluteerror',\n",
    "            'eval_metric': 'mae',\n",
    "            'max_depth': 6,\n",
    "            'eta': 0.05,\n",
    "            'subsample': 0.8,\n",
    "            'colsample_bytree': 0.8,\n",
    "            'seed': 42\n",
    "        }\n",
    "        \n",
    "        # 모델 학습\n",
    "        evals = [(dtrain, 'train'), (dval, 'eval')]\n",
    "        model = xgb.train(params, dtrain, num_boost_round=1000, early_stopping_rounds=50, evals=evals, verbose_eval=100)\n",
    "        \n",
    "        # 검증 세트에 대한 예측\n",
    "        y_val_pred = model.predict(dval)\n",
    "        \n",
    "        # MAE 계산\n",
    "        mae = mean_absolute_error(y_val_split, y_val_pred)\n",
    "        mae_list.append(mae)\n",
    "        print(f\"Fold {fold + 1} MAE: {mae}\")\n",
    "        \n",
    "        # 테스트 세트에 대한 예측 (각 fold의 예측을 평균)\n",
    "        y_pred += model.predict(dtest) / kf.n_splits\n",
    "        \n",
    "        # TQDM 진행 업데이트\n",
    "        pbar.update(1)\n",
    "\n",
    "# KFold 전체 평균 MAE 출력\n",
    "mean_mae = np.mean(mae_list)\n",
    "print(f\"Mean MAE over all folds: {mean_mae}\")\n",
    "\n",
    "# 최종 예측 결과 출력\n",
    "print(\"Final predictions for test set complete.\")\n"
   ]
  },
  {
   "cell_type": "code",
   "execution_count": 11,
   "id": "955bbb62429d672a",
   "metadata": {
    "ExecuteTime": {
     "end_time": "2024-10-18T09:08:26.003056Z",
     "start_time": "2024-10-18T09:08:25.849735Z"
    }
   },
   "outputs": [
    {
     "data": {
      "image/png": "[encoded data removed]",
      "text/plain": [
       "<Figure size 1000x800 with 1 Axes>"
      ]
     },
     "metadata": {},
     "output_type": "display_data"
    }
   ],
   "source": [
    "#Feature Importance\n",
    "# 피처 중요도 추출\n",
    "feature_importance = model.get_fscore()\n",
    "# 피처 중요도를 DataFrame으로 변환\n",
    "importance_df = pd.DataFrame(feature_importance.items(), columns=['Feature', 'Importance'])\n",
    "# 중요도 순으로 정렬\n",
    "importance_df = importance_df.sort_values(by='Importance', ascending=False)\n",
    "# 시각화\n",
    "plt.figure(figsize=(10, 8))\n",
    "sns.barplot(x='Importance', y='Feature', data=importance_df)\n",
    "plt.title('Feature Importance')\n",
    "plt.show()"
   ]
  },
  {
   "cell_type": "code",
   "execution_count": 12,
   "id": "4a660cc0c25eb265",
   "metadata": {
    "ExecuteTime": {
     "end_time": "2024-10-18T09:08:29.834551Z",
     "start_time": "2024-10-18T09:08:29.830219Z"
    }
   },
   "outputs": [
    {
     "data": {
      "text/plain": [
       "array([22662.90966797,  7277.28503418,  6515.14050293, ...,\n",
       "       45671.23535156, 37398.43408203, 38072.49658203])"
      ]
     },
     "execution_count": 12,
     "metadata": {},
     "output_type": "execute_result"
    }
   ],
   "source": [
    "y_pred"
   ]
  },
  {
   "cell_type": "code",
   "execution_count": 13,
   "id": "bb7db05baf47b631",
   "metadata": {
    "ExecuteTime": {
     "end_time": "2024-10-18T09:08:31.641364Z",
     "start_time": "2024-10-18T09:08:31.635030Z"
    }
   },
   "outputs": [
    {
     "data": {
      "text/html": [
       "<div>\n",
       "<style scoped>\n",
       "    .dataframe tbody tr th:only-of-type {\n",
       "        vertical-align: middle;\n",
       "    }\n",
       "\n",
       "    .dataframe tbody tr th {\n",
       "        vertical-align: top;\n",
       "    }\n",
       "\n",
       "    .dataframe thead th {\n",
       "        text-align: right;\n",
       "    }\n",
       "</style>\n",
       "<table border=\"1\" class=\"dataframe\">\n",
       "  <thead>\n",
       "    <tr style=\"text-align: right;\">\n",
       "      <th></th>\n",
       "      <th>index</th>\n",
       "      <th>deposit</th>\n",
       "    </tr>\n",
       "  </thead>\n",
       "  <tbody>\n",
       "    <tr>\n",
       "      <th>0</th>\n",
       "      <td>0</td>\n",
       "      <td>22662.909668</td>\n",
       "    </tr>\n",
       "    <tr>\n",
       "      <th>1</th>\n",
       "      <td>1</td>\n",
       "      <td>7277.285034</td>\n",
       "    </tr>\n",
       "    <tr>\n",
       "      <th>2</th>\n",
       "      <td>2</td>\n",
       "      <td>6515.140503</td>\n",
       "    </tr>\n",
       "    <tr>\n",
       "      <th>3</th>\n",
       "      <td>3</td>\n",
       "      <td>6857.323120</td>\n",
       "    </tr>\n",
       "    <tr>\n",
       "      <th>4</th>\n",
       "      <td>4</td>\n",
       "      <td>6923.423218</td>\n",
       "    </tr>\n",
       "    <tr>\n",
       "      <th>...</th>\n",
       "      <td>...</td>\n",
       "      <td>...</td>\n",
       "    </tr>\n",
       "    <tr>\n",
       "      <th>150167</th>\n",
       "      <td>150167</td>\n",
       "      <td>37579.465820</td>\n",
       "    </tr>\n",
       "    <tr>\n",
       "      <th>150168</th>\n",
       "      <td>150168</td>\n",
       "      <td>43575.627930</td>\n",
       "    </tr>\n",
       "    <tr>\n",
       "      <th>150169</th>\n",
       "      <td>150169</td>\n",
       "      <td>45671.235352</td>\n",
       "    </tr>\n",
       "    <tr>\n",
       "      <th>150170</th>\n",
       "      <td>150170</td>\n",
       "      <td>37398.434082</td>\n",
       "    </tr>\n",
       "    <tr>\n",
       "      <th>150171</th>\n",
       "      <td>150171</td>\n",
       "      <td>38072.496582</td>\n",
       "    </tr>\n",
       "  </tbody>\n",
       "</table>\n",
       "<p>150172 rows × 2 columns</p>\n",
       "</div>"
      ],
      "text/plain": [
       "         index       deposit\n",
       "0            0  22662.909668\n",
       "1            1   7277.285034\n",
       "2            2   6515.140503\n",
       "3            3   6857.323120\n",
       "4            4   6923.423218\n",
       "...        ...           ...\n",
       "150167  150167  37579.465820\n",
       "150168  150168  43575.627930\n",
       "150169  150169  45671.235352\n",
       "150170  150170  37398.434082\n",
       "150171  150171  38072.496582\n",
       "\n",
       "[150172 rows x 2 columns]"
      ]
     },
     "execution_count": 13,
     "metadata": {},
     "output_type": "execute_result"
    }
   ],
   "source": [
    "sample_submission['deposit'] = y_pred\n",
    "sample_submission"
   ]
  },
  {
   "cell_type": "code",
   "execution_count": 14,
   "id": "2b94ebab94998b5b",
   "metadata": {
    "ExecuteTime": {
     "end_time": "2024-10-18T09:08:33.766674Z",
     "start_time": "2024-10-18T09:08:33.751576Z"
    }
   },
   "outputs": [
    {
     "data": {
      "text/html": [
       "<div>\n",
       "<style scoped>\n",
       "    .dataframe tbody tr th:only-of-type {\n",
       "        vertical-align: middle;\n",
       "    }\n",
       "\n",
       "    .dataframe tbody tr th {\n",
       "        vertical-align: top;\n",
       "    }\n",
       "\n",
       "    .dataframe thead th {\n",
       "        text-align: right;\n",
       "    }\n",
       "</style>\n",
       "<table border=\"1\" class=\"dataframe\">\n",
       "  <thead>\n",
       "    <tr style=\"text-align: right;\">\n",
       "      <th></th>\n",
       "      <th>index</th>\n",
       "      <th>deposit</th>\n",
       "    </tr>\n",
       "  </thead>\n",
       "  <tbody>\n",
       "    <tr>\n",
       "      <th>count</th>\n",
       "      <td>150172.00000</td>\n",
       "      <td>150172.000000</td>\n",
       "    </tr>\n",
       "    <tr>\n",
       "      <th>mean</th>\n",
       "      <td>75085.50000</td>\n",
       "      <td>39146.307116</td>\n",
       "    </tr>\n",
       "    <tr>\n",
       "      <th>std</th>\n",
       "      <td>43351.06665</td>\n",
       "      <td>24094.099133</td>\n",
       "    </tr>\n",
       "    <tr>\n",
       "      <th>min</th>\n",
       "      <td>0.00000</td>\n",
       "      <td>3259.244080</td>\n",
       "    </tr>\n",
       "    <tr>\n",
       "      <th>25%</th>\n",
       "      <td>37542.75000</td>\n",
       "      <td>23208.804565</td>\n",
       "    </tr>\n",
       "    <tr>\n",
       "      <th>50%</th>\n",
       "      <td>75085.50000</td>\n",
       "      <td>33802.184570</td>\n",
       "    </tr>\n",
       "    <tr>\n",
       "      <th>75%</th>\n",
       "      <td>112628.25000</td>\n",
       "      <td>48597.693604</td>\n",
       "    </tr>\n",
       "    <tr>\n",
       "      <th>max</th>\n",
       "      <td>150171.00000</td>\n",
       "      <td>445377.234375</td>\n",
       "    </tr>\n",
       "  </tbody>\n",
       "</table>\n",
       "</div>"
      ],
      "text/plain": [
       "              index        deposit\n",
       "count  150172.00000  150172.000000\n",
       "mean    75085.50000   39146.307116\n",
       "std     43351.06665   24094.099133\n",
       "min         0.00000    3259.244080\n",
       "25%     37542.75000   23208.804565\n",
       "50%     75085.50000   33802.184570\n",
       "75%    112628.25000   48597.693604\n",
       "max    150171.00000  445377.234375"
      ]
     },
     "execution_count": 14,
     "metadata": {},
     "output_type": "execute_result"
    }
   ],
   "source": [
    "sample_submission.describe()"
   ]
  },
  {
   "cell_type": "code",
   "execution_count": 15,
   "id": "b83cf61f95960f5f",
   "metadata": {
    "ExecuteTime": {
     "end_time": "2024-10-18T08:56:26.725212Z",
     "start_time": "2024-10-18T08:56:26.590496Z"
    }
   },
   "outputs": [],
   "source": [
    "sample_submission.to_csv('v8_xgb_1000_kfold.csv', index=False)"
   ]
  },
  {
   "cell_type": "markdown",
   "id": "ea414db01cca6b4",
   "metadata": {},
   "source": [
    "---"
   ]
  }
 ],
 "metadata": {
  "kernelspec": {
   "display_name": "base",
   "language": "python",
   "name": "python3"
  },
  "language_info": {
   "codemirror_mode": {
    "name": "ipython",
    "version": 3
   },
   "file_extension": ".py",
   "mimetype": "text/x-python",
   "name": "python",
   "nbconvert_exporter": "python",
   "pygments_lexer": "ipython3",
   "version": "3.12.5"
  }
 },
 "nbformat": 4,
 "nbformat_minor": 5
}
